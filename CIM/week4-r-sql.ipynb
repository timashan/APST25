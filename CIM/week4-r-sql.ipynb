{
 "cells": [
  {
   "cell_type": "code",
   "execution_count": 5,
   "id": "3a4b0397",
   "metadata": {
    "vscode": {
     "languageId": "r"
    }
   },
   "outputs": [],
   "source": [
    "# install.packages(\"sqldf\")\n",
    "library(\"sqldf\")"
   ]
  },
  {
   "cell_type": "code",
   "execution_count": 20,
   "id": "6823faa9",
   "metadata": {
    "vscode": {
     "languageId": "r"
    }
   },
   "outputs": [
    {
     "data": {
      "text/html": [
       "32"
      ],
      "text/latex": [
       "32"
      ],
      "text/markdown": [
       "32"
      ],
      "text/plain": [
       "[1] 32"
      ]
     },
     "metadata": {},
     "output_type": "display_data"
    },
    {
     "data": {
      "text/html": [
       "11"
      ],
      "text/latex": [
       "11"
      ],
      "text/markdown": [
       "11"
      ],
      "text/plain": [
       "[1] 11"
      ]
     },
     "metadata": {},
     "output_type": "display_data"
    },
    {
     "data": {
      "text/html": [
       "<style>\n",
       ".list-inline {list-style: none; margin:0; padding: 0}\n",
       ".list-inline>li {display: inline-block}\n",
       ".list-inline>li:not(:last-child)::after {content: \"\\00b7\"; padding: 0 .5ex}\n",
       "</style>\n",
       "<ol class=list-inline><li>32</li><li>11</li></ol>\n"
      ],
      "text/latex": [
       "\\begin{enumerate*}\n",
       "\\item 32\n",
       "\\item 11\n",
       "\\end{enumerate*}\n"
      ],
      "text/markdown": [
       "1. 32\n",
       "2. 11\n",
       "\n",
       "\n"
      ],
      "text/plain": [
       "[1] 32 11"
      ]
     },
     "metadata": {},
     "output_type": "display_data"
    },
    {
     "name": "stdout",
     "output_type": "stream",
     "text": [
      "'data.frame':\t32 obs. of  11 variables:\n",
      " $ mpg : num  21 21 22.8 21.4 18.7 18.1 14.3 24.4 22.8 19.2 ...\n",
      " $ cyl : num  6 6 4 6 8 6 8 4 4 6 ...\n",
      " $ disp: num  160 160 108 258 360 ...\n",
      " $ hp  : num  110 110 93 110 175 105 245 62 95 123 ...\n",
      " $ drat: num  3.9 3.9 3.85 3.08 3.15 2.76 3.21 3.69 3.92 3.92 ...\n",
      " $ wt  : num  2.62 2.88 2.32 3.21 3.44 ...\n",
      " $ qsec: num  16.5 17 18.6 19.4 17 ...\n",
      " $ vs  : num  0 0 1 1 0 1 0 1 1 1 ...\n",
      " $ am  : num  1 1 1 0 0 0 0 0 0 0 ...\n",
      " $ gear: num  4 4 4 3 3 3 3 4 4 4 ...\n",
      " $ carb: num  4 4 1 1 2 1 4 2 2 4 ...\n"
     ]
    },
    {
     "data": {
      "text/html": [
       "<style>\n",
       ".list-inline {list-style: none; margin:0; padding: 0}\n",
       ".list-inline>li {display: inline-block}\n",
       ".list-inline>li:not(:last-child)::after {content: \"\\00b7\"; padding: 0 .5ex}\n",
       "</style>\n",
       "<ol class=list-inline><li>'mpg'</li><li>'cyl'</li><li>'disp'</li><li>'hp'</li><li>'drat'</li><li>'wt'</li><li>'qsec'</li><li>'vs'</li><li>'am'</li><li>'gear'</li><li>'carb'</li></ol>\n"
      ],
      "text/latex": [
       "\\begin{enumerate*}\n",
       "\\item 'mpg'\n",
       "\\item 'cyl'\n",
       "\\item 'disp'\n",
       "\\item 'hp'\n",
       "\\item 'drat'\n",
       "\\item 'wt'\n",
       "\\item 'qsec'\n",
       "\\item 'vs'\n",
       "\\item 'am'\n",
       "\\item 'gear'\n",
       "\\item 'carb'\n",
       "\\end{enumerate*}\n"
      ],
      "text/markdown": [
       "1. 'mpg'\n",
       "2. 'cyl'\n",
       "3. 'disp'\n",
       "4. 'hp'\n",
       "5. 'drat'\n",
       "6. 'wt'\n",
       "7. 'qsec'\n",
       "8. 'vs'\n",
       "9. 'am'\n",
       "10. 'gear'\n",
       "11. 'carb'\n",
       "\n",
       "\n"
      ],
      "text/plain": [
       " [1] \"mpg\"  \"cyl\"  \"disp\" \"hp\"   \"drat\" \"wt\"   \"qsec\" \"vs\"   \"am\"   \"gear\"\n",
       "[11] \"carb\""
      ]
     },
     "metadata": {},
     "output_type": "display_data"
    },
    {
     "data": {
      "text/html": [
       "<table class=\"dataframe\">\n",
       "<caption>A data.frame: 6 × 11</caption>\n",
       "<thead>\n",
       "\t<tr><th></th><th scope=col>mpg</th><th scope=col>cyl</th><th scope=col>disp</th><th scope=col>hp</th><th scope=col>drat</th><th scope=col>wt</th><th scope=col>qsec</th><th scope=col>vs</th><th scope=col>am</th><th scope=col>gear</th><th scope=col>carb</th></tr>\n",
       "\t<tr><th></th><th scope=col>&lt;dbl&gt;</th><th scope=col>&lt;dbl&gt;</th><th scope=col>&lt;dbl&gt;</th><th scope=col>&lt;dbl&gt;</th><th scope=col>&lt;dbl&gt;</th><th scope=col>&lt;dbl&gt;</th><th scope=col>&lt;dbl&gt;</th><th scope=col>&lt;dbl&gt;</th><th scope=col>&lt;dbl&gt;</th><th scope=col>&lt;dbl&gt;</th><th scope=col>&lt;dbl&gt;</th></tr>\n",
       "</thead>\n",
       "<tbody>\n",
       "\t<tr><th scope=row>Mazda RX4</th><td>21.0</td><td>6</td><td>160</td><td>110</td><td>3.90</td><td>2.620</td><td>16.46</td><td>0</td><td>1</td><td>4</td><td>4</td></tr>\n",
       "\t<tr><th scope=row>Mazda RX4 Wag</th><td>21.0</td><td>6</td><td>160</td><td>110</td><td>3.90</td><td>2.875</td><td>17.02</td><td>0</td><td>1</td><td>4</td><td>4</td></tr>\n",
       "\t<tr><th scope=row>Datsun 710</th><td>22.8</td><td>4</td><td>108</td><td> 93</td><td>3.85</td><td>2.320</td><td>18.61</td><td>1</td><td>1</td><td>4</td><td>1</td></tr>\n",
       "\t<tr><th scope=row>Hornet 4 Drive</th><td>21.4</td><td>6</td><td>258</td><td>110</td><td>3.08</td><td>3.215</td><td>19.44</td><td>1</td><td>0</td><td>3</td><td>1</td></tr>\n",
       "\t<tr><th scope=row>Hornet Sportabout</th><td>18.7</td><td>8</td><td>360</td><td>175</td><td>3.15</td><td>3.440</td><td>17.02</td><td>0</td><td>0</td><td>3</td><td>2</td></tr>\n",
       "\t<tr><th scope=row>Valiant</th><td>18.1</td><td>6</td><td>225</td><td>105</td><td>2.76</td><td>3.460</td><td>20.22</td><td>1</td><td>0</td><td>3</td><td>1</td></tr>\n",
       "</tbody>\n",
       "</table>\n"
      ],
      "text/latex": [
       "A data.frame: 6 × 11\n",
       "\\begin{tabular}{r|lllllllllll}\n",
       "  & mpg & cyl & disp & hp & drat & wt & qsec & vs & am & gear & carb\\\\\n",
       "  & <dbl> & <dbl> & <dbl> & <dbl> & <dbl> & <dbl> & <dbl> & <dbl> & <dbl> & <dbl> & <dbl>\\\\\n",
       "\\hline\n",
       "\tMazda RX4 & 21.0 & 6 & 160 & 110 & 3.90 & 2.620 & 16.46 & 0 & 1 & 4 & 4\\\\\n",
       "\tMazda RX4 Wag & 21.0 & 6 & 160 & 110 & 3.90 & 2.875 & 17.02 & 0 & 1 & 4 & 4\\\\\n",
       "\tDatsun 710 & 22.8 & 4 & 108 &  93 & 3.85 & 2.320 & 18.61 & 1 & 1 & 4 & 1\\\\\n",
       "\tHornet 4 Drive & 21.4 & 6 & 258 & 110 & 3.08 & 3.215 & 19.44 & 1 & 0 & 3 & 1\\\\\n",
       "\tHornet Sportabout & 18.7 & 8 & 360 & 175 & 3.15 & 3.440 & 17.02 & 0 & 0 & 3 & 2\\\\\n",
       "\tValiant & 18.1 & 6 & 225 & 105 & 2.76 & 3.460 & 20.22 & 1 & 0 & 3 & 1\\\\\n",
       "\\end{tabular}\n"
      ],
      "text/markdown": [
       "\n",
       "A data.frame: 6 × 11\n",
       "\n",
       "| <!--/--> | mpg &lt;dbl&gt; | cyl &lt;dbl&gt; | disp &lt;dbl&gt; | hp &lt;dbl&gt; | drat &lt;dbl&gt; | wt &lt;dbl&gt; | qsec &lt;dbl&gt; | vs &lt;dbl&gt; | am &lt;dbl&gt; | gear &lt;dbl&gt; | carb &lt;dbl&gt; |\n",
       "|---|---|---|---|---|---|---|---|---|---|---|---|\n",
       "| Mazda RX4 | 21.0 | 6 | 160 | 110 | 3.90 | 2.620 | 16.46 | 0 | 1 | 4 | 4 |\n",
       "| Mazda RX4 Wag | 21.0 | 6 | 160 | 110 | 3.90 | 2.875 | 17.02 | 0 | 1 | 4 | 4 |\n",
       "| Datsun 710 | 22.8 | 4 | 108 |  93 | 3.85 | 2.320 | 18.61 | 1 | 1 | 4 | 1 |\n",
       "| Hornet 4 Drive | 21.4 | 6 | 258 | 110 | 3.08 | 3.215 | 19.44 | 1 | 0 | 3 | 1 |\n",
       "| Hornet Sportabout | 18.7 | 8 | 360 | 175 | 3.15 | 3.440 | 17.02 | 0 | 0 | 3 | 2 |\n",
       "| Valiant | 18.1 | 6 | 225 | 105 | 2.76 | 3.460 | 20.22 | 1 | 0 | 3 | 1 |\n",
       "\n"
      ],
      "text/plain": [
       "                  mpg  cyl disp hp  drat wt    qsec  vs am gear carb\n",
       "Mazda RX4         21.0 6   160  110 3.90 2.620 16.46 0  1  4    4   \n",
       "Mazda RX4 Wag     21.0 6   160  110 3.90 2.875 17.02 0  1  4    4   \n",
       "Datsun 710        22.8 4   108   93 3.85 2.320 18.61 1  1  4    1   \n",
       "Hornet 4 Drive    21.4 6   258  110 3.08 3.215 19.44 1  0  3    1   \n",
       "Hornet Sportabout 18.7 8   360  175 3.15 3.440 17.02 0  0  3    2   \n",
       "Valiant           18.1 6   225  105 2.76 3.460 20.22 1  0  3    1   "
      ]
     },
     "metadata": {},
     "output_type": "display_data"
    }
   ],
   "source": [
    "data(mtcars)\n",
    "nrow(mtcars); ncol(mtcars); dim(mtcars)\n",
    "str(mtcars)\n",
    "names(mtcars)\n",
    "head(mtcars)"
   ]
  },
  {
   "cell_type": "code",
   "execution_count": 26,
   "id": "d1e43ff8",
   "metadata": {
    "vscode": {
     "languageId": "r"
    }
   },
   "outputs": [
    {
     "data": {
      "text/html": [
       "<table class=\"dataframe\">\n",
       "<caption>A data.frame: 32 × 11</caption>\n",
       "<thead>\n",
       "\t<tr><th scope=col>mpg</th><th scope=col>cyl</th><th scope=col>disp</th><th scope=col>hp</th><th scope=col>drat</th><th scope=col>wt</th><th scope=col>qsec</th><th scope=col>vs</th><th scope=col>am</th><th scope=col>gear</th><th scope=col>carb</th></tr>\n",
       "\t<tr><th scope=col>&lt;dbl&gt;</th><th scope=col>&lt;dbl&gt;</th><th scope=col>&lt;dbl&gt;</th><th scope=col>&lt;dbl&gt;</th><th scope=col>&lt;dbl&gt;</th><th scope=col>&lt;dbl&gt;</th><th scope=col>&lt;dbl&gt;</th><th scope=col>&lt;dbl&gt;</th><th scope=col>&lt;dbl&gt;</th><th scope=col>&lt;dbl&gt;</th><th scope=col>&lt;dbl&gt;</th></tr>\n",
       "</thead>\n",
       "<tbody>\n",
       "\t<tr><td>21.0</td><td>6</td><td>160.0</td><td>110</td><td>3.90</td><td>2.620</td><td>16.46</td><td>0</td><td>1</td><td>4</td><td>4</td></tr>\n",
       "\t<tr><td>21.0</td><td>6</td><td>160.0</td><td>110</td><td>3.90</td><td>2.875</td><td>17.02</td><td>0</td><td>1</td><td>4</td><td>4</td></tr>\n",
       "\t<tr><td>22.8</td><td>4</td><td>108.0</td><td> 93</td><td>3.85</td><td>2.320</td><td>18.61</td><td>1</td><td>1</td><td>4</td><td>1</td></tr>\n",
       "\t<tr><td>21.4</td><td>6</td><td>258.0</td><td>110</td><td>3.08</td><td>3.215</td><td>19.44</td><td>1</td><td>0</td><td>3</td><td>1</td></tr>\n",
       "\t<tr><td>18.7</td><td>8</td><td>360.0</td><td>175</td><td>3.15</td><td>3.440</td><td>17.02</td><td>0</td><td>0</td><td>3</td><td>2</td></tr>\n",
       "\t<tr><td>18.1</td><td>6</td><td>225.0</td><td>105</td><td>2.76</td><td>3.460</td><td>20.22</td><td>1</td><td>0</td><td>3</td><td>1</td></tr>\n",
       "\t<tr><td>14.3</td><td>8</td><td>360.0</td><td>245</td><td>3.21</td><td>3.570</td><td>15.84</td><td>0</td><td>0</td><td>3</td><td>4</td></tr>\n",
       "\t<tr><td>24.4</td><td>4</td><td>146.7</td><td> 62</td><td>3.69</td><td>3.190</td><td>20.00</td><td>1</td><td>0</td><td>4</td><td>2</td></tr>\n",
       "\t<tr><td>22.8</td><td>4</td><td>140.8</td><td> 95</td><td>3.92</td><td>3.150</td><td>22.90</td><td>1</td><td>0</td><td>4</td><td>2</td></tr>\n",
       "\t<tr><td>19.2</td><td>6</td><td>167.6</td><td>123</td><td>3.92</td><td>3.440</td><td>18.30</td><td>1</td><td>0</td><td>4</td><td>4</td></tr>\n",
       "\t<tr><td>17.8</td><td>6</td><td>167.6</td><td>123</td><td>3.92</td><td>3.440</td><td>18.90</td><td>1</td><td>0</td><td>4</td><td>4</td></tr>\n",
       "\t<tr><td>16.4</td><td>8</td><td>275.8</td><td>180</td><td>3.07</td><td>4.070</td><td>17.40</td><td>0</td><td>0</td><td>3</td><td>3</td></tr>\n",
       "\t<tr><td>17.3</td><td>8</td><td>275.8</td><td>180</td><td>3.07</td><td>3.730</td><td>17.60</td><td>0</td><td>0</td><td>3</td><td>3</td></tr>\n",
       "\t<tr><td>15.2</td><td>8</td><td>275.8</td><td>180</td><td>3.07</td><td>3.780</td><td>18.00</td><td>0</td><td>0</td><td>3</td><td>3</td></tr>\n",
       "\t<tr><td>10.4</td><td>8</td><td>472.0</td><td>205</td><td>2.93</td><td>5.250</td><td>17.98</td><td>0</td><td>0</td><td>3</td><td>4</td></tr>\n",
       "\t<tr><td>10.4</td><td>8</td><td>460.0</td><td>215</td><td>3.00</td><td>5.424</td><td>17.82</td><td>0</td><td>0</td><td>3</td><td>4</td></tr>\n",
       "\t<tr><td>14.7</td><td>8</td><td>440.0</td><td>230</td><td>3.23</td><td>5.345</td><td>17.42</td><td>0</td><td>0</td><td>3</td><td>4</td></tr>\n",
       "\t<tr><td>32.4</td><td>4</td><td> 78.7</td><td> 66</td><td>4.08</td><td>2.200</td><td>19.47</td><td>1</td><td>1</td><td>4</td><td>1</td></tr>\n",
       "\t<tr><td>30.4</td><td>4</td><td> 75.7</td><td> 52</td><td>4.93</td><td>1.615</td><td>18.52</td><td>1</td><td>1</td><td>4</td><td>2</td></tr>\n",
       "\t<tr><td>33.9</td><td>4</td><td> 71.1</td><td> 65</td><td>4.22</td><td>1.835</td><td>19.90</td><td>1</td><td>1</td><td>4</td><td>1</td></tr>\n",
       "\t<tr><td>21.5</td><td>4</td><td>120.1</td><td> 97</td><td>3.70</td><td>2.465</td><td>20.01</td><td>1</td><td>0</td><td>3</td><td>1</td></tr>\n",
       "\t<tr><td>15.5</td><td>8</td><td>318.0</td><td>150</td><td>2.76</td><td>3.520</td><td>16.87</td><td>0</td><td>0</td><td>3</td><td>2</td></tr>\n",
       "\t<tr><td>15.2</td><td>8</td><td>304.0</td><td>150</td><td>3.15</td><td>3.435</td><td>17.30</td><td>0</td><td>0</td><td>3</td><td>2</td></tr>\n",
       "\t<tr><td>13.3</td><td>8</td><td>350.0</td><td>245</td><td>3.73</td><td>3.840</td><td>15.41</td><td>0</td><td>0</td><td>3</td><td>4</td></tr>\n",
       "\t<tr><td>19.2</td><td>8</td><td>400.0</td><td>175</td><td>3.08</td><td>3.845</td><td>17.05</td><td>0</td><td>0</td><td>3</td><td>2</td></tr>\n",
       "\t<tr><td>27.3</td><td>4</td><td> 79.0</td><td> 66</td><td>4.08</td><td>1.935</td><td>18.90</td><td>1</td><td>1</td><td>4</td><td>1</td></tr>\n",
       "\t<tr><td>26.0</td><td>4</td><td>120.3</td><td> 91</td><td>4.43</td><td>2.140</td><td>16.70</td><td>0</td><td>1</td><td>5</td><td>2</td></tr>\n",
       "\t<tr><td>30.4</td><td>4</td><td> 95.1</td><td>113</td><td>3.77</td><td>1.513</td><td>16.90</td><td>1</td><td>1</td><td>5</td><td>2</td></tr>\n",
       "\t<tr><td>15.8</td><td>8</td><td>351.0</td><td>264</td><td>4.22</td><td>3.170</td><td>14.50</td><td>0</td><td>1</td><td>5</td><td>4</td></tr>\n",
       "\t<tr><td>19.7</td><td>6</td><td>145.0</td><td>175</td><td>3.62</td><td>2.770</td><td>15.50</td><td>0</td><td>1</td><td>5</td><td>6</td></tr>\n",
       "\t<tr><td>15.0</td><td>8</td><td>301.0</td><td>335</td><td>3.54</td><td>3.570</td><td>14.60</td><td>0</td><td>1</td><td>5</td><td>8</td></tr>\n",
       "\t<tr><td>21.4</td><td>4</td><td>121.0</td><td>109</td><td>4.11</td><td>2.780</td><td>18.60</td><td>1</td><td>1</td><td>4</td><td>2</td></tr>\n",
       "</tbody>\n",
       "</table>\n"
      ],
      "text/latex": [
       "A data.frame: 32 × 11\n",
       "\\begin{tabular}{lllllllllll}\n",
       " mpg & cyl & disp & hp & drat & wt & qsec & vs & am & gear & carb\\\\\n",
       " <dbl> & <dbl> & <dbl> & <dbl> & <dbl> & <dbl> & <dbl> & <dbl> & <dbl> & <dbl> & <dbl>\\\\\n",
       "\\hline\n",
       "\t 21.0 & 6 & 160.0 & 110 & 3.90 & 2.620 & 16.46 & 0 & 1 & 4 & 4\\\\\n",
       "\t 21.0 & 6 & 160.0 & 110 & 3.90 & 2.875 & 17.02 & 0 & 1 & 4 & 4\\\\\n",
       "\t 22.8 & 4 & 108.0 &  93 & 3.85 & 2.320 & 18.61 & 1 & 1 & 4 & 1\\\\\n",
       "\t 21.4 & 6 & 258.0 & 110 & 3.08 & 3.215 & 19.44 & 1 & 0 & 3 & 1\\\\\n",
       "\t 18.7 & 8 & 360.0 & 175 & 3.15 & 3.440 & 17.02 & 0 & 0 & 3 & 2\\\\\n",
       "\t 18.1 & 6 & 225.0 & 105 & 2.76 & 3.460 & 20.22 & 1 & 0 & 3 & 1\\\\\n",
       "\t 14.3 & 8 & 360.0 & 245 & 3.21 & 3.570 & 15.84 & 0 & 0 & 3 & 4\\\\\n",
       "\t 24.4 & 4 & 146.7 &  62 & 3.69 & 3.190 & 20.00 & 1 & 0 & 4 & 2\\\\\n",
       "\t 22.8 & 4 & 140.8 &  95 & 3.92 & 3.150 & 22.90 & 1 & 0 & 4 & 2\\\\\n",
       "\t 19.2 & 6 & 167.6 & 123 & 3.92 & 3.440 & 18.30 & 1 & 0 & 4 & 4\\\\\n",
       "\t 17.8 & 6 & 167.6 & 123 & 3.92 & 3.440 & 18.90 & 1 & 0 & 4 & 4\\\\\n",
       "\t 16.4 & 8 & 275.8 & 180 & 3.07 & 4.070 & 17.40 & 0 & 0 & 3 & 3\\\\\n",
       "\t 17.3 & 8 & 275.8 & 180 & 3.07 & 3.730 & 17.60 & 0 & 0 & 3 & 3\\\\\n",
       "\t 15.2 & 8 & 275.8 & 180 & 3.07 & 3.780 & 18.00 & 0 & 0 & 3 & 3\\\\\n",
       "\t 10.4 & 8 & 472.0 & 205 & 2.93 & 5.250 & 17.98 & 0 & 0 & 3 & 4\\\\\n",
       "\t 10.4 & 8 & 460.0 & 215 & 3.00 & 5.424 & 17.82 & 0 & 0 & 3 & 4\\\\\n",
       "\t 14.7 & 8 & 440.0 & 230 & 3.23 & 5.345 & 17.42 & 0 & 0 & 3 & 4\\\\\n",
       "\t 32.4 & 4 &  78.7 &  66 & 4.08 & 2.200 & 19.47 & 1 & 1 & 4 & 1\\\\\n",
       "\t 30.4 & 4 &  75.7 &  52 & 4.93 & 1.615 & 18.52 & 1 & 1 & 4 & 2\\\\\n",
       "\t 33.9 & 4 &  71.1 &  65 & 4.22 & 1.835 & 19.90 & 1 & 1 & 4 & 1\\\\\n",
       "\t 21.5 & 4 & 120.1 &  97 & 3.70 & 2.465 & 20.01 & 1 & 0 & 3 & 1\\\\\n",
       "\t 15.5 & 8 & 318.0 & 150 & 2.76 & 3.520 & 16.87 & 0 & 0 & 3 & 2\\\\\n",
       "\t 15.2 & 8 & 304.0 & 150 & 3.15 & 3.435 & 17.30 & 0 & 0 & 3 & 2\\\\\n",
       "\t 13.3 & 8 & 350.0 & 245 & 3.73 & 3.840 & 15.41 & 0 & 0 & 3 & 4\\\\\n",
       "\t 19.2 & 8 & 400.0 & 175 & 3.08 & 3.845 & 17.05 & 0 & 0 & 3 & 2\\\\\n",
       "\t 27.3 & 4 &  79.0 &  66 & 4.08 & 1.935 & 18.90 & 1 & 1 & 4 & 1\\\\\n",
       "\t 26.0 & 4 & 120.3 &  91 & 4.43 & 2.140 & 16.70 & 0 & 1 & 5 & 2\\\\\n",
       "\t 30.4 & 4 &  95.1 & 113 & 3.77 & 1.513 & 16.90 & 1 & 1 & 5 & 2\\\\\n",
       "\t 15.8 & 8 & 351.0 & 264 & 4.22 & 3.170 & 14.50 & 0 & 1 & 5 & 4\\\\\n",
       "\t 19.7 & 6 & 145.0 & 175 & 3.62 & 2.770 & 15.50 & 0 & 1 & 5 & 6\\\\\n",
       "\t 15.0 & 8 & 301.0 & 335 & 3.54 & 3.570 & 14.60 & 0 & 1 & 5 & 8\\\\\n",
       "\t 21.4 & 4 & 121.0 & 109 & 4.11 & 2.780 & 18.60 & 1 & 1 & 4 & 2\\\\\n",
       "\\end{tabular}\n"
      ],
      "text/markdown": [
       "\n",
       "A data.frame: 32 × 11\n",
       "\n",
       "| mpg &lt;dbl&gt; | cyl &lt;dbl&gt; | disp &lt;dbl&gt; | hp &lt;dbl&gt; | drat &lt;dbl&gt; | wt &lt;dbl&gt; | qsec &lt;dbl&gt; | vs &lt;dbl&gt; | am &lt;dbl&gt; | gear &lt;dbl&gt; | carb &lt;dbl&gt; |\n",
       "|---|---|---|---|---|---|---|---|---|---|---|\n",
       "| 21.0 | 6 | 160.0 | 110 | 3.90 | 2.620 | 16.46 | 0 | 1 | 4 | 4 |\n",
       "| 21.0 | 6 | 160.0 | 110 | 3.90 | 2.875 | 17.02 | 0 | 1 | 4 | 4 |\n",
       "| 22.8 | 4 | 108.0 |  93 | 3.85 | 2.320 | 18.61 | 1 | 1 | 4 | 1 |\n",
       "| 21.4 | 6 | 258.0 | 110 | 3.08 | 3.215 | 19.44 | 1 | 0 | 3 | 1 |\n",
       "| 18.7 | 8 | 360.0 | 175 | 3.15 | 3.440 | 17.02 | 0 | 0 | 3 | 2 |\n",
       "| 18.1 | 6 | 225.0 | 105 | 2.76 | 3.460 | 20.22 | 1 | 0 | 3 | 1 |\n",
       "| 14.3 | 8 | 360.0 | 245 | 3.21 | 3.570 | 15.84 | 0 | 0 | 3 | 4 |\n",
       "| 24.4 | 4 | 146.7 |  62 | 3.69 | 3.190 | 20.00 | 1 | 0 | 4 | 2 |\n",
       "| 22.8 | 4 | 140.8 |  95 | 3.92 | 3.150 | 22.90 | 1 | 0 | 4 | 2 |\n",
       "| 19.2 | 6 | 167.6 | 123 | 3.92 | 3.440 | 18.30 | 1 | 0 | 4 | 4 |\n",
       "| 17.8 | 6 | 167.6 | 123 | 3.92 | 3.440 | 18.90 | 1 | 0 | 4 | 4 |\n",
       "| 16.4 | 8 | 275.8 | 180 | 3.07 | 4.070 | 17.40 | 0 | 0 | 3 | 3 |\n",
       "| 17.3 | 8 | 275.8 | 180 | 3.07 | 3.730 | 17.60 | 0 | 0 | 3 | 3 |\n",
       "| 15.2 | 8 | 275.8 | 180 | 3.07 | 3.780 | 18.00 | 0 | 0 | 3 | 3 |\n",
       "| 10.4 | 8 | 472.0 | 205 | 2.93 | 5.250 | 17.98 | 0 | 0 | 3 | 4 |\n",
       "| 10.4 | 8 | 460.0 | 215 | 3.00 | 5.424 | 17.82 | 0 | 0 | 3 | 4 |\n",
       "| 14.7 | 8 | 440.0 | 230 | 3.23 | 5.345 | 17.42 | 0 | 0 | 3 | 4 |\n",
       "| 32.4 | 4 |  78.7 |  66 | 4.08 | 2.200 | 19.47 | 1 | 1 | 4 | 1 |\n",
       "| 30.4 | 4 |  75.7 |  52 | 4.93 | 1.615 | 18.52 | 1 | 1 | 4 | 2 |\n",
       "| 33.9 | 4 |  71.1 |  65 | 4.22 | 1.835 | 19.90 | 1 | 1 | 4 | 1 |\n",
       "| 21.5 | 4 | 120.1 |  97 | 3.70 | 2.465 | 20.01 | 1 | 0 | 3 | 1 |\n",
       "| 15.5 | 8 | 318.0 | 150 | 2.76 | 3.520 | 16.87 | 0 | 0 | 3 | 2 |\n",
       "| 15.2 | 8 | 304.0 | 150 | 3.15 | 3.435 | 17.30 | 0 | 0 | 3 | 2 |\n",
       "| 13.3 | 8 | 350.0 | 245 | 3.73 | 3.840 | 15.41 | 0 | 0 | 3 | 4 |\n",
       "| 19.2 | 8 | 400.0 | 175 | 3.08 | 3.845 | 17.05 | 0 | 0 | 3 | 2 |\n",
       "| 27.3 | 4 |  79.0 |  66 | 4.08 | 1.935 | 18.90 | 1 | 1 | 4 | 1 |\n",
       "| 26.0 | 4 | 120.3 |  91 | 4.43 | 2.140 | 16.70 | 0 | 1 | 5 | 2 |\n",
       "| 30.4 | 4 |  95.1 | 113 | 3.77 | 1.513 | 16.90 | 1 | 1 | 5 | 2 |\n",
       "| 15.8 | 8 | 351.0 | 264 | 4.22 | 3.170 | 14.50 | 0 | 1 | 5 | 4 |\n",
       "| 19.7 | 6 | 145.0 | 175 | 3.62 | 2.770 | 15.50 | 0 | 1 | 5 | 6 |\n",
       "| 15.0 | 8 | 301.0 | 335 | 3.54 | 3.570 | 14.60 | 0 | 1 | 5 | 8 |\n",
       "| 21.4 | 4 | 121.0 | 109 | 4.11 | 2.780 | 18.60 | 1 | 1 | 4 | 2 |\n",
       "\n"
      ],
      "text/plain": [
       "   mpg  cyl disp  hp  drat wt    qsec  vs am gear carb\n",
       "1  21.0 6   160.0 110 3.90 2.620 16.46 0  1  4    4   \n",
       "2  21.0 6   160.0 110 3.90 2.875 17.02 0  1  4    4   \n",
       "3  22.8 4   108.0  93 3.85 2.320 18.61 1  1  4    1   \n",
       "4  21.4 6   258.0 110 3.08 3.215 19.44 1  0  3    1   \n",
       "5  18.7 8   360.0 175 3.15 3.440 17.02 0  0  3    2   \n",
       "6  18.1 6   225.0 105 2.76 3.460 20.22 1  0  3    1   \n",
       "7  14.3 8   360.0 245 3.21 3.570 15.84 0  0  3    4   \n",
       "8  24.4 4   146.7  62 3.69 3.190 20.00 1  0  4    2   \n",
       "9  22.8 4   140.8  95 3.92 3.150 22.90 1  0  4    2   \n",
       "10 19.2 6   167.6 123 3.92 3.440 18.30 1  0  4    4   \n",
       "11 17.8 6   167.6 123 3.92 3.440 18.90 1  0  4    4   \n",
       "12 16.4 8   275.8 180 3.07 4.070 17.40 0  0  3    3   \n",
       "13 17.3 8   275.8 180 3.07 3.730 17.60 0  0  3    3   \n",
       "14 15.2 8   275.8 180 3.07 3.780 18.00 0  0  3    3   \n",
       "15 10.4 8   472.0 205 2.93 5.250 17.98 0  0  3    4   \n",
       "16 10.4 8   460.0 215 3.00 5.424 17.82 0  0  3    4   \n",
       "17 14.7 8   440.0 230 3.23 5.345 17.42 0  0  3    4   \n",
       "18 32.4 4    78.7  66 4.08 2.200 19.47 1  1  4    1   \n",
       "19 30.4 4    75.7  52 4.93 1.615 18.52 1  1  4    2   \n",
       "20 33.9 4    71.1  65 4.22 1.835 19.90 1  1  4    1   \n",
       "21 21.5 4   120.1  97 3.70 2.465 20.01 1  0  3    1   \n",
       "22 15.5 8   318.0 150 2.76 3.520 16.87 0  0  3    2   \n",
       "23 15.2 8   304.0 150 3.15 3.435 17.30 0  0  3    2   \n",
       "24 13.3 8   350.0 245 3.73 3.840 15.41 0  0  3    4   \n",
       "25 19.2 8   400.0 175 3.08 3.845 17.05 0  0  3    2   \n",
       "26 27.3 4    79.0  66 4.08 1.935 18.90 1  1  4    1   \n",
       "27 26.0 4   120.3  91 4.43 2.140 16.70 0  1  5    2   \n",
       "28 30.4 4    95.1 113 3.77 1.513 16.90 1  1  5    2   \n",
       "29 15.8 8   351.0 264 4.22 3.170 14.50 0  1  5    4   \n",
       "30 19.7 6   145.0 175 3.62 2.770 15.50 0  1  5    6   \n",
       "31 15.0 8   301.0 335 3.54 3.570 14.60 0  1  5    8   \n",
       "32 21.4 4   121.0 109 4.11 2.780 18.60 1  1  4    2   "
      ]
     },
     "metadata": {},
     "output_type": "display_data"
    }
   ],
   "source": [
    "sqldf(\"select * from mtcars\") #mtcars"
   ]
  },
  {
   "cell_type": "code",
   "execution_count": 29,
   "id": "ee5685d8",
   "metadata": {
    "vscode": {
     "languageId": "r"
    }
   },
   "outputs": [
    {
     "data": {
      "text/html": [
       "<table class=\"dataframe\">\n",
       "<caption>A data.frame: 32 × 11</caption>\n",
       "<thead>\n",
       "\t<tr><th></th><th scope=col>mpg</th><th scope=col>cyl</th><th scope=col>disp</th><th scope=col>hp</th><th scope=col>drat</th><th scope=col>wt</th><th scope=col>qsec</th><th scope=col>vs</th><th scope=col>am</th><th scope=col>gear</th><th scope=col>carb</th></tr>\n",
       "\t<tr><th></th><th scope=col>&lt;dbl&gt;</th><th scope=col>&lt;dbl&gt;</th><th scope=col>&lt;dbl&gt;</th><th scope=col>&lt;dbl&gt;</th><th scope=col>&lt;dbl&gt;</th><th scope=col>&lt;dbl&gt;</th><th scope=col>&lt;dbl&gt;</th><th scope=col>&lt;dbl&gt;</th><th scope=col>&lt;dbl&gt;</th><th scope=col>&lt;dbl&gt;</th><th scope=col>&lt;dbl&gt;</th></tr>\n",
       "</thead>\n",
       "<tbody>\n",
       "\t<tr><th scope=row>Mazda RX4</th><td>21.0</td><td>6</td><td>160.0</td><td>110</td><td>3.90</td><td>2.620</td><td>16.46</td><td>0</td><td>1</td><td>4</td><td>4</td></tr>\n",
       "\t<tr><th scope=row>Mazda RX4 Wag</th><td>21.0</td><td>6</td><td>160.0</td><td>110</td><td>3.90</td><td>2.875</td><td>17.02</td><td>0</td><td>1</td><td>4</td><td>4</td></tr>\n",
       "\t<tr><th scope=row>Datsun 710</th><td>22.8</td><td>4</td><td>108.0</td><td> 93</td><td>3.85</td><td>2.320</td><td>18.61</td><td>1</td><td>1</td><td>4</td><td>1</td></tr>\n",
       "\t<tr><th scope=row>Hornet 4 Drive</th><td>21.4</td><td>6</td><td>258.0</td><td>110</td><td>3.08</td><td>3.215</td><td>19.44</td><td>1</td><td>0</td><td>3</td><td>1</td></tr>\n",
       "\t<tr><th scope=row>Hornet Sportabout</th><td>18.7</td><td>8</td><td>360.0</td><td>175</td><td>3.15</td><td>3.440</td><td>17.02</td><td>0</td><td>0</td><td>3</td><td>2</td></tr>\n",
       "\t<tr><th scope=row>Valiant</th><td>18.1</td><td>6</td><td>225.0</td><td>105</td><td>2.76</td><td>3.460</td><td>20.22</td><td>1</td><td>0</td><td>3</td><td>1</td></tr>\n",
       "\t<tr><th scope=row>Duster 360</th><td>14.3</td><td>8</td><td>360.0</td><td>245</td><td>3.21</td><td>3.570</td><td>15.84</td><td>0</td><td>0</td><td>3</td><td>4</td></tr>\n",
       "\t<tr><th scope=row>Merc 240D</th><td>24.4</td><td>4</td><td>146.7</td><td> 62</td><td>3.69</td><td>3.190</td><td>20.00</td><td>1</td><td>0</td><td>4</td><td>2</td></tr>\n",
       "\t<tr><th scope=row>Merc 230</th><td>22.8</td><td>4</td><td>140.8</td><td> 95</td><td>3.92</td><td>3.150</td><td>22.90</td><td>1</td><td>0</td><td>4</td><td>2</td></tr>\n",
       "\t<tr><th scope=row>Merc 280</th><td>19.2</td><td>6</td><td>167.6</td><td>123</td><td>3.92</td><td>3.440</td><td>18.30</td><td>1</td><td>0</td><td>4</td><td>4</td></tr>\n",
       "\t<tr><th scope=row>Merc 280C</th><td>17.8</td><td>6</td><td>167.6</td><td>123</td><td>3.92</td><td>3.440</td><td>18.90</td><td>1</td><td>0</td><td>4</td><td>4</td></tr>\n",
       "\t<tr><th scope=row>Merc 450SE</th><td>16.4</td><td>8</td><td>275.8</td><td>180</td><td>3.07</td><td>4.070</td><td>17.40</td><td>0</td><td>0</td><td>3</td><td>3</td></tr>\n",
       "\t<tr><th scope=row>Merc 450SL</th><td>17.3</td><td>8</td><td>275.8</td><td>180</td><td>3.07</td><td>3.730</td><td>17.60</td><td>0</td><td>0</td><td>3</td><td>3</td></tr>\n",
       "\t<tr><th scope=row>Merc 450SLC</th><td>15.2</td><td>8</td><td>275.8</td><td>180</td><td>3.07</td><td>3.780</td><td>18.00</td><td>0</td><td>0</td><td>3</td><td>3</td></tr>\n",
       "\t<tr><th scope=row>Cadillac Fleetwood</th><td>10.4</td><td>8</td><td>472.0</td><td>205</td><td>2.93</td><td>5.250</td><td>17.98</td><td>0</td><td>0</td><td>3</td><td>4</td></tr>\n",
       "\t<tr><th scope=row>Lincoln Continental</th><td>10.4</td><td>8</td><td>460.0</td><td>215</td><td>3.00</td><td>5.424</td><td>17.82</td><td>0</td><td>0</td><td>3</td><td>4</td></tr>\n",
       "\t<tr><th scope=row>Chrysler Imperial</th><td>14.7</td><td>8</td><td>440.0</td><td>230</td><td>3.23</td><td>5.345</td><td>17.42</td><td>0</td><td>0</td><td>3</td><td>4</td></tr>\n",
       "\t<tr><th scope=row>Fiat 128</th><td>32.4</td><td>4</td><td> 78.7</td><td> 66</td><td>4.08</td><td>2.200</td><td>19.47</td><td>1</td><td>1</td><td>4</td><td>1</td></tr>\n",
       "\t<tr><th scope=row>Honda Civic</th><td>30.4</td><td>4</td><td> 75.7</td><td> 52</td><td>4.93</td><td>1.615</td><td>18.52</td><td>1</td><td>1</td><td>4</td><td>2</td></tr>\n",
       "\t<tr><th scope=row>Toyota Corolla</th><td>33.9</td><td>4</td><td> 71.1</td><td> 65</td><td>4.22</td><td>1.835</td><td>19.90</td><td>1</td><td>1</td><td>4</td><td>1</td></tr>\n",
       "\t<tr><th scope=row>Toyota Corona</th><td>21.5</td><td>4</td><td>120.1</td><td> 97</td><td>3.70</td><td>2.465</td><td>20.01</td><td>1</td><td>0</td><td>3</td><td>1</td></tr>\n",
       "\t<tr><th scope=row>Dodge Challenger</th><td>15.5</td><td>8</td><td>318.0</td><td>150</td><td>2.76</td><td>3.520</td><td>16.87</td><td>0</td><td>0</td><td>3</td><td>2</td></tr>\n",
       "\t<tr><th scope=row>AMC Javelin</th><td>15.2</td><td>8</td><td>304.0</td><td>150</td><td>3.15</td><td>3.435</td><td>17.30</td><td>0</td><td>0</td><td>3</td><td>2</td></tr>\n",
       "\t<tr><th scope=row>Camaro Z28</th><td>13.3</td><td>8</td><td>350.0</td><td>245</td><td>3.73</td><td>3.840</td><td>15.41</td><td>0</td><td>0</td><td>3</td><td>4</td></tr>\n",
       "\t<tr><th scope=row>Pontiac Firebird</th><td>19.2</td><td>8</td><td>400.0</td><td>175</td><td>3.08</td><td>3.845</td><td>17.05</td><td>0</td><td>0</td><td>3</td><td>2</td></tr>\n",
       "\t<tr><th scope=row>Fiat X1-9</th><td>27.3</td><td>4</td><td> 79.0</td><td> 66</td><td>4.08</td><td>1.935</td><td>18.90</td><td>1</td><td>1</td><td>4</td><td>1</td></tr>\n",
       "\t<tr><th scope=row>Porsche 914-2</th><td>26.0</td><td>4</td><td>120.3</td><td> 91</td><td>4.43</td><td>2.140</td><td>16.70</td><td>0</td><td>1</td><td>5</td><td>2</td></tr>\n",
       "\t<tr><th scope=row>Lotus Europa</th><td>30.4</td><td>4</td><td> 95.1</td><td>113</td><td>3.77</td><td>1.513</td><td>16.90</td><td>1</td><td>1</td><td>5</td><td>2</td></tr>\n",
       "\t<tr><th scope=row>Ford Pantera L</th><td>15.8</td><td>8</td><td>351.0</td><td>264</td><td>4.22</td><td>3.170</td><td>14.50</td><td>0</td><td>1</td><td>5</td><td>4</td></tr>\n",
       "\t<tr><th scope=row>Ferrari Dino</th><td>19.7</td><td>6</td><td>145.0</td><td>175</td><td>3.62</td><td>2.770</td><td>15.50</td><td>0</td><td>1</td><td>5</td><td>6</td></tr>\n",
       "\t<tr><th scope=row>Maserati Bora</th><td>15.0</td><td>8</td><td>301.0</td><td>335</td><td>3.54</td><td>3.570</td><td>14.60</td><td>0</td><td>1</td><td>5</td><td>8</td></tr>\n",
       "\t<tr><th scope=row>Volvo 142E</th><td>21.4</td><td>4</td><td>121.0</td><td>109</td><td>4.11</td><td>2.780</td><td>18.60</td><td>1</td><td>1</td><td>4</td><td>2</td></tr>\n",
       "</tbody>\n",
       "</table>\n"
      ],
      "text/latex": [
       "A data.frame: 32 × 11\n",
       "\\begin{tabular}{r|lllllllllll}\n",
       "  & mpg & cyl & disp & hp & drat & wt & qsec & vs & am & gear & carb\\\\\n",
       "  & <dbl> & <dbl> & <dbl> & <dbl> & <dbl> & <dbl> & <dbl> & <dbl> & <dbl> & <dbl> & <dbl>\\\\\n",
       "\\hline\n",
       "\tMazda RX4 & 21.0 & 6 & 160.0 & 110 & 3.90 & 2.620 & 16.46 & 0 & 1 & 4 & 4\\\\\n",
       "\tMazda RX4 Wag & 21.0 & 6 & 160.0 & 110 & 3.90 & 2.875 & 17.02 & 0 & 1 & 4 & 4\\\\\n",
       "\tDatsun 710 & 22.8 & 4 & 108.0 &  93 & 3.85 & 2.320 & 18.61 & 1 & 1 & 4 & 1\\\\\n",
       "\tHornet 4 Drive & 21.4 & 6 & 258.0 & 110 & 3.08 & 3.215 & 19.44 & 1 & 0 & 3 & 1\\\\\n",
       "\tHornet Sportabout & 18.7 & 8 & 360.0 & 175 & 3.15 & 3.440 & 17.02 & 0 & 0 & 3 & 2\\\\\n",
       "\tValiant & 18.1 & 6 & 225.0 & 105 & 2.76 & 3.460 & 20.22 & 1 & 0 & 3 & 1\\\\\n",
       "\tDuster 360 & 14.3 & 8 & 360.0 & 245 & 3.21 & 3.570 & 15.84 & 0 & 0 & 3 & 4\\\\\n",
       "\tMerc 240D & 24.4 & 4 & 146.7 &  62 & 3.69 & 3.190 & 20.00 & 1 & 0 & 4 & 2\\\\\n",
       "\tMerc 230 & 22.8 & 4 & 140.8 &  95 & 3.92 & 3.150 & 22.90 & 1 & 0 & 4 & 2\\\\\n",
       "\tMerc 280 & 19.2 & 6 & 167.6 & 123 & 3.92 & 3.440 & 18.30 & 1 & 0 & 4 & 4\\\\\n",
       "\tMerc 280C & 17.8 & 6 & 167.6 & 123 & 3.92 & 3.440 & 18.90 & 1 & 0 & 4 & 4\\\\\n",
       "\tMerc 450SE & 16.4 & 8 & 275.8 & 180 & 3.07 & 4.070 & 17.40 & 0 & 0 & 3 & 3\\\\\n",
       "\tMerc 450SL & 17.3 & 8 & 275.8 & 180 & 3.07 & 3.730 & 17.60 & 0 & 0 & 3 & 3\\\\\n",
       "\tMerc 450SLC & 15.2 & 8 & 275.8 & 180 & 3.07 & 3.780 & 18.00 & 0 & 0 & 3 & 3\\\\\n",
       "\tCadillac Fleetwood & 10.4 & 8 & 472.0 & 205 & 2.93 & 5.250 & 17.98 & 0 & 0 & 3 & 4\\\\\n",
       "\tLincoln Continental & 10.4 & 8 & 460.0 & 215 & 3.00 & 5.424 & 17.82 & 0 & 0 & 3 & 4\\\\\n",
       "\tChrysler Imperial & 14.7 & 8 & 440.0 & 230 & 3.23 & 5.345 & 17.42 & 0 & 0 & 3 & 4\\\\\n",
       "\tFiat 128 & 32.4 & 4 &  78.7 &  66 & 4.08 & 2.200 & 19.47 & 1 & 1 & 4 & 1\\\\\n",
       "\tHonda Civic & 30.4 & 4 &  75.7 &  52 & 4.93 & 1.615 & 18.52 & 1 & 1 & 4 & 2\\\\\n",
       "\tToyota Corolla & 33.9 & 4 &  71.1 &  65 & 4.22 & 1.835 & 19.90 & 1 & 1 & 4 & 1\\\\\n",
       "\tToyota Corona & 21.5 & 4 & 120.1 &  97 & 3.70 & 2.465 & 20.01 & 1 & 0 & 3 & 1\\\\\n",
       "\tDodge Challenger & 15.5 & 8 & 318.0 & 150 & 2.76 & 3.520 & 16.87 & 0 & 0 & 3 & 2\\\\\n",
       "\tAMC Javelin & 15.2 & 8 & 304.0 & 150 & 3.15 & 3.435 & 17.30 & 0 & 0 & 3 & 2\\\\\n",
       "\tCamaro Z28 & 13.3 & 8 & 350.0 & 245 & 3.73 & 3.840 & 15.41 & 0 & 0 & 3 & 4\\\\\n",
       "\tPontiac Firebird & 19.2 & 8 & 400.0 & 175 & 3.08 & 3.845 & 17.05 & 0 & 0 & 3 & 2\\\\\n",
       "\tFiat X1-9 & 27.3 & 4 &  79.0 &  66 & 4.08 & 1.935 & 18.90 & 1 & 1 & 4 & 1\\\\\n",
       "\tPorsche 914-2 & 26.0 & 4 & 120.3 &  91 & 4.43 & 2.140 & 16.70 & 0 & 1 & 5 & 2\\\\\n",
       "\tLotus Europa & 30.4 & 4 &  95.1 & 113 & 3.77 & 1.513 & 16.90 & 1 & 1 & 5 & 2\\\\\n",
       "\tFord Pantera L & 15.8 & 8 & 351.0 & 264 & 4.22 & 3.170 & 14.50 & 0 & 1 & 5 & 4\\\\\n",
       "\tFerrari Dino & 19.7 & 6 & 145.0 & 175 & 3.62 & 2.770 & 15.50 & 0 & 1 & 5 & 6\\\\\n",
       "\tMaserati Bora & 15.0 & 8 & 301.0 & 335 & 3.54 & 3.570 & 14.60 & 0 & 1 & 5 & 8\\\\\n",
       "\tVolvo 142E & 21.4 & 4 & 121.0 & 109 & 4.11 & 2.780 & 18.60 & 1 & 1 & 4 & 2\\\\\n",
       "\\end{tabular}\n"
      ],
      "text/markdown": [
       "\n",
       "A data.frame: 32 × 11\n",
       "\n",
       "| <!--/--> | mpg &lt;dbl&gt; | cyl &lt;dbl&gt; | disp &lt;dbl&gt; | hp &lt;dbl&gt; | drat &lt;dbl&gt; | wt &lt;dbl&gt; | qsec &lt;dbl&gt; | vs &lt;dbl&gt; | am &lt;dbl&gt; | gear &lt;dbl&gt; | carb &lt;dbl&gt; |\n",
       "|---|---|---|---|---|---|---|---|---|---|---|---|\n",
       "| Mazda RX4 | 21.0 | 6 | 160.0 | 110 | 3.90 | 2.620 | 16.46 | 0 | 1 | 4 | 4 |\n",
       "| Mazda RX4 Wag | 21.0 | 6 | 160.0 | 110 | 3.90 | 2.875 | 17.02 | 0 | 1 | 4 | 4 |\n",
       "| Datsun 710 | 22.8 | 4 | 108.0 |  93 | 3.85 | 2.320 | 18.61 | 1 | 1 | 4 | 1 |\n",
       "| Hornet 4 Drive | 21.4 | 6 | 258.0 | 110 | 3.08 | 3.215 | 19.44 | 1 | 0 | 3 | 1 |\n",
       "| Hornet Sportabout | 18.7 | 8 | 360.0 | 175 | 3.15 | 3.440 | 17.02 | 0 | 0 | 3 | 2 |\n",
       "| Valiant | 18.1 | 6 | 225.0 | 105 | 2.76 | 3.460 | 20.22 | 1 | 0 | 3 | 1 |\n",
       "| Duster 360 | 14.3 | 8 | 360.0 | 245 | 3.21 | 3.570 | 15.84 | 0 | 0 | 3 | 4 |\n",
       "| Merc 240D | 24.4 | 4 | 146.7 |  62 | 3.69 | 3.190 | 20.00 | 1 | 0 | 4 | 2 |\n",
       "| Merc 230 | 22.8 | 4 | 140.8 |  95 | 3.92 | 3.150 | 22.90 | 1 | 0 | 4 | 2 |\n",
       "| Merc 280 | 19.2 | 6 | 167.6 | 123 | 3.92 | 3.440 | 18.30 | 1 | 0 | 4 | 4 |\n",
       "| Merc 280C | 17.8 | 6 | 167.6 | 123 | 3.92 | 3.440 | 18.90 | 1 | 0 | 4 | 4 |\n",
       "| Merc 450SE | 16.4 | 8 | 275.8 | 180 | 3.07 | 4.070 | 17.40 | 0 | 0 | 3 | 3 |\n",
       "| Merc 450SL | 17.3 | 8 | 275.8 | 180 | 3.07 | 3.730 | 17.60 | 0 | 0 | 3 | 3 |\n",
       "| Merc 450SLC | 15.2 | 8 | 275.8 | 180 | 3.07 | 3.780 | 18.00 | 0 | 0 | 3 | 3 |\n",
       "| Cadillac Fleetwood | 10.4 | 8 | 472.0 | 205 | 2.93 | 5.250 | 17.98 | 0 | 0 | 3 | 4 |\n",
       "| Lincoln Continental | 10.4 | 8 | 460.0 | 215 | 3.00 | 5.424 | 17.82 | 0 | 0 | 3 | 4 |\n",
       "| Chrysler Imperial | 14.7 | 8 | 440.0 | 230 | 3.23 | 5.345 | 17.42 | 0 | 0 | 3 | 4 |\n",
       "| Fiat 128 | 32.4 | 4 |  78.7 |  66 | 4.08 | 2.200 | 19.47 | 1 | 1 | 4 | 1 |\n",
       "| Honda Civic | 30.4 | 4 |  75.7 |  52 | 4.93 | 1.615 | 18.52 | 1 | 1 | 4 | 2 |\n",
       "| Toyota Corolla | 33.9 | 4 |  71.1 |  65 | 4.22 | 1.835 | 19.90 | 1 | 1 | 4 | 1 |\n",
       "| Toyota Corona | 21.5 | 4 | 120.1 |  97 | 3.70 | 2.465 | 20.01 | 1 | 0 | 3 | 1 |\n",
       "| Dodge Challenger | 15.5 | 8 | 318.0 | 150 | 2.76 | 3.520 | 16.87 | 0 | 0 | 3 | 2 |\n",
       "| AMC Javelin | 15.2 | 8 | 304.0 | 150 | 3.15 | 3.435 | 17.30 | 0 | 0 | 3 | 2 |\n",
       "| Camaro Z28 | 13.3 | 8 | 350.0 | 245 | 3.73 | 3.840 | 15.41 | 0 | 0 | 3 | 4 |\n",
       "| Pontiac Firebird | 19.2 | 8 | 400.0 | 175 | 3.08 | 3.845 | 17.05 | 0 | 0 | 3 | 2 |\n",
       "| Fiat X1-9 | 27.3 | 4 |  79.0 |  66 | 4.08 | 1.935 | 18.90 | 1 | 1 | 4 | 1 |\n",
       "| Porsche 914-2 | 26.0 | 4 | 120.3 |  91 | 4.43 | 2.140 | 16.70 | 0 | 1 | 5 | 2 |\n",
       "| Lotus Europa | 30.4 | 4 |  95.1 | 113 | 3.77 | 1.513 | 16.90 | 1 | 1 | 5 | 2 |\n",
       "| Ford Pantera L | 15.8 | 8 | 351.0 | 264 | 4.22 | 3.170 | 14.50 | 0 | 1 | 5 | 4 |\n",
       "| Ferrari Dino | 19.7 | 6 | 145.0 | 175 | 3.62 | 2.770 | 15.50 | 0 | 1 | 5 | 6 |\n",
       "| Maserati Bora | 15.0 | 8 | 301.0 | 335 | 3.54 | 3.570 | 14.60 | 0 | 1 | 5 | 8 |\n",
       "| Volvo 142E | 21.4 | 4 | 121.0 | 109 | 4.11 | 2.780 | 18.60 | 1 | 1 | 4 | 2 |\n",
       "\n"
      ],
      "text/plain": [
       "                    mpg  cyl disp  hp  drat wt    qsec  vs am gear carb\n",
       "Mazda RX4           21.0 6   160.0 110 3.90 2.620 16.46 0  1  4    4   \n",
       "Mazda RX4 Wag       21.0 6   160.0 110 3.90 2.875 17.02 0  1  4    4   \n",
       "Datsun 710          22.8 4   108.0  93 3.85 2.320 18.61 1  1  4    1   \n",
       "Hornet 4 Drive      21.4 6   258.0 110 3.08 3.215 19.44 1  0  3    1   \n",
       "Hornet Sportabout   18.7 8   360.0 175 3.15 3.440 17.02 0  0  3    2   \n",
       "Valiant             18.1 6   225.0 105 2.76 3.460 20.22 1  0  3    1   \n",
       "Duster 360          14.3 8   360.0 245 3.21 3.570 15.84 0  0  3    4   \n",
       "Merc 240D           24.4 4   146.7  62 3.69 3.190 20.00 1  0  4    2   \n",
       "Merc 230            22.8 4   140.8  95 3.92 3.150 22.90 1  0  4    2   \n",
       "Merc 280            19.2 6   167.6 123 3.92 3.440 18.30 1  0  4    4   \n",
       "Merc 280C           17.8 6   167.6 123 3.92 3.440 18.90 1  0  4    4   \n",
       "Merc 450SE          16.4 8   275.8 180 3.07 4.070 17.40 0  0  3    3   \n",
       "Merc 450SL          17.3 8   275.8 180 3.07 3.730 17.60 0  0  3    3   \n",
       "Merc 450SLC         15.2 8   275.8 180 3.07 3.780 18.00 0  0  3    3   \n",
       "Cadillac Fleetwood  10.4 8   472.0 205 2.93 5.250 17.98 0  0  3    4   \n",
       "Lincoln Continental 10.4 8   460.0 215 3.00 5.424 17.82 0  0  3    4   \n",
       "Chrysler Imperial   14.7 8   440.0 230 3.23 5.345 17.42 0  0  3    4   \n",
       "Fiat 128            32.4 4    78.7  66 4.08 2.200 19.47 1  1  4    1   \n",
       "Honda Civic         30.4 4    75.7  52 4.93 1.615 18.52 1  1  4    2   \n",
       "Toyota Corolla      33.9 4    71.1  65 4.22 1.835 19.90 1  1  4    1   \n",
       "Toyota Corona       21.5 4   120.1  97 3.70 2.465 20.01 1  0  3    1   \n",
       "Dodge Challenger    15.5 8   318.0 150 2.76 3.520 16.87 0  0  3    2   \n",
       "AMC Javelin         15.2 8   304.0 150 3.15 3.435 17.30 0  0  3    2   \n",
       "Camaro Z28          13.3 8   350.0 245 3.73 3.840 15.41 0  0  3    4   \n",
       "Pontiac Firebird    19.2 8   400.0 175 3.08 3.845 17.05 0  0  3    2   \n",
       "Fiat X1-9           27.3 4    79.0  66 4.08 1.935 18.90 1  1  4    1   \n",
       "Porsche 914-2       26.0 4   120.3  91 4.43 2.140 16.70 0  1  5    2   \n",
       "Lotus Europa        30.4 4    95.1 113 3.77 1.513 16.90 1  1  5    2   \n",
       "Ford Pantera L      15.8 8   351.0 264 4.22 3.170 14.50 0  1  5    4   \n",
       "Ferrari Dino        19.7 6   145.0 175 3.62 2.770 15.50 0  1  5    6   \n",
       "Maserati Bora       15.0 8   301.0 335 3.54 3.570 14.60 0  1  5    8   \n",
       "Volvo 142E          21.4 4   121.0 109 4.11 2.780 18.60 1  1  4    2   "
      ]
     },
     "metadata": {},
     "output_type": "display_data"
    }
   ],
   "source": [
    "mtcars"
   ]
  },
  {
   "cell_type": "code",
   "execution_count": 31,
   "id": "ab896360",
   "metadata": {
    "vscode": {
     "languageId": "r"
    }
   },
   "outputs": [
    {
     "data": {
      "text/html": [
       "<style>\n",
       ".list-inline {list-style: none; margin:0; padding: 0}\n",
       ".list-inline>li {display: inline-block}\n",
       ".list-inline>li:not(:last-child)::after {content: \"\\00b7\"; padding: 0 .5ex}\n",
       "</style>\n",
       "<ol class=list-inline><li>'Mazda RX4'</li><li>'Mazda RX4 Wag'</li><li>'Datsun 710'</li><li>'Hornet 4 Drive'</li><li>'Hornet Sportabout'</li><li>'Valiant'</li><li>'Duster 360'</li><li>'Merc 240D'</li><li>'Merc 230'</li><li>'Merc 280'</li><li>'Merc 280C'</li><li>'Merc 450SE'</li><li>'Merc 450SL'</li><li>'Merc 450SLC'</li><li>'Cadillac Fleetwood'</li><li>'Lincoln Continental'</li><li>'Chrysler Imperial'</li><li>'Fiat 128'</li><li>'Honda Civic'</li><li>'Toyota Corolla'</li><li>'Toyota Corona'</li><li>'Dodge Challenger'</li><li>'AMC Javelin'</li><li>'Camaro Z28'</li><li>'Pontiac Firebird'</li><li>'Fiat X1-9'</li><li>'Porsche 914-2'</li><li>'Lotus Europa'</li><li>'Ford Pantera L'</li><li>'Ferrari Dino'</li><li>'Maserati Bora'</li><li>'Volvo 142E'</li></ol>\n"
      ],
      "text/latex": [
       "\\begin{enumerate*}\n",
       "\\item 'Mazda RX4'\n",
       "\\item 'Mazda RX4 Wag'\n",
       "\\item 'Datsun 710'\n",
       "\\item 'Hornet 4 Drive'\n",
       "\\item 'Hornet Sportabout'\n",
       "\\item 'Valiant'\n",
       "\\item 'Duster 360'\n",
       "\\item 'Merc 240D'\n",
       "\\item 'Merc 230'\n",
       "\\item 'Merc 280'\n",
       "\\item 'Merc 280C'\n",
       "\\item 'Merc 450SE'\n",
       "\\item 'Merc 450SL'\n",
       "\\item 'Merc 450SLC'\n",
       "\\item 'Cadillac Fleetwood'\n",
       "\\item 'Lincoln Continental'\n",
       "\\item 'Chrysler Imperial'\n",
       "\\item 'Fiat 128'\n",
       "\\item 'Honda Civic'\n",
       "\\item 'Toyota Corolla'\n",
       "\\item 'Toyota Corona'\n",
       "\\item 'Dodge Challenger'\n",
       "\\item 'AMC Javelin'\n",
       "\\item 'Camaro Z28'\n",
       "\\item 'Pontiac Firebird'\n",
       "\\item 'Fiat X1-9'\n",
       "\\item 'Porsche 914-2'\n",
       "\\item 'Lotus Europa'\n",
       "\\item 'Ford Pantera L'\n",
       "\\item 'Ferrari Dino'\n",
       "\\item 'Maserati Bora'\n",
       "\\item 'Volvo 142E'\n",
       "\\end{enumerate*}\n"
      ],
      "text/markdown": [
       "1. 'Mazda RX4'\n",
       "2. 'Mazda RX4 Wag'\n",
       "3. 'Datsun 710'\n",
       "4. 'Hornet 4 Drive'\n",
       "5. 'Hornet Sportabout'\n",
       "6. 'Valiant'\n",
       "7. 'Duster 360'\n",
       "8. 'Merc 240D'\n",
       "9. 'Merc 230'\n",
       "10. 'Merc 280'\n",
       "11. 'Merc 280C'\n",
       "12. 'Merc 450SE'\n",
       "13. 'Merc 450SL'\n",
       "14. 'Merc 450SLC'\n",
       "15. 'Cadillac Fleetwood'\n",
       "16. 'Lincoln Continental'\n",
       "17. 'Chrysler Imperial'\n",
       "18. 'Fiat 128'\n",
       "19. 'Honda Civic'\n",
       "20. 'Toyota Corolla'\n",
       "21. 'Toyota Corona'\n",
       "22. 'Dodge Challenger'\n",
       "23. 'AMC Javelin'\n",
       "24. 'Camaro Z28'\n",
       "25. 'Pontiac Firebird'\n",
       "26. 'Fiat X1-9'\n",
       "27. 'Porsche 914-2'\n",
       "28. 'Lotus Europa'\n",
       "29. 'Ford Pantera L'\n",
       "30. 'Ferrari Dino'\n",
       "31. 'Maserati Bora'\n",
       "32. 'Volvo 142E'\n",
       "\n",
       "\n"
      ],
      "text/plain": [
       " [1] \"Mazda RX4\"           \"Mazda RX4 Wag\"       \"Datsun 710\"         \n",
       " [4] \"Hornet 4 Drive\"      \"Hornet Sportabout\"   \"Valiant\"            \n",
       " [7] \"Duster 360\"          \"Merc 240D\"           \"Merc 230\"           \n",
       "[10] \"Merc 280\"            \"Merc 280C\"           \"Merc 450SE\"         \n",
       "[13] \"Merc 450SL\"          \"Merc 450SLC\"         \"Cadillac Fleetwood\" \n",
       "[16] \"Lincoln Continental\" \"Chrysler Imperial\"   \"Fiat 128\"           \n",
       "[19] \"Honda Civic\"         \"Toyota Corolla\"      \"Toyota Corona\"      \n",
       "[22] \"Dodge Challenger\"    \"AMC Javelin\"         \"Camaro Z28\"         \n",
       "[25] \"Pontiac Firebird\"    \"Fiat X1-9\"           \"Porsche 914-2\"      \n",
       "[28] \"Lotus Europa\"        \"Ford Pantera L\"      \"Ferrari Dino\"       \n",
       "[31] \"Maserati Bora\"       \"Volvo 142E\"         "
      ]
     },
     "metadata": {},
     "output_type": "display_data"
    }
   ],
   "source": [
    "row.names(mtcars)"
   ]
  },
  {
   "cell_type": "code",
   "execution_count": 61,
   "id": "afcb87e3",
   "metadata": {
    "vscode": {
     "languageId": "r"
    }
   },
   "outputs": [
    {
     "data": {
      "text/html": [
       "<table class=\"dataframe\">\n",
       "<caption>A data.frame: 6 × 11</caption>\n",
       "<thead>\n",
       "\t<tr><th scope=col>mpg</th><th scope=col>cyl</th><th scope=col>disp</th><th scope=col>hp</th><th scope=col>drat</th><th scope=col>wt</th><th scope=col>qsec</th><th scope=col>vs</th><th scope=col>am</th><th scope=col>gear</th><th scope=col>carb</th></tr>\n",
       "\t<tr><th scope=col>&lt;dbl&gt;</th><th scope=col>&lt;dbl&gt;</th><th scope=col>&lt;dbl&gt;</th><th scope=col>&lt;dbl&gt;</th><th scope=col>&lt;dbl&gt;</th><th scope=col>&lt;dbl&gt;</th><th scope=col>&lt;dbl&gt;</th><th scope=col>&lt;dbl&gt;</th><th scope=col>&lt;dbl&gt;</th><th scope=col>&lt;dbl&gt;</th><th scope=col>&lt;dbl&gt;</th></tr>\n",
       "</thead>\n",
       "<tbody>\n",
       "\t<tr><td>21.0</td><td>6</td><td>160</td><td>110</td><td>3.90</td><td>2.620</td><td>16.46</td><td>0</td><td>1</td><td>4</td><td>4</td></tr>\n",
       "\t<tr><td>21.0</td><td>6</td><td>160</td><td>110</td><td>3.90</td><td>2.875</td><td>17.02</td><td>0</td><td>1</td><td>4</td><td>4</td></tr>\n",
       "\t<tr><td>22.8</td><td>4</td><td>108</td><td> 93</td><td>3.85</td><td>2.320</td><td>18.61</td><td>1</td><td>1</td><td>4</td><td>1</td></tr>\n",
       "\t<tr><td>21.4</td><td>6</td><td>258</td><td>110</td><td>3.08</td><td>3.215</td><td>19.44</td><td>1</td><td>0</td><td>3</td><td>1</td></tr>\n",
       "\t<tr><td>18.7</td><td>8</td><td>360</td><td>175</td><td>3.15</td><td>3.440</td><td>17.02</td><td>0</td><td>0</td><td>3</td><td>2</td></tr>\n",
       "\t<tr><td>18.1</td><td>6</td><td>225</td><td>105</td><td>2.76</td><td>3.460</td><td>20.22</td><td>1</td><td>0</td><td>3</td><td>1</td></tr>\n",
       "</tbody>\n",
       "</table>\n"
      ],
      "text/latex": [
       "A data.frame: 6 × 11\n",
       "\\begin{tabular}{lllllllllll}\n",
       " mpg & cyl & disp & hp & drat & wt & qsec & vs & am & gear & carb\\\\\n",
       " <dbl> & <dbl> & <dbl> & <dbl> & <dbl> & <dbl> & <dbl> & <dbl> & <dbl> & <dbl> & <dbl>\\\\\n",
       "\\hline\n",
       "\t 21.0 & 6 & 160 & 110 & 3.90 & 2.620 & 16.46 & 0 & 1 & 4 & 4\\\\\n",
       "\t 21.0 & 6 & 160 & 110 & 3.90 & 2.875 & 17.02 & 0 & 1 & 4 & 4\\\\\n",
       "\t 22.8 & 4 & 108 &  93 & 3.85 & 2.320 & 18.61 & 1 & 1 & 4 & 1\\\\\n",
       "\t 21.4 & 6 & 258 & 110 & 3.08 & 3.215 & 19.44 & 1 & 0 & 3 & 1\\\\\n",
       "\t 18.7 & 8 & 360 & 175 & 3.15 & 3.440 & 17.02 & 0 & 0 & 3 & 2\\\\\n",
       "\t 18.1 & 6 & 225 & 105 & 2.76 & 3.460 & 20.22 & 1 & 0 & 3 & 1\\\\\n",
       "\\end{tabular}\n"
      ],
      "text/markdown": [
       "\n",
       "A data.frame: 6 × 11\n",
       "\n",
       "| mpg &lt;dbl&gt; | cyl &lt;dbl&gt; | disp &lt;dbl&gt; | hp &lt;dbl&gt; | drat &lt;dbl&gt; | wt &lt;dbl&gt; | qsec &lt;dbl&gt; | vs &lt;dbl&gt; | am &lt;dbl&gt; | gear &lt;dbl&gt; | carb &lt;dbl&gt; |\n",
       "|---|---|---|---|---|---|---|---|---|---|---|\n",
       "| 21.0 | 6 | 160 | 110 | 3.90 | 2.620 | 16.46 | 0 | 1 | 4 | 4 |\n",
       "| 21.0 | 6 | 160 | 110 | 3.90 | 2.875 | 17.02 | 0 | 1 | 4 | 4 |\n",
       "| 22.8 | 4 | 108 |  93 | 3.85 | 2.320 | 18.61 | 1 | 1 | 4 | 1 |\n",
       "| 21.4 | 6 | 258 | 110 | 3.08 | 3.215 | 19.44 | 1 | 0 | 3 | 1 |\n",
       "| 18.7 | 8 | 360 | 175 | 3.15 | 3.440 | 17.02 | 0 | 0 | 3 | 2 |\n",
       "| 18.1 | 6 | 225 | 105 | 2.76 | 3.460 | 20.22 | 1 | 0 | 3 | 1 |\n",
       "\n"
      ],
      "text/plain": [
       "  mpg  cyl disp hp  drat wt    qsec  vs am gear carb\n",
       "1 21.0 6   160  110 3.90 2.620 16.46 0  1  4    4   \n",
       "2 21.0 6   160  110 3.90 2.875 17.02 0  1  4    4   \n",
       "3 22.8 4   108   93 3.85 2.320 18.61 1  1  4    1   \n",
       "4 21.4 6   258  110 3.08 3.215 19.44 1  0  3    1   \n",
       "5 18.7 8   360  175 3.15 3.440 17.02 0  0  3    2   \n",
       "6 18.1 6   225  105 2.76 3.460 20.22 1  0  3    1   "
      ]
     },
     "metadata": {},
     "output_type": "display_data"
    },
    {
     "data": {
      "text/html": [
       "<table class=\"dataframe\">\n",
       "<caption>A data.frame: 6 × 11</caption>\n",
       "<thead>\n",
       "\t<tr><th></th><th scope=col>mpg</th><th scope=col>cyl</th><th scope=col>disp</th><th scope=col>hp</th><th scope=col>drat</th><th scope=col>wt</th><th scope=col>qsec</th><th scope=col>vs</th><th scope=col>am</th><th scope=col>gear</th><th scope=col>carb</th></tr>\n",
       "\t<tr><th></th><th scope=col>&lt;dbl&gt;</th><th scope=col>&lt;dbl&gt;</th><th scope=col>&lt;dbl&gt;</th><th scope=col>&lt;dbl&gt;</th><th scope=col>&lt;dbl&gt;</th><th scope=col>&lt;dbl&gt;</th><th scope=col>&lt;dbl&gt;</th><th scope=col>&lt;dbl&gt;</th><th scope=col>&lt;dbl&gt;</th><th scope=col>&lt;dbl&gt;</th><th scope=col>&lt;dbl&gt;</th></tr>\n",
       "</thead>\n",
       "<tbody>\n",
       "\t<tr><th scope=row>Mazda RX4</th><td>21.0</td><td>6</td><td>160</td><td>110</td><td>3.90</td><td>2.620</td><td>16.46</td><td>0</td><td>1</td><td>4</td><td>4</td></tr>\n",
       "\t<tr><th scope=row>Mazda RX4 Wag</th><td>21.0</td><td>6</td><td>160</td><td>110</td><td>3.90</td><td>2.875</td><td>17.02</td><td>0</td><td>1</td><td>4</td><td>4</td></tr>\n",
       "\t<tr><th scope=row>Datsun 710</th><td>22.8</td><td>4</td><td>108</td><td> 93</td><td>3.85</td><td>2.320</td><td>18.61</td><td>1</td><td>1</td><td>4</td><td>1</td></tr>\n",
       "\t<tr><th scope=row>Hornet 4 Drive</th><td>21.4</td><td>6</td><td>258</td><td>110</td><td>3.08</td><td>3.215</td><td>19.44</td><td>1</td><td>0</td><td>3</td><td>1</td></tr>\n",
       "\t<tr><th scope=row>Hornet Sportabout</th><td>18.7</td><td>8</td><td>360</td><td>175</td><td>3.15</td><td>3.440</td><td>17.02</td><td>0</td><td>0</td><td>3</td><td>2</td></tr>\n",
       "\t<tr><th scope=row>Valiant</th><td>18.1</td><td>6</td><td>225</td><td>105</td><td>2.76</td><td>3.460</td><td>20.22</td><td>1</td><td>0</td><td>3</td><td>1</td></tr>\n",
       "</tbody>\n",
       "</table>\n"
      ],
      "text/latex": [
       "A data.frame: 6 × 11\n",
       "\\begin{tabular}{r|lllllllllll}\n",
       "  & mpg & cyl & disp & hp & drat & wt & qsec & vs & am & gear & carb\\\\\n",
       "  & <dbl> & <dbl> & <dbl> & <dbl> & <dbl> & <dbl> & <dbl> & <dbl> & <dbl> & <dbl> & <dbl>\\\\\n",
       "\\hline\n",
       "\tMazda RX4 & 21.0 & 6 & 160 & 110 & 3.90 & 2.620 & 16.46 & 0 & 1 & 4 & 4\\\\\n",
       "\tMazda RX4 Wag & 21.0 & 6 & 160 & 110 & 3.90 & 2.875 & 17.02 & 0 & 1 & 4 & 4\\\\\n",
       "\tDatsun 710 & 22.8 & 4 & 108 &  93 & 3.85 & 2.320 & 18.61 & 1 & 1 & 4 & 1\\\\\n",
       "\tHornet 4 Drive & 21.4 & 6 & 258 & 110 & 3.08 & 3.215 & 19.44 & 1 & 0 & 3 & 1\\\\\n",
       "\tHornet Sportabout & 18.7 & 8 & 360 & 175 & 3.15 & 3.440 & 17.02 & 0 & 0 & 3 & 2\\\\\n",
       "\tValiant & 18.1 & 6 & 225 & 105 & 2.76 & 3.460 & 20.22 & 1 & 0 & 3 & 1\\\\\n",
       "\\end{tabular}\n"
      ],
      "text/markdown": [
       "\n",
       "A data.frame: 6 × 11\n",
       "\n",
       "| <!--/--> | mpg &lt;dbl&gt; | cyl &lt;dbl&gt; | disp &lt;dbl&gt; | hp &lt;dbl&gt; | drat &lt;dbl&gt; | wt &lt;dbl&gt; | qsec &lt;dbl&gt; | vs &lt;dbl&gt; | am &lt;dbl&gt; | gear &lt;dbl&gt; | carb &lt;dbl&gt; |\n",
       "|---|---|---|---|---|---|---|---|---|---|---|---|\n",
       "| Mazda RX4 | 21.0 | 6 | 160 | 110 | 3.90 | 2.620 | 16.46 | 0 | 1 | 4 | 4 |\n",
       "| Mazda RX4 Wag | 21.0 | 6 | 160 | 110 | 3.90 | 2.875 | 17.02 | 0 | 1 | 4 | 4 |\n",
       "| Datsun 710 | 22.8 | 4 | 108 |  93 | 3.85 | 2.320 | 18.61 | 1 | 1 | 4 | 1 |\n",
       "| Hornet 4 Drive | 21.4 | 6 | 258 | 110 | 3.08 | 3.215 | 19.44 | 1 | 0 | 3 | 1 |\n",
       "| Hornet Sportabout | 18.7 | 8 | 360 | 175 | 3.15 | 3.440 | 17.02 | 0 | 0 | 3 | 2 |\n",
       "| Valiant | 18.1 | 6 | 225 | 105 | 2.76 | 3.460 | 20.22 | 1 | 0 | 3 | 1 |\n",
       "\n"
      ],
      "text/plain": [
       "                  mpg  cyl disp hp  drat wt    qsec  vs am gear carb\n",
       "Mazda RX4         21.0 6   160  110 3.90 2.620 16.46 0  1  4    4   \n",
       "Mazda RX4 Wag     21.0 6   160  110 3.90 2.875 17.02 0  1  4    4   \n",
       "Datsun 710        22.8 4   108   93 3.85 2.320 18.61 1  1  4    1   \n",
       "Hornet 4 Drive    21.4 6   258  110 3.08 3.215 19.44 1  0  3    1   \n",
       "Hornet Sportabout 18.7 8   360  175 3.15 3.440 17.02 0  0  3    2   \n",
       "Valiant           18.1 6   225  105 2.76 3.460 20.22 1  0  3    1   "
      ]
     },
     "metadata": {},
     "output_type": "display_data"
    }
   ],
   "source": [
    "sqldf(\"select * from mtcars limit 6;\") # row.names = TRUE\n",
    "head(mtcars, 6) "
   ]
  },
  {
   "cell_type": "code",
   "execution_count": 57,
   "id": "48487702",
   "metadata": {
    "vscode": {
     "languageId": "r"
    }
   },
   "outputs": [
    {
     "data": {
      "text/html": [
       "<table class=\"dataframe\">\n",
       "<caption>A data.frame: 19 × 11</caption>\n",
       "<thead>\n",
       "\t<tr><th></th><th scope=col>mpg</th><th scope=col>cyl</th><th scope=col>disp</th><th scope=col>hp</th><th scope=col>drat</th><th scope=col>wt</th><th scope=col>qsec</th><th scope=col>vs</th><th scope=col>am</th><th scope=col>gear</th><th scope=col>carb</th></tr>\n",
       "\t<tr><th></th><th scope=col>&lt;dbl&gt;</th><th scope=col>&lt;dbl&gt;</th><th scope=col>&lt;dbl&gt;</th><th scope=col>&lt;dbl&gt;</th><th scope=col>&lt;dbl&gt;</th><th scope=col>&lt;dbl&gt;</th><th scope=col>&lt;dbl&gt;</th><th scope=col>&lt;dbl&gt;</th><th scope=col>&lt;dbl&gt;</th><th scope=col>&lt;dbl&gt;</th><th scope=col>&lt;dbl&gt;</th></tr>\n",
       "</thead>\n",
       "<tbody>\n",
       "\t<tr><th scope=row>Hornet 4 Drive</th><td>21.4</td><td>6</td><td>258.0</td><td>110</td><td>3.08</td><td>3.215</td><td>19.44</td><td>1</td><td>0</td><td>3</td><td>1</td></tr>\n",
       "\t<tr><th scope=row>Hornet Sportabout</th><td>18.7</td><td>8</td><td>360.0</td><td>175</td><td>3.15</td><td>3.440</td><td>17.02</td><td>0</td><td>0</td><td>3</td><td>2</td></tr>\n",
       "\t<tr><th scope=row>Valiant</th><td>18.1</td><td>6</td><td>225.0</td><td>105</td><td>2.76</td><td>3.460</td><td>20.22</td><td>1</td><td>0</td><td>3</td><td>1</td></tr>\n",
       "\t<tr><th scope=row>Duster 360</th><td>14.3</td><td>8</td><td>360.0</td><td>245</td><td>3.21</td><td>3.570</td><td>15.84</td><td>0</td><td>0</td><td>3</td><td>4</td></tr>\n",
       "\t<tr><th scope=row>Merc 240D</th><td>24.4</td><td>4</td><td>146.7</td><td> 62</td><td>3.69</td><td>3.190</td><td>20.00</td><td>1</td><td>0</td><td>4</td><td>2</td></tr>\n",
       "\t<tr><th scope=row>Merc 230</th><td>22.8</td><td>4</td><td>140.8</td><td> 95</td><td>3.92</td><td>3.150</td><td>22.90</td><td>1</td><td>0</td><td>4</td><td>2</td></tr>\n",
       "\t<tr><th scope=row>Merc 280</th><td>19.2</td><td>6</td><td>167.6</td><td>123</td><td>3.92</td><td>3.440</td><td>18.30</td><td>1</td><td>0</td><td>4</td><td>4</td></tr>\n",
       "\t<tr><th scope=row>Merc 280C</th><td>17.8</td><td>6</td><td>167.6</td><td>123</td><td>3.92</td><td>3.440</td><td>18.90</td><td>1</td><td>0</td><td>4</td><td>4</td></tr>\n",
       "\t<tr><th scope=row>Merc 450SE</th><td>16.4</td><td>8</td><td>275.8</td><td>180</td><td>3.07</td><td>4.070</td><td>17.40</td><td>0</td><td>0</td><td>3</td><td>3</td></tr>\n",
       "\t<tr><th scope=row>Merc 450SL</th><td>17.3</td><td>8</td><td>275.8</td><td>180</td><td>3.07</td><td>3.730</td><td>17.60</td><td>0</td><td>0</td><td>3</td><td>3</td></tr>\n",
       "\t<tr><th scope=row>Merc 450SLC</th><td>15.2</td><td>8</td><td>275.8</td><td>180</td><td>3.07</td><td>3.780</td><td>18.00</td><td>0</td><td>0</td><td>3</td><td>3</td></tr>\n",
       "\t<tr><th scope=row>Cadillac Fleetwood</th><td>10.4</td><td>8</td><td>472.0</td><td>205</td><td>2.93</td><td>5.250</td><td>17.98</td><td>0</td><td>0</td><td>3</td><td>4</td></tr>\n",
       "\t<tr><th scope=row>Lincoln Continental</th><td>10.4</td><td>8</td><td>460.0</td><td>215</td><td>3.00</td><td>5.424</td><td>17.82</td><td>0</td><td>0</td><td>3</td><td>4</td></tr>\n",
       "\t<tr><th scope=row>Chrysler Imperial</th><td>14.7</td><td>8</td><td>440.0</td><td>230</td><td>3.23</td><td>5.345</td><td>17.42</td><td>0</td><td>0</td><td>3</td><td>4</td></tr>\n",
       "\t<tr><th scope=row>Toyota Corona</th><td>21.5</td><td>4</td><td>120.1</td><td> 97</td><td>3.70</td><td>2.465</td><td>20.01</td><td>1</td><td>0</td><td>3</td><td>1</td></tr>\n",
       "\t<tr><th scope=row>Dodge Challenger</th><td>15.5</td><td>8</td><td>318.0</td><td>150</td><td>2.76</td><td>3.520</td><td>16.87</td><td>0</td><td>0</td><td>3</td><td>2</td></tr>\n",
       "\t<tr><th scope=row>AMC Javelin</th><td>15.2</td><td>8</td><td>304.0</td><td>150</td><td>3.15</td><td>3.435</td><td>17.30</td><td>0</td><td>0</td><td>3</td><td>2</td></tr>\n",
       "\t<tr><th scope=row>Camaro Z28</th><td>13.3</td><td>8</td><td>350.0</td><td>245</td><td>3.73</td><td>3.840</td><td>15.41</td><td>0</td><td>0</td><td>3</td><td>4</td></tr>\n",
       "\t<tr><th scope=row>Pontiac Firebird</th><td>19.2</td><td>8</td><td>400.0</td><td>175</td><td>3.08</td><td>3.845</td><td>17.05</td><td>0</td><td>0</td><td>3</td><td>2</td></tr>\n",
       "</tbody>\n",
       "</table>\n"
      ],
      "text/latex": [
       "A data.frame: 19 × 11\n",
       "\\begin{tabular}{r|lllllllllll}\n",
       "  & mpg & cyl & disp & hp & drat & wt & qsec & vs & am & gear & carb\\\\\n",
       "  & <dbl> & <dbl> & <dbl> & <dbl> & <dbl> & <dbl> & <dbl> & <dbl> & <dbl> & <dbl> & <dbl>\\\\\n",
       "\\hline\n",
       "\tHornet 4 Drive & 21.4 & 6 & 258.0 & 110 & 3.08 & 3.215 & 19.44 & 1 & 0 & 3 & 1\\\\\n",
       "\tHornet Sportabout & 18.7 & 8 & 360.0 & 175 & 3.15 & 3.440 & 17.02 & 0 & 0 & 3 & 2\\\\\n",
       "\tValiant & 18.1 & 6 & 225.0 & 105 & 2.76 & 3.460 & 20.22 & 1 & 0 & 3 & 1\\\\\n",
       "\tDuster 360 & 14.3 & 8 & 360.0 & 245 & 3.21 & 3.570 & 15.84 & 0 & 0 & 3 & 4\\\\\n",
       "\tMerc 240D & 24.4 & 4 & 146.7 &  62 & 3.69 & 3.190 & 20.00 & 1 & 0 & 4 & 2\\\\\n",
       "\tMerc 230 & 22.8 & 4 & 140.8 &  95 & 3.92 & 3.150 & 22.90 & 1 & 0 & 4 & 2\\\\\n",
       "\tMerc 280 & 19.2 & 6 & 167.6 & 123 & 3.92 & 3.440 & 18.30 & 1 & 0 & 4 & 4\\\\\n",
       "\tMerc 280C & 17.8 & 6 & 167.6 & 123 & 3.92 & 3.440 & 18.90 & 1 & 0 & 4 & 4\\\\\n",
       "\tMerc 450SE & 16.4 & 8 & 275.8 & 180 & 3.07 & 4.070 & 17.40 & 0 & 0 & 3 & 3\\\\\n",
       "\tMerc 450SL & 17.3 & 8 & 275.8 & 180 & 3.07 & 3.730 & 17.60 & 0 & 0 & 3 & 3\\\\\n",
       "\tMerc 450SLC & 15.2 & 8 & 275.8 & 180 & 3.07 & 3.780 & 18.00 & 0 & 0 & 3 & 3\\\\\n",
       "\tCadillac Fleetwood & 10.4 & 8 & 472.0 & 205 & 2.93 & 5.250 & 17.98 & 0 & 0 & 3 & 4\\\\\n",
       "\tLincoln Continental & 10.4 & 8 & 460.0 & 215 & 3.00 & 5.424 & 17.82 & 0 & 0 & 3 & 4\\\\\n",
       "\tChrysler Imperial & 14.7 & 8 & 440.0 & 230 & 3.23 & 5.345 & 17.42 & 0 & 0 & 3 & 4\\\\\n",
       "\tToyota Corona & 21.5 & 4 & 120.1 &  97 & 3.70 & 2.465 & 20.01 & 1 & 0 & 3 & 1\\\\\n",
       "\tDodge Challenger & 15.5 & 8 & 318.0 & 150 & 2.76 & 3.520 & 16.87 & 0 & 0 & 3 & 2\\\\\n",
       "\tAMC Javelin & 15.2 & 8 & 304.0 & 150 & 3.15 & 3.435 & 17.30 & 0 & 0 & 3 & 2\\\\\n",
       "\tCamaro Z28 & 13.3 & 8 & 350.0 & 245 & 3.73 & 3.840 & 15.41 & 0 & 0 & 3 & 4\\\\\n",
       "\tPontiac Firebird & 19.2 & 8 & 400.0 & 175 & 3.08 & 3.845 & 17.05 & 0 & 0 & 3 & 2\\\\\n",
       "\\end{tabular}\n"
      ],
      "text/markdown": [
       "\n",
       "A data.frame: 19 × 11\n",
       "\n",
       "| <!--/--> | mpg &lt;dbl&gt; | cyl &lt;dbl&gt; | disp &lt;dbl&gt; | hp &lt;dbl&gt; | drat &lt;dbl&gt; | wt &lt;dbl&gt; | qsec &lt;dbl&gt; | vs &lt;dbl&gt; | am &lt;dbl&gt; | gear &lt;dbl&gt; | carb &lt;dbl&gt; |\n",
       "|---|---|---|---|---|---|---|---|---|---|---|---|\n",
       "| Hornet 4 Drive | 21.4 | 6 | 258.0 | 110 | 3.08 | 3.215 | 19.44 | 1 | 0 | 3 | 1 |\n",
       "| Hornet Sportabout | 18.7 | 8 | 360.0 | 175 | 3.15 | 3.440 | 17.02 | 0 | 0 | 3 | 2 |\n",
       "| Valiant | 18.1 | 6 | 225.0 | 105 | 2.76 | 3.460 | 20.22 | 1 | 0 | 3 | 1 |\n",
       "| Duster 360 | 14.3 | 8 | 360.0 | 245 | 3.21 | 3.570 | 15.84 | 0 | 0 | 3 | 4 |\n",
       "| Merc 240D | 24.4 | 4 | 146.7 |  62 | 3.69 | 3.190 | 20.00 | 1 | 0 | 4 | 2 |\n",
       "| Merc 230 | 22.8 | 4 | 140.8 |  95 | 3.92 | 3.150 | 22.90 | 1 | 0 | 4 | 2 |\n",
       "| Merc 280 | 19.2 | 6 | 167.6 | 123 | 3.92 | 3.440 | 18.30 | 1 | 0 | 4 | 4 |\n",
       "| Merc 280C | 17.8 | 6 | 167.6 | 123 | 3.92 | 3.440 | 18.90 | 1 | 0 | 4 | 4 |\n",
       "| Merc 450SE | 16.4 | 8 | 275.8 | 180 | 3.07 | 4.070 | 17.40 | 0 | 0 | 3 | 3 |\n",
       "| Merc 450SL | 17.3 | 8 | 275.8 | 180 | 3.07 | 3.730 | 17.60 | 0 | 0 | 3 | 3 |\n",
       "| Merc 450SLC | 15.2 | 8 | 275.8 | 180 | 3.07 | 3.780 | 18.00 | 0 | 0 | 3 | 3 |\n",
       "| Cadillac Fleetwood | 10.4 | 8 | 472.0 | 205 | 2.93 | 5.250 | 17.98 | 0 | 0 | 3 | 4 |\n",
       "| Lincoln Continental | 10.4 | 8 | 460.0 | 215 | 3.00 | 5.424 | 17.82 | 0 | 0 | 3 | 4 |\n",
       "| Chrysler Imperial | 14.7 | 8 | 440.0 | 230 | 3.23 | 5.345 | 17.42 | 0 | 0 | 3 | 4 |\n",
       "| Toyota Corona | 21.5 | 4 | 120.1 |  97 | 3.70 | 2.465 | 20.01 | 1 | 0 | 3 | 1 |\n",
       "| Dodge Challenger | 15.5 | 8 | 318.0 | 150 | 2.76 | 3.520 | 16.87 | 0 | 0 | 3 | 2 |\n",
       "| AMC Javelin | 15.2 | 8 | 304.0 | 150 | 3.15 | 3.435 | 17.30 | 0 | 0 | 3 | 2 |\n",
       "| Camaro Z28 | 13.3 | 8 | 350.0 | 245 | 3.73 | 3.840 | 15.41 | 0 | 0 | 3 | 4 |\n",
       "| Pontiac Firebird | 19.2 | 8 | 400.0 | 175 | 3.08 | 3.845 | 17.05 | 0 | 0 | 3 | 2 |\n",
       "\n"
      ],
      "text/plain": [
       "                    mpg  cyl disp  hp  drat wt    qsec  vs am gear carb\n",
       "Hornet 4 Drive      21.4 6   258.0 110 3.08 3.215 19.44 1  0  3    1   \n",
       "Hornet Sportabout   18.7 8   360.0 175 3.15 3.440 17.02 0  0  3    2   \n",
       "Valiant             18.1 6   225.0 105 2.76 3.460 20.22 1  0  3    1   \n",
       "Duster 360          14.3 8   360.0 245 3.21 3.570 15.84 0  0  3    4   \n",
       "Merc 240D           24.4 4   146.7  62 3.69 3.190 20.00 1  0  4    2   \n",
       "Merc 230            22.8 4   140.8  95 3.92 3.150 22.90 1  0  4    2   \n",
       "Merc 280            19.2 6   167.6 123 3.92 3.440 18.30 1  0  4    4   \n",
       "Merc 280C           17.8 6   167.6 123 3.92 3.440 18.90 1  0  4    4   \n",
       "Merc 450SE          16.4 8   275.8 180 3.07 4.070 17.40 0  0  3    3   \n",
       "Merc 450SL          17.3 8   275.8 180 3.07 3.730 17.60 0  0  3    3   \n",
       "Merc 450SLC         15.2 8   275.8 180 3.07 3.780 18.00 0  0  3    3   \n",
       "Cadillac Fleetwood  10.4 8   472.0 205 2.93 5.250 17.98 0  0  3    4   \n",
       "Lincoln Continental 10.4 8   460.0 215 3.00 5.424 17.82 0  0  3    4   \n",
       "Chrysler Imperial   14.7 8   440.0 230 3.23 5.345 17.42 0  0  3    4   \n",
       "Toyota Corona       21.5 4   120.1  97 3.70 2.465 20.01 1  0  3    1   \n",
       "Dodge Challenger    15.5 8   318.0 150 2.76 3.520 16.87 0  0  3    2   \n",
       "AMC Javelin         15.2 8   304.0 150 3.15 3.435 17.30 0  0  3    2   \n",
       "Camaro Z28          13.3 8   350.0 245 3.73 3.840 15.41 0  0  3    4   \n",
       "Pontiac Firebird    19.2 8   400.0 175 3.08 3.845 17.05 0  0  3    2   "
      ]
     },
     "metadata": {},
     "output_type": "display_data"
    },
    {
     "data": {
      "text/html": [
       "<table class=\"dataframe\">\n",
       "<caption>A data.frame: 19 × 11</caption>\n",
       "<thead>\n",
       "\t<tr><th scope=col>mpg</th><th scope=col>cyl</th><th scope=col>disp</th><th scope=col>hp</th><th scope=col>drat</th><th scope=col>wt</th><th scope=col>qsec</th><th scope=col>vs</th><th scope=col>am</th><th scope=col>gear</th><th scope=col>carb</th></tr>\n",
       "\t<tr><th scope=col>&lt;dbl&gt;</th><th scope=col>&lt;dbl&gt;</th><th scope=col>&lt;dbl&gt;</th><th scope=col>&lt;dbl&gt;</th><th scope=col>&lt;dbl&gt;</th><th scope=col>&lt;dbl&gt;</th><th scope=col>&lt;dbl&gt;</th><th scope=col>&lt;dbl&gt;</th><th scope=col>&lt;dbl&gt;</th><th scope=col>&lt;dbl&gt;</th><th scope=col>&lt;dbl&gt;</th></tr>\n",
       "</thead>\n",
       "<tbody>\n",
       "\t<tr><td>21.4</td><td>6</td><td>258.0</td><td>110</td><td>3.08</td><td>3.215</td><td>19.44</td><td>1</td><td>0</td><td>3</td><td>1</td></tr>\n",
       "\t<tr><td>18.7</td><td>8</td><td>360.0</td><td>175</td><td>3.15</td><td>3.440</td><td>17.02</td><td>0</td><td>0</td><td>3</td><td>2</td></tr>\n",
       "\t<tr><td>18.1</td><td>6</td><td>225.0</td><td>105</td><td>2.76</td><td>3.460</td><td>20.22</td><td>1</td><td>0</td><td>3</td><td>1</td></tr>\n",
       "\t<tr><td>14.3</td><td>8</td><td>360.0</td><td>245</td><td>3.21</td><td>3.570</td><td>15.84</td><td>0</td><td>0</td><td>3</td><td>4</td></tr>\n",
       "\t<tr><td>24.4</td><td>4</td><td>146.7</td><td> 62</td><td>3.69</td><td>3.190</td><td>20.00</td><td>1</td><td>0</td><td>4</td><td>2</td></tr>\n",
       "\t<tr><td>22.8</td><td>4</td><td>140.8</td><td> 95</td><td>3.92</td><td>3.150</td><td>22.90</td><td>1</td><td>0</td><td>4</td><td>2</td></tr>\n",
       "\t<tr><td>19.2</td><td>6</td><td>167.6</td><td>123</td><td>3.92</td><td>3.440</td><td>18.30</td><td>1</td><td>0</td><td>4</td><td>4</td></tr>\n",
       "\t<tr><td>17.8</td><td>6</td><td>167.6</td><td>123</td><td>3.92</td><td>3.440</td><td>18.90</td><td>1</td><td>0</td><td>4</td><td>4</td></tr>\n",
       "\t<tr><td>16.4</td><td>8</td><td>275.8</td><td>180</td><td>3.07</td><td>4.070</td><td>17.40</td><td>0</td><td>0</td><td>3</td><td>3</td></tr>\n",
       "\t<tr><td>17.3</td><td>8</td><td>275.8</td><td>180</td><td>3.07</td><td>3.730</td><td>17.60</td><td>0</td><td>0</td><td>3</td><td>3</td></tr>\n",
       "\t<tr><td>15.2</td><td>8</td><td>275.8</td><td>180</td><td>3.07</td><td>3.780</td><td>18.00</td><td>0</td><td>0</td><td>3</td><td>3</td></tr>\n",
       "\t<tr><td>10.4</td><td>8</td><td>472.0</td><td>205</td><td>2.93</td><td>5.250</td><td>17.98</td><td>0</td><td>0</td><td>3</td><td>4</td></tr>\n",
       "\t<tr><td>10.4</td><td>8</td><td>460.0</td><td>215</td><td>3.00</td><td>5.424</td><td>17.82</td><td>0</td><td>0</td><td>3</td><td>4</td></tr>\n",
       "\t<tr><td>14.7</td><td>8</td><td>440.0</td><td>230</td><td>3.23</td><td>5.345</td><td>17.42</td><td>0</td><td>0</td><td>3</td><td>4</td></tr>\n",
       "\t<tr><td>21.5</td><td>4</td><td>120.1</td><td> 97</td><td>3.70</td><td>2.465</td><td>20.01</td><td>1</td><td>0</td><td>3</td><td>1</td></tr>\n",
       "\t<tr><td>15.5</td><td>8</td><td>318.0</td><td>150</td><td>2.76</td><td>3.520</td><td>16.87</td><td>0</td><td>0</td><td>3</td><td>2</td></tr>\n",
       "\t<tr><td>15.2</td><td>8</td><td>304.0</td><td>150</td><td>3.15</td><td>3.435</td><td>17.30</td><td>0</td><td>0</td><td>3</td><td>2</td></tr>\n",
       "\t<tr><td>13.3</td><td>8</td><td>350.0</td><td>245</td><td>3.73</td><td>3.840</td><td>15.41</td><td>0</td><td>0</td><td>3</td><td>4</td></tr>\n",
       "\t<tr><td>19.2</td><td>8</td><td>400.0</td><td>175</td><td>3.08</td><td>3.845</td><td>17.05</td><td>0</td><td>0</td><td>3</td><td>2</td></tr>\n",
       "</tbody>\n",
       "</table>\n"
      ],
      "text/latex": [
       "A data.frame: 19 × 11\n",
       "\\begin{tabular}{lllllllllll}\n",
       " mpg & cyl & disp & hp & drat & wt & qsec & vs & am & gear & carb\\\\\n",
       " <dbl> & <dbl> & <dbl> & <dbl> & <dbl> & <dbl> & <dbl> & <dbl> & <dbl> & <dbl> & <dbl>\\\\\n",
       "\\hline\n",
       "\t 21.4 & 6 & 258.0 & 110 & 3.08 & 3.215 & 19.44 & 1 & 0 & 3 & 1\\\\\n",
       "\t 18.7 & 8 & 360.0 & 175 & 3.15 & 3.440 & 17.02 & 0 & 0 & 3 & 2\\\\\n",
       "\t 18.1 & 6 & 225.0 & 105 & 2.76 & 3.460 & 20.22 & 1 & 0 & 3 & 1\\\\\n",
       "\t 14.3 & 8 & 360.0 & 245 & 3.21 & 3.570 & 15.84 & 0 & 0 & 3 & 4\\\\\n",
       "\t 24.4 & 4 & 146.7 &  62 & 3.69 & 3.190 & 20.00 & 1 & 0 & 4 & 2\\\\\n",
       "\t 22.8 & 4 & 140.8 &  95 & 3.92 & 3.150 & 22.90 & 1 & 0 & 4 & 2\\\\\n",
       "\t 19.2 & 6 & 167.6 & 123 & 3.92 & 3.440 & 18.30 & 1 & 0 & 4 & 4\\\\\n",
       "\t 17.8 & 6 & 167.6 & 123 & 3.92 & 3.440 & 18.90 & 1 & 0 & 4 & 4\\\\\n",
       "\t 16.4 & 8 & 275.8 & 180 & 3.07 & 4.070 & 17.40 & 0 & 0 & 3 & 3\\\\\n",
       "\t 17.3 & 8 & 275.8 & 180 & 3.07 & 3.730 & 17.60 & 0 & 0 & 3 & 3\\\\\n",
       "\t 15.2 & 8 & 275.8 & 180 & 3.07 & 3.780 & 18.00 & 0 & 0 & 3 & 3\\\\\n",
       "\t 10.4 & 8 & 472.0 & 205 & 2.93 & 5.250 & 17.98 & 0 & 0 & 3 & 4\\\\\n",
       "\t 10.4 & 8 & 460.0 & 215 & 3.00 & 5.424 & 17.82 & 0 & 0 & 3 & 4\\\\\n",
       "\t 14.7 & 8 & 440.0 & 230 & 3.23 & 5.345 & 17.42 & 0 & 0 & 3 & 4\\\\\n",
       "\t 21.5 & 4 & 120.1 &  97 & 3.70 & 2.465 & 20.01 & 1 & 0 & 3 & 1\\\\\n",
       "\t 15.5 & 8 & 318.0 & 150 & 2.76 & 3.520 & 16.87 & 0 & 0 & 3 & 2\\\\\n",
       "\t 15.2 & 8 & 304.0 & 150 & 3.15 & 3.435 & 17.30 & 0 & 0 & 3 & 2\\\\\n",
       "\t 13.3 & 8 & 350.0 & 245 & 3.73 & 3.840 & 15.41 & 0 & 0 & 3 & 4\\\\\n",
       "\t 19.2 & 8 & 400.0 & 175 & 3.08 & 3.845 & 17.05 & 0 & 0 & 3 & 2\\\\\n",
       "\\end{tabular}\n"
      ],
      "text/markdown": [
       "\n",
       "A data.frame: 19 × 11\n",
       "\n",
       "| mpg &lt;dbl&gt; | cyl &lt;dbl&gt; | disp &lt;dbl&gt; | hp &lt;dbl&gt; | drat &lt;dbl&gt; | wt &lt;dbl&gt; | qsec &lt;dbl&gt; | vs &lt;dbl&gt; | am &lt;dbl&gt; | gear &lt;dbl&gt; | carb &lt;dbl&gt; |\n",
       "|---|---|---|---|---|---|---|---|---|---|---|\n",
       "| 21.4 | 6 | 258.0 | 110 | 3.08 | 3.215 | 19.44 | 1 | 0 | 3 | 1 |\n",
       "| 18.7 | 8 | 360.0 | 175 | 3.15 | 3.440 | 17.02 | 0 | 0 | 3 | 2 |\n",
       "| 18.1 | 6 | 225.0 | 105 | 2.76 | 3.460 | 20.22 | 1 | 0 | 3 | 1 |\n",
       "| 14.3 | 8 | 360.0 | 245 | 3.21 | 3.570 | 15.84 | 0 | 0 | 3 | 4 |\n",
       "| 24.4 | 4 | 146.7 |  62 | 3.69 | 3.190 | 20.00 | 1 | 0 | 4 | 2 |\n",
       "| 22.8 | 4 | 140.8 |  95 | 3.92 | 3.150 | 22.90 | 1 | 0 | 4 | 2 |\n",
       "| 19.2 | 6 | 167.6 | 123 | 3.92 | 3.440 | 18.30 | 1 | 0 | 4 | 4 |\n",
       "| 17.8 | 6 | 167.6 | 123 | 3.92 | 3.440 | 18.90 | 1 | 0 | 4 | 4 |\n",
       "| 16.4 | 8 | 275.8 | 180 | 3.07 | 4.070 | 17.40 | 0 | 0 | 3 | 3 |\n",
       "| 17.3 | 8 | 275.8 | 180 | 3.07 | 3.730 | 17.60 | 0 | 0 | 3 | 3 |\n",
       "| 15.2 | 8 | 275.8 | 180 | 3.07 | 3.780 | 18.00 | 0 | 0 | 3 | 3 |\n",
       "| 10.4 | 8 | 472.0 | 205 | 2.93 | 5.250 | 17.98 | 0 | 0 | 3 | 4 |\n",
       "| 10.4 | 8 | 460.0 | 215 | 3.00 | 5.424 | 17.82 | 0 | 0 | 3 | 4 |\n",
       "| 14.7 | 8 | 440.0 | 230 | 3.23 | 5.345 | 17.42 | 0 | 0 | 3 | 4 |\n",
       "| 21.5 | 4 | 120.1 |  97 | 3.70 | 2.465 | 20.01 | 1 | 0 | 3 | 1 |\n",
       "| 15.5 | 8 | 318.0 | 150 | 2.76 | 3.520 | 16.87 | 0 | 0 | 3 | 2 |\n",
       "| 15.2 | 8 | 304.0 | 150 | 3.15 | 3.435 | 17.30 | 0 | 0 | 3 | 2 |\n",
       "| 13.3 | 8 | 350.0 | 245 | 3.73 | 3.840 | 15.41 | 0 | 0 | 3 | 4 |\n",
       "| 19.2 | 8 | 400.0 | 175 | 3.08 | 3.845 | 17.05 | 0 | 0 | 3 | 2 |\n",
       "\n"
      ],
      "text/plain": [
       "   mpg  cyl disp  hp  drat wt    qsec  vs am gear carb\n",
       "1  21.4 6   258.0 110 3.08 3.215 19.44 1  0  3    1   \n",
       "2  18.7 8   360.0 175 3.15 3.440 17.02 0  0  3    2   \n",
       "3  18.1 6   225.0 105 2.76 3.460 20.22 1  0  3    1   \n",
       "4  14.3 8   360.0 245 3.21 3.570 15.84 0  0  3    4   \n",
       "5  24.4 4   146.7  62 3.69 3.190 20.00 1  0  4    2   \n",
       "6  22.8 4   140.8  95 3.92 3.150 22.90 1  0  4    2   \n",
       "7  19.2 6   167.6 123 3.92 3.440 18.30 1  0  4    4   \n",
       "8  17.8 6   167.6 123 3.92 3.440 18.90 1  0  4    4   \n",
       "9  16.4 8   275.8 180 3.07 4.070 17.40 0  0  3    3   \n",
       "10 17.3 8   275.8 180 3.07 3.730 17.60 0  0  3    3   \n",
       "11 15.2 8   275.8 180 3.07 3.780 18.00 0  0  3    3   \n",
       "12 10.4 8   472.0 205 2.93 5.250 17.98 0  0  3    4   \n",
       "13 10.4 8   460.0 215 3.00 5.424 17.82 0  0  3    4   \n",
       "14 14.7 8   440.0 230 3.23 5.345 17.42 0  0  3    4   \n",
       "15 21.5 4   120.1  97 3.70 2.465 20.01 1  0  3    1   \n",
       "16 15.5 8   318.0 150 2.76 3.520 16.87 0  0  3    2   \n",
       "17 15.2 8   304.0 150 3.15 3.435 17.30 0  0  3    2   \n",
       "18 13.3 8   350.0 245 3.73 3.840 15.41 0  0  3    4   \n",
       "19 19.2 8   400.0 175 3.08 3.845 17.05 0  0  3    2   "
      ]
     },
     "metadata": {},
     "output_type": "display_data"
    }
   ],
   "source": [
    "mtcars[mtcars$am == 0, ]\n",
    "sqldf(\"select * from mtcars where am=0\")"
   ]
  },
  {
   "cell_type": "code",
   "execution_count": 70,
   "id": "0c9d9bc4",
   "metadata": {
    "vscode": {
     "languageId": "r"
    }
   },
   "outputs": [
    {
     "data": {
      "text/html": [
       "'table'"
      ],
      "text/latex": [
       "'table'"
      ],
      "text/markdown": [
       "'table'"
      ],
      "text/plain": [
       "[1] \"table\""
      ]
     },
     "metadata": {},
     "output_type": "display_data"
    },
    {
     "data": {
      "text/html": [
       "'data.frame'"
      ],
      "text/latex": [
       "'data.frame'"
      ],
      "text/markdown": [
       "'data.frame'"
      ],
      "text/plain": [
       "[1] \"data.frame\""
      ]
     },
     "metadata": {},
     "output_type": "display_data"
    },
    {
     "data": {
      "text/html": [
       "<style>\n",
       ".list-inline {list-style: none; margin:0; padding: 0}\n",
       ".list-inline>li {display: inline-block}\n",
       ".list-inline>li:not(:last-child)::after {content: \"\\00b7\"; padding: 0 .5ex}\n",
       "</style>\n",
       "<ol class=list-inline><li>24</li><li>4</li></ol>\n"
      ],
      "text/latex": [
       "\\begin{enumerate*}\n",
       "\\item 24\n",
       "\\item 4\n",
       "\\end{enumerate*}\n"
      ],
      "text/markdown": [
       "1. 24\n",
       "2. 4\n",
       "\n",
       "\n"
      ],
      "text/plain": [
       "[1] 24  4"
      ]
     },
     "metadata": {},
     "output_type": "display_data"
    },
    {
     "data": {
      "text/html": [
       "<table class=\"dataframe\">\n",
       "<caption>A data.frame: 6 × 4</caption>\n",
       "<thead>\n",
       "\t<tr><th></th><th scope=col>Admit</th><th scope=col>Gender</th><th scope=col>Dept</th><th scope=col>Freq</th></tr>\n",
       "\t<tr><th></th><th scope=col>&lt;fct&gt;</th><th scope=col>&lt;fct&gt;</th><th scope=col>&lt;fct&gt;</th><th scope=col>&lt;dbl&gt;</th></tr>\n",
       "</thead>\n",
       "<tbody>\n",
       "\t<tr><th scope=row>1</th><td>Admitted</td><td>Male  </td><td>A</td><td>512</td></tr>\n",
       "\t<tr><th scope=row>2</th><td>Rejected</td><td>Male  </td><td>A</td><td>313</td></tr>\n",
       "\t<tr><th scope=row>3</th><td>Admitted</td><td>Female</td><td>A</td><td> 89</td></tr>\n",
       "\t<tr><th scope=row>4</th><td>Rejected</td><td>Female</td><td>A</td><td> 19</td></tr>\n",
       "\t<tr><th scope=row>5</th><td>Admitted</td><td>Male  </td><td>B</td><td>353</td></tr>\n",
       "\t<tr><th scope=row>6</th><td>Rejected</td><td>Male  </td><td>B</td><td>207</td></tr>\n",
       "</tbody>\n",
       "</table>\n"
      ],
      "text/latex": [
       "A data.frame: 6 × 4\n",
       "\\begin{tabular}{r|llll}\n",
       "  & Admit & Gender & Dept & Freq\\\\\n",
       "  & <fct> & <fct> & <fct> & <dbl>\\\\\n",
       "\\hline\n",
       "\t1 & Admitted & Male   & A & 512\\\\\n",
       "\t2 & Rejected & Male   & A & 313\\\\\n",
       "\t3 & Admitted & Female & A &  89\\\\\n",
       "\t4 & Rejected & Female & A &  19\\\\\n",
       "\t5 & Admitted & Male   & B & 353\\\\\n",
       "\t6 & Rejected & Male   & B & 207\\\\\n",
       "\\end{tabular}\n"
      ],
      "text/markdown": [
       "\n",
       "A data.frame: 6 × 4\n",
       "\n",
       "| <!--/--> | Admit &lt;fct&gt; | Gender &lt;fct&gt; | Dept &lt;fct&gt; | Freq &lt;dbl&gt; |\n",
       "|---|---|---|---|---|\n",
       "| 1 | Admitted | Male   | A | 512 |\n",
       "| 2 | Rejected | Male   | A | 313 |\n",
       "| 3 | Admitted | Female | A |  89 |\n",
       "| 4 | Rejected | Female | A |  19 |\n",
       "| 5 | Admitted | Male   | B | 353 |\n",
       "| 6 | Rejected | Male   | B | 207 |\n",
       "\n"
      ],
      "text/plain": [
       "  Admit    Gender Dept Freq\n",
       "1 Admitted Male   A    512 \n",
       "2 Rejected Male   A    313 \n",
       "3 Admitted Female A     89 \n",
       "4 Rejected Female A     19 \n",
       "5 Admitted Male   B    353 \n",
       "6 Rejected Male   B    207 "
      ]
     },
     "metadata": {},
     "output_type": "display_data"
    }
   ],
   "source": [
    "data(\"UCBAdmissions\")\n",
    "class(UCBAdmissions)\n",
    "ucb = as.data.frame(UCBAdmissions)\n",
    "class(ucb)\n",
    "dim(ucb)\n",
    "head(ucb)"
   ]
  },
  {
   "cell_type": "code",
   "execution_count": 90,
   "id": "308452ca",
   "metadata": {
    "vscode": {
     "languageId": "r"
    }
   },
   "outputs": [
    {
     "data": {
      "text/html": [
       "<style>\n",
       ".dl-inline {width: auto; margin:0; padding: 0}\n",
       ".dl-inline>dt, .dl-inline>dd {float: none; width: auto; display: inline-block}\n",
       ".dl-inline>dt::after {content: \":\\0020\"; padding-right: .5ex}\n",
       ".dl-inline>dt:not(:first-of-type) {padding-left: .5ex}\n",
       "</style><dl class=dl-inline><dt>Admitted</dt><dd>6</dd><dt>Rejected</dt><dd>6</dd></dl>\n"
      ],
      "text/latex": [
       "\\begin{description*}\n",
       "\\item[Admitted] 6\n",
       "\\item[Rejected] 6\n",
       "\\end{description*}\n"
      ],
      "text/markdown": [
       "Admitted\n",
       ":   6Rejected\n",
       ":   6\n",
       "\n"
      ],
      "text/plain": [
       "Admitted Rejected \n",
       "       6        6 "
      ]
     },
     "metadata": {},
     "output_type": "display_data"
    },
    {
     "data": {
      "text/html": [
       "<table class=\"dataframe\">\n",
       "<caption>A data.frame: 6 × 4</caption>\n",
       "<thead>\n",
       "\t<tr><th></th><th scope=col>Admit</th><th scope=col>Gender</th><th scope=col>Dept</th><th scope=col>Freq</th></tr>\n",
       "\t<tr><th></th><th scope=col>&lt;fct&gt;</th><th scope=col>&lt;fct&gt;</th><th scope=col>&lt;fct&gt;</th><th scope=col>&lt;dbl&gt;</th></tr>\n",
       "</thead>\n",
       "<tbody>\n",
       "\t<tr><th scope=row>3</th><td>Admitted</td><td>Female</td><td>A</td><td> 89</td></tr>\n",
       "\t<tr><th scope=row>7</th><td>Admitted</td><td>Female</td><td>B</td><td> 17</td></tr>\n",
       "\t<tr><th scope=row>11</th><td>Admitted</td><td>Female</td><td>C</td><td>202</td></tr>\n",
       "\t<tr><th scope=row>15</th><td>Admitted</td><td>Female</td><td>D</td><td>131</td></tr>\n",
       "\t<tr><th scope=row>19</th><td>Admitted</td><td>Female</td><td>E</td><td> 94</td></tr>\n",
       "\t<tr><th scope=row>23</th><td>Admitted</td><td>Female</td><td>F</td><td> 24</td></tr>\n",
       "</tbody>\n",
       "</table>\n"
      ],
      "text/latex": [
       "A data.frame: 6 × 4\n",
       "\\begin{tabular}{r|llll}\n",
       "  & Admit & Gender & Dept & Freq\\\\\n",
       "  & <fct> & <fct> & <fct> & <dbl>\\\\\n",
       "\\hline\n",
       "\t3 & Admitted & Female & A &  89\\\\\n",
       "\t7 & Admitted & Female & B &  17\\\\\n",
       "\t11 & Admitted & Female & C & 202\\\\\n",
       "\t15 & Admitted & Female & D & 131\\\\\n",
       "\t19 & Admitted & Female & E &  94\\\\\n",
       "\t23 & Admitted & Female & F &  24\\\\\n",
       "\\end{tabular}\n"
      ],
      "text/markdown": [
       "\n",
       "A data.frame: 6 × 4\n",
       "\n",
       "| <!--/--> | Admit &lt;fct&gt; | Gender &lt;fct&gt; | Dept &lt;fct&gt; | Freq &lt;dbl&gt; |\n",
       "|---|---|---|---|---|\n",
       "| 3 | Admitted | Female | A |  89 |\n",
       "| 7 | Admitted | Female | B |  17 |\n",
       "| 11 | Admitted | Female | C | 202 |\n",
       "| 15 | Admitted | Female | D | 131 |\n",
       "| 19 | Admitted | Female | E |  94 |\n",
       "| 23 | Admitted | Female | F |  24 |\n",
       "\n"
      ],
      "text/plain": [
       "   Admit    Gender Dept Freq\n",
       "3  Admitted Female A     89 \n",
       "7  Admitted Female B     17 \n",
       "11 Admitted Female C    202 \n",
       "15 Admitted Female D    131 \n",
       "19 Admitted Female E     94 \n",
       "23 Admitted Female F     24 "
      ]
     },
     "metadata": {},
     "output_type": "display_data"
    }
   ],
   "source": [
    "summary(ucb[ucb$Gender==\"Female\",]$Admit)\n",
    "ucb[ucb$Gender==\"Female\" & ucb$Admit==\"Admitted\",]"
   ]
  },
  {
   "cell_type": "code",
   "execution_count": 91,
   "id": "857ea2d8",
   "metadata": {
    "vscode": {
     "languageId": "r"
    }
   },
   "outputs": [
    {
     "data": {
      "text/html": [
       "<table class=\"dataframe\">\n",
       "<caption>A data.frame: 12 × 4</caption>\n",
       "<thead>\n",
       "\t<tr><th scope=col>Admit</th><th scope=col>Gender</th><th scope=col>Dept</th><th scope=col>Freq</th></tr>\n",
       "\t<tr><th scope=col>&lt;fct&gt;</th><th scope=col>&lt;fct&gt;</th><th scope=col>&lt;fct&gt;</th><th scope=col>&lt;dbl&gt;</th></tr>\n",
       "</thead>\n",
       "<tbody>\n",
       "\t<tr><td>Admitted</td><td>Female</td><td>A</td><td> 89</td></tr>\n",
       "\t<tr><td>Rejected</td><td>Female</td><td>A</td><td> 19</td></tr>\n",
       "\t<tr><td>Admitted</td><td>Female</td><td>B</td><td> 17</td></tr>\n",
       "\t<tr><td>Rejected</td><td>Female</td><td>B</td><td>  8</td></tr>\n",
       "\t<tr><td>Admitted</td><td>Female</td><td>C</td><td>202</td></tr>\n",
       "\t<tr><td>Rejected</td><td>Female</td><td>C</td><td>391</td></tr>\n",
       "\t<tr><td>Admitted</td><td>Female</td><td>D</td><td>131</td></tr>\n",
       "\t<tr><td>Rejected</td><td>Female</td><td>D</td><td>244</td></tr>\n",
       "\t<tr><td>Admitted</td><td>Female</td><td>E</td><td> 94</td></tr>\n",
       "\t<tr><td>Rejected</td><td>Female</td><td>E</td><td>299</td></tr>\n",
       "\t<tr><td>Admitted</td><td>Female</td><td>F</td><td> 24</td></tr>\n",
       "\t<tr><td>Rejected</td><td>Female</td><td>F</td><td>317</td></tr>\n",
       "</tbody>\n",
       "</table>\n"
      ],
      "text/latex": [
       "A data.frame: 12 × 4\n",
       "\\begin{tabular}{llll}\n",
       " Admit & Gender & Dept & Freq\\\\\n",
       " <fct> & <fct> & <fct> & <dbl>\\\\\n",
       "\\hline\n",
       "\t Admitted & Female & A &  89\\\\\n",
       "\t Rejected & Female & A &  19\\\\\n",
       "\t Admitted & Female & B &  17\\\\\n",
       "\t Rejected & Female & B &   8\\\\\n",
       "\t Admitted & Female & C & 202\\\\\n",
       "\t Rejected & Female & C & 391\\\\\n",
       "\t Admitted & Female & D & 131\\\\\n",
       "\t Rejected & Female & D & 244\\\\\n",
       "\t Admitted & Female & E &  94\\\\\n",
       "\t Rejected & Female & E & 299\\\\\n",
       "\t Admitted & Female & F &  24\\\\\n",
       "\t Rejected & Female & F & 317\\\\\n",
       "\\end{tabular}\n"
      ],
      "text/markdown": [
       "\n",
       "A data.frame: 12 × 4\n",
       "\n",
       "| Admit &lt;fct&gt; | Gender &lt;fct&gt; | Dept &lt;fct&gt; | Freq &lt;dbl&gt; |\n",
       "|---|---|---|---|\n",
       "| Admitted | Female | A |  89 |\n",
       "| Rejected | Female | A |  19 |\n",
       "| Admitted | Female | B |  17 |\n",
       "| Rejected | Female | B |   8 |\n",
       "| Admitted | Female | C | 202 |\n",
       "| Rejected | Female | C | 391 |\n",
       "| Admitted | Female | D | 131 |\n",
       "| Rejected | Female | D | 244 |\n",
       "| Admitted | Female | E |  94 |\n",
       "| Rejected | Female | E | 299 |\n",
       "| Admitted | Female | F |  24 |\n",
       "| Rejected | Female | F | 317 |\n",
       "\n"
      ],
      "text/plain": [
       "   Admit    Gender Dept Freq\n",
       "1  Admitted Female A     89 \n",
       "2  Rejected Female A     19 \n",
       "3  Admitted Female B     17 \n",
       "4  Rejected Female B      8 \n",
       "5  Admitted Female C    202 \n",
       "6  Rejected Female C    391 \n",
       "7  Admitted Female D    131 \n",
       "8  Rejected Female D    244 \n",
       "9  Admitted Female E     94 \n",
       "10 Rejected Female E    299 \n",
       "11 Admitted Female F     24 \n",
       "12 Rejected Female F    317 "
      ]
     },
     "metadata": {},
     "output_type": "display_data"
    }
   ],
   "source": [
    "sqldf(\"select * from ucb where Gender='Female'\")"
   ]
  },
  {
   "cell_type": "code",
   "execution_count": 95,
   "id": "9e5281c5",
   "metadata": {
    "vscode": {
     "languageId": "r"
    }
   },
   "outputs": [
    {
     "data": {
      "text/html": [
       "<table class=\"dataframe\">\n",
       "<caption>A data.frame: 12 × 4</caption>\n",
       "<thead>\n",
       "\t<tr><th></th><th scope=col>Admit</th><th scope=col>Gender</th><th scope=col>Dept</th><th scope=col>Freq</th></tr>\n",
       "\t<tr><th></th><th scope=col>&lt;fct&gt;</th><th scope=col>&lt;fct&gt;</th><th scope=col>&lt;fct&gt;</th><th scope=col>&lt;dbl&gt;</th></tr>\n",
       "</thead>\n",
       "<tbody>\n",
       "\t<tr><th scope=row>1</th><td>Admitted</td><td>Male  </td><td>A</td><td>512</td></tr>\n",
       "\t<tr><th scope=row>3</th><td>Admitted</td><td>Female</td><td>A</td><td> 89</td></tr>\n",
       "\t<tr><th scope=row>5</th><td>Admitted</td><td>Male  </td><td>B</td><td>353</td></tr>\n",
       "\t<tr><th scope=row>7</th><td>Admitted</td><td>Female</td><td>B</td><td> 17</td></tr>\n",
       "\t<tr><th scope=row>9</th><td>Admitted</td><td>Male  </td><td>C</td><td>120</td></tr>\n",
       "\t<tr><th scope=row>11</th><td>Admitted</td><td>Female</td><td>C</td><td>202</td></tr>\n",
       "\t<tr><th scope=row>13</th><td>Admitted</td><td>Male  </td><td>D</td><td>138</td></tr>\n",
       "\t<tr><th scope=row>15</th><td>Admitted</td><td>Female</td><td>D</td><td>131</td></tr>\n",
       "\t<tr><th scope=row>17</th><td>Admitted</td><td>Male  </td><td>E</td><td> 53</td></tr>\n",
       "\t<tr><th scope=row>19</th><td>Admitted</td><td>Female</td><td>E</td><td> 94</td></tr>\n",
       "\t<tr><th scope=row>21</th><td>Admitted</td><td>Male  </td><td>F</td><td> 22</td></tr>\n",
       "\t<tr><th scope=row>23</th><td>Admitted</td><td>Female</td><td>F</td><td> 24</td></tr>\n",
       "</tbody>\n",
       "</table>\n"
      ],
      "text/latex": [
       "A data.frame: 12 × 4\n",
       "\\begin{tabular}{r|llll}\n",
       "  & Admit & Gender & Dept & Freq\\\\\n",
       "  & <fct> & <fct> & <fct> & <dbl>\\\\\n",
       "\\hline\n",
       "\t1 & Admitted & Male   & A & 512\\\\\n",
       "\t3 & Admitted & Female & A &  89\\\\\n",
       "\t5 & Admitted & Male   & B & 353\\\\\n",
       "\t7 & Admitted & Female & B &  17\\\\\n",
       "\t9 & Admitted & Male   & C & 120\\\\\n",
       "\t11 & Admitted & Female & C & 202\\\\\n",
       "\t13 & Admitted & Male   & D & 138\\\\\n",
       "\t15 & Admitted & Female & D & 131\\\\\n",
       "\t17 & Admitted & Male   & E &  53\\\\\n",
       "\t19 & Admitted & Female & E &  94\\\\\n",
       "\t21 & Admitted & Male   & F &  22\\\\\n",
       "\t23 & Admitted & Female & F &  24\\\\\n",
       "\\end{tabular}\n"
      ],
      "text/markdown": [
       "\n",
       "A data.frame: 12 × 4\n",
       "\n",
       "| <!--/--> | Admit &lt;fct&gt; | Gender &lt;fct&gt; | Dept &lt;fct&gt; | Freq &lt;dbl&gt; |\n",
       "|---|---|---|---|---|\n",
       "| 1 | Admitted | Male   | A | 512 |\n",
       "| 3 | Admitted | Female | A |  89 |\n",
       "| 5 | Admitted | Male   | B | 353 |\n",
       "| 7 | Admitted | Female | B |  17 |\n",
       "| 9 | Admitted | Male   | C | 120 |\n",
       "| 11 | Admitted | Female | C | 202 |\n",
       "| 13 | Admitted | Male   | D | 138 |\n",
       "| 15 | Admitted | Female | D | 131 |\n",
       "| 17 | Admitted | Male   | E |  53 |\n",
       "| 19 | Admitted | Female | E |  94 |\n",
       "| 21 | Admitted | Male   | F |  22 |\n",
       "| 23 | Admitted | Female | F |  24 |\n",
       "\n"
      ],
      "text/plain": [
       "   Admit    Gender Dept Freq\n",
       "1  Admitted Male   A    512 \n",
       "3  Admitted Female A     89 \n",
       "5  Admitted Male   B    353 \n",
       "7  Admitted Female B     17 \n",
       "9  Admitted Male   C    120 \n",
       "11 Admitted Female C    202 \n",
       "13 Admitted Male   D    138 \n",
       "15 Admitted Female D    131 \n",
       "17 Admitted Male   E     53 \n",
       "19 Admitted Female E     94 \n",
       "21 Admitted Male   F     22 \n",
       "23 Admitted Female F     24 "
      ]
     },
     "metadata": {},
     "output_type": "display_data"
    },
    {
     "data": {
      "text/html": [
       "<table class=\"dataframe\">\n",
       "<caption>A data.frame: 12 × 4</caption>\n",
       "<thead>\n",
       "\t<tr><th scope=col>Admit</th><th scope=col>Gender</th><th scope=col>Dept</th><th scope=col>Freq</th></tr>\n",
       "\t<tr><th scope=col>&lt;fct&gt;</th><th scope=col>&lt;fct&gt;</th><th scope=col>&lt;fct&gt;</th><th scope=col>&lt;dbl&gt;</th></tr>\n",
       "</thead>\n",
       "<tbody>\n",
       "\t<tr><td>Admitted</td><td>Male  </td><td>A</td><td>512</td></tr>\n",
       "\t<tr><td>Admitted</td><td>Female</td><td>A</td><td> 89</td></tr>\n",
       "\t<tr><td>Admitted</td><td>Male  </td><td>B</td><td>353</td></tr>\n",
       "\t<tr><td>Admitted</td><td>Female</td><td>B</td><td> 17</td></tr>\n",
       "\t<tr><td>Admitted</td><td>Male  </td><td>C</td><td>120</td></tr>\n",
       "\t<tr><td>Admitted</td><td>Female</td><td>C</td><td>202</td></tr>\n",
       "\t<tr><td>Admitted</td><td>Male  </td><td>D</td><td>138</td></tr>\n",
       "\t<tr><td>Admitted</td><td>Female</td><td>D</td><td>131</td></tr>\n",
       "\t<tr><td>Admitted</td><td>Male  </td><td>E</td><td> 53</td></tr>\n",
       "\t<tr><td>Admitted</td><td>Female</td><td>E</td><td> 94</td></tr>\n",
       "\t<tr><td>Admitted</td><td>Male  </td><td>F</td><td> 22</td></tr>\n",
       "\t<tr><td>Admitted</td><td>Female</td><td>F</td><td> 24</td></tr>\n",
       "</tbody>\n",
       "</table>\n"
      ],
      "text/latex": [
       "A data.frame: 12 × 4\n",
       "\\begin{tabular}{llll}\n",
       " Admit & Gender & Dept & Freq\\\\\n",
       " <fct> & <fct> & <fct> & <dbl>\\\\\n",
       "\\hline\n",
       "\t Admitted & Male   & A & 512\\\\\n",
       "\t Admitted & Female & A &  89\\\\\n",
       "\t Admitted & Male   & B & 353\\\\\n",
       "\t Admitted & Female & B &  17\\\\\n",
       "\t Admitted & Male   & C & 120\\\\\n",
       "\t Admitted & Female & C & 202\\\\\n",
       "\t Admitted & Male   & D & 138\\\\\n",
       "\t Admitted & Female & D & 131\\\\\n",
       "\t Admitted & Male   & E &  53\\\\\n",
       "\t Admitted & Female & E &  94\\\\\n",
       "\t Admitted & Male   & F &  22\\\\\n",
       "\t Admitted & Female & F &  24\\\\\n",
       "\\end{tabular}\n"
      ],
      "text/markdown": [
       "\n",
       "A data.frame: 12 × 4\n",
       "\n",
       "| Admit &lt;fct&gt; | Gender &lt;fct&gt; | Dept &lt;fct&gt; | Freq &lt;dbl&gt; |\n",
       "|---|---|---|---|\n",
       "| Admitted | Male   | A | 512 |\n",
       "| Admitted | Female | A |  89 |\n",
       "| Admitted | Male   | B | 353 |\n",
       "| Admitted | Female | B |  17 |\n",
       "| Admitted | Male   | C | 120 |\n",
       "| Admitted | Female | C | 202 |\n",
       "| Admitted | Male   | D | 138 |\n",
       "| Admitted | Female | D | 131 |\n",
       "| Admitted | Male   | E |  53 |\n",
       "| Admitted | Female | E |  94 |\n",
       "| Admitted | Male   | F |  22 |\n",
       "| Admitted | Female | F |  24 |\n",
       "\n"
      ],
      "text/plain": [
       "   Admit    Gender Dept Freq\n",
       "1  Admitted Male   A    512 \n",
       "2  Admitted Female A     89 \n",
       "3  Admitted Male   B    353 \n",
       "4  Admitted Female B     17 \n",
       "5  Admitted Male   C    120 \n",
       "6  Admitted Female C    202 \n",
       "7  Admitted Male   D    138 \n",
       "8  Admitted Female D    131 \n",
       "9  Admitted Male   E     53 \n",
       "10 Admitted Female E     94 \n",
       "11 Admitted Male   F     22 \n",
       "12 Admitted Female F     24 "
      ]
     },
     "metadata": {},
     "output_type": "display_data"
    }
   ],
   "source": [
    "ucb[ucb$Admit==\"Admitted\",]\n",
    "sqldf(\"SELECT * FROM ucb where Admit='Admitted'\")"
   ]
  },
  {
   "cell_type": "code",
   "execution_count": 110,
   "id": "4d7dee78",
   "metadata": {
    "vscode": {
     "languageId": "r"
    }
   },
   "outputs": [
    {
     "data": {
      "text/html": [
       "<table class=\"dataframe\">\n",
       "<caption>A data.frame: 24 × 4</caption>\n",
       "<thead>\n",
       "\t<tr><th></th><th scope=col>Admit</th><th scope=col>Gender</th><th scope=col>Dept</th><th scope=col>Freq</th></tr>\n",
       "\t<tr><th></th><th scope=col>&lt;fct&gt;</th><th scope=col>&lt;fct&gt;</th><th scope=col>&lt;fct&gt;</th><th scope=col>&lt;dbl&gt;</th></tr>\n",
       "</thead>\n",
       "<tbody>\n",
       "\t<tr><th scope=row>21</th><td>Admitted</td><td>Male  </td><td>F</td><td> 22</td></tr>\n",
       "\t<tr><th scope=row>22</th><td>Rejected</td><td>Male  </td><td>F</td><td>351</td></tr>\n",
       "\t<tr><th scope=row>23</th><td>Admitted</td><td>Female</td><td>F</td><td> 24</td></tr>\n",
       "\t<tr><th scope=row>24</th><td>Rejected</td><td>Female</td><td>F</td><td>317</td></tr>\n",
       "\t<tr><th scope=row>17</th><td>Admitted</td><td>Male  </td><td>E</td><td> 53</td></tr>\n",
       "\t<tr><th scope=row>18</th><td>Rejected</td><td>Male  </td><td>E</td><td>138</td></tr>\n",
       "\t<tr><th scope=row>19</th><td>Admitted</td><td>Female</td><td>E</td><td> 94</td></tr>\n",
       "\t<tr><th scope=row>20</th><td>Rejected</td><td>Female</td><td>E</td><td>299</td></tr>\n",
       "\t<tr><th scope=row>13</th><td>Admitted</td><td>Male  </td><td>D</td><td>138</td></tr>\n",
       "\t<tr><th scope=row>14</th><td>Rejected</td><td>Male  </td><td>D</td><td>279</td></tr>\n",
       "\t<tr><th scope=row>15</th><td>Admitted</td><td>Female</td><td>D</td><td>131</td></tr>\n",
       "\t<tr><th scope=row>16</th><td>Rejected</td><td>Female</td><td>D</td><td>244</td></tr>\n",
       "\t<tr><th scope=row>9</th><td>Admitted</td><td>Male  </td><td>C</td><td>120</td></tr>\n",
       "\t<tr><th scope=row>10</th><td>Rejected</td><td>Male  </td><td>C</td><td>205</td></tr>\n",
       "\t<tr><th scope=row>11</th><td>Admitted</td><td>Female</td><td>C</td><td>202</td></tr>\n",
       "\t<tr><th scope=row>12</th><td>Rejected</td><td>Female</td><td>C</td><td>391</td></tr>\n",
       "\t<tr><th scope=row>5</th><td>Admitted</td><td>Male  </td><td>B</td><td>353</td></tr>\n",
       "\t<tr><th scope=row>6</th><td>Rejected</td><td>Male  </td><td>B</td><td>207</td></tr>\n",
       "\t<tr><th scope=row>7</th><td>Admitted</td><td>Female</td><td>B</td><td> 17</td></tr>\n",
       "\t<tr><th scope=row>8</th><td>Rejected</td><td>Female</td><td>B</td><td>  8</td></tr>\n",
       "\t<tr><th scope=row>1</th><td>Admitted</td><td>Male  </td><td>A</td><td>512</td></tr>\n",
       "\t<tr><th scope=row>2</th><td>Rejected</td><td>Male  </td><td>A</td><td>313</td></tr>\n",
       "\t<tr><th scope=row>3</th><td>Admitted</td><td>Female</td><td>A</td><td> 89</td></tr>\n",
       "\t<tr><th scope=row>4</th><td>Rejected</td><td>Female</td><td>A</td><td> 19</td></tr>\n",
       "</tbody>\n",
       "</table>\n"
      ],
      "text/latex": [
       "A data.frame: 24 × 4\n",
       "\\begin{tabular}{r|llll}\n",
       "  & Admit & Gender & Dept & Freq\\\\\n",
       "  & <fct> & <fct> & <fct> & <dbl>\\\\\n",
       "\\hline\n",
       "\t21 & Admitted & Male   & F &  22\\\\\n",
       "\t22 & Rejected & Male   & F & 351\\\\\n",
       "\t23 & Admitted & Female & F &  24\\\\\n",
       "\t24 & Rejected & Female & F & 317\\\\\n",
       "\t17 & Admitted & Male   & E &  53\\\\\n",
       "\t18 & Rejected & Male   & E & 138\\\\\n",
       "\t19 & Admitted & Female & E &  94\\\\\n",
       "\t20 & Rejected & Female & E & 299\\\\\n",
       "\t13 & Admitted & Male   & D & 138\\\\\n",
       "\t14 & Rejected & Male   & D & 279\\\\\n",
       "\t15 & Admitted & Female & D & 131\\\\\n",
       "\t16 & Rejected & Female & D & 244\\\\\n",
       "\t9 & Admitted & Male   & C & 120\\\\\n",
       "\t10 & Rejected & Male   & C & 205\\\\\n",
       "\t11 & Admitted & Female & C & 202\\\\\n",
       "\t12 & Rejected & Female & C & 391\\\\\n",
       "\t5 & Admitted & Male   & B & 353\\\\\n",
       "\t6 & Rejected & Male   & B & 207\\\\\n",
       "\t7 & Admitted & Female & B &  17\\\\\n",
       "\t8 & Rejected & Female & B &   8\\\\\n",
       "\t1 & Admitted & Male   & A & 512\\\\\n",
       "\t2 & Rejected & Male   & A & 313\\\\\n",
       "\t3 & Admitted & Female & A &  89\\\\\n",
       "\t4 & Rejected & Female & A &  19\\\\\n",
       "\\end{tabular}\n"
      ],
      "text/markdown": [
       "\n",
       "A data.frame: 24 × 4\n",
       "\n",
       "| <!--/--> | Admit &lt;fct&gt; | Gender &lt;fct&gt; | Dept &lt;fct&gt; | Freq &lt;dbl&gt; |\n",
       "|---|---|---|---|---|\n",
       "| 21 | Admitted | Male   | F |  22 |\n",
       "| 22 | Rejected | Male   | F | 351 |\n",
       "| 23 | Admitted | Female | F |  24 |\n",
       "| 24 | Rejected | Female | F | 317 |\n",
       "| 17 | Admitted | Male   | E |  53 |\n",
       "| 18 | Rejected | Male   | E | 138 |\n",
       "| 19 | Admitted | Female | E |  94 |\n",
       "| 20 | Rejected | Female | E | 299 |\n",
       "| 13 | Admitted | Male   | D | 138 |\n",
       "| 14 | Rejected | Male   | D | 279 |\n",
       "| 15 | Admitted | Female | D | 131 |\n",
       "| 16 | Rejected | Female | D | 244 |\n",
       "| 9 | Admitted | Male   | C | 120 |\n",
       "| 10 | Rejected | Male   | C | 205 |\n",
       "| 11 | Admitted | Female | C | 202 |\n",
       "| 12 | Rejected | Female | C | 391 |\n",
       "| 5 | Admitted | Male   | B | 353 |\n",
       "| 6 | Rejected | Male   | B | 207 |\n",
       "| 7 | Admitted | Female | B |  17 |\n",
       "| 8 | Rejected | Female | B |   8 |\n",
       "| 1 | Admitted | Male   | A | 512 |\n",
       "| 2 | Rejected | Male   | A | 313 |\n",
       "| 3 | Admitted | Female | A |  89 |\n",
       "| 4 | Rejected | Female | A |  19 |\n",
       "\n"
      ],
      "text/plain": [
       "   Admit    Gender Dept Freq\n",
       "21 Admitted Male   F     22 \n",
       "22 Rejected Male   F    351 \n",
       "23 Admitted Female F     24 \n",
       "24 Rejected Female F    317 \n",
       "17 Admitted Male   E     53 \n",
       "18 Rejected Male   E    138 \n",
       "19 Admitted Female E     94 \n",
       "20 Rejected Female E    299 \n",
       "13 Admitted Male   D    138 \n",
       "14 Rejected Male   D    279 \n",
       "15 Admitted Female D    131 \n",
       "16 Rejected Female D    244 \n",
       "9  Admitted Male   C    120 \n",
       "10 Rejected Male   C    205 \n",
       "11 Admitted Female C    202 \n",
       "12 Rejected Female C    391 \n",
       "5  Admitted Male   B    353 \n",
       "6  Rejected Male   B    207 \n",
       "7  Admitted Female B     17 \n",
       "8  Rejected Female B      8 \n",
       "1  Admitted Male   A    512 \n",
       "2  Rejected Male   A    313 \n",
       "3  Admitted Female A     89 \n",
       "4  Rejected Female A     19 "
      ]
     },
     "metadata": {},
     "output_type": "display_data"
    },
    {
     "data": {
      "text/html": [
       "<table class=\"dataframe\">\n",
       "<caption>A data.frame: 24 × 4</caption>\n",
       "<thead>\n",
       "\t<tr><th scope=col>Admit</th><th scope=col>Gender</th><th scope=col>Dept</th><th scope=col>Freq</th></tr>\n",
       "\t<tr><th scope=col>&lt;fct&gt;</th><th scope=col>&lt;fct&gt;</th><th scope=col>&lt;fct&gt;</th><th scope=col>&lt;dbl&gt;</th></tr>\n",
       "</thead>\n",
       "<tbody>\n",
       "\t<tr><td>Admitted</td><td>Male  </td><td>F</td><td> 22</td></tr>\n",
       "\t<tr><td>Rejected</td><td>Male  </td><td>F</td><td>351</td></tr>\n",
       "\t<tr><td>Admitted</td><td>Female</td><td>F</td><td> 24</td></tr>\n",
       "\t<tr><td>Rejected</td><td>Female</td><td>F</td><td>317</td></tr>\n",
       "\t<tr><td>Admitted</td><td>Male  </td><td>E</td><td> 53</td></tr>\n",
       "\t<tr><td>Rejected</td><td>Male  </td><td>E</td><td>138</td></tr>\n",
       "\t<tr><td>Admitted</td><td>Female</td><td>E</td><td> 94</td></tr>\n",
       "\t<tr><td>Rejected</td><td>Female</td><td>E</td><td>299</td></tr>\n",
       "\t<tr><td>Admitted</td><td>Male  </td><td>D</td><td>138</td></tr>\n",
       "\t<tr><td>Rejected</td><td>Male  </td><td>D</td><td>279</td></tr>\n",
       "\t<tr><td>Admitted</td><td>Female</td><td>D</td><td>131</td></tr>\n",
       "\t<tr><td>Rejected</td><td>Female</td><td>D</td><td>244</td></tr>\n",
       "\t<tr><td>Admitted</td><td>Male  </td><td>C</td><td>120</td></tr>\n",
       "\t<tr><td>Rejected</td><td>Male  </td><td>C</td><td>205</td></tr>\n",
       "\t<tr><td>Admitted</td><td>Female</td><td>C</td><td>202</td></tr>\n",
       "\t<tr><td>Rejected</td><td>Female</td><td>C</td><td>391</td></tr>\n",
       "\t<tr><td>Admitted</td><td>Male  </td><td>B</td><td>353</td></tr>\n",
       "\t<tr><td>Rejected</td><td>Male  </td><td>B</td><td>207</td></tr>\n",
       "\t<tr><td>Admitted</td><td>Female</td><td>B</td><td> 17</td></tr>\n",
       "\t<tr><td>Rejected</td><td>Female</td><td>B</td><td>  8</td></tr>\n",
       "\t<tr><td>Admitted</td><td>Male  </td><td>A</td><td>512</td></tr>\n",
       "\t<tr><td>Rejected</td><td>Male  </td><td>A</td><td>313</td></tr>\n",
       "\t<tr><td>Admitted</td><td>Female</td><td>A</td><td> 89</td></tr>\n",
       "\t<tr><td>Rejected</td><td>Female</td><td>A</td><td> 19</td></tr>\n",
       "</tbody>\n",
       "</table>\n"
      ],
      "text/latex": [
       "A data.frame: 24 × 4\n",
       "\\begin{tabular}{llll}\n",
       " Admit & Gender & Dept & Freq\\\\\n",
       " <fct> & <fct> & <fct> & <dbl>\\\\\n",
       "\\hline\n",
       "\t Admitted & Male   & F &  22\\\\\n",
       "\t Rejected & Male   & F & 351\\\\\n",
       "\t Admitted & Female & F &  24\\\\\n",
       "\t Rejected & Female & F & 317\\\\\n",
       "\t Admitted & Male   & E &  53\\\\\n",
       "\t Rejected & Male   & E & 138\\\\\n",
       "\t Admitted & Female & E &  94\\\\\n",
       "\t Rejected & Female & E & 299\\\\\n",
       "\t Admitted & Male   & D & 138\\\\\n",
       "\t Rejected & Male   & D & 279\\\\\n",
       "\t Admitted & Female & D & 131\\\\\n",
       "\t Rejected & Female & D & 244\\\\\n",
       "\t Admitted & Male   & C & 120\\\\\n",
       "\t Rejected & Male   & C & 205\\\\\n",
       "\t Admitted & Female & C & 202\\\\\n",
       "\t Rejected & Female & C & 391\\\\\n",
       "\t Admitted & Male   & B & 353\\\\\n",
       "\t Rejected & Male   & B & 207\\\\\n",
       "\t Admitted & Female & B &  17\\\\\n",
       "\t Rejected & Female & B &   8\\\\\n",
       "\t Admitted & Male   & A & 512\\\\\n",
       "\t Rejected & Male   & A & 313\\\\\n",
       "\t Admitted & Female & A &  89\\\\\n",
       "\t Rejected & Female & A &  19\\\\\n",
       "\\end{tabular}\n"
      ],
      "text/markdown": [
       "\n",
       "A data.frame: 24 × 4\n",
       "\n",
       "| Admit &lt;fct&gt; | Gender &lt;fct&gt; | Dept &lt;fct&gt; | Freq &lt;dbl&gt; |\n",
       "|---|---|---|---|\n",
       "| Admitted | Male   | F |  22 |\n",
       "| Rejected | Male   | F | 351 |\n",
       "| Admitted | Female | F |  24 |\n",
       "| Rejected | Female | F | 317 |\n",
       "| Admitted | Male   | E |  53 |\n",
       "| Rejected | Male   | E | 138 |\n",
       "| Admitted | Female | E |  94 |\n",
       "| Rejected | Female | E | 299 |\n",
       "| Admitted | Male   | D | 138 |\n",
       "| Rejected | Male   | D | 279 |\n",
       "| Admitted | Female | D | 131 |\n",
       "| Rejected | Female | D | 244 |\n",
       "| Admitted | Male   | C | 120 |\n",
       "| Rejected | Male   | C | 205 |\n",
       "| Admitted | Female | C | 202 |\n",
       "| Rejected | Female | C | 391 |\n",
       "| Admitted | Male   | B | 353 |\n",
       "| Rejected | Male   | B | 207 |\n",
       "| Admitted | Female | B |  17 |\n",
       "| Rejected | Female | B |   8 |\n",
       "| Admitted | Male   | A | 512 |\n",
       "| Rejected | Male   | A | 313 |\n",
       "| Admitted | Female | A |  89 |\n",
       "| Rejected | Female | A |  19 |\n",
       "\n"
      ],
      "text/plain": [
       "   Admit    Gender Dept Freq\n",
       "1  Admitted Male   F     22 \n",
       "2  Rejected Male   F    351 \n",
       "3  Admitted Female F     24 \n",
       "4  Rejected Female F    317 \n",
       "5  Admitted Male   E     53 \n",
       "6  Rejected Male   E    138 \n",
       "7  Admitted Female E     94 \n",
       "8  Rejected Female E    299 \n",
       "9  Admitted Male   D    138 \n",
       "10 Rejected Male   D    279 \n",
       "11 Admitted Female D    131 \n",
       "12 Rejected Female D    244 \n",
       "13 Admitted Male   C    120 \n",
       "14 Rejected Male   C    205 \n",
       "15 Admitted Female C    202 \n",
       "16 Rejected Female C    391 \n",
       "17 Admitted Male   B    353 \n",
       "18 Rejected Male   B    207 \n",
       "19 Admitted Female B     17 \n",
       "20 Rejected Female B      8 \n",
       "21 Admitted Male   A    512 \n",
       "22 Rejected Male   A    313 \n",
       "23 Admitted Female A     89 \n",
       "24 Rejected Female A     19 "
      ]
     },
     "metadata": {},
     "output_type": "display_data"
    }
   ],
   "source": [
    "ucb[order(ucb$Dept, decreasing = TRUE), ]\n",
    "sqldf(\"SELECT * FROM ucb ORDER BY Dept DESC;\")"
   ]
  },
  {
   "cell_type": "code",
   "execution_count": 141,
   "id": "1a96c5bd",
   "metadata": {
    "vscode": {
     "languageId": "r"
    }
   },
   "outputs": [
    {
     "data": {
      "text/html": [
       "6"
      ],
      "text/latex": [
       "6"
      ],
      "text/markdown": [
       "6"
      ],
      "text/plain": [
       "[1] 6"
      ]
     },
     "metadata": {},
     "output_type": "display_data"
    },
    {
     "data": {
      "text/html": [
       "6"
      ],
      "text/latex": [
       "6"
      ],
      "text/markdown": [
       "6"
      ],
      "text/plain": [
       "[1] 6"
      ]
     },
     "metadata": {},
     "output_type": "display_data"
    },
    {
     "data": {
      "text/html": [
       "<table class=\"dataframe\">\n",
       "<caption>A data.frame: 1 × 1</caption>\n",
       "<thead>\n",
       "\t<tr><th scope=col>no_of_Depts</th></tr>\n",
       "\t<tr><th scope=col>&lt;int&gt;</th></tr>\n",
       "</thead>\n",
       "<tbody>\n",
       "\t<tr><td>6</td></tr>\n",
       "</tbody>\n",
       "</table>\n"
      ],
      "text/latex": [
       "A data.frame: 1 × 1\n",
       "\\begin{tabular}{l}\n",
       " no\\_of\\_Depts\\\\\n",
       " <int>\\\\\n",
       "\\hline\n",
       "\t 6\\\\\n",
       "\\end{tabular}\n"
      ],
      "text/markdown": [
       "\n",
       "A data.frame: 1 × 1\n",
       "\n",
       "| no_of_Depts &lt;int&gt; |\n",
       "|---|\n",
       "| 6 |\n",
       "\n"
      ],
      "text/plain": [
       "  no_of_Depts\n",
       "1 6          "
      ]
     },
     "metadata": {},
     "output_type": "display_data"
    }
   ],
   "source": [
    "length(unique(ucb$Dept))\n",
    "length(table(ucb$Dept))\n",
    "sqldf(\"SELECT COUNT(DISTINCT Dept) AS no_of_Depts FROM ucb\")"
   ]
  },
  {
   "cell_type": "code",
   "execution_count": 149,
   "id": "7ccf4fd5",
   "metadata": {
    "vscode": {
     "languageId": "r"
    }
   },
   "outputs": [],
   "source": [
    "# install.packages(\"tidyverse\")\n",
    "library(tidyverse)"
   ]
  },
  {
   "cell_type": "code",
   "execution_count": 153,
   "id": "22dbeb0c",
   "metadata": {
    "vscode": {
     "languageId": "r"
    }
   },
   "outputs": [
    {
     "data": {
      "text/html": [
       "<table class=\"dataframe\">\n",
       "<caption>A data.frame: 1 × 1</caption>\n",
       "<thead>\n",
       "\t<tr><th scope=col>n</th></tr>\n",
       "\t<tr><th scope=col>&lt;int&gt;</th></tr>\n",
       "</thead>\n",
       "<tbody>\n",
       "\t<tr><td>6</td></tr>\n",
       "</tbody>\n",
       "</table>\n"
      ],
      "text/latex": [
       "A data.frame: 1 × 1\n",
       "\\begin{tabular}{l}\n",
       " n\\\\\n",
       " <int>\\\\\n",
       "\\hline\n",
       "\t 6\\\\\n",
       "\\end{tabular}\n"
      ],
      "text/markdown": [
       "\n",
       "A data.frame: 1 × 1\n",
       "\n",
       "| n &lt;int&gt; |\n",
       "|---|\n",
       "| 6 |\n",
       "\n"
      ],
      "text/plain": [
       "  n\n",
       "1 6"
      ]
     },
     "metadata": {},
     "output_type": "display_data"
    },
    {
     "data": {
      "text/html": [
       "<table class=\"dataframe\">\n",
       "<caption>A data.frame: 1 × 1</caption>\n",
       "<thead>\n",
       "\t<tr><th scope=col>n</th></tr>\n",
       "\t<tr><th scope=col>&lt;int&gt;</th></tr>\n",
       "</thead>\n",
       "<tbody>\n",
       "\t<tr><td>6</td></tr>\n",
       "</tbody>\n",
       "</table>\n"
      ],
      "text/latex": [
       "A data.frame: 1 × 1\n",
       "\\begin{tabular}{l}\n",
       " n\\\\\n",
       " <int>\\\\\n",
       "\\hline\n",
       "\t 6\\\\\n",
       "\\end{tabular}\n"
      ],
      "text/markdown": [
       "\n",
       "A data.frame: 1 × 1\n",
       "\n",
       "| n &lt;int&gt; |\n",
       "|---|\n",
       "| 6 |\n",
       "\n"
      ],
      "text/plain": [
       "  n\n",
       "1 6"
      ]
     },
     "metadata": {},
     "output_type": "display_data"
    }
   ],
   "source": [
    "ucb %>% select(Dept) %>% unique() %>% count()\n",
    "ucb |> select(Dept) |> unique() |> count()"
   ]
  },
  {
   "cell_type": "code",
   "execution_count": 230,
   "id": "c8db333c",
   "metadata": {
    "vscode": {
     "languageId": "r"
    }
   },
   "outputs": [
    {
     "data": {
      "text/html": [
       "1755"
      ],
      "text/latex": [
       "1755"
      ],
      "text/markdown": [
       "1755"
      ],
      "text/plain": [
       "[1] 1755"
      ]
     },
     "metadata": {},
     "output_type": "display_data"
    },
    {
     "data": {
      "text/html": [
       "<table class=\"dataframe\">\n",
       "<caption>A data.frame: 1 × 1</caption>\n",
       "<thead>\n",
       "\t<tr><th scope=col>SUM(Freq)</th></tr>\n",
       "\t<tr><th scope=col>&lt;dbl&gt;</th></tr>\n",
       "</thead>\n",
       "<tbody>\n",
       "\t<tr><td>1755</td></tr>\n",
       "</tbody>\n",
       "</table>\n"
      ],
      "text/latex": [
       "A data.frame: 1 × 1\n",
       "\\begin{tabular}{l}\n",
       " SUM(Freq)\\\\\n",
       " <dbl>\\\\\n",
       "\\hline\n",
       "\t 1755\\\\\n",
       "\\end{tabular}\n"
      ],
      "text/markdown": [
       "\n",
       "A data.frame: 1 × 1\n",
       "\n",
       "| SUM(Freq) &lt;dbl&gt; |\n",
       "|---|\n",
       "| 1755 |\n",
       "\n"
      ],
      "text/plain": [
       "  SUM(Freq)\n",
       "1 1755     "
      ]
     },
     "metadata": {},
     "output_type": "display_data"
    },
    {
     "data": {
      "text/html": [
       "1755"
      ],
      "text/latex": [
       "1755"
      ],
      "text/markdown": [
       "1755"
      ],
      "text/plain": [
       "[1] 1755"
      ]
     },
     "metadata": {},
     "output_type": "display_data"
    }
   ],
   "source": [
    "sum(ucb[ucb$Admit == \"Admitted\",]$Freq)\n",
    "sqldf(\"SELECT SUM(Freq) FROM ucb WHERE Admit='Admitted'\")\n",
    "ucb |> filter(Admit == \"Admitted\") |> select(Freq) |> sum()"
   ]
  },
  {
   "cell_type": "code",
   "execution_count": 236,
   "id": "cb11ddd8",
   "metadata": {
    "vscode": {
     "languageId": "r"
    }
   },
   "outputs": [
    {
     "data": {
      "text/html": [
       "2771"
      ],
      "text/latex": [
       "2771"
      ],
      "text/markdown": [
       "2771"
      ],
      "text/plain": [
       "[1] 2771"
      ]
     },
     "metadata": {},
     "output_type": "display_data"
    },
    {
     "data": {
      "text/html": [
       "<table class=\"dataframe\">\n",
       "<caption>A data.frame: 1 × 1</caption>\n",
       "<thead>\n",
       "\t<tr><th scope=col>SUM(Freq)</th></tr>\n",
       "\t<tr><th scope=col>&lt;dbl&gt;</th></tr>\n",
       "</thead>\n",
       "<tbody>\n",
       "\t<tr><td>2771</td></tr>\n",
       "</tbody>\n",
       "</table>\n"
      ],
      "text/latex": [
       "A data.frame: 1 × 1\n",
       "\\begin{tabular}{l}\n",
       " SUM(Freq)\\\\\n",
       " <dbl>\\\\\n",
       "\\hline\n",
       "\t 2771\\\\\n",
       "\\end{tabular}\n"
      ],
      "text/markdown": [
       "\n",
       "A data.frame: 1 × 1\n",
       "\n",
       "| SUM(Freq) &lt;dbl&gt; |\n",
       "|---|\n",
       "| 2771 |\n",
       "\n"
      ],
      "text/plain": [
       "  SUM(Freq)\n",
       "1 2771     "
      ]
     },
     "metadata": {},
     "output_type": "display_data"
    },
    {
     "data": {
      "text/html": [
       "2771"
      ],
      "text/latex": [
       "2771"
      ],
      "text/markdown": [
       "2771"
      ],
      "text/plain": [
       "[1] 2771"
      ]
     },
     "metadata": {},
     "output_type": "display_data"
    }
   ],
   "source": [
    "sum(ucb[ucb$Admit == \"Rejected\", 4])\n",
    "sqldf(\"SELECT SUM(Freq) FROM ucb WHERE Admit='Rejected'\")\n",
    "ucb |> filter(Admit == \"Rejected\") |> select(Freq) |> sum()"
   ]
  },
  {
   "cell_type": "code",
   "execution_count": 244,
   "id": "2442aa35",
   "metadata": {
    "vscode": {
     "languageId": "r"
    }
   },
   "outputs": [
    {
     "data": {
      "text/html": [
       "1198"
      ],
      "text/latex": [
       "1198"
      ],
      "text/markdown": [
       "1198"
      ],
      "text/plain": [
       "[1] 1198"
      ]
     },
     "metadata": {},
     "output_type": "display_data"
    },
    {
     "data": {
      "text/html": [
       "<table class=\"dataframe\">\n",
       "<caption>A data.frame: 1 × 1</caption>\n",
       "<thead>\n",
       "\t<tr><th scope=col>SUM(Freq)</th></tr>\n",
       "\t<tr><th scope=col>&lt;dbl&gt;</th></tr>\n",
       "</thead>\n",
       "<tbody>\n",
       "\t<tr><td>1198</td></tr>\n",
       "</tbody>\n",
       "</table>\n"
      ],
      "text/latex": [
       "A data.frame: 1 × 1\n",
       "\\begin{tabular}{l}\n",
       " SUM(Freq)\\\\\n",
       " <dbl>\\\\\n",
       "\\hline\n",
       "\t 1198\\\\\n",
       "\\end{tabular}\n"
      ],
      "text/markdown": [
       "\n",
       "A data.frame: 1 × 1\n",
       "\n",
       "| SUM(Freq) &lt;dbl&gt; |\n",
       "|---|\n",
       "| 1198 |\n",
       "\n"
      ],
      "text/plain": [
       "  SUM(Freq)\n",
       "1 1198     "
      ]
     },
     "metadata": {},
     "output_type": "display_data"
    },
    {
     "data": {
      "text/html": [
       "1198"
      ],
      "text/latex": [
       "1198"
      ],
      "text/markdown": [
       "1198"
      ],
      "text/plain": [
       "[1] 1198"
      ]
     },
     "metadata": {},
     "output_type": "display_data"
    }
   ],
   "source": [
    "sum(ucb[ucb$Admit == \"Admitted\" & ucb$Gender == \"Male\", 4])\n",
    "sqldf(\"SELECT SUM(Freq) FROM ucb WHERE Admit='Admitted' AND Gender='Male'\")\n",
    "ucb |> filter(Admit == \"Admitted\" & Gender == \"Male\") |> select(Freq) |> sum()"
   ]
  },
  {
   "cell_type": "code",
   "execution_count": 295,
   "id": "f10425c0",
   "metadata": {
    "vscode": {
     "languageId": "r"
    }
   },
   "outputs": [
    {
     "data": {
      "text/html": [
       "146.25"
      ],
      "text/latex": [
       "146.25"
      ],
      "text/markdown": [
       "146.25"
      ],
      "text/plain": [
       "[1] 146.25"
      ]
     },
     "metadata": {},
     "output_type": "display_data"
    },
    {
     "data": {
      "text/html": [
       "<table class=\"dataframe\">\n",
       "<caption>A data.frame: 1 × 1</caption>\n",
       "<thead>\n",
       "\t<tr><th scope=col>avg_freq</th></tr>\n",
       "\t<tr><th scope=col>&lt;dbl&gt;</th></tr>\n",
       "</thead>\n",
       "<tbody>\n",
       "\t<tr><td>146.25</td></tr>\n",
       "</tbody>\n",
       "</table>\n"
      ],
      "text/latex": [
       "A data.frame: 1 × 1\n",
       "\\begin{tabular}{l}\n",
       " avg\\_freq\\\\\n",
       " <dbl>\\\\\n",
       "\\hline\n",
       "\t 146.25\\\\\n",
       "\\end{tabular}\n"
      ],
      "text/markdown": [
       "\n",
       "A data.frame: 1 × 1\n",
       "\n",
       "| avg_freq &lt;dbl&gt; |\n",
       "|---|\n",
       "| 146.25 |\n",
       "\n"
      ],
      "text/plain": [
       "  avg_freq\n",
       "1 146.25  "
      ]
     },
     "metadata": {},
     "output_type": "display_data"
    },
    {
     "data": {
      "text/html": [
       "<table class=\"dataframe\">\n",
       "<caption>A data.frame: 1 × 1</caption>\n",
       "<thead>\n",
       "\t<tr><th scope=col>mean(Freq)</th></tr>\n",
       "\t<tr><th scope=col>&lt;dbl&gt;</th></tr>\n",
       "</thead>\n",
       "<tbody>\n",
       "\t<tr><td>146.25</td></tr>\n",
       "</tbody>\n",
       "</table>\n"
      ],
      "text/latex": [
       "A data.frame: 1 × 1\n",
       "\\begin{tabular}{l}\n",
       " mean(Freq)\\\\\n",
       " <dbl>\\\\\n",
       "\\hline\n",
       "\t 146.25\\\\\n",
       "\\end{tabular}\n"
      ],
      "text/markdown": [
       "\n",
       "A data.frame: 1 × 1\n",
       "\n",
       "| mean(Freq) &lt;dbl&gt; |\n",
       "|---|\n",
       "| 146.25 |\n",
       "\n"
      ],
      "text/plain": [
       "  mean(Freq)\n",
       "1 146.25    "
      ]
     },
     "metadata": {},
     "output_type": "display_data"
    }
   ],
   "source": [
    "mean(ucb[ucb$Admit == \"Admitted\", 4])\n",
    "sqldf(\"SELECT AVG(Freq) AS avg_freq FROM ucb WHERE Admit='Admitted'\")\n",
    "ucb |> filter(Admit == \"Admitted\") |> summarise(mean(Freq))"
   ]
  },
  {
   "cell_type": "markdown",
   "id": "5b3f9866",
   "metadata": {},
   "source": [
    "##########\n"
   ]
  },
  {
   "cell_type": "code",
   "execution_count": 304,
   "id": "e2308878",
   "metadata": {
    "vscode": {
     "languageId": "r"
    }
   },
   "outputs": [
    {
     "data": {
      "text/html": [
       "<table class=\"dataframe\">\n",
       "<caption>A tibble: 6 × 10</caption>\n",
       "<thead>\n",
       "\t<tr><th scope=col>carat</th><th scope=col>cut</th><th scope=col>color</th><th scope=col>clarity</th><th scope=col>depth</th><th scope=col>table</th><th scope=col>price</th><th scope=col>x</th><th scope=col>y</th><th scope=col>z</th></tr>\n",
       "\t<tr><th scope=col>&lt;dbl&gt;</th><th scope=col>&lt;ord&gt;</th><th scope=col>&lt;ord&gt;</th><th scope=col>&lt;ord&gt;</th><th scope=col>&lt;dbl&gt;</th><th scope=col>&lt;dbl&gt;</th><th scope=col>&lt;int&gt;</th><th scope=col>&lt;dbl&gt;</th><th scope=col>&lt;dbl&gt;</th><th scope=col>&lt;dbl&gt;</th></tr>\n",
       "</thead>\n",
       "<tbody>\n",
       "\t<tr><td>0.23</td><td>Ideal    </td><td>E</td><td>SI2 </td><td>61.5</td><td>55</td><td>326</td><td>3.95</td><td>3.98</td><td>2.43</td></tr>\n",
       "\t<tr><td>0.21</td><td>Premium  </td><td>E</td><td>SI1 </td><td>59.8</td><td>61</td><td>326</td><td>3.89</td><td>3.84</td><td>2.31</td></tr>\n",
       "\t<tr><td>0.23</td><td>Good     </td><td>E</td><td>VS1 </td><td>56.9</td><td>65</td><td>327</td><td>4.05</td><td>4.07</td><td>2.31</td></tr>\n",
       "\t<tr><td>0.29</td><td>Premium  </td><td>I</td><td>VS2 </td><td>62.4</td><td>58</td><td>334</td><td>4.20</td><td>4.23</td><td>2.63</td></tr>\n",
       "\t<tr><td>0.31</td><td>Good     </td><td>J</td><td>SI2 </td><td>63.3</td><td>58</td><td>335</td><td>4.34</td><td>4.35</td><td>2.75</td></tr>\n",
       "\t<tr><td>0.24</td><td>Very Good</td><td>J</td><td>VVS2</td><td>62.8</td><td>57</td><td>336</td><td>3.94</td><td>3.96</td><td>2.48</td></tr>\n",
       "</tbody>\n",
       "</table>\n"
      ],
      "text/latex": [
       "A tibble: 6 × 10\n",
       "\\begin{tabular}{llllllllll}\n",
       " carat & cut & color & clarity & depth & table & price & x & y & z\\\\\n",
       " <dbl> & <ord> & <ord> & <ord> & <dbl> & <dbl> & <int> & <dbl> & <dbl> & <dbl>\\\\\n",
       "\\hline\n",
       "\t 0.23 & Ideal     & E & SI2  & 61.5 & 55 & 326 & 3.95 & 3.98 & 2.43\\\\\n",
       "\t 0.21 & Premium   & E & SI1  & 59.8 & 61 & 326 & 3.89 & 3.84 & 2.31\\\\\n",
       "\t 0.23 & Good      & E & VS1  & 56.9 & 65 & 327 & 4.05 & 4.07 & 2.31\\\\\n",
       "\t 0.29 & Premium   & I & VS2  & 62.4 & 58 & 334 & 4.20 & 4.23 & 2.63\\\\\n",
       "\t 0.31 & Good      & J & SI2  & 63.3 & 58 & 335 & 4.34 & 4.35 & 2.75\\\\\n",
       "\t 0.24 & Very Good & J & VVS2 & 62.8 & 57 & 336 & 3.94 & 3.96 & 2.48\\\\\n",
       "\\end{tabular}\n"
      ],
      "text/markdown": [
       "\n",
       "A tibble: 6 × 10\n",
       "\n",
       "| carat &lt;dbl&gt; | cut &lt;ord&gt; | color &lt;ord&gt; | clarity &lt;ord&gt; | depth &lt;dbl&gt; | table &lt;dbl&gt; | price &lt;int&gt; | x &lt;dbl&gt; | y &lt;dbl&gt; | z &lt;dbl&gt; |\n",
       "|---|---|---|---|---|---|---|---|---|---|\n",
       "| 0.23 | Ideal     | E | SI2  | 61.5 | 55 | 326 | 3.95 | 3.98 | 2.43 |\n",
       "| 0.21 | Premium   | E | SI1  | 59.8 | 61 | 326 | 3.89 | 3.84 | 2.31 |\n",
       "| 0.23 | Good      | E | VS1  | 56.9 | 65 | 327 | 4.05 | 4.07 | 2.31 |\n",
       "| 0.29 | Premium   | I | VS2  | 62.4 | 58 | 334 | 4.20 | 4.23 | 2.63 |\n",
       "| 0.31 | Good      | J | SI2  | 63.3 | 58 | 335 | 4.34 | 4.35 | 2.75 |\n",
       "| 0.24 | Very Good | J | VVS2 | 62.8 | 57 | 336 | 3.94 | 3.96 | 2.48 |\n",
       "\n"
      ],
      "text/plain": [
       "  carat cut       color clarity depth table price x    y    z   \n",
       "1 0.23  Ideal     E     SI2     61.5  55    326   3.95 3.98 2.43\n",
       "2 0.21  Premium   E     SI1     59.8  61    326   3.89 3.84 2.31\n",
       "3 0.23  Good      E     VS1     56.9  65    327   4.05 4.07 2.31\n",
       "4 0.29  Premium   I     VS2     62.4  58    334   4.20 4.23 2.63\n",
       "5 0.31  Good      J     SI2     63.3  58    335   4.34 4.35 2.75\n",
       "6 0.24  Very Good J     VVS2    62.8  57    336   3.94 3.96 2.48"
      ]
     },
     "metadata": {},
     "output_type": "display_data"
    }
   ],
   "source": [
    "library(sqldf)\n",
    "library(ggplot2)\n",
    "data(diamonds)\n",
    "# help(diamonds)\n",
    "head(diamonds)"
   ]
  },
  {
   "cell_type": "code",
   "execution_count": 320,
   "id": "a87b3e9d",
   "metadata": {
    "vscode": {
     "languageId": "r"
    }
   },
   "outputs": [
    {
     "data": {
      "text/html": [
       "53940"
      ],
      "text/latex": [
       "53940"
      ],
      "text/markdown": [
       "53940"
      ],
      "text/plain": [
       "[1] 53940"
      ]
     },
     "metadata": {},
     "output_type": "display_data"
    },
    {
     "data": {
      "text/html": [
       "<table class=\"dataframe\">\n",
       "<caption>A data.frame: 1 × 1</caption>\n",
       "<thead>\n",
       "\t<tr><th scope=col>COUNT(*)</th></tr>\n",
       "\t<tr><th scope=col>&lt;int&gt;</th></tr>\n",
       "</thead>\n",
       "<tbody>\n",
       "\t<tr><td>53940</td></tr>\n",
       "</tbody>\n",
       "</table>\n"
      ],
      "text/latex": [
       "A data.frame: 1 × 1\n",
       "\\begin{tabular}{l}\n",
       " COUNT(*)\\\\\n",
       " <int>\\\\\n",
       "\\hline\n",
       "\t 53940\\\\\n",
       "\\end{tabular}\n"
      ],
      "text/markdown": [
       "\n",
       "A data.frame: 1 × 1\n",
       "\n",
       "| COUNT(*) &lt;int&gt; |\n",
       "|---|\n",
       "| 53940 |\n",
       "\n"
      ],
      "text/plain": [
       "  COUNT(*)\n",
       "1 53940   "
      ]
     },
     "metadata": {},
     "output_type": "display_data"
    }
   ],
   "source": [
    "nrow(diamonds)\n",
    "sqldf(\"SELECT COUNT(*) from diamonds\")"
   ]
  },
  {
   "cell_type": "code",
   "execution_count": 328,
   "id": "a5097a1f",
   "metadata": {
    "vscode": {
     "languageId": "r"
    }
   },
   "outputs": [
    {
     "data": {
      "text/html": [
       "<table class=\"dataframe\">\n",
       "<caption>A data.frame: 6 × 10</caption>\n",
       "<thead>\n",
       "\t<tr><th></th><th scope=col>carat</th><th scope=col>cut</th><th scope=col>color</th><th scope=col>clarity</th><th scope=col>depth</th><th scope=col>table</th><th scope=col>price</th><th scope=col>x</th><th scope=col>y</th><th scope=col>z</th></tr>\n",
       "\t<tr><th></th><th scope=col>&lt;dbl&gt;</th><th scope=col>&lt;ord&gt;</th><th scope=col>&lt;ord&gt;</th><th scope=col>&lt;ord&gt;</th><th scope=col>&lt;dbl&gt;</th><th scope=col>&lt;dbl&gt;</th><th scope=col>&lt;int&gt;</th><th scope=col>&lt;dbl&gt;</th><th scope=col>&lt;dbl&gt;</th><th scope=col>&lt;dbl&gt;</th></tr>\n",
       "</thead>\n",
       "<tbody>\n",
       "\t<tr><th scope=row>1</th><td>0.23</td><td>Ideal    </td><td>E</td><td>SI2 </td><td>61.5</td><td>55</td><td>326</td><td>3.95</td><td>3.98</td><td>2.43</td></tr>\n",
       "\t<tr><th scope=row>2</th><td>0.21</td><td>Premium  </td><td>E</td><td>SI1 </td><td>59.8</td><td>61</td><td>326</td><td>3.89</td><td>3.84</td><td>2.31</td></tr>\n",
       "\t<tr><th scope=row>3</th><td>0.23</td><td>Good     </td><td>E</td><td>VS1 </td><td>56.9</td><td>65</td><td>327</td><td>4.05</td><td>4.07</td><td>2.31</td></tr>\n",
       "\t<tr><th scope=row>4</th><td>0.29</td><td>Premium  </td><td>I</td><td>VS2 </td><td>62.4</td><td>58</td><td>334</td><td>4.20</td><td>4.23</td><td>2.63</td></tr>\n",
       "\t<tr><th scope=row>5</th><td>0.31</td><td>Good     </td><td>J</td><td>SI2 </td><td>63.3</td><td>58</td><td>335</td><td>4.34</td><td>4.35</td><td>2.75</td></tr>\n",
       "\t<tr><th scope=row>6</th><td>0.24</td><td>Very Good</td><td>J</td><td>VVS2</td><td>62.8</td><td>57</td><td>336</td><td>3.94</td><td>3.96</td><td>2.48</td></tr>\n",
       "</tbody>\n",
       "</table>\n"
      ],
      "text/latex": [
       "A data.frame: 6 × 10\n",
       "\\begin{tabular}{r|llllllllll}\n",
       "  & carat & cut & color & clarity & depth & table & price & x & y & z\\\\\n",
       "  & <dbl> & <ord> & <ord> & <ord> & <dbl> & <dbl> & <int> & <dbl> & <dbl> & <dbl>\\\\\n",
       "\\hline\n",
       "\t1 & 0.23 & Ideal     & E & SI2  & 61.5 & 55 & 326 & 3.95 & 3.98 & 2.43\\\\\n",
       "\t2 & 0.21 & Premium   & E & SI1  & 59.8 & 61 & 326 & 3.89 & 3.84 & 2.31\\\\\n",
       "\t3 & 0.23 & Good      & E & VS1  & 56.9 & 65 & 327 & 4.05 & 4.07 & 2.31\\\\\n",
       "\t4 & 0.29 & Premium   & I & VS2  & 62.4 & 58 & 334 & 4.20 & 4.23 & 2.63\\\\\n",
       "\t5 & 0.31 & Good      & J & SI2  & 63.3 & 58 & 335 & 4.34 & 4.35 & 2.75\\\\\n",
       "\t6 & 0.24 & Very Good & J & VVS2 & 62.8 & 57 & 336 & 3.94 & 3.96 & 2.48\\\\\n",
       "\\end{tabular}\n"
      ],
      "text/markdown": [
       "\n",
       "A data.frame: 6 × 10\n",
       "\n",
       "| <!--/--> | carat &lt;dbl&gt; | cut &lt;ord&gt; | color &lt;ord&gt; | clarity &lt;ord&gt; | depth &lt;dbl&gt; | table &lt;dbl&gt; | price &lt;int&gt; | x &lt;dbl&gt; | y &lt;dbl&gt; | z &lt;dbl&gt; |\n",
       "|---|---|---|---|---|---|---|---|---|---|---|\n",
       "| 1 | 0.23 | Ideal     | E | SI2  | 61.5 | 55 | 326 | 3.95 | 3.98 | 2.43 |\n",
       "| 2 | 0.21 | Premium   | E | SI1  | 59.8 | 61 | 326 | 3.89 | 3.84 | 2.31 |\n",
       "| 3 | 0.23 | Good      | E | VS1  | 56.9 | 65 | 327 | 4.05 | 4.07 | 2.31 |\n",
       "| 4 | 0.29 | Premium   | I | VS2  | 62.4 | 58 | 334 | 4.20 | 4.23 | 2.63 |\n",
       "| 5 | 0.31 | Good      | J | SI2  | 63.3 | 58 | 335 | 4.34 | 4.35 | 2.75 |\n",
       "| 6 | 0.24 | Very Good | J | VVS2 | 62.8 | 57 | 336 | 3.94 | 3.96 | 2.48 |\n",
       "\n"
      ],
      "text/plain": [
       "  carat cut       color clarity depth table price x    y    z   \n",
       "1 0.23  Ideal     E     SI2     61.5  55    326   3.95 3.98 2.43\n",
       "2 0.21  Premium   E     SI1     59.8  61    326   3.89 3.84 2.31\n",
       "3 0.23  Good      E     VS1     56.9  65    327   4.05 4.07 2.31\n",
       "4 0.29  Premium   I     VS2     62.4  58    334   4.20 4.23 2.63\n",
       "5 0.31  Good      J     SI2     63.3  58    335   4.34 4.35 2.75\n",
       "6 0.24  Very Good J     VVS2    62.8  57    336   3.94 3.96 2.48"
      ]
     },
     "metadata": {},
     "output_type": "display_data"
    }
   ],
   "source": [
    "diamond = sqldf(\"SELECT * FROM diamonds\")\n",
    "head(diamond)"
   ]
  },
  {
   "cell_type": "code",
   "execution_count": null,
   "id": "36db5b46",
   "metadata": {
    "vscode": {
     "languageId": "r"
    }
   },
   "outputs": [
    {
     "data": {
      "text/html": [
       "<table class=\"dataframe\">\n",
       "<caption>A data.frame: 21551 × 10</caption>\n",
       "<thead>\n",
       "\t<tr><th scope=col>carat</th><th scope=col>cut</th><th scope=col>color</th><th scope=col>clarity</th><th scope=col>depth</th><th scope=col>table</th><th scope=col>price</th><th scope=col>x</th><th scope=col>y</th><th scope=col>z</th></tr>\n",
       "\t<tr><th scope=col>&lt;dbl&gt;</th><th scope=col>&lt;ord&gt;</th><th scope=col>&lt;ord&gt;</th><th scope=col>&lt;ord&gt;</th><th scope=col>&lt;dbl&gt;</th><th scope=col>&lt;dbl&gt;</th><th scope=col>&lt;int&gt;</th><th scope=col>&lt;dbl&gt;</th><th scope=col>&lt;dbl&gt;</th><th scope=col>&lt;dbl&gt;</th></tr>\n",
       "</thead>\n",
       "<tbody>\n",
       "\t<tr><td>0.23</td><td>Ideal</td><td>E</td><td>SI2 </td><td>61.5</td><td>55.0</td><td> 326</td><td>3.95</td><td>3.98</td><td>2.43</td></tr>\n",
       "\t<tr><td>0.23</td><td>Ideal</td><td>J</td><td>VS1 </td><td>62.8</td><td>56.0</td><td> 340</td><td>3.93</td><td>3.90</td><td>2.46</td></tr>\n",
       "\t<tr><td>0.31</td><td>Ideal</td><td>J</td><td>SI2 </td><td>62.2</td><td>54.0</td><td> 344</td><td>4.35</td><td>4.37</td><td>2.71</td></tr>\n",
       "\t<tr><td>0.30</td><td>Ideal</td><td>I</td><td>SI2 </td><td>62.0</td><td>54.0</td><td> 348</td><td>4.31</td><td>4.34</td><td>2.68</td></tr>\n",
       "\t<tr><td>0.33</td><td>Ideal</td><td>I</td><td>SI2 </td><td>61.8</td><td>55.0</td><td> 403</td><td>4.49</td><td>4.51</td><td>2.78</td></tr>\n",
       "\t<tr><td>0.33</td><td>Ideal</td><td>I</td><td>SI2 </td><td>61.2</td><td>56.0</td><td> 403</td><td>4.49</td><td>4.50</td><td>2.75</td></tr>\n",
       "\t<tr><td>0.33</td><td>Ideal</td><td>J</td><td>SI1 </td><td>61.1</td><td>56.0</td><td> 403</td><td>4.49</td><td>4.55</td><td>2.76</td></tr>\n",
       "\t<tr><td>0.23</td><td>Ideal</td><td>G</td><td>VS1 </td><td>61.9</td><td>54.0</td><td> 404</td><td>3.93</td><td>3.95</td><td>2.44</td></tr>\n",
       "\t<tr><td>0.32</td><td>Ideal</td><td>I</td><td>SI1 </td><td>60.9</td><td>55.0</td><td> 404</td><td>4.45</td><td>4.48</td><td>2.72</td></tr>\n",
       "\t<tr><td>0.30</td><td>Ideal</td><td>I</td><td>SI2 </td><td>61.0</td><td>59.0</td><td> 405</td><td>4.30</td><td>4.33</td><td>2.63</td></tr>\n",
       "\t<tr><td>0.35</td><td>Ideal</td><td>I</td><td>VS1 </td><td>60.9</td><td>57.0</td><td> 552</td><td>4.54</td><td>4.59</td><td>2.78</td></tr>\n",
       "\t<tr><td>0.30</td><td>Ideal</td><td>D</td><td>SI1 </td><td>62.5</td><td>57.0</td><td> 552</td><td>4.29</td><td>4.32</td><td>2.69</td></tr>\n",
       "\t<tr><td>0.30</td><td>Ideal</td><td>D</td><td>SI1 </td><td>62.1</td><td>56.0</td><td> 552</td><td>4.30</td><td>4.33</td><td>2.68</td></tr>\n",
       "\t<tr><td>0.28</td><td>Ideal</td><td>G</td><td>VVS2</td><td>61.4</td><td>56.0</td><td> 553</td><td>4.19</td><td>4.22</td><td>2.58</td></tr>\n",
       "\t<tr><td>0.32</td><td>Ideal</td><td>I</td><td>VVS1</td><td>62.0</td><td>55.3</td><td> 553</td><td>4.39</td><td>4.42</td><td>2.73</td></tr>\n",
       "\t<tr><td>0.26</td><td>Ideal</td><td>E</td><td>VVS2</td><td>62.9</td><td>58.0</td><td> 554</td><td>4.02</td><td>4.06</td><td>2.54</td></tr>\n",
       "\t<tr><td>0.38</td><td>Ideal</td><td>I</td><td>SI2 </td><td>61.6</td><td>56.0</td><td> 554</td><td>4.65</td><td>4.67</td><td>2.87</td></tr>\n",
       "\t<tr><td>0.70</td><td>Ideal</td><td>E</td><td>SI1 </td><td>62.5</td><td>57.0</td><td>2757</td><td>5.70</td><td>5.72</td><td>3.57</td></tr>\n",
       "\t<tr><td>0.70</td><td>Ideal</td><td>G</td><td>VS2 </td><td>61.6</td><td>56.0</td><td>2757</td><td>5.70</td><td>5.67</td><td>3.50</td></tr>\n",
       "\t<tr><td>0.74</td><td>Ideal</td><td>G</td><td>SI1 </td><td>61.6</td><td>55.0</td><td>2760</td><td>5.80</td><td>5.85</td><td>3.59</td></tr>\n",
       "\t<tr><td>0.80</td><td>Ideal</td><td>I</td><td>VS1 </td><td>62.9</td><td>56.0</td><td>2760</td><td>5.94</td><td>5.87</td><td>3.72</td></tr>\n",
       "\t<tr><td>0.75</td><td>Ideal</td><td>G</td><td>SI1 </td><td>62.2</td><td>55.0</td><td>2760</td><td>5.87</td><td>5.80</td><td>3.63</td></tr>\n",
       "\t<tr><td>0.74</td><td>Ideal</td><td>I</td><td>VVS2</td><td>62.3</td><td>55.0</td><td>2761</td><td>5.77</td><td>5.81</td><td>3.61</td></tr>\n",
       "\t<tr><td>0.81</td><td>Ideal</td><td>F</td><td>SI2 </td><td>58.8</td><td>57.0</td><td>2761</td><td>6.14</td><td>6.11</td><td>3.60</td></tr>\n",
       "\t<tr><td>0.59</td><td>Ideal</td><td>E</td><td>VVS2</td><td>62.0</td><td>55.0</td><td>2761</td><td>5.38</td><td>5.43</td><td>3.35</td></tr>\n",
       "\t<tr><td>0.80</td><td>Ideal</td><td>F</td><td>SI2 </td><td>61.4</td><td>57.0</td><td>2761</td><td>5.96</td><td>6.00</td><td>3.67</td></tr>\n",
       "\t<tr><td>0.74</td><td>Ideal</td><td>E</td><td>SI2 </td><td>62.2</td><td>56.0</td><td>2761</td><td>5.80</td><td>5.84</td><td>3.62</td></tr>\n",
       "\t<tr><td>0.73</td><td>Ideal</td><td>F</td><td>VS2 </td><td>62.6</td><td>56.0</td><td>2762</td><td>5.77</td><td>5.74</td><td>3.60</td></tr>\n",
       "\t<tr><td>0.73</td><td>Ideal</td><td>F</td><td>VS2 </td><td>62.7</td><td>53.0</td><td>2762</td><td>5.80</td><td>5.75</td><td>3.62</td></tr>\n",
       "\t<tr><td>0.71</td><td>Ideal</td><td>G</td><td>VS2 </td><td>62.4</td><td>54.0</td><td>2762</td><td>5.72</td><td>5.76</td><td>3.58</td></tr>\n",
       "\t<tr><td>⋮</td><td>⋮</td><td>⋮</td><td>⋮</td><td>⋮</td><td>⋮</td><td>⋮</td><td>⋮</td><td>⋮</td><td>⋮</td></tr>\n",
       "\t<tr><td>0.82</td><td>Ideal</td><td>J</td><td>VS2 </td><td>61.6</td><td>56.0</td><td>2741</td><td>6.00</td><td>6.04</td><td>3.71</td></tr>\n",
       "\t<tr><td>0.56</td><td>Ideal</td><td>D</td><td>VS1 </td><td>61.1</td><td>56.0</td><td>2741</td><td>5.30</td><td>5.33</td><td>3.25</td></tr>\n",
       "\t<tr><td>0.71</td><td>Ideal</td><td>H</td><td>VVS1</td><td>62.1</td><td>57.0</td><td>2742</td><td>5.67</td><td>5.70</td><td>3.53</td></tr>\n",
       "\t<tr><td>0.83</td><td>Ideal</td><td>J</td><td>VS2 </td><td>62.3</td><td>55.0</td><td>2742</td><td>6.01</td><td>6.03</td><td>3.75</td></tr>\n",
       "\t<tr><td>0.51</td><td>Ideal</td><td>D</td><td>VVS2</td><td>61.7</td><td>56.0</td><td>2742</td><td>5.16</td><td>5.14</td><td>3.18</td></tr>\n",
       "\t<tr><td>0.51</td><td>Ideal</td><td>D</td><td>VVS2</td><td>61.3</td><td>57.0</td><td>2742</td><td>5.17</td><td>5.14</td><td>3.16</td></tr>\n",
       "\t<tr><td>0.75</td><td>Ideal</td><td>F</td><td>SI1 </td><td>62.3</td><td>57.0</td><td>2744</td><td>5.82</td><td>5.77</td><td>3.61</td></tr>\n",
       "\t<tr><td>0.70</td><td>Ideal</td><td>G</td><td>SI1 </td><td>60.7</td><td>55.0</td><td>2744</td><td>5.76</td><td>5.80</td><td>3.51</td></tr>\n",
       "\t<tr><td>0.70</td><td>Ideal</td><td>E</td><td>SI1 </td><td>61.7</td><td>55.0</td><td>2745</td><td>5.71</td><td>5.74</td><td>3.53</td></tr>\n",
       "\t<tr><td>0.51</td><td>Ideal</td><td>E</td><td>VVS1</td><td>61.9</td><td>54.0</td><td>2745</td><td>5.17</td><td>5.11</td><td>3.18</td></tr>\n",
       "\t<tr><td>0.72</td><td>Ideal</td><td>G</td><td>VS1 </td><td>62.6</td><td>53.0</td><td>2746</td><td>5.76</td><td>5.78</td><td>3.61</td></tr>\n",
       "\t<tr><td>0.81</td><td>Ideal</td><td>D</td><td>SI1 </td><td>61.5</td><td>57.0</td><td>2748</td><td>6.00</td><td>6.03</td><td>3.70</td></tr>\n",
       "\t<tr><td>0.52</td><td>Ideal</td><td>F</td><td>IF  </td><td>61.5</td><td>57.0</td><td>2749</td><td>5.15</td><td>5.19</td><td>3.18</td></tr>\n",
       "\t<tr><td>0.80</td><td>Ideal</td><td>G</td><td>SI2 </td><td>62.2</td><td>56.0</td><td>2749</td><td>5.95</td><td>5.91</td><td>3.69</td></tr>\n",
       "\t<tr><td>0.56</td><td>Ideal</td><td>E</td><td>VVS1</td><td>62.1</td><td>56.0</td><td>2750</td><td>5.28</td><td>5.29</td><td>3.28</td></tr>\n",
       "\t<tr><td>0.70</td><td>Ideal</td><td>F</td><td>VS1 </td><td>62.5</td><td>56.0</td><td>2751</td><td>5.73</td><td>5.70</td><td>3.57</td></tr>\n",
       "\t<tr><td>0.70</td><td>Ideal</td><td>F</td><td>VS1 </td><td>62.0</td><td>55.0</td><td>2751</td><td>5.74</td><td>5.71</td><td>3.55</td></tr>\n",
       "\t<tr><td>0.71</td><td>Ideal</td><td>G</td><td>SI1 </td><td>60.5</td><td>56.4</td><td>2751</td><td>5.76</td><td>5.80</td><td>3.50</td></tr>\n",
       "\t<tr><td>0.83</td><td>Ideal</td><td>G</td><td>SI2 </td><td>62.4</td><td>54.0</td><td>2751</td><td>6.01</td><td>6.08</td><td>3.77</td></tr>\n",
       "\t<tr><td>0.72</td><td>Ideal</td><td>H</td><td>VVS2</td><td>62.3</td><td>56.0</td><td>2752</td><td>5.74</td><td>5.81</td><td>3.60</td></tr>\n",
       "\t<tr><td>0.73</td><td>Ideal</td><td>H</td><td>VS2 </td><td>62.5</td><td>58.0</td><td>2752</td><td>5.71</td><td>5.75</td><td>3.58</td></tr>\n",
       "\t<tr><td>0.77</td><td>Ideal</td><td>E</td><td>SI2 </td><td>62.1</td><td>56.0</td><td>2753</td><td>5.84</td><td>5.86</td><td>3.63</td></tr>\n",
       "\t<tr><td>0.76</td><td>Ideal</td><td>I</td><td>VVS1</td><td>62.2</td><td>55.0</td><td>2753</td><td>5.89</td><td>5.87</td><td>3.66</td></tr>\n",
       "\t<tr><td>0.73</td><td>Ideal</td><td>I</td><td>VS2 </td><td>61.3</td><td>56.0</td><td>2756</td><td>5.80</td><td>5.84</td><td>3.57</td></tr>\n",
       "\t<tr><td>0.73</td><td>Ideal</td><td>I</td><td>VS2 </td><td>61.6</td><td>55.0</td><td>2756</td><td>5.82</td><td>5.84</td><td>3.59</td></tr>\n",
       "\t<tr><td>0.79</td><td>Ideal</td><td>I</td><td>SI1 </td><td>61.6</td><td>56.0</td><td>2756</td><td>5.95</td><td>5.97</td><td>3.67</td></tr>\n",
       "\t<tr><td>0.71</td><td>Ideal</td><td>E</td><td>SI1 </td><td>61.9</td><td>56.0</td><td>2756</td><td>5.71</td><td>5.73</td><td>3.54</td></tr>\n",
       "\t<tr><td>0.71</td><td>Ideal</td><td>G</td><td>VS1 </td><td>61.4</td><td>56.0</td><td>2756</td><td>5.76</td><td>5.73</td><td>3.53</td></tr>\n",
       "\t<tr><td>0.72</td><td>Ideal</td><td>D</td><td>SI1 </td><td>60.8</td><td>57.0</td><td>2757</td><td>5.75</td><td>5.76</td><td>3.50</td></tr>\n",
       "\t<tr><td>0.75</td><td>Ideal</td><td>D</td><td>SI2 </td><td>62.2</td><td>55.0</td><td>2757</td><td>5.83</td><td>5.87</td><td>3.64</td></tr>\n",
       "</tbody>\n",
       "</table>\n"
      ],
      "text/latex": [
       "A data.frame: 21551 × 10\n",
       "\\begin{tabular}{llllllllll}\n",
       " carat & cut & color & clarity & depth & table & price & x & y & z\\\\\n",
       " <dbl> & <ord> & <ord> & <ord> & <dbl> & <dbl> & <int> & <dbl> & <dbl> & <dbl>\\\\\n",
       "\\hline\n",
       "\t 0.23 & Ideal & E & SI2  & 61.5 & 55.0 &  326 & 3.95 & 3.98 & 2.43\\\\\n",
       "\t 0.23 & Ideal & J & VS1  & 62.8 & 56.0 &  340 & 3.93 & 3.90 & 2.46\\\\\n",
       "\t 0.31 & Ideal & J & SI2  & 62.2 & 54.0 &  344 & 4.35 & 4.37 & 2.71\\\\\n",
       "\t 0.30 & Ideal & I & SI2  & 62.0 & 54.0 &  348 & 4.31 & 4.34 & 2.68\\\\\n",
       "\t 0.33 & Ideal & I & SI2  & 61.8 & 55.0 &  403 & 4.49 & 4.51 & 2.78\\\\\n",
       "\t 0.33 & Ideal & I & SI2  & 61.2 & 56.0 &  403 & 4.49 & 4.50 & 2.75\\\\\n",
       "\t 0.33 & Ideal & J & SI1  & 61.1 & 56.0 &  403 & 4.49 & 4.55 & 2.76\\\\\n",
       "\t 0.23 & Ideal & G & VS1  & 61.9 & 54.0 &  404 & 3.93 & 3.95 & 2.44\\\\\n",
       "\t 0.32 & Ideal & I & SI1  & 60.9 & 55.0 &  404 & 4.45 & 4.48 & 2.72\\\\\n",
       "\t 0.30 & Ideal & I & SI2  & 61.0 & 59.0 &  405 & 4.30 & 4.33 & 2.63\\\\\n",
       "\t 0.35 & Ideal & I & VS1  & 60.9 & 57.0 &  552 & 4.54 & 4.59 & 2.78\\\\\n",
       "\t 0.30 & Ideal & D & SI1  & 62.5 & 57.0 &  552 & 4.29 & 4.32 & 2.69\\\\\n",
       "\t 0.30 & Ideal & D & SI1  & 62.1 & 56.0 &  552 & 4.30 & 4.33 & 2.68\\\\\n",
       "\t 0.28 & Ideal & G & VVS2 & 61.4 & 56.0 &  553 & 4.19 & 4.22 & 2.58\\\\\n",
       "\t 0.32 & Ideal & I & VVS1 & 62.0 & 55.3 &  553 & 4.39 & 4.42 & 2.73\\\\\n",
       "\t 0.26 & Ideal & E & VVS2 & 62.9 & 58.0 &  554 & 4.02 & 4.06 & 2.54\\\\\n",
       "\t 0.38 & Ideal & I & SI2  & 61.6 & 56.0 &  554 & 4.65 & 4.67 & 2.87\\\\\n",
       "\t 0.70 & Ideal & E & SI1  & 62.5 & 57.0 & 2757 & 5.70 & 5.72 & 3.57\\\\\n",
       "\t 0.70 & Ideal & G & VS2  & 61.6 & 56.0 & 2757 & 5.70 & 5.67 & 3.50\\\\\n",
       "\t 0.74 & Ideal & G & SI1  & 61.6 & 55.0 & 2760 & 5.80 & 5.85 & 3.59\\\\\n",
       "\t 0.80 & Ideal & I & VS1  & 62.9 & 56.0 & 2760 & 5.94 & 5.87 & 3.72\\\\\n",
       "\t 0.75 & Ideal & G & SI1  & 62.2 & 55.0 & 2760 & 5.87 & 5.80 & 3.63\\\\\n",
       "\t 0.74 & Ideal & I & VVS2 & 62.3 & 55.0 & 2761 & 5.77 & 5.81 & 3.61\\\\\n",
       "\t 0.81 & Ideal & F & SI2  & 58.8 & 57.0 & 2761 & 6.14 & 6.11 & 3.60\\\\\n",
       "\t 0.59 & Ideal & E & VVS2 & 62.0 & 55.0 & 2761 & 5.38 & 5.43 & 3.35\\\\\n",
       "\t 0.80 & Ideal & F & SI2  & 61.4 & 57.0 & 2761 & 5.96 & 6.00 & 3.67\\\\\n",
       "\t 0.74 & Ideal & E & SI2  & 62.2 & 56.0 & 2761 & 5.80 & 5.84 & 3.62\\\\\n",
       "\t 0.73 & Ideal & F & VS2  & 62.6 & 56.0 & 2762 & 5.77 & 5.74 & 3.60\\\\\n",
       "\t 0.73 & Ideal & F & VS2  & 62.7 & 53.0 & 2762 & 5.80 & 5.75 & 3.62\\\\\n",
       "\t 0.71 & Ideal & G & VS2  & 62.4 & 54.0 & 2762 & 5.72 & 5.76 & 3.58\\\\\n",
       "\t ⋮ & ⋮ & ⋮ & ⋮ & ⋮ & ⋮ & ⋮ & ⋮ & ⋮ & ⋮\\\\\n",
       "\t 0.82 & Ideal & J & VS2  & 61.6 & 56.0 & 2741 & 6.00 & 6.04 & 3.71\\\\\n",
       "\t 0.56 & Ideal & D & VS1  & 61.1 & 56.0 & 2741 & 5.30 & 5.33 & 3.25\\\\\n",
       "\t 0.71 & Ideal & H & VVS1 & 62.1 & 57.0 & 2742 & 5.67 & 5.70 & 3.53\\\\\n",
       "\t 0.83 & Ideal & J & VS2  & 62.3 & 55.0 & 2742 & 6.01 & 6.03 & 3.75\\\\\n",
       "\t 0.51 & Ideal & D & VVS2 & 61.7 & 56.0 & 2742 & 5.16 & 5.14 & 3.18\\\\\n",
       "\t 0.51 & Ideal & D & VVS2 & 61.3 & 57.0 & 2742 & 5.17 & 5.14 & 3.16\\\\\n",
       "\t 0.75 & Ideal & F & SI1  & 62.3 & 57.0 & 2744 & 5.82 & 5.77 & 3.61\\\\\n",
       "\t 0.70 & Ideal & G & SI1  & 60.7 & 55.0 & 2744 & 5.76 & 5.80 & 3.51\\\\\n",
       "\t 0.70 & Ideal & E & SI1  & 61.7 & 55.0 & 2745 & 5.71 & 5.74 & 3.53\\\\\n",
       "\t 0.51 & Ideal & E & VVS1 & 61.9 & 54.0 & 2745 & 5.17 & 5.11 & 3.18\\\\\n",
       "\t 0.72 & Ideal & G & VS1  & 62.6 & 53.0 & 2746 & 5.76 & 5.78 & 3.61\\\\\n",
       "\t 0.81 & Ideal & D & SI1  & 61.5 & 57.0 & 2748 & 6.00 & 6.03 & 3.70\\\\\n",
       "\t 0.52 & Ideal & F & IF   & 61.5 & 57.0 & 2749 & 5.15 & 5.19 & 3.18\\\\\n",
       "\t 0.80 & Ideal & G & SI2  & 62.2 & 56.0 & 2749 & 5.95 & 5.91 & 3.69\\\\\n",
       "\t 0.56 & Ideal & E & VVS1 & 62.1 & 56.0 & 2750 & 5.28 & 5.29 & 3.28\\\\\n",
       "\t 0.70 & Ideal & F & VS1  & 62.5 & 56.0 & 2751 & 5.73 & 5.70 & 3.57\\\\\n",
       "\t 0.70 & Ideal & F & VS1  & 62.0 & 55.0 & 2751 & 5.74 & 5.71 & 3.55\\\\\n",
       "\t 0.71 & Ideal & G & SI1  & 60.5 & 56.4 & 2751 & 5.76 & 5.80 & 3.50\\\\\n",
       "\t 0.83 & Ideal & G & SI2  & 62.4 & 54.0 & 2751 & 6.01 & 6.08 & 3.77\\\\\n",
       "\t 0.72 & Ideal & H & VVS2 & 62.3 & 56.0 & 2752 & 5.74 & 5.81 & 3.60\\\\\n",
       "\t 0.73 & Ideal & H & VS2  & 62.5 & 58.0 & 2752 & 5.71 & 5.75 & 3.58\\\\\n",
       "\t 0.77 & Ideal & E & SI2  & 62.1 & 56.0 & 2753 & 5.84 & 5.86 & 3.63\\\\\n",
       "\t 0.76 & Ideal & I & VVS1 & 62.2 & 55.0 & 2753 & 5.89 & 5.87 & 3.66\\\\\n",
       "\t 0.73 & Ideal & I & VS2  & 61.3 & 56.0 & 2756 & 5.80 & 5.84 & 3.57\\\\\n",
       "\t 0.73 & Ideal & I & VS2  & 61.6 & 55.0 & 2756 & 5.82 & 5.84 & 3.59\\\\\n",
       "\t 0.79 & Ideal & I & SI1  & 61.6 & 56.0 & 2756 & 5.95 & 5.97 & 3.67\\\\\n",
       "\t 0.71 & Ideal & E & SI1  & 61.9 & 56.0 & 2756 & 5.71 & 5.73 & 3.54\\\\\n",
       "\t 0.71 & Ideal & G & VS1  & 61.4 & 56.0 & 2756 & 5.76 & 5.73 & 3.53\\\\\n",
       "\t 0.72 & Ideal & D & SI1  & 60.8 & 57.0 & 2757 & 5.75 & 5.76 & 3.50\\\\\n",
       "\t 0.75 & Ideal & D & SI2  & 62.2 & 55.0 & 2757 & 5.83 & 5.87 & 3.64\\\\\n",
       "\\end{tabular}\n"
      ],
      "text/markdown": [
       "\n",
       "A data.frame: 21551 × 10\n",
       "\n",
       "| carat &lt;dbl&gt; | cut &lt;ord&gt; | color &lt;ord&gt; | clarity &lt;ord&gt; | depth &lt;dbl&gt; | table &lt;dbl&gt; | price &lt;int&gt; | x &lt;dbl&gt; | y &lt;dbl&gt; | z &lt;dbl&gt; |\n",
       "|---|---|---|---|---|---|---|---|---|---|\n",
       "| 0.23 | Ideal | E | SI2  | 61.5 | 55.0 |  326 | 3.95 | 3.98 | 2.43 |\n",
       "| 0.23 | Ideal | J | VS1  | 62.8 | 56.0 |  340 | 3.93 | 3.90 | 2.46 |\n",
       "| 0.31 | Ideal | J | SI2  | 62.2 | 54.0 |  344 | 4.35 | 4.37 | 2.71 |\n",
       "| 0.30 | Ideal | I | SI2  | 62.0 | 54.0 |  348 | 4.31 | 4.34 | 2.68 |\n",
       "| 0.33 | Ideal | I | SI2  | 61.8 | 55.0 |  403 | 4.49 | 4.51 | 2.78 |\n",
       "| 0.33 | Ideal | I | SI2  | 61.2 | 56.0 |  403 | 4.49 | 4.50 | 2.75 |\n",
       "| 0.33 | Ideal | J | SI1  | 61.1 | 56.0 |  403 | 4.49 | 4.55 | 2.76 |\n",
       "| 0.23 | Ideal | G | VS1  | 61.9 | 54.0 |  404 | 3.93 | 3.95 | 2.44 |\n",
       "| 0.32 | Ideal | I | SI1  | 60.9 | 55.0 |  404 | 4.45 | 4.48 | 2.72 |\n",
       "| 0.30 | Ideal | I | SI2  | 61.0 | 59.0 |  405 | 4.30 | 4.33 | 2.63 |\n",
       "| 0.35 | Ideal | I | VS1  | 60.9 | 57.0 |  552 | 4.54 | 4.59 | 2.78 |\n",
       "| 0.30 | Ideal | D | SI1  | 62.5 | 57.0 |  552 | 4.29 | 4.32 | 2.69 |\n",
       "| 0.30 | Ideal | D | SI1  | 62.1 | 56.0 |  552 | 4.30 | 4.33 | 2.68 |\n",
       "| 0.28 | Ideal | G | VVS2 | 61.4 | 56.0 |  553 | 4.19 | 4.22 | 2.58 |\n",
       "| 0.32 | Ideal | I | VVS1 | 62.0 | 55.3 |  553 | 4.39 | 4.42 | 2.73 |\n",
       "| 0.26 | Ideal | E | VVS2 | 62.9 | 58.0 |  554 | 4.02 | 4.06 | 2.54 |\n",
       "| 0.38 | Ideal | I | SI2  | 61.6 | 56.0 |  554 | 4.65 | 4.67 | 2.87 |\n",
       "| 0.70 | Ideal | E | SI1  | 62.5 | 57.0 | 2757 | 5.70 | 5.72 | 3.57 |\n",
       "| 0.70 | Ideal | G | VS2  | 61.6 | 56.0 | 2757 | 5.70 | 5.67 | 3.50 |\n",
       "| 0.74 | Ideal | G | SI1  | 61.6 | 55.0 | 2760 | 5.80 | 5.85 | 3.59 |\n",
       "| 0.80 | Ideal | I | VS1  | 62.9 | 56.0 | 2760 | 5.94 | 5.87 | 3.72 |\n",
       "| 0.75 | Ideal | G | SI1  | 62.2 | 55.0 | 2760 | 5.87 | 5.80 | 3.63 |\n",
       "| 0.74 | Ideal | I | VVS2 | 62.3 | 55.0 | 2761 | 5.77 | 5.81 | 3.61 |\n",
       "| 0.81 | Ideal | F | SI2  | 58.8 | 57.0 | 2761 | 6.14 | 6.11 | 3.60 |\n",
       "| 0.59 | Ideal | E | VVS2 | 62.0 | 55.0 | 2761 | 5.38 | 5.43 | 3.35 |\n",
       "| 0.80 | Ideal | F | SI2  | 61.4 | 57.0 | 2761 | 5.96 | 6.00 | 3.67 |\n",
       "| 0.74 | Ideal | E | SI2  | 62.2 | 56.0 | 2761 | 5.80 | 5.84 | 3.62 |\n",
       "| 0.73 | Ideal | F | VS2  | 62.6 | 56.0 | 2762 | 5.77 | 5.74 | 3.60 |\n",
       "| 0.73 | Ideal | F | VS2  | 62.7 | 53.0 | 2762 | 5.80 | 5.75 | 3.62 |\n",
       "| 0.71 | Ideal | G | VS2  | 62.4 | 54.0 | 2762 | 5.72 | 5.76 | 3.58 |\n",
       "| ⋮ | ⋮ | ⋮ | ⋮ | ⋮ | ⋮ | ⋮ | ⋮ | ⋮ | ⋮ |\n",
       "| 0.82 | Ideal | J | VS2  | 61.6 | 56.0 | 2741 | 6.00 | 6.04 | 3.71 |\n",
       "| 0.56 | Ideal | D | VS1  | 61.1 | 56.0 | 2741 | 5.30 | 5.33 | 3.25 |\n",
       "| 0.71 | Ideal | H | VVS1 | 62.1 | 57.0 | 2742 | 5.67 | 5.70 | 3.53 |\n",
       "| 0.83 | Ideal | J | VS2  | 62.3 | 55.0 | 2742 | 6.01 | 6.03 | 3.75 |\n",
       "| 0.51 | Ideal | D | VVS2 | 61.7 | 56.0 | 2742 | 5.16 | 5.14 | 3.18 |\n",
       "| 0.51 | Ideal | D | VVS2 | 61.3 | 57.0 | 2742 | 5.17 | 5.14 | 3.16 |\n",
       "| 0.75 | Ideal | F | SI1  | 62.3 | 57.0 | 2744 | 5.82 | 5.77 | 3.61 |\n",
       "| 0.70 | Ideal | G | SI1  | 60.7 | 55.0 | 2744 | 5.76 | 5.80 | 3.51 |\n",
       "| 0.70 | Ideal | E | SI1  | 61.7 | 55.0 | 2745 | 5.71 | 5.74 | 3.53 |\n",
       "| 0.51 | Ideal | E | VVS1 | 61.9 | 54.0 | 2745 | 5.17 | 5.11 | 3.18 |\n",
       "| 0.72 | Ideal | G | VS1  | 62.6 | 53.0 | 2746 | 5.76 | 5.78 | 3.61 |\n",
       "| 0.81 | Ideal | D | SI1  | 61.5 | 57.0 | 2748 | 6.00 | 6.03 | 3.70 |\n",
       "| 0.52 | Ideal | F | IF   | 61.5 | 57.0 | 2749 | 5.15 | 5.19 | 3.18 |\n",
       "| 0.80 | Ideal | G | SI2  | 62.2 | 56.0 | 2749 | 5.95 | 5.91 | 3.69 |\n",
       "| 0.56 | Ideal | E | VVS1 | 62.1 | 56.0 | 2750 | 5.28 | 5.29 | 3.28 |\n",
       "| 0.70 | Ideal | F | VS1  | 62.5 | 56.0 | 2751 | 5.73 | 5.70 | 3.57 |\n",
       "| 0.70 | Ideal | F | VS1  | 62.0 | 55.0 | 2751 | 5.74 | 5.71 | 3.55 |\n",
       "| 0.71 | Ideal | G | SI1  | 60.5 | 56.4 | 2751 | 5.76 | 5.80 | 3.50 |\n",
       "| 0.83 | Ideal | G | SI2  | 62.4 | 54.0 | 2751 | 6.01 | 6.08 | 3.77 |\n",
       "| 0.72 | Ideal | H | VVS2 | 62.3 | 56.0 | 2752 | 5.74 | 5.81 | 3.60 |\n",
       "| 0.73 | Ideal | H | VS2  | 62.5 | 58.0 | 2752 | 5.71 | 5.75 | 3.58 |\n",
       "| 0.77 | Ideal | E | SI2  | 62.1 | 56.0 | 2753 | 5.84 | 5.86 | 3.63 |\n",
       "| 0.76 | Ideal | I | VVS1 | 62.2 | 55.0 | 2753 | 5.89 | 5.87 | 3.66 |\n",
       "| 0.73 | Ideal | I | VS2  | 61.3 | 56.0 | 2756 | 5.80 | 5.84 | 3.57 |\n",
       "| 0.73 | Ideal | I | VS2  | 61.6 | 55.0 | 2756 | 5.82 | 5.84 | 3.59 |\n",
       "| 0.79 | Ideal | I | SI1  | 61.6 | 56.0 | 2756 | 5.95 | 5.97 | 3.67 |\n",
       "| 0.71 | Ideal | E | SI1  | 61.9 | 56.0 | 2756 | 5.71 | 5.73 | 3.54 |\n",
       "| 0.71 | Ideal | G | VS1  | 61.4 | 56.0 | 2756 | 5.76 | 5.73 | 3.53 |\n",
       "| 0.72 | Ideal | D | SI1  | 60.8 | 57.0 | 2757 | 5.75 | 5.76 | 3.50 |\n",
       "| 0.75 | Ideal | D | SI2  | 62.2 | 55.0 | 2757 | 5.83 | 5.87 | 3.64 |\n",
       "\n"
      ],
      "text/plain": [
       "      carat cut   color clarity depth table price x    y    z   \n",
       "1     0.23  Ideal E     SI2     61.5  55.0   326  3.95 3.98 2.43\n",
       "2     0.23  Ideal J     VS1     62.8  56.0   340  3.93 3.90 2.46\n",
       "3     0.31  Ideal J     SI2     62.2  54.0   344  4.35 4.37 2.71\n",
       "4     0.30  Ideal I     SI2     62.0  54.0   348  4.31 4.34 2.68\n",
       "5     0.33  Ideal I     SI2     61.8  55.0   403  4.49 4.51 2.78\n",
       "6     0.33  Ideal I     SI2     61.2  56.0   403  4.49 4.50 2.75\n",
       "7     0.33  Ideal J     SI1     61.1  56.0   403  4.49 4.55 2.76\n",
       "8     0.23  Ideal G     VS1     61.9  54.0   404  3.93 3.95 2.44\n",
       "9     0.32  Ideal I     SI1     60.9  55.0   404  4.45 4.48 2.72\n",
       "10    0.30  Ideal I     SI2     61.0  59.0   405  4.30 4.33 2.63\n",
       "11    0.35  Ideal I     VS1     60.9  57.0   552  4.54 4.59 2.78\n",
       "12    0.30  Ideal D     SI1     62.5  57.0   552  4.29 4.32 2.69\n",
       "13    0.30  Ideal D     SI1     62.1  56.0   552  4.30 4.33 2.68\n",
       "14    0.28  Ideal G     VVS2    61.4  56.0   553  4.19 4.22 2.58\n",
       "15    0.32  Ideal I     VVS1    62.0  55.3   553  4.39 4.42 2.73\n",
       "16    0.26  Ideal E     VVS2    62.9  58.0   554  4.02 4.06 2.54\n",
       "17    0.38  Ideal I     SI2     61.6  56.0   554  4.65 4.67 2.87\n",
       "18    0.70  Ideal E     SI1     62.5  57.0  2757  5.70 5.72 3.57\n",
       "19    0.70  Ideal G     VS2     61.6  56.0  2757  5.70 5.67 3.50\n",
       "20    0.74  Ideal G     SI1     61.6  55.0  2760  5.80 5.85 3.59\n",
       "21    0.80  Ideal I     VS1     62.9  56.0  2760  5.94 5.87 3.72\n",
       "22    0.75  Ideal G     SI1     62.2  55.0  2760  5.87 5.80 3.63\n",
       "23    0.74  Ideal I     VVS2    62.3  55.0  2761  5.77 5.81 3.61\n",
       "24    0.81  Ideal F     SI2     58.8  57.0  2761  6.14 6.11 3.60\n",
       "25    0.59  Ideal E     VVS2    62.0  55.0  2761  5.38 5.43 3.35\n",
       "26    0.80  Ideal F     SI2     61.4  57.0  2761  5.96 6.00 3.67\n",
       "27    0.74  Ideal E     SI2     62.2  56.0  2761  5.80 5.84 3.62\n",
       "28    0.73  Ideal F     VS2     62.6  56.0  2762  5.77 5.74 3.60\n",
       "29    0.73  Ideal F     VS2     62.7  53.0  2762  5.80 5.75 3.62\n",
       "30    0.71  Ideal G     VS2     62.4  54.0  2762  5.72 5.76 3.58\n",
       "⋮     ⋮     ⋮     ⋮     ⋮       ⋮     ⋮     ⋮     ⋮    ⋮    ⋮   \n",
       "21522 0.82  Ideal J     VS2     61.6  56.0  2741  6.00 6.04 3.71\n",
       "21523 0.56  Ideal D     VS1     61.1  56.0  2741  5.30 5.33 3.25\n",
       "21524 0.71  Ideal H     VVS1    62.1  57.0  2742  5.67 5.70 3.53\n",
       "21525 0.83  Ideal J     VS2     62.3  55.0  2742  6.01 6.03 3.75\n",
       "21526 0.51  Ideal D     VVS2    61.7  56.0  2742  5.16 5.14 3.18\n",
       "21527 0.51  Ideal D     VVS2    61.3  57.0  2742  5.17 5.14 3.16\n",
       "21528 0.75  Ideal F     SI1     62.3  57.0  2744  5.82 5.77 3.61\n",
       "21529 0.70  Ideal G     SI1     60.7  55.0  2744  5.76 5.80 3.51\n",
       "21530 0.70  Ideal E     SI1     61.7  55.0  2745  5.71 5.74 3.53\n",
       "21531 0.51  Ideal E     VVS1    61.9  54.0  2745  5.17 5.11 3.18\n",
       "21532 0.72  Ideal G     VS1     62.6  53.0  2746  5.76 5.78 3.61\n",
       "21533 0.81  Ideal D     SI1     61.5  57.0  2748  6.00 6.03 3.70\n",
       "21534 0.52  Ideal F     IF      61.5  57.0  2749  5.15 5.19 3.18\n",
       "21535 0.80  Ideal G     SI2     62.2  56.0  2749  5.95 5.91 3.69\n",
       "21536 0.56  Ideal E     VVS1    62.1  56.0  2750  5.28 5.29 3.28\n",
       "21537 0.70  Ideal F     VS1     62.5  56.0  2751  5.73 5.70 3.57\n",
       "21538 0.70  Ideal F     VS1     62.0  55.0  2751  5.74 5.71 3.55\n",
       "21539 0.71  Ideal G     SI1     60.5  56.4  2751  5.76 5.80 3.50\n",
       "21540 0.83  Ideal G     SI2     62.4  54.0  2751  6.01 6.08 3.77\n",
       "21541 0.72  Ideal H     VVS2    62.3  56.0  2752  5.74 5.81 3.60\n",
       "21542 0.73  Ideal H     VS2     62.5  58.0  2752  5.71 5.75 3.58\n",
       "21543 0.77  Ideal E     SI2     62.1  56.0  2753  5.84 5.86 3.63\n",
       "21544 0.76  Ideal I     VVS1    62.2  55.0  2753  5.89 5.87 3.66\n",
       "21545 0.73  Ideal I     VS2     61.3  56.0  2756  5.80 5.84 3.57\n",
       "21546 0.73  Ideal I     VS2     61.6  55.0  2756  5.82 5.84 3.59\n",
       "21547 0.79  Ideal I     SI1     61.6  56.0  2756  5.95 5.97 3.67\n",
       "21548 0.71  Ideal E     SI1     61.9  56.0  2756  5.71 5.73 3.54\n",
       "21549 0.71  Ideal G     VS1     61.4  56.0  2756  5.76 5.73 3.53\n",
       "21550 0.72  Ideal D     SI1     60.8  57.0  2757  5.75 5.76 3.50\n",
       "21551 0.75  Ideal D     SI2     62.2  55.0  2757  5.83 5.87 3.64"
      ]
     },
     "metadata": {},
     "output_type": "display_data"
    },
    {
     "ename": "",
     "evalue": "",
     "output_type": "error",
     "traceback": [
      "\u001b[1;31mThe Kernel crashed while executing code in the current cell or a previous cell. \n",
      "\u001b[1;31mPlease review the code in the cell(s) to identify a possible cause of the failure. \n",
      "\u001b[1;31mClick <a href='https://aka.ms/vscodeJupyterKernelCrash'>here</a> for more info. \n",
      "\u001b[1;31mView Jupyter <a href='command:jupyter.viewOutput'>log</a> for further details."
     ]
    }
   ],
   "source": [
    "sqldf(\"SELECT * FROM diamond WHERE cut='Ideal'\")"
   ]
  }
 ],
 "metadata": {
  "kernelspec": {
   "display_name": "R",
   "language": "R",
   "name": "ir"
  },
  "language_info": {
   "codemirror_mode": "r",
   "file_extension": ".r",
   "mimetype": "text/x-r-source",
   "name": "R",
   "pygments_lexer": "r",
   "version": "4.4.1"
  }
 },
 "nbformat": 4,
 "nbformat_minor": 5
}
