{
 "cells": [
  {
   "cell_type": "code",
   "execution_count": 10,
   "metadata": {
    "vscode": {
     "languageId": "r"
    }
   },
   "outputs": [
    {
     "data": {
      "text/html": [
       "<table class=\"dataframe\">\n",
       "<caption>A tibble: 6 × 11</caption>\n",
       "<thead>\n",
       "\t<tr><th scope=col>M_Age</th><th scope=col>Edu_level</th><th scope=col>Ethnicity</th><th scope=col>Literacy</th><th scope=col>WealthIndex</th><th scope=col>No_Children</th><th scope=col>M_Anemia</th><th scope=col>Gender_child</th><th scope=col>Child_Anemia</th><th scope=col>BirthWeight</th><th scope=col>M_weight</th></tr>\n",
       "\t<tr><th scope=col>&lt;dbl&gt;</th><th scope=col>&lt;dbl&gt;</th><th scope=col>&lt;dbl&gt;</th><th scope=col>&lt;dbl&gt;</th><th scope=col>&lt;dbl&gt;</th><th scope=col>&lt;dbl&gt;</th><th scope=col>&lt;dbl&gt;</th><th scope=col>&lt;dbl&gt;</th><th scope=col>&lt;dbl&gt;</th><th scope=col>&lt;dbl&gt;</th><th scope=col>&lt;dbl&gt;</th></tr>\n",
       "</thead>\n",
       "<tbody>\n",
       "\t<tr><td>41</td><td>3</td><td>3</td><td>2</td><td>3</td><td>5</td><td>4</td><td>1</td><td>3</td><td>3000</td><td>76.3</td></tr>\n",
       "\t<tr><td>26</td><td>2</td><td>3</td><td>2</td><td>2</td><td>2</td><td>1</td><td>1</td><td>4</td><td>3665</td><td>57.2</td></tr>\n",
       "\t<tr><td>28</td><td>2</td><td>1</td><td>2</td><td>2</td><td>2</td><td>4</td><td>1</td><td>3</td><td>2340</td><td>64.9</td></tr>\n",
       "\t<tr><td>34</td><td>2</td><td>2</td><td>3</td><td>1</td><td>1</td><td>3</td><td>1</td><td>2</td><td>2710</td><td>58.7</td></tr>\n",
       "\t<tr><td>36</td><td>2</td><td>3</td><td>2</td><td>3</td><td>2</td><td>3</td><td>1</td><td>4</td><td>3710</td><td>95.2</td></tr>\n",
       "\t<tr><td>28</td><td>2</td><td>3</td><td>2</td><td>3</td><td>2</td><td>2</td><td>1</td><td>2</td><td>3490</td><td>52.1</td></tr>\n",
       "</tbody>\n",
       "</table>\n"
      ],
      "text/latex": [
       "A tibble: 6 × 11\n",
       "\\begin{tabular}{lllllllllll}\n",
       " M\\_Age & Edu\\_level & Ethnicity & Literacy & WealthIndex & No\\_Children & M\\_Anemia & Gender\\_child & Child\\_Anemia & BirthWeight & M\\_weight\\\\\n",
       " <dbl> & <dbl> & <dbl> & <dbl> & <dbl> & <dbl> & <dbl> & <dbl> & <dbl> & <dbl> & <dbl>\\\\\n",
       "\\hline\n",
       "\t 41 & 3 & 3 & 2 & 3 & 5 & 4 & 1 & 3 & 3000 & 76.3\\\\\n",
       "\t 26 & 2 & 3 & 2 & 2 & 2 & 1 & 1 & 4 & 3665 & 57.2\\\\\n",
       "\t 28 & 2 & 1 & 2 & 2 & 2 & 4 & 1 & 3 & 2340 & 64.9\\\\\n",
       "\t 34 & 2 & 2 & 3 & 1 & 1 & 3 & 1 & 2 & 2710 & 58.7\\\\\n",
       "\t 36 & 2 & 3 & 2 & 3 & 2 & 3 & 1 & 4 & 3710 & 95.2\\\\\n",
       "\t 28 & 2 & 3 & 2 & 3 & 2 & 2 & 1 & 2 & 3490 & 52.1\\\\\n",
       "\\end{tabular}\n"
      ],
      "text/markdown": [
       "\n",
       "A tibble: 6 × 11\n",
       "\n",
       "| M_Age &lt;dbl&gt; | Edu_level &lt;dbl&gt; | Ethnicity &lt;dbl&gt; | Literacy &lt;dbl&gt; | WealthIndex &lt;dbl&gt; | No_Children &lt;dbl&gt; | M_Anemia &lt;dbl&gt; | Gender_child &lt;dbl&gt; | Child_Anemia &lt;dbl&gt; | BirthWeight &lt;dbl&gt; | M_weight &lt;dbl&gt; |\n",
       "|---|---|---|---|---|---|---|---|---|---|---|\n",
       "| 41 | 3 | 3 | 2 | 3 | 5 | 4 | 1 | 3 | 3000 | 76.3 |\n",
       "| 26 | 2 | 3 | 2 | 2 | 2 | 1 | 1 | 4 | 3665 | 57.2 |\n",
       "| 28 | 2 | 1 | 2 | 2 | 2 | 4 | 1 | 3 | 2340 | 64.9 |\n",
       "| 34 | 2 | 2 | 3 | 1 | 1 | 3 | 1 | 2 | 2710 | 58.7 |\n",
       "| 36 | 2 | 3 | 2 | 3 | 2 | 3 | 1 | 4 | 3710 | 95.2 |\n",
       "| 28 | 2 | 3 | 2 | 3 | 2 | 2 | 1 | 2 | 3490 | 52.1 |\n",
       "\n"
      ],
      "text/plain": [
       "  M_Age Edu_level Ethnicity Literacy WealthIndex No_Children M_Anemia\n",
       "1 41    3         3         2        3           5           4       \n",
       "2 26    2         3         2        2           2           1       \n",
       "3 28    2         1         2        2           2           4       \n",
       "4 34    2         2         3        1           1           3       \n",
       "5 36    2         3         2        3           2           3       \n",
       "6 28    2         3         2        3           2           2       \n",
       "  Gender_child Child_Anemia BirthWeight M_weight\n",
       "1 1            3            3000        76.3    \n",
       "2 1            4            3665        57.2    \n",
       "3 1            3            2340        64.9    \n",
       "4 1            2            2710        58.7    \n",
       "5 1            4            3710        95.2    \n",
       "6 1            2            3490        52.1    "
      ]
     },
     "metadata": {},
     "output_type": "display_data"
    },
    {
     "data": {
      "text/html": [
       "<style>\n",
       ".list-inline {list-style: none; margin:0; padding: 0}\n",
       ".list-inline>li {display: inline-block}\n",
       ".list-inline>li:not(:last-child)::after {content: \"\\00b7\"; padding: 0 .5ex}\n",
       "</style>\n",
       "<ol class=list-inline><li>'M_Age'</li><li>'Edu_level'</li><li>'Ethnicity'</li><li>'Literacy'</li><li>'WealthIndex'</li><li>'No_Children'</li><li>'M_Anemia'</li><li>'Gender_child'</li><li>'Child_Anemia'</li><li>'BirthWeight'</li><li>'M_weight'</li></ol>\n"
      ],
      "text/latex": [
       "\\begin{enumerate*}\n",
       "\\item 'M\\_Age'\n",
       "\\item 'Edu\\_level'\n",
       "\\item 'Ethnicity'\n",
       "\\item 'Literacy'\n",
       "\\item 'WealthIndex'\n",
       "\\item 'No\\_Children'\n",
       "\\item 'M\\_Anemia'\n",
       "\\item 'Gender\\_child'\n",
       "\\item 'Child\\_Anemia'\n",
       "\\item 'BirthWeight'\n",
       "\\item 'M\\_weight'\n",
       "\\end{enumerate*}\n"
      ],
      "text/markdown": [
       "1. 'M_Age'\n",
       "2. 'Edu_level'\n",
       "3. 'Ethnicity'\n",
       "4. 'Literacy'\n",
       "5. 'WealthIndex'\n",
       "6. 'No_Children'\n",
       "7. 'M_Anemia'\n",
       "8. 'Gender_child'\n",
       "9. 'Child_Anemia'\n",
       "10. 'BirthWeight'\n",
       "11. 'M_weight'\n",
       "\n",
       "\n"
      ],
      "text/plain": [
       " [1] \"M_Age\"        \"Edu_level\"    \"Ethnicity\"    \"Literacy\"     \"WealthIndex\" \n",
       " [6] \"No_Children\"  \"M_Anemia\"     \"Gender_child\" \"Child_Anemia\" \"BirthWeight\" \n",
       "[11] \"M_weight\"    "
      ]
     },
     "metadata": {},
     "output_type": "display_data"
    }
   ],
   "source": [
    "# install.packages(\"readxl\")\n",
    "library(readxl)\n",
    "\n",
    "df <- read_excel(\"BirthWeight.xlsx\")\n",
    "head(df)\n",
    "names(df)"
   ]
  },
  {
   "cell_type": "code",
   "execution_count": 12,
   "metadata": {
    "vscode": {
     "languageId": "r"
    }
   },
   "outputs": [
    {
     "data": {
      "text/plain": [
       "   Min. 1st Qu.  Median    Mean 3rd Qu.    Max. \n",
       "    400    2624    2900    2900    3200    4750 "
      ]
     },
     "metadata": {},
     "output_type": "display_data"
    }
   ],
   "source": [
    "summary(df$BirthWeight)"
   ]
  },
  {
   "cell_type": "code",
   "execution_count": 17,
   "metadata": {
    "vscode": {
     "languageId": "r"
    }
   },
   "outputs": [
    {
     "data": {
      "image/png": "[encoded data removed]",
      "text/plain": [
       "Plot with title \"Histogram of df$BirthWeight\""
      ]
     },
     "metadata": {
      "image/png": {
       "height": 420,
       "width": 420
      }
     },
     "output_type": "display_data"
    }
   ],
   "source": [
    "par(bg = \"white\")\n",
    "hist(df$BirthWeight)"
   ]
  }
 ],
 "metadata": {
  "kernelspec": {
   "display_name": "R",
   "language": "R",
   "name": "ir"
  },
  "language_info": {
   "codemirror_mode": "r",
   "file_extension": ".r",
   "mimetype": "text/x-r-source",
   "name": "R",
   "pygments_lexer": "r",
   "version": "4.4.1"
  }
 },
 "nbformat": 4,
 "nbformat_minor": 2
}
