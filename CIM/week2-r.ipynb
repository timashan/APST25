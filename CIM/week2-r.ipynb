{
 "cells": [
  {
   "cell_type": "code",
   "execution_count": 52,
   "id": "b8239161",
   "metadata": {
    "vscode": {
     "languageId": "r"
    }
   },
   "outputs": [],
   "source": [
    "# install.packages(\"aod\")\n",
    "# install.packages(\"openxlsx\")"
   ]
  },
  {
   "cell_type": "code",
   "execution_count": 53,
   "id": "cd525c3b",
   "metadata": {
    "vscode": {
     "languageId": "r"
    }
   },
   "outputs": [
    {
     "data": {
      "text/html": [
       "<table class=\"dataframe\">\n",
       "<caption>A data.frame: 6 × 11</caption>\n",
       "<thead>\n",
       "\t<tr><th></th><th scope=col>M_Age</th><th scope=col>Edu_level</th><th scope=col>Ethnicity</th><th scope=col>Literacy</th><th scope=col>WealthIndex</th><th scope=col>No_Children</th><th scope=col>M_Anemia</th><th scope=col>Gender_child</th><th scope=col>Child_Anemia</th><th scope=col>BirthWeight</th><th scope=col>M_weight</th></tr>\n",
       "\t<tr><th></th><th scope=col>&lt;dbl&gt;</th><th scope=col>&lt;dbl&gt;</th><th scope=col>&lt;dbl&gt;</th><th scope=col>&lt;dbl&gt;</th><th scope=col>&lt;dbl&gt;</th><th scope=col>&lt;dbl&gt;</th><th scope=col>&lt;dbl&gt;</th><th scope=col>&lt;dbl&gt;</th><th scope=col>&lt;dbl&gt;</th><th scope=col>&lt;dbl&gt;</th><th scope=col>&lt;dbl&gt;</th></tr>\n",
       "</thead>\n",
       "<tbody>\n",
       "\t<tr><th scope=row>1</th><td>41</td><td>3</td><td>3</td><td>2</td><td>3</td><td>5</td><td>4</td><td>1</td><td>3</td><td>3000</td><td>76.3</td></tr>\n",
       "\t<tr><th scope=row>2</th><td>26</td><td>2</td><td>3</td><td>2</td><td>2</td><td>2</td><td>1</td><td>1</td><td>4</td><td>3665</td><td>57.2</td></tr>\n",
       "\t<tr><th scope=row>3</th><td>28</td><td>2</td><td>1</td><td>2</td><td>2</td><td>2</td><td>4</td><td>1</td><td>3</td><td>2340</td><td>64.9</td></tr>\n",
       "\t<tr><th scope=row>4</th><td>34</td><td>2</td><td>2</td><td>3</td><td>1</td><td>1</td><td>3</td><td>1</td><td>2</td><td>2710</td><td>58.7</td></tr>\n",
       "\t<tr><th scope=row>5</th><td>36</td><td>2</td><td>3</td><td>2</td><td>3</td><td>2</td><td>3</td><td>1</td><td>4</td><td>3710</td><td>95.2</td></tr>\n",
       "\t<tr><th scope=row>6</th><td>28</td><td>2</td><td>3</td><td>2</td><td>3</td><td>2</td><td>2</td><td>1</td><td>2</td><td>3490</td><td>52.1</td></tr>\n",
       "</tbody>\n",
       "</table>\n"
      ],
      "text/latex": [
       "A data.frame: 6 × 11\n",
       "\\begin{tabular}{r|lllllllllll}\n",
       "  & M\\_Age & Edu\\_level & Ethnicity & Literacy & WealthIndex & No\\_Children & M\\_Anemia & Gender\\_child & Child\\_Anemia & BirthWeight & M\\_weight\\\\\n",
       "  & <dbl> & <dbl> & <dbl> & <dbl> & <dbl> & <dbl> & <dbl> & <dbl> & <dbl> & <dbl> & <dbl>\\\\\n",
       "\\hline\n",
       "\t1 & 41 & 3 & 3 & 2 & 3 & 5 & 4 & 1 & 3 & 3000 & 76.3\\\\\n",
       "\t2 & 26 & 2 & 3 & 2 & 2 & 2 & 1 & 1 & 4 & 3665 & 57.2\\\\\n",
       "\t3 & 28 & 2 & 1 & 2 & 2 & 2 & 4 & 1 & 3 & 2340 & 64.9\\\\\n",
       "\t4 & 34 & 2 & 2 & 3 & 1 & 1 & 3 & 1 & 2 & 2710 & 58.7\\\\\n",
       "\t5 & 36 & 2 & 3 & 2 & 3 & 2 & 3 & 1 & 4 & 3710 & 95.2\\\\\n",
       "\t6 & 28 & 2 & 3 & 2 & 3 & 2 & 2 & 1 & 2 & 3490 & 52.1\\\\\n",
       "\\end{tabular}\n"
      ],
      "text/markdown": [
       "\n",
       "A data.frame: 6 × 11\n",
       "\n",
       "| <!--/--> | M_Age &lt;dbl&gt; | Edu_level &lt;dbl&gt; | Ethnicity &lt;dbl&gt; | Literacy &lt;dbl&gt; | WealthIndex &lt;dbl&gt; | No_Children &lt;dbl&gt; | M_Anemia &lt;dbl&gt; | Gender_child &lt;dbl&gt; | Child_Anemia &lt;dbl&gt; | BirthWeight &lt;dbl&gt; | M_weight &lt;dbl&gt; |\n",
       "|---|---|---|---|---|---|---|---|---|---|---|---|\n",
       "| 1 | 41 | 3 | 3 | 2 | 3 | 5 | 4 | 1 | 3 | 3000 | 76.3 |\n",
       "| 2 | 26 | 2 | 3 | 2 | 2 | 2 | 1 | 1 | 4 | 3665 | 57.2 |\n",
       "| 3 | 28 | 2 | 1 | 2 | 2 | 2 | 4 | 1 | 3 | 2340 | 64.9 |\n",
       "| 4 | 34 | 2 | 2 | 3 | 1 | 1 | 3 | 1 | 2 | 2710 | 58.7 |\n",
       "| 5 | 36 | 2 | 3 | 2 | 3 | 2 | 3 | 1 | 4 | 3710 | 95.2 |\n",
       "| 6 | 28 | 2 | 3 | 2 | 3 | 2 | 2 | 1 | 2 | 3490 | 52.1 |\n",
       "\n"
      ],
      "text/plain": [
       "  M_Age Edu_level Ethnicity Literacy WealthIndex No_Children M_Anemia\n",
       "1 41    3         3         2        3           5           4       \n",
       "2 26    2         3         2        2           2           1       \n",
       "3 28    2         1         2        2           2           4       \n",
       "4 34    2         2         3        1           1           3       \n",
       "5 36    2         3         2        3           2           3       \n",
       "6 28    2         3         2        3           2           2       \n",
       "  Gender_child Child_Anemia BirthWeight M_weight\n",
       "1 1            3            3000        76.3    \n",
       "2 1            4            3665        57.2    \n",
       "3 1            3            2340        64.9    \n",
       "4 1            2            2710        58.7    \n",
       "5 1            4            3710        95.2    \n",
       "6 1            2            3490        52.1    "
      ]
     },
     "metadata": {},
     "output_type": "display_data"
    }
   ],
   "source": [
    "library(openxlsx)\n",
    "\n",
    "BW = read.xlsx(\"BirthWeight.xlsx\")\n",
    "head(BW)"
   ]
  },
  {
   "cell_type": "code",
   "execution_count": 54,
   "id": "08e2cf4d",
   "metadata": {
    "vscode": {
     "languageId": "r"
    }
   },
   "outputs": [
    {
     "data": {
      "text/html": [
       "2900.44694767442"
      ],
      "text/latex": [
       "2900.44694767442"
      ],
      "text/markdown": [
       "2900.44694767442"
      ],
      "text/plain": [
       "[1] 2900.447"
      ]
     },
     "metadata": {},
     "output_type": "display_data"
    }
   ],
   "source": [
    "mean(BW$BirthWeight)"
   ]
  },
  {
   "cell_type": "code",
   "execution_count": 55,
   "id": "e3069f8c",
   "metadata": {
    "vscode": {
     "languageId": "r"
    }
   },
   "outputs": [
    {
     "data": {
      "text/html": [
       "<style>\n",
       ".dl-inline {width: auto; margin:0; padding: 0}\n",
       ".dl-inline>dt, .dl-inline>dd {float: none; width: auto; display: inline-block}\n",
       ".dl-inline>dt::after {content: \":\\0020\"; padding-right: .5ex}\n",
       ".dl-inline>dt:not(:first-of-type) {padding-left: .5ex}\n",
       "</style><dl class=dl-inline><dt>1</dt><dd>2930.72380952381</dd><dt>2</dt><dd>2865.73010920437</dd></dl>\n"
      ],
      "text/latex": [
       "\\begin{description*}\n",
       "\\item[1] 2930.72380952381\n",
       "\\item[2] 2865.73010920437\n",
       "\\end{description*}\n"
      ],
      "text/markdown": [
       "1\n",
       ":   2930.723809523812\n",
       ":   2865.73010920437\n",
       "\n"
      ],
      "text/plain": [
       "       1        2 \n",
       "2930.724 2865.730 "
      ]
     },
     "metadata": {},
     "output_type": "display_data"
    }
   ],
   "source": [
    "tapply(BW$BirthWeight, BW$Gender_child, mean)"
   ]
  },
  {
   "cell_type": "code",
   "execution_count": 56,
   "id": "c5cfd9f7",
   "metadata": {
    "vscode": {
     "languageId": "r"
    }
   },
   "outputs": [
    {
     "data": {
      "text/plain": [
       "\n",
       "  0   1   2   3 \n",
       " 12  58 634 672 "
      ]
     },
     "metadata": {},
     "output_type": "display_data"
    }
   ],
   "source": [
    "table(BW$Edu_level)"
   ]
  },
  {
   "cell_type": "code",
   "execution_count": 57,
   "id": "4cb048f4",
   "metadata": {
    "vscode": {
     "languageId": "r"
    }
   },
   "outputs": [
    {
     "data": {
      "image/png": "[encoded data removed]",
      "text/plain": [
       "plot without title"
      ]
     },
     "metadata": {
      "image/png": {
       "height": 420,
       "width": 420
      }
     },
     "output_type": "display_data"
    }
   ],
   "source": [
    "par(bg=\"white\")\n",
    "plot(BW$BirthWeight, BW$M_Age)"
   ]
  },
  {
   "cell_type": "code",
   "execution_count": 58,
   "id": "33c8e988",
   "metadata": {
    "vscode": {
     "languageId": "r"
    }
   },
   "outputs": [
    {
     "data": {
      "text/html": [
       "0.0804901874347039"
      ],
      "text/latex": [
       "0.0804901874347039"
      ],
      "text/markdown": [
       "0.0804901874347039"
      ],
      "text/plain": [
       "[1] 0.08049019"
      ]
     },
     "metadata": {},
     "output_type": "display_data"
    },
    {
     "data": {
      "text/html": [
       "0.213555357819409"
      ],
      "text/latex": [
       "0.213555357819409"
      ],
      "text/markdown": [
       "0.213555357819409"
      ],
      "text/plain": [
       "[1] 0.2135554"
      ]
     },
     "metadata": {},
     "output_type": "display_data"
    }
   ],
   "source": [
    "cor(BW$BirthWeight, BW$M_Age)\n",
    "cor(BW$BirthWeight, BW$M_weight)"
   ]
  },
  {
   "cell_type": "code",
   "execution_count": 59,
   "id": "1e8ef5bb",
   "metadata": {
    "vscode": {
     "languageId": "r"
    }
   },
   "outputs": [
    {
     "data": {
      "text/plain": [
       "\n",
       "   low normal   over \n",
       "   206   1157     13 "
      ]
     },
     "metadata": {},
     "output_type": "display_data"
    }
   ],
   "source": [
    "BW$BirthWeight_CAT <- cut(BW$BirthWeight, breaks = c(0, 2500,4000, Inf), labels = c(\"low\", \"normal\", \"over\"), right = FALSE)\n",
    "table(BW$BirthWeight_CAT)"
   ]
  },
  {
   "cell_type": "code",
   "execution_count": 61,
   "id": "18b1e4b0",
   "metadata": {
    "vscode": {
     "languageId": "r"
    }
   },
   "outputs": [
    {
     "data": {
      "text/plain": [
       "        \n",
       "           1   2\n",
       "  low    100 106\n",
       "  normal 625 532\n",
       "  over    10   3"
      ]
     },
     "metadata": {},
     "output_type": "display_data"
    }
   ],
   "source": [
    "table(BW$BirthWeight_CAT, BW$Gender_child)"
   ]
  },
  {
   "cell_type": "code",
   "execution_count": 62,
   "id": "e9b8a40e",
   "metadata": {
    "vscode": {
     "languageId": "r"
    }
   },
   "outputs": [
    {
     "data": {
      "text/plain": [
       "        \n",
       "           1   2   3   4\n",
       "  low      2  39  64 101\n",
       "  normal  10 265 310 572\n",
       "  over     0   1   3   9"
      ]
     },
     "metadata": {},
     "output_type": "display_data"
    }
   ],
   "source": [
    "table(BW$BirthWeight_CAT, BW$Child_Anemia)"
   ]
  },
  {
   "cell_type": "code",
   "execution_count": 75,
   "id": "9b7d5463",
   "metadata": {
    "vscode": {
     "languageId": "r"
    }
   },
   "outputs": [
    {
     "data": {
      "text/plain": [
       "               Gender_child\n",
       "BirthWeight_CAT   1   2\n",
       "         low    100 106\n",
       "         normal 625 532\n",
       "         over    10   3"
      ]
     },
     "metadata": {},
     "output_type": "display_data"
    }
   ],
   "source": [
    "xtabs(~BirthWeight_CAT+Gender_child, data=BW)"
   ]
  },
  {
   "cell_type": "code",
   "execution_count": 76,
   "id": "93f8f9f4",
   "metadata": {
    "vscode": {
     "languageId": "r"
    }
   },
   "outputs": [
    {
     "data": {
      "text/plain": [
       ", , Edu_level = 0\n",
       "\n",
       "               Gender_child\n",
       "BirthWeight_CAT   1   2\n",
       "         low      3   2\n",
       "         normal   5   2\n",
       "         over     0   0\n",
       "\n",
       ", , Edu_level = 1\n",
       "\n",
       "               Gender_child\n",
       "BirthWeight_CAT   1   2\n",
       "         low     10   3\n",
       "         normal  24  20\n",
       "         over     0   1\n",
       "\n",
       ", , Edu_level = 2\n",
       "\n",
       "               Gender_child\n",
       "BirthWeight_CAT   1   2\n",
       "         low     47  58\n",
       "         normal 278 248\n",
       "         over     3   0\n",
       "\n",
       ", , Edu_level = 3\n",
       "\n",
       "               Gender_child\n",
       "BirthWeight_CAT   1   2\n",
       "         low     40  43\n",
       "         normal 318 262\n",
       "         over     7   2\n"
      ]
     },
     "metadata": {},
     "output_type": "display_data"
    }
   ],
   "source": [
    "xtabs(~BirthWeight_CAT+Gender_child+Edu_level, data=BW)"
   ]
  },
  {
   "cell_type": "code",
   "execution_count": 78,
   "id": "2f3d1345",
   "metadata": {
    "vscode": {
     "languageId": "r"
    }
   },
   "outputs": [
    {
     "data": {
      "text/html": [
       "576.25"
      ],
      "text/latex": [
       "576.25"
      ],
      "text/markdown": [
       "576.25"
      ],
      "text/plain": [
       "[1] 576.25"
      ]
     },
     "metadata": {},
     "output_type": "display_data"
    }
   ],
   "source": [
    "IQR(BW$BirthWeight)"
   ]
  },
  {
   "cell_type": "code",
   "execution_count": 80,
   "id": "247a3047",
   "metadata": {
    "vscode": {
     "languageId": "r"
    }
   },
   "outputs": [
    {
     "data": {
      "text/html": [
       "<style>\n",
       ".list-inline {list-style: none; margin:0; padding: 0}\n",
       ".list-inline>li {display: inline-block}\n",
       ".list-inline>li:not(:last-child)::after {content: \"\\00b7\"; padding: 0 .5ex}\n",
       "</style>\n",
       "<ol class=list-inline><li>12</li><li>21</li><li>23</li><li>32</li><li>41</li><li>41</li><li>41</li><li>47</li><li>52</li><li>52</li><li>74</li><li>85</li><li>95</li></ol>\n"
      ],
      "text/latex": [
       "\\begin{enumerate*}\n",
       "\\item 12\n",
       "\\item 21\n",
       "\\item 23\n",
       "\\item 32\n",
       "\\item 41\n",
       "\\item 41\n",
       "\\item 41\n",
       "\\item 47\n",
       "\\item 52\n",
       "\\item 52\n",
       "\\item 74\n",
       "\\item 85\n",
       "\\item 95\n",
       "\\end{enumerate*}\n"
      ],
      "text/markdown": [
       "1. 12\n",
       "2. 21\n",
       "3. 23\n",
       "4. 32\n",
       "5. 41\n",
       "6. 41\n",
       "7. 41\n",
       "8. 47\n",
       "9. 52\n",
       "10. 52\n",
       "11. 74\n",
       "12. 85\n",
       "13. 95\n",
       "\n",
       "\n"
      ],
      "text/plain": [
       " [1] 12 21 23 32 41 41 41 47 52 52 74 85 95"
      ]
     },
     "metadata": {},
     "output_type": "display_data"
    }
   ],
   "source": [
    "v1 <- c(23,52,41,21,32,12,41,41,52,95,85,74,47)\n",
    "sort(v1)"
   ]
  },
  {
   "cell_type": "code",
   "execution_count": 124,
   "id": "3267387f",
   "metadata": {
    "vscode": {
     "languageId": "r"
    }
   },
   "outputs": [
    {
     "data": {
      "text/html": [
       "<style>\n",
       ".list-inline {list-style: none; margin:0; padding: 0}\n",
       ".list-inline>li {display: inline-block}\n",
       ".list-inline>li:not(:last-child)::after {content: \"\\00b7\"; padding: 0 .5ex}\n",
       "</style>\n",
       "<ol class=list-inline><li>2</li><li>3</li><li>4</li><li>5</li><li>6</li><li>7</li><li>8</li><li>9</li><li>10</li></ol>\n"
      ],
      "text/latex": [
       "\\begin{enumerate*}\n",
       "\\item 2\n",
       "\\item 3\n",
       "\\item 4\n",
       "\\item 5\n",
       "\\item 6\n",
       "\\item 7\n",
       "\\item 8\n",
       "\\item 9\n",
       "\\item 10\n",
       "\\end{enumerate*}\n"
      ],
      "text/markdown": [
       "1. 2\n",
       "2. 3\n",
       "3. 4\n",
       "4. 5\n",
       "5. 6\n",
       "6. 7\n",
       "7. 8\n",
       "8. 9\n",
       "9. 10\n",
       "\n",
       "\n"
      ],
      "text/plain": [
       "[1]  2  3  4  5  6  7  8  9 10"
      ]
     },
     "metadata": {},
     "output_type": "display_data"
    },
    {
     "data": {
      "text/html": [
       "<style>\n",
       ".list-inline {list-style: none; margin:0; padding: 0}\n",
       ".list-inline>li {display: inline-block}\n",
       ".list-inline>li:not(:last-child)::after {content: \"\\00b7\"; padding: 0 .5ex}\n",
       "</style>\n",
       "<ol class=list-inline><li>2</li><li>4</li><li>6</li><li>8</li><li>10</li><li>12</li><li>14</li><li>16</li><li>18</li><li>20</li><li>12</li><li>14</li><li>16</li><li>18</li><li>20</li><li>22</li><li>24</li><li>26</li><li>28</li><li>30</li></ol>\n"
      ],
      "text/latex": [
       "\\begin{enumerate*}\n",
       "\\item 2\n",
       "\\item 4\n",
       "\\item 6\n",
       "\\item 8\n",
       "\\item 10\n",
       "\\item 12\n",
       "\\item 14\n",
       "\\item 16\n",
       "\\item 18\n",
       "\\item 20\n",
       "\\item 12\n",
       "\\item 14\n",
       "\\item 16\n",
       "\\item 18\n",
       "\\item 20\n",
       "\\item 22\n",
       "\\item 24\n",
       "\\item 26\n",
       "\\item 28\n",
       "\\item 30\n",
       "\\end{enumerate*}\n"
      ],
      "text/markdown": [
       "1. 2\n",
       "2. 4\n",
       "3. 6\n",
       "4. 8\n",
       "5. 10\n",
       "6. 12\n",
       "7. 14\n",
       "8. 16\n",
       "9. 18\n",
       "10. 20\n",
       "11. 12\n",
       "12. 14\n",
       "13. 16\n",
       "14. 18\n",
       "15. 20\n",
       "16. 22\n",
       "17. 24\n",
       "18. 26\n",
       "19. 28\n",
       "20. 30\n",
       "\n",
       "\n"
      ],
      "text/plain": [
       " [1]  2  4  6  8 10 12 14 16 18 20 12 14 16 18 20 22 24 26 28 30"
      ]
     },
     "metadata": {},
     "output_type": "display_data"
    },
    {
     "data": {
      "text/html": [
       "<style>\n",
       ".list-inline {list-style: none; margin:0; padding: 0}\n",
       ".list-inline>li {display: inline-block}\n",
       ".list-inline>li:not(:last-child)::after {content: \"\\00b7\"; padding: 0 .5ex}\n",
       "</style>\n",
       "<ol class=list-inline><li>0</li><li>1</li><li>2</li><li>3</li><li>4</li><li>5</li><li>6</li><li>7</li><li>8</li><li>9</li></ol>\n"
      ],
      "text/latex": [
       "\\begin{enumerate*}\n",
       "\\item 0\n",
       "\\item 1\n",
       "\\item 2\n",
       "\\item 3\n",
       "\\item 4\n",
       "\\item 5\n",
       "\\item 6\n",
       "\\item 7\n",
       "\\item 8\n",
       "\\item 9\n",
       "\\end{enumerate*}\n"
      ],
      "text/markdown": [
       "1. 0\n",
       "2. 1\n",
       "3. 2\n",
       "4. 3\n",
       "5. 4\n",
       "6. 5\n",
       "7. 6\n",
       "8. 7\n",
       "9. 8\n",
       "10. 9\n",
       "\n",
       "\n"
      ],
      "text/plain": [
       " [1] 0 1 2 3 4 5 6 7 8 9"
      ]
     },
     "metadata": {},
     "output_type": "display_data"
    }
   ],
   "source": [
    "1*2:10\n",
    "1:10 + 1:20\n",
    "1:10-1"
   ]
  },
  {
   "cell_type": "code",
   "execution_count": 123,
   "id": "683cdb7f",
   "metadata": {
    "vscode": {
     "languageId": "r"
    }
   },
   "outputs": [
    {
     "data": {
      "text/html": [
       "<style>\n",
       ".list-inline {list-style: none; margin:0; padding: 0}\n",
       ".list-inline>li {display: inline-block}\n",
       ".list-inline>li:not(:last-child)::after {content: \"\\00b7\"; padding: 0 .5ex}\n",
       "</style>\n",
       "<ol class=list-inline><li>1</li><li>10</li></ol>\n"
      ],
      "text/latex": [
       "\\begin{enumerate*}\n",
       "\\item 1\n",
       "\\item 10\n",
       "\\end{enumerate*}\n"
      ],
      "text/markdown": [
       "1. 1\n",
       "2. 10\n",
       "\n",
       "\n"
      ],
      "text/plain": [
       "[1]  1 10"
      ]
     },
     "metadata": {},
     "output_type": "display_data"
    },
    {
     "data": {
      "text/html": [
       "<style>\n",
       ".list-inline {list-style: none; margin:0; padding: 0}\n",
       ".list-inline>li {display: inline-block}\n",
       ".list-inline>li:not(:last-child)::after {content: \"\\00b7\"; padding: 0 .5ex}\n",
       "</style>\n",
       "<ol class=list-inline><li>1</li><li>3</li><li>5</li><li>7</li><li>9</li></ol>\n"
      ],
      "text/latex": [
       "\\begin{enumerate*}\n",
       "\\item 1\n",
       "\\item 3\n",
       "\\item 5\n",
       "\\item 7\n",
       "\\item 9\n",
       "\\end{enumerate*}\n"
      ],
      "text/markdown": [
       "1. 1\n",
       "2. 3\n",
       "3. 5\n",
       "4. 7\n",
       "5. 9\n",
       "\n",
       "\n"
      ],
      "text/plain": [
       "[1] 1 3 5 7 9"
      ]
     },
     "metadata": {},
     "output_type": "display_data"
    },
    {
     "data": {
      "text/html": [
       "<style>\n",
       ".list-inline {list-style: none; margin:0; padding: 0}\n",
       ".list-inline>li {display: inline-block}\n",
       ".list-inline>li:not(:last-child)::after {content: \"\\00b7\"; padding: 0 .5ex}\n",
       "</style>\n",
       "<ol class=list-inline><li>1</li><li>3</li><li>5</li><li>7</li><li>9</li><li>11</li><li>13</li><li>15</li><li>17</li><li>19</li></ol>\n"
      ],
      "text/latex": [
       "\\begin{enumerate*}\n",
       "\\item 1\n",
       "\\item 3\n",
       "\\item 5\n",
       "\\item 7\n",
       "\\item 9\n",
       "\\item 11\n",
       "\\item 13\n",
       "\\item 15\n",
       "\\item 17\n",
       "\\item 19\n",
       "\\end{enumerate*}\n"
      ],
      "text/markdown": [
       "1. 1\n",
       "2. 3\n",
       "3. 5\n",
       "4. 7\n",
       "5. 9\n",
       "6. 11\n",
       "7. 13\n",
       "8. 15\n",
       "9. 17\n",
       "10. 19\n",
       "\n",
       "\n"
      ],
      "text/plain": [
       " [1]  1  3  5  7  9 11 13 15 17 19"
      ]
     },
     "metadata": {},
     "output_type": "display_data"
    }
   ],
   "source": [
    "seq(1,10,length=2)\n",
    "seq(1,10,by=2)\n",
    "seq(1,by=2, length=10)"
   ]
  },
  {
   "cell_type": "code",
   "execution_count": 122,
   "id": "cb63bac7",
   "metadata": {
    "vscode": {
     "languageId": "r"
    }
   },
   "outputs": [
    {
     "data": {
      "text/html": [
       "<style>\n",
       ".list-inline {list-style: none; margin:0; padding: 0}\n",
       ".list-inline>li {display: inline-block}\n",
       ".list-inline>li:not(:last-child)::after {content: \"\\00b7\"; padding: 0 .5ex}\n",
       "</style>\n",
       "<ol class=list-inline><li>1</li><li>2</li><li>3</li><li>1</li><li>2</li><li>3</li><li>1</li><li>2</li><li>3</li><li>1</li><li>2</li><li>3</li><li>1</li><li>2</li><li>3</li></ol>\n"
      ],
      "text/latex": [
       "\\begin{enumerate*}\n",
       "\\item 1\n",
       "\\item 2\n",
       "\\item 3\n",
       "\\item 1\n",
       "\\item 2\n",
       "\\item 3\n",
       "\\item 1\n",
       "\\item 2\n",
       "\\item 3\n",
       "\\item 1\n",
       "\\item 2\n",
       "\\item 3\n",
       "\\item 1\n",
       "\\item 2\n",
       "\\item 3\n",
       "\\end{enumerate*}\n"
      ],
      "text/markdown": [
       "1. 1\n",
       "2. 2\n",
       "3. 3\n",
       "4. 1\n",
       "5. 2\n",
       "6. 3\n",
       "7. 1\n",
       "8. 2\n",
       "9. 3\n",
       "10. 1\n",
       "11. 2\n",
       "12. 3\n",
       "13. 1\n",
       "14. 2\n",
       "15. 3\n",
       "\n",
       "\n"
      ],
      "text/plain": [
       " [1] 1 2 3 1 2 3 1 2 3 1 2 3 1 2 3"
      ]
     },
     "metadata": {},
     "output_type": "display_data"
    },
    {
     "data": {
      "text/html": [
       "<style>\n",
       ".list-inline {list-style: none; margin:0; padding: 0}\n",
       ".list-inline>li {display: inline-block}\n",
       ".list-inline>li:not(:last-child)::after {content: \"\\00b7\"; padding: 0 .5ex}\n",
       "</style>\n",
       "<ol class=list-inline><li>1</li><li>1</li><li>1</li><li>1</li><li>1</li><li>2</li><li>2</li><li>2</li><li>2</li><li>2</li><li>3</li><li>3</li><li>3</li><li>3</li><li>3</li></ol>\n"
      ],
      "text/latex": [
       "\\begin{enumerate*}\n",
       "\\item 1\n",
       "\\item 1\n",
       "\\item 1\n",
       "\\item 1\n",
       "\\item 1\n",
       "\\item 2\n",
       "\\item 2\n",
       "\\item 2\n",
       "\\item 2\n",
       "\\item 2\n",
       "\\item 3\n",
       "\\item 3\n",
       "\\item 3\n",
       "\\item 3\n",
       "\\item 3\n",
       "\\end{enumerate*}\n"
      ],
      "text/markdown": [
       "1. 1\n",
       "2. 1\n",
       "3. 1\n",
       "4. 1\n",
       "5. 1\n",
       "6. 2\n",
       "7. 2\n",
       "8. 2\n",
       "9. 2\n",
       "10. 2\n",
       "11. 3\n",
       "12. 3\n",
       "13. 3\n",
       "14. 3\n",
       "15. 3\n",
       "\n",
       "\n"
      ],
      "text/plain": [
       " [1] 1 1 1 1 1 2 2 2 2 2 3 3 3 3 3"
      ]
     },
     "metadata": {},
     "output_type": "display_data"
    }
   ],
   "source": [
    "rep((1:3), times=5)\n",
    "rep((1:3), each=5)"
   ]
  },
  {
   "cell_type": "code",
   "execution_count": 135,
   "id": "06e44f68",
   "metadata": {
    "vscode": {
     "languageId": "r"
    }
   },
   "outputs": [
    {
     "data": {
      "text/html": [
       "<table class=\"dataframe\">\n",
       "<caption>A data.frame: 1 × 12</caption>\n",
       "<thead>\n",
       "\t<tr><th></th><th scope=col>M_Age</th><th scope=col>Edu_level</th><th scope=col>Ethnicity</th><th scope=col>Literacy</th><th scope=col>WealthIndex</th><th scope=col>No_Children</th><th scope=col>M_Anemia</th><th scope=col>Gender_child</th><th scope=col>Child_Anemia</th><th scope=col>BirthWeight</th><th scope=col>M_weight</th><th scope=col>BirthWeight_CAT</th></tr>\n",
       "\t<tr><th></th><th scope=col>&lt;dbl&gt;</th><th scope=col>&lt;dbl&gt;</th><th scope=col>&lt;dbl&gt;</th><th scope=col>&lt;dbl&gt;</th><th scope=col>&lt;dbl&gt;</th><th scope=col>&lt;dbl&gt;</th><th scope=col>&lt;dbl&gt;</th><th scope=col>&lt;dbl&gt;</th><th scope=col>&lt;dbl&gt;</th><th scope=col>&lt;dbl&gt;</th><th scope=col>&lt;dbl&gt;</th><th scope=col>&lt;fct&gt;</th></tr>\n",
       "</thead>\n",
       "<tbody>\n",
       "\t<tr><th scope=row>1</th><td>41</td><td>3</td><td>3</td><td>2</td><td>3</td><td>5</td><td>4</td><td>1</td><td>3</td><td>3000</td><td>76.3</td><td>normal</td></tr>\n",
       "</tbody>\n",
       "</table>\n"
      ],
      "text/latex": [
       "A data.frame: 1 × 12\n",
       "\\begin{tabular}{r|llllllllllll}\n",
       "  & M\\_Age & Edu\\_level & Ethnicity & Literacy & WealthIndex & No\\_Children & M\\_Anemia & Gender\\_child & Child\\_Anemia & BirthWeight & M\\_weight & BirthWeight\\_CAT\\\\\n",
       "  & <dbl> & <dbl> & <dbl> & <dbl> & <dbl> & <dbl> & <dbl> & <dbl> & <dbl> & <dbl> & <dbl> & <fct>\\\\\n",
       "\\hline\n",
       "\t1 & 41 & 3 & 3 & 2 & 3 & 5 & 4 & 1 & 3 & 3000 & 76.3 & normal\\\\\n",
       "\\end{tabular}\n"
      ],
      "text/markdown": [
       "\n",
       "A data.frame: 1 × 12\n",
       "\n",
       "| <!--/--> | M_Age &lt;dbl&gt; | Edu_level &lt;dbl&gt; | Ethnicity &lt;dbl&gt; | Literacy &lt;dbl&gt; | WealthIndex &lt;dbl&gt; | No_Children &lt;dbl&gt; | M_Anemia &lt;dbl&gt; | Gender_child &lt;dbl&gt; | Child_Anemia &lt;dbl&gt; | BirthWeight &lt;dbl&gt; | M_weight &lt;dbl&gt; | BirthWeight_CAT &lt;fct&gt; |\n",
       "|---|---|---|---|---|---|---|---|---|---|---|---|---|\n",
       "| 1 | 41 | 3 | 3 | 2 | 3 | 5 | 4 | 1 | 3 | 3000 | 76.3 | normal |\n",
       "\n"
      ],
      "text/plain": [
       "  M_Age Edu_level Ethnicity Literacy WealthIndex No_Children M_Anemia\n",
       "1 41    3         3         2        3           5           4       \n",
       "  Gender_child Child_Anemia BirthWeight M_weight BirthWeight_CAT\n",
       "1 1            3            3000        76.3     normal         "
      ]
     },
     "metadata": {},
     "output_type": "display_data"
    },
    {
     "data": {
      "text/html": [
       "26"
      ],
      "text/latex": [
       "26"
      ],
      "text/markdown": [
       "26"
      ],
      "text/plain": [
       "[1] 26"
      ]
     },
     "metadata": {},
     "output_type": "display_data"
    }
   ],
   "source": [
    "BW[1,]\n",
    "BW[2,1]\n",
    "# BW[2,1]<-30"
   ]
  },
  {
   "cell_type": "code",
   "execution_count": 143,
   "id": "ccf63f86",
   "metadata": {
    "vscode": {
     "languageId": "r"
    }
   },
   "outputs": [
    {
     "data": {
      "text/html": [
       "<style>\n",
       ".list-inline {list-style: none; margin:0; padding: 0}\n",
       ".list-inline>li {display: inline-block}\n",
       ".list-inline>li:not(:last-child)::after {content: \"\\00b7\"; padding: 0 .5ex}\n",
       "</style>\n",
       "<ol class=list-inline><li>400</li><li>400</li><li>980</li></ol>\n"
      ],
      "text/latex": [
       "\\begin{enumerate*}\n",
       "\\item 400\n",
       "\\item 400\n",
       "\\item 980\n",
       "\\end{enumerate*}\n"
      ],
      "text/markdown": [
       "1. 400\n",
       "2. 400\n",
       "3. 980\n",
       "\n",
       "\n"
      ],
      "text/plain": [
       "[1] 400 400 980"
      ]
     },
     "metadata": {},
     "output_type": "display_data"
    },
    {
     "data": {
      "text/html": [
       "<style>\n",
       ".list-inline {list-style: none; margin:0; padding: 0}\n",
       ".list-inline>li {display: inline-block}\n",
       ".list-inline>li:not(:last-child)::after {content: \"\\00b7\"; padding: 0 .5ex}\n",
       "</style>\n",
       "<ol class=list-inline><li>3100</li><li>1700</li><li>2930</li><li>3150</li><li>3240</li><li>2870</li><li>2440</li><li>3200</li><li>2570</li></ol>\n"
      ],
      "text/latex": [
       "\\begin{enumerate*}\n",
       "\\item 3100\n",
       "\\item 1700\n",
       "\\item 2930\n",
       "\\item 3150\n",
       "\\item 3240\n",
       "\\item 2870\n",
       "\\item 2440\n",
       "\\item 3200\n",
       "\\item 2570\n",
       "\\end{enumerate*}\n"
      ],
      "text/markdown": [
       "1. 3100\n",
       "2. 1700\n",
       "3. 2930\n",
       "4. 3150\n",
       "5. 3240\n",
       "6. 2870\n",
       "7. 2440\n",
       "8. 3200\n",
       "9. 2570\n",
       "\n",
       "\n"
      ],
      "text/plain": [
       "[1] 3100 1700 2930 3150 3240 2870 2440 3200 2570"
      ]
     },
     "metadata": {},
     "output_type": "display_data"
    }
   ],
   "source": [
    "BW$BirthWeight[BW$BirthWeight<1000]\n",
    "BW$BirthWeight[BW$M_Age>45]"
   ]
  },
  {
   "cell_type": "code",
   "execution_count": 154,
   "id": "18cda781",
   "metadata": {
    "vscode": {
     "languageId": "r"
    }
   },
   "outputs": [
    {
     "data": {
      "image/png": "[encoded data removed]",
      "text/plain": [
       "Plot with title \"Histogram of BW$BirthWeight\""
      ]
     },
     "metadata": {
      "image/png": {
       "height": 420,
       "width": 420
      }
     },
     "output_type": "display_data"
    },
    {
     "data": {
      "image/png": "[encoded data removed]",
      "text/plain": [
       "Plot with title \"Histogram of BW$BirthWeight[BW$BirthWeight < 3000]\""
      ]
     },
     "metadata": {
      "image/png": {
       "height": 420,
       "width": 420
      }
     },
     "output_type": "display_data"
    }
   ],
   "source": [
    "par(bg=\"white\")\n",
    "hist(BW$BirthWeight, probability=TRUE, nclass=5)\n",
    "hist(BW$BirthWeight[BW$BirthWeight<3000])"
   ]
  },
  {
   "cell_type": "code",
   "execution_count": 167,
   "id": "a36e1679",
   "metadata": {
    "vscode": {
     "languageId": "r"
    }
   },
   "outputs": [],
   "source": [
    "attach(BW)"
   ]
  },
  {
   "cell_type": "code",
   "execution_count": 168,
   "id": "b60c7250",
   "metadata": {
    "vscode": {
     "languageId": "r"
    }
   },
   "outputs": [
    {
     "data": {
      "image/png": "[encoded data removed]",
      "text/plain": [
       "Plot with title \"Boxplots of Birth Weights\""
      ]
     },
     "metadata": {
      "image/png": {
       "height": 420,
       "width": 420
      }
     },
     "output_type": "display_data"
    }
   ],
   "source": [
    "par(bg=\"white\")\n",
    "boxplot(BirthWeight[BirthWeight<2500], BirthWeight[BirthWeight>2500], main=\"Boxplots of Birth Weights\")"
   ]
  },
  {
   "cell_type": "code",
   "execution_count": 169,
   "id": "4a107e5b",
   "metadata": {
    "vscode": {
     "languageId": "r"
    }
   },
   "outputs": [
    {
     "data": {
      "image/png": "[encoded data removed]",
      "text/plain": [
       "plot without title"
      ]
     },
     "metadata": {
      "image/png": {
       "height": 420,
       "width": 420
      }
     },
     "output_type": "display_data"
    }
   ],
   "source": [
    "par(bg=\"white\")\n",
    "boxplot(BirthWeight[Gender_child==1], BirthWeight[Gender_child==2])"
   ]
  },
  {
   "cell_type": "code",
   "execution_count": 179,
   "id": "87374216",
   "metadata": {
    "vscode": {
     "languageId": "r"
    }
   },
   "outputs": [
    {
     "data": {
      "text/html": [],
      "text/latex": [],
      "text/markdown": [],
      "text/plain": [
       "integer(0)"
      ]
     },
     "metadata": {},
     "output_type": "display_data"
    },
    {
     "data": {
      "image/png": "[encoded data removed]",
      "text/plain": [
       "plot without title"
      ]
     },
     "metadata": {
      "image/png": {
       "height": 420,
       "width": 420
      }
     },
     "output_type": "display_data"
    }
   ],
   "source": [
    "par(bg=\"white\")\n",
    "plot(BirthWeight, M_Age)\n",
    "identify(BirthWeight, M_Age)"
   ]
  },
  {
   "cell_type": "code",
   "execution_count": 183,
   "id": "a4ff090e",
   "metadata": {
    "vscode": {
     "languageId": "r"
    }
   },
   "outputs": [
    {
     "data": {
      "image/png": "[encoded data removed]",
      "text/plain": [
       "Plot with title \"Histogram of BirthWeight\""
      ]
     },
     "metadata": {
      "image/png": {
       "height": 420,
       "width": 420
      }
     },
     "output_type": "display_data"
    }
   ],
   "source": [
    "par(mfrow=c(2,1), bg=\"white\")\n",
    "hist(M_weight)\n",
    "hist(BirthWeight)"
   ]
  }
 ],
 "metadata": {
  "kernelspec": {
   "display_name": "R",
   "language": "R",
   "name": "ir"
  },
  "language_info": {
   "codemirror_mode": "r",
   "file_extension": ".r",
   "mimetype": "text/x-r-source",
   "name": "R",
   "pygments_lexer": "r",
   "version": "4.4.1"
  }
 },
 "nbformat": 4,
 "nbformat_minor": 5
}
