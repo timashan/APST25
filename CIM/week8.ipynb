{
 "cells": [
  {
   "cell_type": "code",
   "execution_count": 5,
   "id": "fef08b03",
   "metadata": {
    "vscode": {
     "languageId": "r"
    }
   },
   "outputs": [],
   "source": [
    "library(sqldf)"
   ]
  },
  {
   "cell_type": "code",
   "execution_count": 3,
   "id": "95cd4192",
   "metadata": {
    "vscode": {
     "languageId": "r"
    }
   },
   "outputs": [
    {
     "data": {
      "text/html": [
       "<table class=\"dataframe\">\n",
       "<caption>A data.frame: 6 × 11</caption>\n",
       "<thead>\n",
       "\t<tr><th></th><th scope=col>mpg</th><th scope=col>cyl</th><th scope=col>disp</th><th scope=col>hp</th><th scope=col>drat</th><th scope=col>wt</th><th scope=col>qsec</th><th scope=col>vs</th><th scope=col>am</th><th scope=col>gear</th><th scope=col>carb</th></tr>\n",
       "\t<tr><th></th><th scope=col>&lt;dbl&gt;</th><th scope=col>&lt;dbl&gt;</th><th scope=col>&lt;dbl&gt;</th><th scope=col>&lt;dbl&gt;</th><th scope=col>&lt;dbl&gt;</th><th scope=col>&lt;dbl&gt;</th><th scope=col>&lt;dbl&gt;</th><th scope=col>&lt;dbl&gt;</th><th scope=col>&lt;dbl&gt;</th><th scope=col>&lt;dbl&gt;</th><th scope=col>&lt;dbl&gt;</th></tr>\n",
       "</thead>\n",
       "<tbody>\n",
       "\t<tr><th scope=row>Mazda RX4</th><td>21.0</td><td>6</td><td>160</td><td>110</td><td>3.90</td><td>2.620</td><td>16.46</td><td>0</td><td>1</td><td>4</td><td>4</td></tr>\n",
       "\t<tr><th scope=row>Mazda RX4 Wag</th><td>21.0</td><td>6</td><td>160</td><td>110</td><td>3.90</td><td>2.875</td><td>17.02</td><td>0</td><td>1</td><td>4</td><td>4</td></tr>\n",
       "\t<tr><th scope=row>Datsun 710</th><td>22.8</td><td>4</td><td>108</td><td> 93</td><td>3.85</td><td>2.320</td><td>18.61</td><td>1</td><td>1</td><td>4</td><td>1</td></tr>\n",
       "\t<tr><th scope=row>Hornet 4 Drive</th><td>21.4</td><td>6</td><td>258</td><td>110</td><td>3.08</td><td>3.215</td><td>19.44</td><td>1</td><td>0</td><td>3</td><td>1</td></tr>\n",
       "\t<tr><th scope=row>Hornet Sportabout</th><td>18.7</td><td>8</td><td>360</td><td>175</td><td>3.15</td><td>3.440</td><td>17.02</td><td>0</td><td>0</td><td>3</td><td>2</td></tr>\n",
       "\t<tr><th scope=row>Valiant</th><td>18.1</td><td>6</td><td>225</td><td>105</td><td>2.76</td><td>3.460</td><td>20.22</td><td>1</td><td>0</td><td>3</td><td>1</td></tr>\n",
       "</tbody>\n",
       "</table>\n"
      ],
      "text/latex": [
       "A data.frame: 6 × 11\n",
       "\\begin{tabular}{r|lllllllllll}\n",
       "  & mpg & cyl & disp & hp & drat & wt & qsec & vs & am & gear & carb\\\\\n",
       "  & <dbl> & <dbl> & <dbl> & <dbl> & <dbl> & <dbl> & <dbl> & <dbl> & <dbl> & <dbl> & <dbl>\\\\\n",
       "\\hline\n",
       "\tMazda RX4 & 21.0 & 6 & 160 & 110 & 3.90 & 2.620 & 16.46 & 0 & 1 & 4 & 4\\\\\n",
       "\tMazda RX4 Wag & 21.0 & 6 & 160 & 110 & 3.90 & 2.875 & 17.02 & 0 & 1 & 4 & 4\\\\\n",
       "\tDatsun 710 & 22.8 & 4 & 108 &  93 & 3.85 & 2.320 & 18.61 & 1 & 1 & 4 & 1\\\\\n",
       "\tHornet 4 Drive & 21.4 & 6 & 258 & 110 & 3.08 & 3.215 & 19.44 & 1 & 0 & 3 & 1\\\\\n",
       "\tHornet Sportabout & 18.7 & 8 & 360 & 175 & 3.15 & 3.440 & 17.02 & 0 & 0 & 3 & 2\\\\\n",
       "\tValiant & 18.1 & 6 & 225 & 105 & 2.76 & 3.460 & 20.22 & 1 & 0 & 3 & 1\\\\\n",
       "\\end{tabular}\n"
      ],
      "text/markdown": [
       "\n",
       "A data.frame: 6 × 11\n",
       "\n",
       "| <!--/--> | mpg &lt;dbl&gt; | cyl &lt;dbl&gt; | disp &lt;dbl&gt; | hp &lt;dbl&gt; | drat &lt;dbl&gt; | wt &lt;dbl&gt; | qsec &lt;dbl&gt; | vs &lt;dbl&gt; | am &lt;dbl&gt; | gear &lt;dbl&gt; | carb &lt;dbl&gt; |\n",
       "|---|---|---|---|---|---|---|---|---|---|---|---|\n",
       "| Mazda RX4 | 21.0 | 6 | 160 | 110 | 3.90 | 2.620 | 16.46 | 0 | 1 | 4 | 4 |\n",
       "| Mazda RX4 Wag | 21.0 | 6 | 160 | 110 | 3.90 | 2.875 | 17.02 | 0 | 1 | 4 | 4 |\n",
       "| Datsun 710 | 22.8 | 4 | 108 |  93 | 3.85 | 2.320 | 18.61 | 1 | 1 | 4 | 1 |\n",
       "| Hornet 4 Drive | 21.4 | 6 | 258 | 110 | 3.08 | 3.215 | 19.44 | 1 | 0 | 3 | 1 |\n",
       "| Hornet Sportabout | 18.7 | 8 | 360 | 175 | 3.15 | 3.440 | 17.02 | 0 | 0 | 3 | 2 |\n",
       "| Valiant | 18.1 | 6 | 225 | 105 | 2.76 | 3.460 | 20.22 | 1 | 0 | 3 | 1 |\n",
       "\n"
      ],
      "text/plain": [
       "                  mpg  cyl disp hp  drat wt    qsec  vs am gear carb\n",
       "Mazda RX4         21.0 6   160  110 3.90 2.620 16.46 0  1  4    4   \n",
       "Mazda RX4 Wag     21.0 6   160  110 3.90 2.875 17.02 0  1  4    4   \n",
       "Datsun 710        22.8 4   108   93 3.85 2.320 18.61 1  1  4    1   \n",
       "Hornet 4 Drive    21.4 6   258  110 3.08 3.215 19.44 1  0  3    1   \n",
       "Hornet Sportabout 18.7 8   360  175 3.15 3.440 17.02 0  0  3    2   \n",
       "Valiant           18.1 6   225  105 2.76 3.460 20.22 1  0  3    1   "
      ]
     },
     "metadata": {},
     "output_type": "display_data"
    }
   ],
   "source": [
    "head(mtcars)"
   ]
  },
  {
   "cell_type": "code",
   "execution_count": 7,
   "id": "c13a37ce",
   "metadata": {
    "vscode": {
     "languageId": "r"
    }
   },
   "outputs": [
    {
     "data": {
      "text/html": [
       "<table class=\"dataframe\">\n",
       "<caption>A data.frame: 5 × 11</caption>\n",
       "<thead>\n",
       "\t<tr><th scope=col>mpg</th><th scope=col>cyl</th><th scope=col>disp</th><th scope=col>hp</th><th scope=col>drat</th><th scope=col>wt</th><th scope=col>qsec</th><th scope=col>vs</th><th scope=col>am</th><th scope=col>gear</th><th scope=col>carb</th></tr>\n",
       "\t<tr><th scope=col>&lt;dbl&gt;</th><th scope=col>&lt;dbl&gt;</th><th scope=col>&lt;dbl&gt;</th><th scope=col>&lt;dbl&gt;</th><th scope=col>&lt;dbl&gt;</th><th scope=col>&lt;dbl&gt;</th><th scope=col>&lt;dbl&gt;</th><th scope=col>&lt;dbl&gt;</th><th scope=col>&lt;dbl&gt;</th><th scope=col>&lt;dbl&gt;</th><th scope=col>&lt;dbl&gt;</th></tr>\n",
       "</thead>\n",
       "<tbody>\n",
       "\t<tr><td>21.0</td><td>6</td><td>160</td><td>110</td><td>3.90</td><td>2.620</td><td>16.46</td><td>0</td><td>1</td><td>4</td><td>4</td></tr>\n",
       "\t<tr><td>21.0</td><td>6</td><td>160</td><td>110</td><td>3.90</td><td>2.875</td><td>17.02</td><td>0</td><td>1</td><td>4</td><td>4</td></tr>\n",
       "\t<tr><td>22.8</td><td>4</td><td>108</td><td> 93</td><td>3.85</td><td>2.320</td><td>18.61</td><td>1</td><td>1</td><td>4</td><td>1</td></tr>\n",
       "\t<tr><td>21.4</td><td>6</td><td>258</td><td>110</td><td>3.08</td><td>3.215</td><td>19.44</td><td>1</td><td>0</td><td>3</td><td>1</td></tr>\n",
       "\t<tr><td>18.7</td><td>8</td><td>360</td><td>175</td><td>3.15</td><td>3.440</td><td>17.02</td><td>0</td><td>0</td><td>3</td><td>2</td></tr>\n",
       "</tbody>\n",
       "</table>\n"
      ],
      "text/latex": [
       "A data.frame: 5 × 11\n",
       "\\begin{tabular}{lllllllllll}\n",
       " mpg & cyl & disp & hp & drat & wt & qsec & vs & am & gear & carb\\\\\n",
       " <dbl> & <dbl> & <dbl> & <dbl> & <dbl> & <dbl> & <dbl> & <dbl> & <dbl> & <dbl> & <dbl>\\\\\n",
       "\\hline\n",
       "\t 21.0 & 6 & 160 & 110 & 3.90 & 2.620 & 16.46 & 0 & 1 & 4 & 4\\\\\n",
       "\t 21.0 & 6 & 160 & 110 & 3.90 & 2.875 & 17.02 & 0 & 1 & 4 & 4\\\\\n",
       "\t 22.8 & 4 & 108 &  93 & 3.85 & 2.320 & 18.61 & 1 & 1 & 4 & 1\\\\\n",
       "\t 21.4 & 6 & 258 & 110 & 3.08 & 3.215 & 19.44 & 1 & 0 & 3 & 1\\\\\n",
       "\t 18.7 & 8 & 360 & 175 & 3.15 & 3.440 & 17.02 & 0 & 0 & 3 & 2\\\\\n",
       "\\end{tabular}\n"
      ],
      "text/markdown": [
       "\n",
       "A data.frame: 5 × 11\n",
       "\n",
       "| mpg &lt;dbl&gt; | cyl &lt;dbl&gt; | disp &lt;dbl&gt; | hp &lt;dbl&gt; | drat &lt;dbl&gt; | wt &lt;dbl&gt; | qsec &lt;dbl&gt; | vs &lt;dbl&gt; | am &lt;dbl&gt; | gear &lt;dbl&gt; | carb &lt;dbl&gt; |\n",
       "|---|---|---|---|---|---|---|---|---|---|---|\n",
       "| 21.0 | 6 | 160 | 110 | 3.90 | 2.620 | 16.46 | 0 | 1 | 4 | 4 |\n",
       "| 21.0 | 6 | 160 | 110 | 3.90 | 2.875 | 17.02 | 0 | 1 | 4 | 4 |\n",
       "| 22.8 | 4 | 108 |  93 | 3.85 | 2.320 | 18.61 | 1 | 1 | 4 | 1 |\n",
       "| 21.4 | 6 | 258 | 110 | 3.08 | 3.215 | 19.44 | 1 | 0 | 3 | 1 |\n",
       "| 18.7 | 8 | 360 | 175 | 3.15 | 3.440 | 17.02 | 0 | 0 | 3 | 2 |\n",
       "\n"
      ],
      "text/plain": [
       "  mpg  cyl disp hp  drat wt    qsec  vs am gear carb\n",
       "1 21.0 6   160  110 3.90 2.620 16.46 0  1  4    4   \n",
       "2 21.0 6   160  110 3.90 2.875 17.02 0  1  4    4   \n",
       "3 22.8 4   108   93 3.85 2.320 18.61 1  1  4    1   \n",
       "4 21.4 6   258  110 3.08 3.215 19.44 1  0  3    1   \n",
       "5 18.7 8   360  175 3.15 3.440 17.02 0  0  3    2   "
      ]
     },
     "metadata": {},
     "output_type": "display_data"
    }
   ],
   "source": [
    "sqldf(\"SELECT * from mtcars limit 5\")"
   ]
  },
  {
   "cell_type": "code",
   "execution_count": 15,
   "id": "7e88c281",
   "metadata": {
    "vscode": {
     "languageId": "r"
    }
   },
   "outputs": [
    {
     "data": {
      "text/html": [
       "<table class=\"dataframe\">\n",
       "<caption>A data.frame: 10 × 11</caption>\n",
       "<thead>\n",
       "\t<tr><th></th><th scope=col>mpg</th><th scope=col>cyl</th><th scope=col>disp</th><th scope=col>hp</th><th scope=col>drat</th><th scope=col>wt</th><th scope=col>qsec</th><th scope=col>vs</th><th scope=col>am</th><th scope=col>gear</th><th scope=col>carb</th></tr>\n",
       "\t<tr><th></th><th scope=col>&lt;dbl&gt;</th><th scope=col>&lt;dbl&gt;</th><th scope=col>&lt;dbl&gt;</th><th scope=col>&lt;dbl&gt;</th><th scope=col>&lt;dbl&gt;</th><th scope=col>&lt;dbl&gt;</th><th scope=col>&lt;dbl&gt;</th><th scope=col>&lt;dbl&gt;</th><th scope=col>&lt;dbl&gt;</th><th scope=col>&lt;dbl&gt;</th><th scope=col>&lt;dbl&gt;</th></tr>\n",
       "</thead>\n",
       "<tbody>\n",
       "\t<tr><th scope=row>Mazda RX4</th><td>21.0</td><td>6</td><td>160.0</td><td>110</td><td>3.90</td><td>2.620</td><td>16.46</td><td>0</td><td>1</td><td>4</td><td>4</td></tr>\n",
       "\t<tr><th scope=row>Mazda RX4 Wag</th><td>21.0</td><td>6</td><td>160.0</td><td>110</td><td>3.90</td><td>2.875</td><td>17.02</td><td>0</td><td>1</td><td>4</td><td>4</td></tr>\n",
       "\t<tr><th scope=row>Datsun 710</th><td>22.8</td><td>4</td><td>108.0</td><td> 93</td><td>3.85</td><td>2.320</td><td>18.61</td><td>1</td><td>1</td><td>4</td><td>1</td></tr>\n",
       "\t<tr><th scope=row>Fiat 128</th><td>32.4</td><td>4</td><td> 78.7</td><td> 66</td><td>4.08</td><td>2.200</td><td>19.47</td><td>1</td><td>1</td><td>4</td><td>1</td></tr>\n",
       "\t<tr><th scope=row>Honda Civic</th><td>30.4</td><td>4</td><td> 75.7</td><td> 52</td><td>4.93</td><td>1.615</td><td>18.52</td><td>1</td><td>1</td><td>4</td><td>2</td></tr>\n",
       "\t<tr><th scope=row>Toyota Corolla</th><td>33.9</td><td>4</td><td> 71.1</td><td> 65</td><td>4.22</td><td>1.835</td><td>19.90</td><td>1</td><td>1</td><td>4</td><td>1</td></tr>\n",
       "\t<tr><th scope=row>Fiat X1-9</th><td>27.3</td><td>4</td><td> 79.0</td><td> 66</td><td>4.08</td><td>1.935</td><td>18.90</td><td>1</td><td>1</td><td>4</td><td>1</td></tr>\n",
       "\t<tr><th scope=row>Porsche 914-2</th><td>26.0</td><td>4</td><td>120.3</td><td> 91</td><td>4.43</td><td>2.140</td><td>16.70</td><td>0</td><td>1</td><td>5</td><td>2</td></tr>\n",
       "\t<tr><th scope=row>Lotus Europa</th><td>30.4</td><td>4</td><td> 95.1</td><td>113</td><td>3.77</td><td>1.513</td><td>16.90</td><td>1</td><td>1</td><td>5</td><td>2</td></tr>\n",
       "\t<tr><th scope=row>Volvo 142E</th><td>21.4</td><td>4</td><td>121.0</td><td>109</td><td>4.11</td><td>2.780</td><td>18.60</td><td>1</td><td>1</td><td>4</td><td>2</td></tr>\n",
       "</tbody>\n",
       "</table>\n"
      ],
      "text/latex": [
       "A data.frame: 10 × 11\n",
       "\\begin{tabular}{r|lllllllllll}\n",
       "  & mpg & cyl & disp & hp & drat & wt & qsec & vs & am & gear & carb\\\\\n",
       "  & <dbl> & <dbl> & <dbl> & <dbl> & <dbl> & <dbl> & <dbl> & <dbl> & <dbl> & <dbl> & <dbl>\\\\\n",
       "\\hline\n",
       "\tMazda RX4 & 21.0 & 6 & 160.0 & 110 & 3.90 & 2.620 & 16.46 & 0 & 1 & 4 & 4\\\\\n",
       "\tMazda RX4 Wag & 21.0 & 6 & 160.0 & 110 & 3.90 & 2.875 & 17.02 & 0 & 1 & 4 & 4\\\\\n",
       "\tDatsun 710 & 22.8 & 4 & 108.0 &  93 & 3.85 & 2.320 & 18.61 & 1 & 1 & 4 & 1\\\\\n",
       "\tFiat 128 & 32.4 & 4 &  78.7 &  66 & 4.08 & 2.200 & 19.47 & 1 & 1 & 4 & 1\\\\\n",
       "\tHonda Civic & 30.4 & 4 &  75.7 &  52 & 4.93 & 1.615 & 18.52 & 1 & 1 & 4 & 2\\\\\n",
       "\tToyota Corolla & 33.9 & 4 &  71.1 &  65 & 4.22 & 1.835 & 19.90 & 1 & 1 & 4 & 1\\\\\n",
       "\tFiat X1-9 & 27.3 & 4 &  79.0 &  66 & 4.08 & 1.935 & 18.90 & 1 & 1 & 4 & 1\\\\\n",
       "\tPorsche 914-2 & 26.0 & 4 & 120.3 &  91 & 4.43 & 2.140 & 16.70 & 0 & 1 & 5 & 2\\\\\n",
       "\tLotus Europa & 30.4 & 4 &  95.1 & 113 & 3.77 & 1.513 & 16.90 & 1 & 1 & 5 & 2\\\\\n",
       "\tVolvo 142E & 21.4 & 4 & 121.0 & 109 & 4.11 & 2.780 & 18.60 & 1 & 1 & 4 & 2\\\\\n",
       "\\end{tabular}\n"
      ],
      "text/markdown": [
       "\n",
       "A data.frame: 10 × 11\n",
       "\n",
       "| <!--/--> | mpg &lt;dbl&gt; | cyl &lt;dbl&gt; | disp &lt;dbl&gt; | hp &lt;dbl&gt; | drat &lt;dbl&gt; | wt &lt;dbl&gt; | qsec &lt;dbl&gt; | vs &lt;dbl&gt; | am &lt;dbl&gt; | gear &lt;dbl&gt; | carb &lt;dbl&gt; |\n",
       "|---|---|---|---|---|---|---|---|---|---|---|---|\n",
       "| Mazda RX4 | 21.0 | 6 | 160.0 | 110 | 3.90 | 2.620 | 16.46 | 0 | 1 | 4 | 4 |\n",
       "| Mazda RX4 Wag | 21.0 | 6 | 160.0 | 110 | 3.90 | 2.875 | 17.02 | 0 | 1 | 4 | 4 |\n",
       "| Datsun 710 | 22.8 | 4 | 108.0 |  93 | 3.85 | 2.320 | 18.61 | 1 | 1 | 4 | 1 |\n",
       "| Fiat 128 | 32.4 | 4 |  78.7 |  66 | 4.08 | 2.200 | 19.47 | 1 | 1 | 4 | 1 |\n",
       "| Honda Civic | 30.4 | 4 |  75.7 |  52 | 4.93 | 1.615 | 18.52 | 1 | 1 | 4 | 2 |\n",
       "| Toyota Corolla | 33.9 | 4 |  71.1 |  65 | 4.22 | 1.835 | 19.90 | 1 | 1 | 4 | 1 |\n",
       "| Fiat X1-9 | 27.3 | 4 |  79.0 |  66 | 4.08 | 1.935 | 18.90 | 1 | 1 | 4 | 1 |\n",
       "| Porsche 914-2 | 26.0 | 4 | 120.3 |  91 | 4.43 | 2.140 | 16.70 | 0 | 1 | 5 | 2 |\n",
       "| Lotus Europa | 30.4 | 4 |  95.1 | 113 | 3.77 | 1.513 | 16.90 | 1 | 1 | 5 | 2 |\n",
       "| Volvo 142E | 21.4 | 4 | 121.0 | 109 | 4.11 | 2.780 | 18.60 | 1 | 1 | 4 | 2 |\n",
       "\n"
      ],
      "text/plain": [
       "               mpg  cyl disp  hp  drat wt    qsec  vs am gear carb\n",
       "Mazda RX4      21.0 6   160.0 110 3.90 2.620 16.46 0  1  4    4   \n",
       "Mazda RX4 Wag  21.0 6   160.0 110 3.90 2.875 17.02 0  1  4    4   \n",
       "Datsun 710     22.8 4   108.0  93 3.85 2.320 18.61 1  1  4    1   \n",
       "Fiat 128       32.4 4    78.7  66 4.08 2.200 19.47 1  1  4    1   \n",
       "Honda Civic    30.4 4    75.7  52 4.93 1.615 18.52 1  1  4    2   \n",
       "Toyota Corolla 33.9 4    71.1  65 4.22 1.835 19.90 1  1  4    1   \n",
       "Fiat X1-9      27.3 4    79.0  66 4.08 1.935 18.90 1  1  4    1   \n",
       "Porsche 914-2  26.0 4   120.3  91 4.43 2.140 16.70 0  1  5    2   \n",
       "Lotus Europa   30.4 4    95.1 113 3.77 1.513 16.90 1  1  5    2   \n",
       "Volvo 142E     21.4 4   121.0 109 4.11 2.780 18.60 1  1  4    2   "
      ]
     },
     "metadata": {},
     "output_type": "display_data"
    },
    {
     "data": {
      "text/html": [
       "<table class=\"dataframe\">\n",
       "<caption>A data.frame: 10 × 11</caption>\n",
       "<thead>\n",
       "\t<tr><th scope=col>mpg</th><th scope=col>cyl</th><th scope=col>disp</th><th scope=col>hp</th><th scope=col>drat</th><th scope=col>wt</th><th scope=col>qsec</th><th scope=col>vs</th><th scope=col>am</th><th scope=col>gear</th><th scope=col>carb</th></tr>\n",
       "\t<tr><th scope=col>&lt;dbl&gt;</th><th scope=col>&lt;dbl&gt;</th><th scope=col>&lt;dbl&gt;</th><th scope=col>&lt;dbl&gt;</th><th scope=col>&lt;dbl&gt;</th><th scope=col>&lt;dbl&gt;</th><th scope=col>&lt;dbl&gt;</th><th scope=col>&lt;dbl&gt;</th><th scope=col>&lt;dbl&gt;</th><th scope=col>&lt;dbl&gt;</th><th scope=col>&lt;dbl&gt;</th></tr>\n",
       "</thead>\n",
       "<tbody>\n",
       "\t<tr><td>21.0</td><td>6</td><td>160.0</td><td>110</td><td>3.90</td><td>2.620</td><td>16.46</td><td>0</td><td>1</td><td>4</td><td>4</td></tr>\n",
       "\t<tr><td>21.0</td><td>6</td><td>160.0</td><td>110</td><td>3.90</td><td>2.875</td><td>17.02</td><td>0</td><td>1</td><td>4</td><td>4</td></tr>\n",
       "\t<tr><td>22.8</td><td>4</td><td>108.0</td><td> 93</td><td>3.85</td><td>2.320</td><td>18.61</td><td>1</td><td>1</td><td>4</td><td>1</td></tr>\n",
       "\t<tr><td>32.4</td><td>4</td><td> 78.7</td><td> 66</td><td>4.08</td><td>2.200</td><td>19.47</td><td>1</td><td>1</td><td>4</td><td>1</td></tr>\n",
       "\t<tr><td>30.4</td><td>4</td><td> 75.7</td><td> 52</td><td>4.93</td><td>1.615</td><td>18.52</td><td>1</td><td>1</td><td>4</td><td>2</td></tr>\n",
       "\t<tr><td>33.9</td><td>4</td><td> 71.1</td><td> 65</td><td>4.22</td><td>1.835</td><td>19.90</td><td>1</td><td>1</td><td>4</td><td>1</td></tr>\n",
       "\t<tr><td>27.3</td><td>4</td><td> 79.0</td><td> 66</td><td>4.08</td><td>1.935</td><td>18.90</td><td>1</td><td>1</td><td>4</td><td>1</td></tr>\n",
       "\t<tr><td>26.0</td><td>4</td><td>120.3</td><td> 91</td><td>4.43</td><td>2.140</td><td>16.70</td><td>0</td><td>1</td><td>5</td><td>2</td></tr>\n",
       "\t<tr><td>30.4</td><td>4</td><td> 95.1</td><td>113</td><td>3.77</td><td>1.513</td><td>16.90</td><td>1</td><td>1</td><td>5</td><td>2</td></tr>\n",
       "\t<tr><td>21.4</td><td>4</td><td>121.0</td><td>109</td><td>4.11</td><td>2.780</td><td>18.60</td><td>1</td><td>1</td><td>4</td><td>2</td></tr>\n",
       "</tbody>\n",
       "</table>\n"
      ],
      "text/latex": [
       "A data.frame: 10 × 11\n",
       "\\begin{tabular}{lllllllllll}\n",
       " mpg & cyl & disp & hp & drat & wt & qsec & vs & am & gear & carb\\\\\n",
       " <dbl> & <dbl> & <dbl> & <dbl> & <dbl> & <dbl> & <dbl> & <dbl> & <dbl> & <dbl> & <dbl>\\\\\n",
       "\\hline\n",
       "\t 21.0 & 6 & 160.0 & 110 & 3.90 & 2.620 & 16.46 & 0 & 1 & 4 & 4\\\\\n",
       "\t 21.0 & 6 & 160.0 & 110 & 3.90 & 2.875 & 17.02 & 0 & 1 & 4 & 4\\\\\n",
       "\t 22.8 & 4 & 108.0 &  93 & 3.85 & 2.320 & 18.61 & 1 & 1 & 4 & 1\\\\\n",
       "\t 32.4 & 4 &  78.7 &  66 & 4.08 & 2.200 & 19.47 & 1 & 1 & 4 & 1\\\\\n",
       "\t 30.4 & 4 &  75.7 &  52 & 4.93 & 1.615 & 18.52 & 1 & 1 & 4 & 2\\\\\n",
       "\t 33.9 & 4 &  71.1 &  65 & 4.22 & 1.835 & 19.90 & 1 & 1 & 4 & 1\\\\\n",
       "\t 27.3 & 4 &  79.0 &  66 & 4.08 & 1.935 & 18.90 & 1 & 1 & 4 & 1\\\\\n",
       "\t 26.0 & 4 & 120.3 &  91 & 4.43 & 2.140 & 16.70 & 0 & 1 & 5 & 2\\\\\n",
       "\t 30.4 & 4 &  95.1 & 113 & 3.77 & 1.513 & 16.90 & 1 & 1 & 5 & 2\\\\\n",
       "\t 21.4 & 4 & 121.0 & 109 & 4.11 & 2.780 & 18.60 & 1 & 1 & 4 & 2\\\\\n",
       "\\end{tabular}\n"
      ],
      "text/markdown": [
       "\n",
       "A data.frame: 10 × 11\n",
       "\n",
       "| mpg &lt;dbl&gt; | cyl &lt;dbl&gt; | disp &lt;dbl&gt; | hp &lt;dbl&gt; | drat &lt;dbl&gt; | wt &lt;dbl&gt; | qsec &lt;dbl&gt; | vs &lt;dbl&gt; | am &lt;dbl&gt; | gear &lt;dbl&gt; | carb &lt;dbl&gt; |\n",
       "|---|---|---|---|---|---|---|---|---|---|---|\n",
       "| 21.0 | 6 | 160.0 | 110 | 3.90 | 2.620 | 16.46 | 0 | 1 | 4 | 4 |\n",
       "| 21.0 | 6 | 160.0 | 110 | 3.90 | 2.875 | 17.02 | 0 | 1 | 4 | 4 |\n",
       "| 22.8 | 4 | 108.0 |  93 | 3.85 | 2.320 | 18.61 | 1 | 1 | 4 | 1 |\n",
       "| 32.4 | 4 |  78.7 |  66 | 4.08 | 2.200 | 19.47 | 1 | 1 | 4 | 1 |\n",
       "| 30.4 | 4 |  75.7 |  52 | 4.93 | 1.615 | 18.52 | 1 | 1 | 4 | 2 |\n",
       "| 33.9 | 4 |  71.1 |  65 | 4.22 | 1.835 | 19.90 | 1 | 1 | 4 | 1 |\n",
       "| 27.3 | 4 |  79.0 |  66 | 4.08 | 1.935 | 18.90 | 1 | 1 | 4 | 1 |\n",
       "| 26.0 | 4 | 120.3 |  91 | 4.43 | 2.140 | 16.70 | 0 | 1 | 5 | 2 |\n",
       "| 30.4 | 4 |  95.1 | 113 | 3.77 | 1.513 | 16.90 | 1 | 1 | 5 | 2 |\n",
       "| 21.4 | 4 | 121.0 | 109 | 4.11 | 2.780 | 18.60 | 1 | 1 | 4 | 2 |\n",
       "\n"
      ],
      "text/plain": [
       "   mpg  cyl disp  hp  drat wt    qsec  vs am gear carb\n",
       "1  21.0 6   160.0 110 3.90 2.620 16.46 0  1  4    4   \n",
       "2  21.0 6   160.0 110 3.90 2.875 17.02 0  1  4    4   \n",
       "3  22.8 4   108.0  93 3.85 2.320 18.61 1  1  4    1   \n",
       "4  32.4 4    78.7  66 4.08 2.200 19.47 1  1  4    1   \n",
       "5  30.4 4    75.7  52 4.93 1.615 18.52 1  1  4    2   \n",
       "6  33.9 4    71.1  65 4.22 1.835 19.90 1  1  4    1   \n",
       "7  27.3 4    79.0  66 4.08 1.935 18.90 1  1  4    1   \n",
       "8  26.0 4   120.3  91 4.43 2.140 16.70 0  1  5    2   \n",
       "9  30.4 4    95.1 113 3.77 1.513 16.90 1  1  5    2   \n",
       "10 21.4 4   121.0 109 4.11 2.780 18.60 1  1  4    2   "
      ]
     },
     "metadata": {},
     "output_type": "display_data"
    }
   ],
   "source": [
    "mtcars[mtcars$mpg>20 & mtcars$am==1,]\n",
    "sqldf(\"SELECT * from mtcars where mpg>20 and am==1\")"
   ]
  },
  {
   "cell_type": "code",
   "execution_count": 27,
   "id": "84d281a9",
   "metadata": {
    "vscode": {
     "languageId": "r"
    }
   },
   "outputs": [
    {
     "data": {
      "text/html": [
       "19.7428571428571"
      ],
      "text/latex": [
       "19.7428571428571"
      ],
      "text/markdown": [
       "19.7428571428571"
      ],
      "text/plain": [
       "[1] 19.74286"
      ]
     },
     "metadata": {},
     "output_type": "display_data"
    },
    {
     "data": {
      "text/html": [
       "<table class=\"dataframe\">\n",
       "<caption>A data.frame: 1 × 1</caption>\n",
       "<thead>\n",
       "\t<tr><th scope=col>avg(mpg)</th></tr>\n",
       "\t<tr><th scope=col>&lt;dbl&gt;</th></tr>\n",
       "</thead>\n",
       "<tbody>\n",
       "\t<tr><td>19.74286</td></tr>\n",
       "</tbody>\n",
       "</table>\n"
      ],
      "text/latex": [
       "A data.frame: 1 × 1\n",
       "\\begin{tabular}{l}\n",
       " avg(mpg)\\\\\n",
       " <dbl>\\\\\n",
       "\\hline\n",
       "\t 19.74286\\\\\n",
       "\\end{tabular}\n"
      ],
      "text/markdown": [
       "\n",
       "A data.frame: 1 × 1\n",
       "\n",
       "| avg(mpg) &lt;dbl&gt; |\n",
       "|---|\n",
       "| 19.74286 |\n",
       "\n"
      ],
      "text/plain": [
       "  avg(mpg)\n",
       "1 19.74286"
      ]
     },
     "metadata": {},
     "output_type": "display_data"
    }
   ],
   "source": [
    "mean(mtcars[mtcars$cyl==6,]$mpg)\n",
    "sqldf(\"SELECT avg(mpg) from mtcars where cyl==6\")"
   ]
  },
  {
   "cell_type": "code",
   "execution_count": 48,
   "id": "4a12ce77",
   "metadata": {
    "vscode": {
     "languageId": "r"
    }
   },
   "outputs": [
    {
     "data": {
      "text/html": [
       "<table class=\"dataframe\">\n",
       "<caption>A data.frame: 8 × 2</caption>\n",
       "<thead>\n",
       "\t<tr><th scope=col>PK</th><th scope=col>Value</th></tr>\n",
       "\t<tr><th scope=col>&lt;dbl&gt;</th><th scope=col>&lt;chr&gt;</th></tr>\n",
       "</thead>\n",
       "<tbody>\n",
       "\t<tr><td> 1</td><td>FOX       </td></tr>\n",
       "\t<tr><td> 2</td><td>COP       </td></tr>\n",
       "\t<tr><td> 3</td><td>TAXI      </td></tr>\n",
       "\t<tr><td> 6</td><td>WASHINGTON</td></tr>\n",
       "\t<tr><td> 7</td><td>DELL      </td></tr>\n",
       "\t<tr><td> 5</td><td>ARIZONA   </td></tr>\n",
       "\t<tr><td> 4</td><td>APPLE     </td></tr>\n",
       "\t<tr><td>10</td><td>GOOGLE    </td></tr>\n",
       "</tbody>\n",
       "</table>\n"
      ],
      "text/latex": [
       "A data.frame: 8 × 2\n",
       "\\begin{tabular}{ll}\n",
       " PK & Value\\\\\n",
       " <dbl> & <chr>\\\\\n",
       "\\hline\n",
       "\t  1 & FOX       \\\\\n",
       "\t  2 & COP       \\\\\n",
       "\t  3 & TAXI      \\\\\n",
       "\t  6 & WASHINGTON\\\\\n",
       "\t  7 & DELL      \\\\\n",
       "\t  5 & ARIZONA   \\\\\n",
       "\t  4 & APPLE     \\\\\n",
       "\t 10 & GOOGLE    \\\\\n",
       "\\end{tabular}\n"
      ],
      "text/markdown": [
       "\n",
       "A data.frame: 8 × 2\n",
       "\n",
       "| PK &lt;dbl&gt; | Value &lt;chr&gt; |\n",
       "|---|---|\n",
       "|  1 | FOX        |\n",
       "|  2 | COP        |\n",
       "|  3 | TAXI       |\n",
       "|  6 | WASHINGTON |\n",
       "|  7 | DELL       |\n",
       "|  5 | ARIZONA    |\n",
       "|  4 | APPLE      |\n",
       "| 10 | GOOGLE     |\n",
       "\n"
      ],
      "text/plain": [
       "  PK Value     \n",
       "1  1 FOX       \n",
       "2  2 COP       \n",
       "3  3 TAXI      \n",
       "4  6 WASHINGTON\n",
       "5  7 DELL      \n",
       "6  5 ARIZONA   \n",
       "7  4 APPLE     \n",
       "8 10 GOOGLE    "
      ]
     },
     "metadata": {},
     "output_type": "display_data"
    },
    {
     "data": {
      "text/html": [
       "<table class=\"dataframe\">\n",
       "<caption>A data.frame: 8 × 2</caption>\n",
       "<thead>\n",
       "\t<tr><th scope=col>PK</th><th scope=col>Value</th></tr>\n",
       "\t<tr><th scope=col>&lt;dbl&gt;</th><th scope=col>&lt;chr&gt;</th></tr>\n",
       "</thead>\n",
       "<tbody>\n",
       "\t<tr><td> 1</td><td>TROT     </td></tr>\n",
       "\t<tr><td> 2</td><td>CAR      </td></tr>\n",
       "\t<tr><td> 3</td><td>CAB      </td></tr>\n",
       "\t<tr><td> 6</td><td>MONUMENT </td></tr>\n",
       "\t<tr><td> 7</td><td>PC       </td></tr>\n",
       "\t<tr><td> 8</td><td>MICROSOFT</td></tr>\n",
       "\t<tr><td> 9</td><td>AMAZON   </td></tr>\n",
       "\t<tr><td>11</td><td>TESLA    </td></tr>\n",
       "</tbody>\n",
       "</table>\n"
      ],
      "text/latex": [
       "A data.frame: 8 × 2\n",
       "\\begin{tabular}{ll}\n",
       " PK & Value\\\\\n",
       " <dbl> & <chr>\\\\\n",
       "\\hline\n",
       "\t  1 & TROT     \\\\\n",
       "\t  2 & CAR      \\\\\n",
       "\t  3 & CAB      \\\\\n",
       "\t  6 & MONUMENT \\\\\n",
       "\t  7 & PC       \\\\\n",
       "\t  8 & MICROSOFT\\\\\n",
       "\t  9 & AMAZON   \\\\\n",
       "\t 11 & TESLA    \\\\\n",
       "\\end{tabular}\n"
      ],
      "text/markdown": [
       "\n",
       "A data.frame: 8 × 2\n",
       "\n",
       "| PK &lt;dbl&gt; | Value &lt;chr&gt; |\n",
       "|---|---|\n",
       "|  1 | TROT      |\n",
       "|  2 | CAR       |\n",
       "|  3 | CAB       |\n",
       "|  6 | MONUMENT  |\n",
       "|  7 | PC        |\n",
       "|  8 | MICROSOFT |\n",
       "|  9 | AMAZON    |\n",
       "| 11 | TESLA     |\n",
       "\n"
      ],
      "text/plain": [
       "  PK Value    \n",
       "1  1 TROT     \n",
       "2  2 CAR      \n",
       "3  3 CAB      \n",
       "4  6 MONUMENT \n",
       "5  7 PC       \n",
       "6  8 MICROSOFT\n",
       "7  9 AMAZON   \n",
       "8 11 TESLA    "
      ]
     },
     "metadata": {},
     "output_type": "display_data"
    }
   ],
   "source": [
    "table_A = data.frame(\n",
    "    PK = c(1, 2, 3, 6, 7, 5, 4, 10),\n",
    "    Value = c(\"FOX\", \"COP\", \"TAXI\", \"WASHINGTON\", \"DELL\", \"ARIZONA\", \"APPLE\", \"GOOGLE\")\n",
    ")\n",
    "\n",
    "table_B = data.frame(\n",
    "    PK = c(1, 2, 3, 6, 7, 8, 9, 11),\n",
    "    Value = c(\"TROT\", \"CAR\", \"CAB\", \"MONUMENT\", \"PC\", \"MICROSOFT\", \"AMAZON\", \"TESLA\")\n",
    ")\n",
    "\n",
    "table_A\n",
    "table_B"
   ]
  },
  {
   "cell_type": "markdown",
   "id": "86db7c48",
   "metadata": {},
   "source": [
    "## INNER JOIN"
   ]
  },
  {
   "cell_type": "code",
   "execution_count": 56,
   "metadata": {
    "vscode": {
     "languageId": "r"
    }
   },
   "outputs": [
    {
     "data": {
      "text/html": [
       "<table class=\"dataframe\">\n",
       "<caption>A data.frame: 5 × 4</caption>\n",
       "<thead>\n",
       "\t<tr><th scope=col>PK</th><th scope=col>Value</th><th scope=col>PK</th><th scope=col>Value</th></tr>\n",
       "\t<tr><th scope=col>&lt;dbl&gt;</th><th scope=col>&lt;chr&gt;</th><th scope=col>&lt;dbl&gt;</th><th scope=col>&lt;chr&gt;</th></tr>\n",
       "</thead>\n",
       "<tbody>\n",
       "\t<tr><td>1</td><td>FOX       </td><td>1</td><td>TROT    </td></tr>\n",
       "\t<tr><td>2</td><td>COP       </td><td>2</td><td>CAR     </td></tr>\n",
       "\t<tr><td>3</td><td>TAXI      </td><td>3</td><td>CAB     </td></tr>\n",
       "\t<tr><td>6</td><td>WASHINGTON</td><td>6</td><td>MONUMENT</td></tr>\n",
       "\t<tr><td>7</td><td>DELL      </td><td>7</td><td>PC      </td></tr>\n",
       "</tbody>\n",
       "</table>\n"
      ],
      "text/latex": [
       "A data.frame: 5 × 4\n",
       "\\begin{tabular}{llll}\n",
       " PK & Value & PK & Value\\\\\n",
       " <dbl> & <chr> & <dbl> & <chr>\\\\\n",
       "\\hline\n",
       "\t 1 & FOX        & 1 & TROT    \\\\\n",
       "\t 2 & COP        & 2 & CAR     \\\\\n",
       "\t 3 & TAXI       & 3 & CAB     \\\\\n",
       "\t 6 & WASHINGTON & 6 & MONUMENT\\\\\n",
       "\t 7 & DELL       & 7 & PC      \\\\\n",
       "\\end{tabular}\n"
      ],
      "text/markdown": [
       "\n",
       "A data.frame: 5 × 4\n",
       "\n",
       "| PK &lt;dbl&gt; | Value &lt;chr&gt; | PK &lt;dbl&gt; | Value &lt;chr&gt; |\n",
       "|---|---|---|---|\n",
       "| 1 | FOX        | 1 | TROT     |\n",
       "| 2 | COP        | 2 | CAR      |\n",
       "| 3 | TAXI       | 3 | CAB      |\n",
       "| 6 | WASHINGTON | 6 | MONUMENT |\n",
       "| 7 | DELL       | 7 | PC       |\n",
       "\n"
      ],
      "text/plain": [
       "  PK Value      PK Value   \n",
       "1 1  FOX        1  TROT    \n",
       "2 2  COP        2  CAR     \n",
       "3 3  TAXI       3  CAB     \n",
       "4 6  WASHINGTON 6  MONUMENT\n",
       "5 7  DELL       7  PC      "
      ]
     },
     "metadata": {},
     "output_type": "display_data"
    }
   ],
   "source": [
    "sqldf(\"SELECT * FROM table_A, table_B where table_A.PK == table_B.PK\")"
   ]
  },
  {
   "cell_type": "code",
   "execution_count": null,
   "id": "1f37dfe7",
   "metadata": {
    "vscode": {
     "languageId": "r"
    }
   },
   "outputs": [
    {
     "data": {
      "text/html": [
       "<table class=\"dataframe\">\n",
       "<caption>A data.frame: 5 × 4</caption>\n",
       "<thead>\n",
       "\t<tr><th scope=col>PK</th><th scope=col>Value</th><th scope=col>PK</th><th scope=col>Value</th></tr>\n",
       "\t<tr><th scope=col>&lt;dbl&gt;</th><th scope=col>&lt;chr&gt;</th><th scope=col>&lt;dbl&gt;</th><th scope=col>&lt;chr&gt;</th></tr>\n",
       "</thead>\n",
       "<tbody>\n",
       "\t<tr><td>1</td><td>FOX       </td><td>1</td><td>TROT    </td></tr>\n",
       "\t<tr><td>2</td><td>COP       </td><td>2</td><td>CAR     </td></tr>\n",
       "\t<tr><td>3</td><td>TAXI      </td><td>3</td><td>CAB     </td></tr>\n",
       "\t<tr><td>6</td><td>WASHINGTON</td><td>6</td><td>MONUMENT</td></tr>\n",
       "\t<tr><td>7</td><td>DELL      </td><td>7</td><td>PC      </td></tr>\n",
       "</tbody>\n",
       "</table>\n"
      ],
      "text/latex": [
       "A data.frame: 5 × 4\n",
       "\\begin{tabular}{llll}\n",
       " PK & Value & PK & Value\\\\\n",
       " <dbl> & <chr> & <dbl> & <chr>\\\\\n",
       "\\hline\n",
       "\t 1 & FOX        & 1 & TROT    \\\\\n",
       "\t 2 & COP        & 2 & CAR     \\\\\n",
       "\t 3 & TAXI       & 3 & CAB     \\\\\n",
       "\t 6 & WASHINGTON & 6 & MONUMENT\\\\\n",
       "\t 7 & DELL       & 7 & PC      \\\\\n",
       "\\end{tabular}\n"
      ],
      "text/markdown": [
       "\n",
       "A data.frame: 5 × 4\n",
       "\n",
       "| PK &lt;dbl&gt; | Value &lt;chr&gt; | PK &lt;dbl&gt; | Value &lt;chr&gt; |\n",
       "|---|---|---|---|\n",
       "| 1 | FOX        | 1 | TROT     |\n",
       "| 2 | COP        | 2 | CAR      |\n",
       "| 3 | TAXI       | 3 | CAB      |\n",
       "| 6 | WASHINGTON | 6 | MONUMENT |\n",
       "| 7 | DELL       | 7 | PC       |\n",
       "\n"
      ],
      "text/plain": [
       "  PK Value      PK Value   \n",
       "1 1  FOX        1  TROT    \n",
       "2 2  COP        2  CAR     \n",
       "3 3  TAXI       3  CAB     \n",
       "4 6  WASHINGTON 6  MONUMENT\n",
       "5 7  DELL       7  PC      "
      ]
     },
     "metadata": {},
     "output_type": "display_data"
    }
   ],
   "source": [
    "sqldf(\"SELECT * FROM table_A A INNER JOIN table_B B ON A.PK = B.PK\")"
   ]
  },
  {
   "cell_type": "markdown",
   "id": "2ab0ad5b",
   "metadata": {},
   "source": [
    "## NATURAL JOIN"
   ]
  },
  {
   "cell_type": "code",
   "execution_count": 73,
   "id": "0d01fcda",
   "metadata": {
    "vscode": {
     "languageId": "r"
    }
   },
   "outputs": [
    {
     "data": {
      "text/html": [
       "<table class=\"dataframe\">\n",
       "<caption>A data.frame: 0 × 2</caption>\n",
       "<thead>\n",
       "\t<tr><th scope=col>PK</th><th scope=col>Value</th></tr>\n",
       "\t<tr><th scope=col>&lt;dbl&gt;</th><th scope=col>&lt;chr&gt;</th></tr>\n",
       "</thead>\n",
       "<tbody>\n",
       "</tbody>\n",
       "</table>\n"
      ],
      "text/latex": [
       "A data.frame: 0 × 2\n",
       "\\begin{tabular}{ll}\n",
       " PK & Value\\\\\n",
       " <dbl> & <chr>\\\\\n",
       "\\hline\n",
       "\\end{tabular}\n"
      ],
      "text/markdown": [
       "\n",
       "A data.frame: 0 × 2\n",
       "\n",
       "| PK &lt;dbl&gt; | Value &lt;chr&gt; |\n",
       "|---|---|\n",
       "\n"
      ],
      "text/plain": [
       "     PK Value"
      ]
     },
     "metadata": {},
     "output_type": "display_data"
    }
   ],
   "source": [
    "sqldf(\"SELECT * FROM table_A A NATURAL JOIN table_B B \")"
   ]
  },
  {
   "cell_type": "markdown",
   "id": "64f3a286",
   "metadata": {},
   "source": [
    "## LEFT OUTER JOIN\n",
    "\n",
    "Left == Left Outer"
   ]
  },
  {
   "cell_type": "code",
   "execution_count": null,
   "id": "d1a12ffe",
   "metadata": {
    "vscode": {
     "languageId": "r"
    }
   },
   "outputs": [
    {
     "data": {
      "text/html": [
       "<table class=\"dataframe\">\n",
       "<caption>A data.frame: 8 × 4</caption>\n",
       "<thead>\n",
       "\t<tr><th scope=col>PK</th><th scope=col>Value</th><th scope=col>PK</th><th scope=col>Value</th></tr>\n",
       "\t<tr><th scope=col>&lt;dbl&gt;</th><th scope=col>&lt;chr&gt;</th><th scope=col>&lt;dbl&gt;</th><th scope=col>&lt;chr&gt;</th></tr>\n",
       "</thead>\n",
       "<tbody>\n",
       "\t<tr><td> 1</td><td>FOX       </td><td> 1</td><td>TROT    </td></tr>\n",
       "\t<tr><td> 2</td><td>COP       </td><td> 2</td><td>CAR     </td></tr>\n",
       "\t<tr><td> 3</td><td>TAXI      </td><td> 3</td><td>CAB     </td></tr>\n",
       "\t<tr><td> 6</td><td>WASHINGTON</td><td> 6</td><td>MONUMENT</td></tr>\n",
       "\t<tr><td> 7</td><td>DELL      </td><td> 7</td><td>PC      </td></tr>\n",
       "\t<tr><td> 5</td><td>ARIZONA   </td><td>NA</td><td>NA      </td></tr>\n",
       "\t<tr><td> 4</td><td>APPLE     </td><td>NA</td><td>NA      </td></tr>\n",
       "\t<tr><td>10</td><td>GOOGLE    </td><td>NA</td><td>NA      </td></tr>\n",
       "</tbody>\n",
       "</table>\n"
      ],
      "text/latex": [
       "A data.frame: 8 × 4\n",
       "\\begin{tabular}{llll}\n",
       " PK & Value & PK & Value\\\\\n",
       " <dbl> & <chr> & <dbl> & <chr>\\\\\n",
       "\\hline\n",
       "\t  1 & FOX        &  1 & TROT    \\\\\n",
       "\t  2 & COP        &  2 & CAR     \\\\\n",
       "\t  3 & TAXI       &  3 & CAB     \\\\\n",
       "\t  6 & WASHINGTON &  6 & MONUMENT\\\\\n",
       "\t  7 & DELL       &  7 & PC      \\\\\n",
       "\t  5 & ARIZONA    & NA & NA      \\\\\n",
       "\t  4 & APPLE      & NA & NA      \\\\\n",
       "\t 10 & GOOGLE     & NA & NA      \\\\\n",
       "\\end{tabular}\n"
      ],
      "text/markdown": [
       "\n",
       "A data.frame: 8 × 4\n",
       "\n",
       "| PK &lt;dbl&gt; | Value &lt;chr&gt; | PK &lt;dbl&gt; | Value &lt;chr&gt; |\n",
       "|---|---|---|---|\n",
       "|  1 | FOX        |  1 | TROT     |\n",
       "|  2 | COP        |  2 | CAR      |\n",
       "|  3 | TAXI       |  3 | CAB      |\n",
       "|  6 | WASHINGTON |  6 | MONUMENT |\n",
       "|  7 | DELL       |  7 | PC       |\n",
       "|  5 | ARIZONA    | NA | NA       |\n",
       "|  4 | APPLE      | NA | NA       |\n",
       "| 10 | GOOGLE     | NA | NA       |\n",
       "\n"
      ],
      "text/plain": [
       "  PK Value      PK Value   \n",
       "1  1 FOX         1 TROT    \n",
       "2  2 COP         2 CAR     \n",
       "3  3 TAXI        3 CAB     \n",
       "4  6 WASHINGTON  6 MONUMENT\n",
       "5  7 DELL        7 PC      \n",
       "6  5 ARIZONA    NA NA      \n",
       "7  4 APPLE      NA NA      \n",
       "8 10 GOOGLE     NA NA      "
      ]
     },
     "metadata": {},
     "output_type": "display_data"
    }
   ],
   "source": [
    "sqldf(\"SELECT * FROM table_A A LEFT OUTER JOIN table_B B ON A.PK = B.PK\")"
   ]
  },
  {
   "cell_type": "markdown",
   "id": "637123c5",
   "metadata": {},
   "source": [
    "## RIGHT OUTER JOIN"
   ]
  },
  {
   "cell_type": "code",
   "execution_count": 64,
   "id": "460f383d",
   "metadata": {
    "vscode": {
     "languageId": "r"
    }
   },
   "outputs": [
    {
     "data": {
      "text/html": [
       "<table class=\"dataframe\">\n",
       "<caption>A data.frame: 8 × 4</caption>\n",
       "<thead>\n",
       "\t<tr><th scope=col>PK</th><th scope=col>Value</th><th scope=col>PK</th><th scope=col>Value</th></tr>\n",
       "\t<tr><th scope=col>&lt;dbl&gt;</th><th scope=col>&lt;chr&gt;</th><th scope=col>&lt;dbl&gt;</th><th scope=col>&lt;chr&gt;</th></tr>\n",
       "</thead>\n",
       "<tbody>\n",
       "\t<tr><td> 1</td><td>FOX       </td><td> 1</td><td>TROT     </td></tr>\n",
       "\t<tr><td> 2</td><td>COP       </td><td> 2</td><td>CAR      </td></tr>\n",
       "\t<tr><td> 3</td><td>TAXI      </td><td> 3</td><td>CAB      </td></tr>\n",
       "\t<tr><td> 6</td><td>WASHINGTON</td><td> 6</td><td>MONUMENT </td></tr>\n",
       "\t<tr><td> 7</td><td>DELL      </td><td> 7</td><td>PC       </td></tr>\n",
       "\t<tr><td>NA</td><td>NA        </td><td> 8</td><td>MICROSOFT</td></tr>\n",
       "\t<tr><td>NA</td><td>NA        </td><td> 9</td><td>AMAZON   </td></tr>\n",
       "\t<tr><td>NA</td><td>NA        </td><td>11</td><td>TESLA    </td></tr>\n",
       "</tbody>\n",
       "</table>\n"
      ],
      "text/latex": [
       "A data.frame: 8 × 4\n",
       "\\begin{tabular}{llll}\n",
       " PK & Value & PK & Value\\\\\n",
       " <dbl> & <chr> & <dbl> & <chr>\\\\\n",
       "\\hline\n",
       "\t  1 & FOX        &  1 & TROT     \\\\\n",
       "\t  2 & COP        &  2 & CAR      \\\\\n",
       "\t  3 & TAXI       &  3 & CAB      \\\\\n",
       "\t  6 & WASHINGTON &  6 & MONUMENT \\\\\n",
       "\t  7 & DELL       &  7 & PC       \\\\\n",
       "\t NA & NA         &  8 & MICROSOFT\\\\\n",
       "\t NA & NA         &  9 & AMAZON   \\\\\n",
       "\t NA & NA         & 11 & TESLA    \\\\\n",
       "\\end{tabular}\n"
      ],
      "text/markdown": [
       "\n",
       "A data.frame: 8 × 4\n",
       "\n",
       "| PK &lt;dbl&gt; | Value &lt;chr&gt; | PK &lt;dbl&gt; | Value &lt;chr&gt; |\n",
       "|---|---|---|---|\n",
       "|  1 | FOX        |  1 | TROT      |\n",
       "|  2 | COP        |  2 | CAR       |\n",
       "|  3 | TAXI       |  3 | CAB       |\n",
       "|  6 | WASHINGTON |  6 | MONUMENT  |\n",
       "|  7 | DELL       |  7 | PC        |\n",
       "| NA | NA         |  8 | MICROSOFT |\n",
       "| NA | NA         |  9 | AMAZON    |\n",
       "| NA | NA         | 11 | TESLA     |\n",
       "\n"
      ],
      "text/plain": [
       "  PK Value      PK Value    \n",
       "1  1 FOX         1 TROT     \n",
       "2  2 COP         2 CAR      \n",
       "3  3 TAXI        3 CAB      \n",
       "4  6 WASHINGTON  6 MONUMENT \n",
       "5  7 DELL        7 PC       \n",
       "6 NA NA          8 MICROSOFT\n",
       "7 NA NA          9 AMAZON   \n",
       "8 NA NA         11 TESLA    "
      ]
     },
     "metadata": {},
     "output_type": "display_data"
    }
   ],
   "source": [
    "sqldf(\"SELECT * FROM table_A A RIGHT OUTER JOIN table_B B ON A.PK = B.PK\")"
   ]
  },
  {
   "cell_type": "markdown",
   "id": "e652f56a",
   "metadata": {},
   "source": [
    "## FULL OUTER JOIN"
   ]
  },
  {
   "cell_type": "code",
   "execution_count": 75,
   "id": "0c10c412",
   "metadata": {
    "vscode": {
     "languageId": "r"
    }
   },
   "outputs": [
    {
     "data": {
      "text/html": [
       "<table class=\"dataframe\">\n",
       "<caption>A data.frame: 11 × 4</caption>\n",
       "<thead>\n",
       "\t<tr><th scope=col>PK</th><th scope=col>Value</th><th scope=col>PK</th><th scope=col>Value</th></tr>\n",
       "\t<tr><th scope=col>&lt;dbl&gt;</th><th scope=col>&lt;chr&gt;</th><th scope=col>&lt;dbl&gt;</th><th scope=col>&lt;chr&gt;</th></tr>\n",
       "</thead>\n",
       "<tbody>\n",
       "\t<tr><td> 1</td><td>FOX       </td><td> 1</td><td>TROT     </td></tr>\n",
       "\t<tr><td> 2</td><td>COP       </td><td> 2</td><td>CAR      </td></tr>\n",
       "\t<tr><td> 3</td><td>TAXI      </td><td> 3</td><td>CAB      </td></tr>\n",
       "\t<tr><td> 6</td><td>WASHINGTON</td><td> 6</td><td>MONUMENT </td></tr>\n",
       "\t<tr><td> 7</td><td>DELL      </td><td> 7</td><td>PC       </td></tr>\n",
       "\t<tr><td> 5</td><td>ARIZONA   </td><td>NA</td><td>NA       </td></tr>\n",
       "\t<tr><td> 4</td><td>APPLE     </td><td>NA</td><td>NA       </td></tr>\n",
       "\t<tr><td>10</td><td>GOOGLE    </td><td>NA</td><td>NA       </td></tr>\n",
       "\t<tr><td>NA</td><td>NA        </td><td> 8</td><td>MICROSOFT</td></tr>\n",
       "\t<tr><td>NA</td><td>NA        </td><td> 9</td><td>AMAZON   </td></tr>\n",
       "\t<tr><td>NA</td><td>NA        </td><td>11</td><td>TESLA    </td></tr>\n",
       "</tbody>\n",
       "</table>\n"
      ],
      "text/latex": [
       "A data.frame: 11 × 4\n",
       "\\begin{tabular}{llll}\n",
       " PK & Value & PK & Value\\\\\n",
       " <dbl> & <chr> & <dbl> & <chr>\\\\\n",
       "\\hline\n",
       "\t  1 & FOX        &  1 & TROT     \\\\\n",
       "\t  2 & COP        &  2 & CAR      \\\\\n",
       "\t  3 & TAXI       &  3 & CAB      \\\\\n",
       "\t  6 & WASHINGTON &  6 & MONUMENT \\\\\n",
       "\t  7 & DELL       &  7 & PC       \\\\\n",
       "\t  5 & ARIZONA    & NA & NA       \\\\\n",
       "\t  4 & APPLE      & NA & NA       \\\\\n",
       "\t 10 & GOOGLE     & NA & NA       \\\\\n",
       "\t NA & NA         &  8 & MICROSOFT\\\\\n",
       "\t NA & NA         &  9 & AMAZON   \\\\\n",
       "\t NA & NA         & 11 & TESLA    \\\\\n",
       "\\end{tabular}\n"
      ],
      "text/markdown": [
       "\n",
       "A data.frame: 11 × 4\n",
       "\n",
       "| PK &lt;dbl&gt; | Value &lt;chr&gt; | PK &lt;dbl&gt; | Value &lt;chr&gt; |\n",
       "|---|---|---|---|\n",
       "|  1 | FOX        |  1 | TROT      |\n",
       "|  2 | COP        |  2 | CAR       |\n",
       "|  3 | TAXI       |  3 | CAB       |\n",
       "|  6 | WASHINGTON |  6 | MONUMENT  |\n",
       "|  7 | DELL       |  7 | PC        |\n",
       "|  5 | ARIZONA    | NA | NA        |\n",
       "|  4 | APPLE      | NA | NA        |\n",
       "| 10 | GOOGLE     | NA | NA        |\n",
       "| NA | NA         |  8 | MICROSOFT |\n",
       "| NA | NA         |  9 | AMAZON    |\n",
       "| NA | NA         | 11 | TESLA     |\n",
       "\n"
      ],
      "text/plain": [
       "   PK Value      PK Value    \n",
       "1   1 FOX         1 TROT     \n",
       "2   2 COP         2 CAR      \n",
       "3   3 TAXI        3 CAB      \n",
       "4   6 WASHINGTON  6 MONUMENT \n",
       "5   7 DELL        7 PC       \n",
       "6   5 ARIZONA    NA NA       \n",
       "7   4 APPLE      NA NA       \n",
       "8  10 GOOGLE     NA NA       \n",
       "9  NA NA          8 MICROSOFT\n",
       "10 NA NA          9 AMAZON   \n",
       "11 NA NA         11 TESLA    "
      ]
     },
     "metadata": {},
     "output_type": "display_data"
    }
   ],
   "source": [
    "sqldf(\"SELECT * FROM table_A A FULL OUTER JOIN table_B B ON A.PK = B.PK\")"
   ]
  },
  {
   "cell_type": "code",
   "execution_count": 81,
   "id": "324041a3",
   "metadata": {
    "vscode": {
     "languageId": "r"
    }
   },
   "outputs": [
    {
     "data": {
      "text/html": [
       "<table class=\"dataframe\">\n",
       "<caption>A data.frame: 11 × 4</caption>\n",
       "<thead>\n",
       "\t<tr><th scope=col>PK</th><th scope=col>Value</th><th scope=col>PK</th><th scope=col>Value</th></tr>\n",
       "\t<tr><th scope=col>&lt;dbl&gt;</th><th scope=col>&lt;chr&gt;</th><th scope=col>&lt;dbl&gt;</th><th scope=col>&lt;chr&gt;</th></tr>\n",
       "</thead>\n",
       "<tbody>\n",
       "\t<tr><td>NA</td><td>NA        </td><td> 8</td><td>MICROSOFT</td></tr>\n",
       "\t<tr><td>NA</td><td>NA        </td><td> 9</td><td>AMAZON   </td></tr>\n",
       "\t<tr><td>NA</td><td>NA        </td><td>11</td><td>TESLA    </td></tr>\n",
       "\t<tr><td> 1</td><td>FOX       </td><td> 1</td><td>TROT     </td></tr>\n",
       "\t<tr><td> 2</td><td>COP       </td><td> 2</td><td>CAR      </td></tr>\n",
       "\t<tr><td> 3</td><td>TAXI      </td><td> 3</td><td>CAB      </td></tr>\n",
       "\t<tr><td> 4</td><td>APPLE     </td><td>NA</td><td>NA       </td></tr>\n",
       "\t<tr><td> 5</td><td>ARIZONA   </td><td>NA</td><td>NA       </td></tr>\n",
       "\t<tr><td> 6</td><td>WASHINGTON</td><td> 6</td><td>MONUMENT </td></tr>\n",
       "\t<tr><td> 7</td><td>DELL      </td><td> 7</td><td>PC       </td></tr>\n",
       "\t<tr><td>10</td><td>GOOGLE    </td><td>NA</td><td>NA       </td></tr>\n",
       "</tbody>\n",
       "</table>\n"
      ],
      "text/latex": [
       "A data.frame: 11 × 4\n",
       "\\begin{tabular}{llll}\n",
       " PK & Value & PK & Value\\\\\n",
       " <dbl> & <chr> & <dbl> & <chr>\\\\\n",
       "\\hline\n",
       "\t NA & NA         &  8 & MICROSOFT\\\\\n",
       "\t NA & NA         &  9 & AMAZON   \\\\\n",
       "\t NA & NA         & 11 & TESLA    \\\\\n",
       "\t  1 & FOX        &  1 & TROT     \\\\\n",
       "\t  2 & COP        &  2 & CAR      \\\\\n",
       "\t  3 & TAXI       &  3 & CAB      \\\\\n",
       "\t  4 & APPLE      & NA & NA       \\\\\n",
       "\t  5 & ARIZONA    & NA & NA       \\\\\n",
       "\t  6 & WASHINGTON &  6 & MONUMENT \\\\\n",
       "\t  7 & DELL       &  7 & PC       \\\\\n",
       "\t 10 & GOOGLE     & NA & NA       \\\\\n",
       "\\end{tabular}\n"
      ],
      "text/markdown": [
       "\n",
       "A data.frame: 11 × 4\n",
       "\n",
       "| PK &lt;dbl&gt; | Value &lt;chr&gt; | PK &lt;dbl&gt; | Value &lt;chr&gt; |\n",
       "|---|---|---|---|\n",
       "| NA | NA         |  8 | MICROSOFT |\n",
       "| NA | NA         |  9 | AMAZON    |\n",
       "| NA | NA         | 11 | TESLA     |\n",
       "|  1 | FOX        |  1 | TROT      |\n",
       "|  2 | COP        |  2 | CAR       |\n",
       "|  3 | TAXI       |  3 | CAB       |\n",
       "|  4 | APPLE      | NA | NA        |\n",
       "|  5 | ARIZONA    | NA | NA        |\n",
       "|  6 | WASHINGTON |  6 | MONUMENT  |\n",
       "|  7 | DELL       |  7 | PC        |\n",
       "| 10 | GOOGLE     | NA | NA        |\n",
       "\n"
      ],
      "text/plain": [
       "   PK Value      PK Value    \n",
       "1  NA NA          8 MICROSOFT\n",
       "2  NA NA          9 AMAZON   \n",
       "3  NA NA         11 TESLA    \n",
       "4   1 FOX         1 TROT     \n",
       "5   2 COP         2 CAR      \n",
       "6   3 TAXI        3 CAB      \n",
       "7   4 APPLE      NA NA       \n",
       "8   5 ARIZONA    NA NA       \n",
       "9   6 WASHINGTON  6 MONUMENT \n",
       "10  7 DELL        7 PC       \n",
       "11 10 GOOGLE     NA NA       "
      ]
     },
     "metadata": {},
     "output_type": "display_data"
    }
   ],
   "source": [
    "sqldf(\"SELECT * FROM table_A A LEFT JOIN table_B B ON A.PK = B.PK\n",
    "UNION\n",
    "SELECT * FROM table_A A RIGHT JOIN table_B B ON A.PK = B.PK\n",
    "\")"
   ]
  },
  {
   "cell_type": "markdown",
   "id": "39bef813",
   "metadata": {},
   "source": [
    "## Left/Right Join Excluding Inner Join"
   ]
  },
  {
   "cell_type": "code",
   "execution_count": 92,
   "id": "135767f5",
   "metadata": {
    "vscode": {
     "languageId": "r"
    }
   },
   "outputs": [
    {
     "data": {
      "text/html": [
       "<table class=\"dataframe\">\n",
       "<caption>A data.frame: 3 × 4</caption>\n",
       "<thead>\n",
       "\t<tr><th scope=col>PK</th><th scope=col>Value</th><th scope=col>PK</th><th scope=col>Value</th></tr>\n",
       "\t<tr><th scope=col>&lt;dbl&gt;</th><th scope=col>&lt;chr&gt;</th><th scope=col>&lt;dbl&gt;</th><th scope=col>&lt;chr&gt;</th></tr>\n",
       "</thead>\n",
       "<tbody>\n",
       "\t<tr><td> 5</td><td>ARIZONA</td><td>NA</td><td>NA</td></tr>\n",
       "\t<tr><td> 4</td><td>APPLE  </td><td>NA</td><td>NA</td></tr>\n",
       "\t<tr><td>10</td><td>GOOGLE </td><td>NA</td><td>NA</td></tr>\n",
       "</tbody>\n",
       "</table>\n"
      ],
      "text/latex": [
       "A data.frame: 3 × 4\n",
       "\\begin{tabular}{llll}\n",
       " PK & Value & PK & Value\\\\\n",
       " <dbl> & <chr> & <dbl> & <chr>\\\\\n",
       "\\hline\n",
       "\t  5 & ARIZONA & NA & NA\\\\\n",
       "\t  4 & APPLE   & NA & NA\\\\\n",
       "\t 10 & GOOGLE  & NA & NA\\\\\n",
       "\\end{tabular}\n"
      ],
      "text/markdown": [
       "\n",
       "A data.frame: 3 × 4\n",
       "\n",
       "| PK &lt;dbl&gt; | Value &lt;chr&gt; | PK &lt;dbl&gt; | Value &lt;chr&gt; |\n",
       "|---|---|---|---|\n",
       "|  5 | ARIZONA | NA | NA |\n",
       "|  4 | APPLE   | NA | NA |\n",
       "| 10 | GOOGLE  | NA | NA |\n",
       "\n"
      ],
      "text/plain": [
       "  PK Value   PK Value\n",
       "1  5 ARIZONA NA NA   \n",
       "2  4 APPLE   NA NA   \n",
       "3 10 GOOGLE  NA NA   "
      ]
     },
     "metadata": {},
     "output_type": "display_data"
    },
    {
     "data": {
      "text/html": [
       "<table class=\"dataframe\">\n",
       "<caption>A data.frame: 3 × 4</caption>\n",
       "<thead>\n",
       "\t<tr><th scope=col>PK</th><th scope=col>Value</th><th scope=col>PK</th><th scope=col>Value</th></tr>\n",
       "\t<tr><th scope=col>&lt;dbl&gt;</th><th scope=col>&lt;chr&gt;</th><th scope=col>&lt;dbl&gt;</th><th scope=col>&lt;chr&gt;</th></tr>\n",
       "</thead>\n",
       "<tbody>\n",
       "\t<tr><td>NA</td><td>NA</td><td> 8</td><td>MICROSOFT</td></tr>\n",
       "\t<tr><td>NA</td><td>NA</td><td> 9</td><td>AMAZON   </td></tr>\n",
       "\t<tr><td>NA</td><td>NA</td><td>11</td><td>TESLA    </td></tr>\n",
       "</tbody>\n",
       "</table>\n"
      ],
      "text/latex": [
       "A data.frame: 3 × 4\n",
       "\\begin{tabular}{llll}\n",
       " PK & Value & PK & Value\\\\\n",
       " <dbl> & <chr> & <dbl> & <chr>\\\\\n",
       "\\hline\n",
       "\t NA & NA &  8 & MICROSOFT\\\\\n",
       "\t NA & NA &  9 & AMAZON   \\\\\n",
       "\t NA & NA & 11 & TESLA    \\\\\n",
       "\\end{tabular}\n"
      ],
      "text/markdown": [
       "\n",
       "A data.frame: 3 × 4\n",
       "\n",
       "| PK &lt;dbl&gt; | Value &lt;chr&gt; | PK &lt;dbl&gt; | Value &lt;chr&gt; |\n",
       "|---|---|---|---|\n",
       "| NA | NA |  8 | MICROSOFT |\n",
       "| NA | NA |  9 | AMAZON    |\n",
       "| NA | NA | 11 | TESLA     |\n",
       "\n"
      ],
      "text/plain": [
       "  PK Value PK Value    \n",
       "1 NA NA     8 MICROSOFT\n",
       "2 NA NA     9 AMAZON   \n",
       "3 NA NA    11 TESLA    "
      ]
     },
     "metadata": {},
     "output_type": "display_data"
    }
   ],
   "source": [
    "sqldf(\"\n",
    "SELECT * FROM table_A A LEFT OUTER JOIN table_B B ON A.PK = B.PK\n",
    "where B.PK IS NULL\n",
    "\")\n",
    "\n",
    "sqldf(\"\n",
    "SELECT * FROM table_A A RIGHT OUTER JOIN table_B B ON A.PK = B.PK\n",
    "where A.PK IS NULL\n",
    "\")"
   ]
  },
  {
   "cell_type": "code",
   "execution_count": 101,
   "id": "abdb7903",
   "metadata": {
    "vscode": {
     "languageId": "r"
    }
   },
   "outputs": [
    {
     "data": {
      "text/html": [
       "<table class=\"dataframe\">\n",
       "<caption>A data.frame: 6 × 4</caption>\n",
       "<thead>\n",
       "\t<tr><th scope=col>PK</th><th scope=col>Value</th><th scope=col>PK</th><th scope=col>Value</th></tr>\n",
       "\t<tr><th scope=col>&lt;dbl&gt;</th><th scope=col>&lt;chr&gt;</th><th scope=col>&lt;dbl&gt;</th><th scope=col>&lt;chr&gt;</th></tr>\n",
       "</thead>\n",
       "<tbody>\n",
       "\t<tr><td> 5</td><td>ARIZONA</td><td>NA</td><td>NA       </td></tr>\n",
       "\t<tr><td> 4</td><td>APPLE  </td><td>NA</td><td>NA       </td></tr>\n",
       "\t<tr><td>10</td><td>GOOGLE </td><td>NA</td><td>NA       </td></tr>\n",
       "\t<tr><td>NA</td><td>NA     </td><td> 8</td><td>MICROSOFT</td></tr>\n",
       "\t<tr><td>NA</td><td>NA     </td><td> 9</td><td>AMAZON   </td></tr>\n",
       "\t<tr><td>NA</td><td>NA     </td><td>11</td><td>TESLA    </td></tr>\n",
       "</tbody>\n",
       "</table>\n"
      ],
      "text/latex": [
       "A data.frame: 6 × 4\n",
       "\\begin{tabular}{llll}\n",
       " PK & Value & PK & Value\\\\\n",
       " <dbl> & <chr> & <dbl> & <chr>\\\\\n",
       "\\hline\n",
       "\t  5 & ARIZONA & NA & NA       \\\\\n",
       "\t  4 & APPLE   & NA & NA       \\\\\n",
       "\t 10 & GOOGLE  & NA & NA       \\\\\n",
       "\t NA & NA      &  8 & MICROSOFT\\\\\n",
       "\t NA & NA      &  9 & AMAZON   \\\\\n",
       "\t NA & NA      & 11 & TESLA    \\\\\n",
       "\\end{tabular}\n"
      ],
      "text/markdown": [
       "\n",
       "A data.frame: 6 × 4\n",
       "\n",
       "| PK &lt;dbl&gt; | Value &lt;chr&gt; | PK &lt;dbl&gt; | Value &lt;chr&gt; |\n",
       "|---|---|---|---|\n",
       "|  5 | ARIZONA | NA | NA        |\n",
       "|  4 | APPLE   | NA | NA        |\n",
       "| 10 | GOOGLE  | NA | NA        |\n",
       "| NA | NA      |  8 | MICROSOFT |\n",
       "| NA | NA      |  9 | AMAZON    |\n",
       "| NA | NA      | 11 | TESLA     |\n",
       "\n"
      ],
      "text/plain": [
       "  PK Value   PK Value    \n",
       "1  5 ARIZONA NA NA       \n",
       "2  4 APPLE   NA NA       \n",
       "3 10 GOOGLE  NA NA       \n",
       "4 NA NA       8 MICROSOFT\n",
       "5 NA NA       9 AMAZON   \n",
       "6 NA NA      11 TESLA    "
      ]
     },
     "metadata": {},
     "output_type": "display_data"
    }
   ],
   "source": [
    "sqldf(\"\n",
    "SELECT * FROM table_A A FULL OUTER JOIN table_B B ON A.PK = B.PK\n",
    "WHERE A.PK IS NULL or B.PK IS NULL\n",
    "\")"
   ]
  },
  {
   "cell_type": "markdown",
   "id": "9895a41b",
   "metadata": {},
   "source": [
    "## CROSS JOIN\n",
    "Cartesian Product Join, joins every record in A&B"
   ]
  },
  {
   "cell_type": "code",
   "execution_count": 106,
   "id": "1769b510",
   "metadata": {
    "vscode": {
     "languageId": "r"
    }
   },
   "outputs": [
    {
     "data": {
      "text/html": [
       "<table class=\"dataframe\">\n",
       "<caption>A data.frame: 64 × 4</caption>\n",
       "<thead>\n",
       "\t<tr><th scope=col>PK</th><th scope=col>Value</th><th scope=col>PK</th><th scope=col>Value</th></tr>\n",
       "\t<tr><th scope=col>&lt;dbl&gt;</th><th scope=col>&lt;chr&gt;</th><th scope=col>&lt;dbl&gt;</th><th scope=col>&lt;chr&gt;</th></tr>\n",
       "</thead>\n",
       "<tbody>\n",
       "\t<tr><td>1</td><td>FOX       </td><td> 1</td><td>TROT     </td></tr>\n",
       "\t<tr><td>1</td><td>FOX       </td><td> 2</td><td>CAR      </td></tr>\n",
       "\t<tr><td>1</td><td>FOX       </td><td> 3</td><td>CAB      </td></tr>\n",
       "\t<tr><td>1</td><td>FOX       </td><td> 6</td><td>MONUMENT </td></tr>\n",
       "\t<tr><td>1</td><td>FOX       </td><td> 7</td><td>PC       </td></tr>\n",
       "\t<tr><td>1</td><td>FOX       </td><td> 8</td><td>MICROSOFT</td></tr>\n",
       "\t<tr><td>1</td><td>FOX       </td><td> 9</td><td>AMAZON   </td></tr>\n",
       "\t<tr><td>1</td><td>FOX       </td><td>11</td><td>TESLA    </td></tr>\n",
       "\t<tr><td>2</td><td>COP       </td><td> 1</td><td>TROT     </td></tr>\n",
       "\t<tr><td>2</td><td>COP       </td><td> 2</td><td>CAR      </td></tr>\n",
       "\t<tr><td>2</td><td>COP       </td><td> 3</td><td>CAB      </td></tr>\n",
       "\t<tr><td>2</td><td>COP       </td><td> 6</td><td>MONUMENT </td></tr>\n",
       "\t<tr><td>2</td><td>COP       </td><td> 7</td><td>PC       </td></tr>\n",
       "\t<tr><td>2</td><td>COP       </td><td> 8</td><td>MICROSOFT</td></tr>\n",
       "\t<tr><td>2</td><td>COP       </td><td> 9</td><td>AMAZON   </td></tr>\n",
       "\t<tr><td>2</td><td>COP       </td><td>11</td><td>TESLA    </td></tr>\n",
       "\t<tr><td>3</td><td>TAXI      </td><td> 1</td><td>TROT     </td></tr>\n",
       "\t<tr><td>3</td><td>TAXI      </td><td> 2</td><td>CAR      </td></tr>\n",
       "\t<tr><td>3</td><td>TAXI      </td><td> 3</td><td>CAB      </td></tr>\n",
       "\t<tr><td>3</td><td>TAXI      </td><td> 6</td><td>MONUMENT </td></tr>\n",
       "\t<tr><td>3</td><td>TAXI      </td><td> 7</td><td>PC       </td></tr>\n",
       "\t<tr><td>3</td><td>TAXI      </td><td> 8</td><td>MICROSOFT</td></tr>\n",
       "\t<tr><td>3</td><td>TAXI      </td><td> 9</td><td>AMAZON   </td></tr>\n",
       "\t<tr><td>3</td><td>TAXI      </td><td>11</td><td>TESLA    </td></tr>\n",
       "\t<tr><td>6</td><td>WASHINGTON</td><td> 1</td><td>TROT     </td></tr>\n",
       "\t<tr><td>6</td><td>WASHINGTON</td><td> 2</td><td>CAR      </td></tr>\n",
       "\t<tr><td>6</td><td>WASHINGTON</td><td> 3</td><td>CAB      </td></tr>\n",
       "\t<tr><td>6</td><td>WASHINGTON</td><td> 6</td><td>MONUMENT </td></tr>\n",
       "\t<tr><td>6</td><td>WASHINGTON</td><td> 7</td><td>PC       </td></tr>\n",
       "\t<tr><td>6</td><td>WASHINGTON</td><td> 8</td><td>MICROSOFT</td></tr>\n",
       "\t<tr><td>⋮</td><td>⋮</td><td>⋮</td><td>⋮</td></tr>\n",
       "\t<tr><td> 7</td><td>DELL   </td><td> 3</td><td>CAB      </td></tr>\n",
       "\t<tr><td> 7</td><td>DELL   </td><td> 6</td><td>MONUMENT </td></tr>\n",
       "\t<tr><td> 7</td><td>DELL   </td><td> 7</td><td>PC       </td></tr>\n",
       "\t<tr><td> 7</td><td>DELL   </td><td> 8</td><td>MICROSOFT</td></tr>\n",
       "\t<tr><td> 7</td><td>DELL   </td><td> 9</td><td>AMAZON   </td></tr>\n",
       "\t<tr><td> 7</td><td>DELL   </td><td>11</td><td>TESLA    </td></tr>\n",
       "\t<tr><td> 5</td><td>ARIZONA</td><td> 1</td><td>TROT     </td></tr>\n",
       "\t<tr><td> 5</td><td>ARIZONA</td><td> 2</td><td>CAR      </td></tr>\n",
       "\t<tr><td> 5</td><td>ARIZONA</td><td> 3</td><td>CAB      </td></tr>\n",
       "\t<tr><td> 5</td><td>ARIZONA</td><td> 6</td><td>MONUMENT </td></tr>\n",
       "\t<tr><td> 5</td><td>ARIZONA</td><td> 7</td><td>PC       </td></tr>\n",
       "\t<tr><td> 5</td><td>ARIZONA</td><td> 8</td><td>MICROSOFT</td></tr>\n",
       "\t<tr><td> 5</td><td>ARIZONA</td><td> 9</td><td>AMAZON   </td></tr>\n",
       "\t<tr><td> 5</td><td>ARIZONA</td><td>11</td><td>TESLA    </td></tr>\n",
       "\t<tr><td> 4</td><td>APPLE  </td><td> 1</td><td>TROT     </td></tr>\n",
       "\t<tr><td> 4</td><td>APPLE  </td><td> 2</td><td>CAR      </td></tr>\n",
       "\t<tr><td> 4</td><td>APPLE  </td><td> 3</td><td>CAB      </td></tr>\n",
       "\t<tr><td> 4</td><td>APPLE  </td><td> 6</td><td>MONUMENT </td></tr>\n",
       "\t<tr><td> 4</td><td>APPLE  </td><td> 7</td><td>PC       </td></tr>\n",
       "\t<tr><td> 4</td><td>APPLE  </td><td> 8</td><td>MICROSOFT</td></tr>\n",
       "\t<tr><td> 4</td><td>APPLE  </td><td> 9</td><td>AMAZON   </td></tr>\n",
       "\t<tr><td> 4</td><td>APPLE  </td><td>11</td><td>TESLA    </td></tr>\n",
       "\t<tr><td>10</td><td>GOOGLE </td><td> 1</td><td>TROT     </td></tr>\n",
       "\t<tr><td>10</td><td>GOOGLE </td><td> 2</td><td>CAR      </td></tr>\n",
       "\t<tr><td>10</td><td>GOOGLE </td><td> 3</td><td>CAB      </td></tr>\n",
       "\t<tr><td>10</td><td>GOOGLE </td><td> 6</td><td>MONUMENT </td></tr>\n",
       "\t<tr><td>10</td><td>GOOGLE </td><td> 7</td><td>PC       </td></tr>\n",
       "\t<tr><td>10</td><td>GOOGLE </td><td> 8</td><td>MICROSOFT</td></tr>\n",
       "\t<tr><td>10</td><td>GOOGLE </td><td> 9</td><td>AMAZON   </td></tr>\n",
       "\t<tr><td>10</td><td>GOOGLE </td><td>11</td><td>TESLA    </td></tr>\n",
       "</tbody>\n",
       "</table>\n"
      ],
      "text/latex": [
       "A data.frame: 64 × 4\n",
       "\\begin{tabular}{llll}\n",
       " PK & Value & PK & Value\\\\\n",
       " <dbl> & <chr> & <dbl> & <chr>\\\\\n",
       "\\hline\n",
       "\t 1 & FOX        &  1 & TROT     \\\\\n",
       "\t 1 & FOX        &  2 & CAR      \\\\\n",
       "\t 1 & FOX        &  3 & CAB      \\\\\n",
       "\t 1 & FOX        &  6 & MONUMENT \\\\\n",
       "\t 1 & FOX        &  7 & PC       \\\\\n",
       "\t 1 & FOX        &  8 & MICROSOFT\\\\\n",
       "\t 1 & FOX        &  9 & AMAZON   \\\\\n",
       "\t 1 & FOX        & 11 & TESLA    \\\\\n",
       "\t 2 & COP        &  1 & TROT     \\\\\n",
       "\t 2 & COP        &  2 & CAR      \\\\\n",
       "\t 2 & COP        &  3 & CAB      \\\\\n",
       "\t 2 & COP        &  6 & MONUMENT \\\\\n",
       "\t 2 & COP        &  7 & PC       \\\\\n",
       "\t 2 & COP        &  8 & MICROSOFT\\\\\n",
       "\t 2 & COP        &  9 & AMAZON   \\\\\n",
       "\t 2 & COP        & 11 & TESLA    \\\\\n",
       "\t 3 & TAXI       &  1 & TROT     \\\\\n",
       "\t 3 & TAXI       &  2 & CAR      \\\\\n",
       "\t 3 & TAXI       &  3 & CAB      \\\\\n",
       "\t 3 & TAXI       &  6 & MONUMENT \\\\\n",
       "\t 3 & TAXI       &  7 & PC       \\\\\n",
       "\t 3 & TAXI       &  8 & MICROSOFT\\\\\n",
       "\t 3 & TAXI       &  9 & AMAZON   \\\\\n",
       "\t 3 & TAXI       & 11 & TESLA    \\\\\n",
       "\t 6 & WASHINGTON &  1 & TROT     \\\\\n",
       "\t 6 & WASHINGTON &  2 & CAR      \\\\\n",
       "\t 6 & WASHINGTON &  3 & CAB      \\\\\n",
       "\t 6 & WASHINGTON &  6 & MONUMENT \\\\\n",
       "\t 6 & WASHINGTON &  7 & PC       \\\\\n",
       "\t 6 & WASHINGTON &  8 & MICROSOFT\\\\\n",
       "\t ⋮ & ⋮ & ⋮ & ⋮\\\\\n",
       "\t  7 & DELL    &  3 & CAB      \\\\\n",
       "\t  7 & DELL    &  6 & MONUMENT \\\\\n",
       "\t  7 & DELL    &  7 & PC       \\\\\n",
       "\t  7 & DELL    &  8 & MICROSOFT\\\\\n",
       "\t  7 & DELL    &  9 & AMAZON   \\\\\n",
       "\t  7 & DELL    & 11 & TESLA    \\\\\n",
       "\t  5 & ARIZONA &  1 & TROT     \\\\\n",
       "\t  5 & ARIZONA &  2 & CAR      \\\\\n",
       "\t  5 & ARIZONA &  3 & CAB      \\\\\n",
       "\t  5 & ARIZONA &  6 & MONUMENT \\\\\n",
       "\t  5 & ARIZONA &  7 & PC       \\\\\n",
       "\t  5 & ARIZONA &  8 & MICROSOFT\\\\\n",
       "\t  5 & ARIZONA &  9 & AMAZON   \\\\\n",
       "\t  5 & ARIZONA & 11 & TESLA    \\\\\n",
       "\t  4 & APPLE   &  1 & TROT     \\\\\n",
       "\t  4 & APPLE   &  2 & CAR      \\\\\n",
       "\t  4 & APPLE   &  3 & CAB      \\\\\n",
       "\t  4 & APPLE   &  6 & MONUMENT \\\\\n",
       "\t  4 & APPLE   &  7 & PC       \\\\\n",
       "\t  4 & APPLE   &  8 & MICROSOFT\\\\\n",
       "\t  4 & APPLE   &  9 & AMAZON   \\\\\n",
       "\t  4 & APPLE   & 11 & TESLA    \\\\\n",
       "\t 10 & GOOGLE  &  1 & TROT     \\\\\n",
       "\t 10 & GOOGLE  &  2 & CAR      \\\\\n",
       "\t 10 & GOOGLE  &  3 & CAB      \\\\\n",
       "\t 10 & GOOGLE  &  6 & MONUMENT \\\\\n",
       "\t 10 & GOOGLE  &  7 & PC       \\\\\n",
       "\t 10 & GOOGLE  &  8 & MICROSOFT\\\\\n",
       "\t 10 & GOOGLE  &  9 & AMAZON   \\\\\n",
       "\t 10 & GOOGLE  & 11 & TESLA    \\\\\n",
       "\\end{tabular}\n"
      ],
      "text/markdown": [
       "\n",
       "A data.frame: 64 × 4\n",
       "\n",
       "| PK &lt;dbl&gt; | Value &lt;chr&gt; | PK &lt;dbl&gt; | Value &lt;chr&gt; |\n",
       "|---|---|---|---|\n",
       "| 1 | FOX        |  1 | TROT      |\n",
       "| 1 | FOX        |  2 | CAR       |\n",
       "| 1 | FOX        |  3 | CAB       |\n",
       "| 1 | FOX        |  6 | MONUMENT  |\n",
       "| 1 | FOX        |  7 | PC        |\n",
       "| 1 | FOX        |  8 | MICROSOFT |\n",
       "| 1 | FOX        |  9 | AMAZON    |\n",
       "| 1 | FOX        | 11 | TESLA     |\n",
       "| 2 | COP        |  1 | TROT      |\n",
       "| 2 | COP        |  2 | CAR       |\n",
       "| 2 | COP        |  3 | CAB       |\n",
       "| 2 | COP        |  6 | MONUMENT  |\n",
       "| 2 | COP        |  7 | PC        |\n",
       "| 2 | COP        |  8 | MICROSOFT |\n",
       "| 2 | COP        |  9 | AMAZON    |\n",
       "| 2 | COP        | 11 | TESLA     |\n",
       "| 3 | TAXI       |  1 | TROT      |\n",
       "| 3 | TAXI       |  2 | CAR       |\n",
       "| 3 | TAXI       |  3 | CAB       |\n",
       "| 3 | TAXI       |  6 | MONUMENT  |\n",
       "| 3 | TAXI       |  7 | PC        |\n",
       "| 3 | TAXI       |  8 | MICROSOFT |\n",
       "| 3 | TAXI       |  9 | AMAZON    |\n",
       "| 3 | TAXI       | 11 | TESLA     |\n",
       "| 6 | WASHINGTON |  1 | TROT      |\n",
       "| 6 | WASHINGTON |  2 | CAR       |\n",
       "| 6 | WASHINGTON |  3 | CAB       |\n",
       "| 6 | WASHINGTON |  6 | MONUMENT  |\n",
       "| 6 | WASHINGTON |  7 | PC        |\n",
       "| 6 | WASHINGTON |  8 | MICROSOFT |\n",
       "| ⋮ | ⋮ | ⋮ | ⋮ |\n",
       "|  7 | DELL    |  3 | CAB       |\n",
       "|  7 | DELL    |  6 | MONUMENT  |\n",
       "|  7 | DELL    |  7 | PC        |\n",
       "|  7 | DELL    |  8 | MICROSOFT |\n",
       "|  7 | DELL    |  9 | AMAZON    |\n",
       "|  7 | DELL    | 11 | TESLA     |\n",
       "|  5 | ARIZONA |  1 | TROT      |\n",
       "|  5 | ARIZONA |  2 | CAR       |\n",
       "|  5 | ARIZONA |  3 | CAB       |\n",
       "|  5 | ARIZONA |  6 | MONUMENT  |\n",
       "|  5 | ARIZONA |  7 | PC        |\n",
       "|  5 | ARIZONA |  8 | MICROSOFT |\n",
       "|  5 | ARIZONA |  9 | AMAZON    |\n",
       "|  5 | ARIZONA | 11 | TESLA     |\n",
       "|  4 | APPLE   |  1 | TROT      |\n",
       "|  4 | APPLE   |  2 | CAR       |\n",
       "|  4 | APPLE   |  3 | CAB       |\n",
       "|  4 | APPLE   |  6 | MONUMENT  |\n",
       "|  4 | APPLE   |  7 | PC        |\n",
       "|  4 | APPLE   |  8 | MICROSOFT |\n",
       "|  4 | APPLE   |  9 | AMAZON    |\n",
       "|  4 | APPLE   | 11 | TESLA     |\n",
       "| 10 | GOOGLE  |  1 | TROT      |\n",
       "| 10 | GOOGLE  |  2 | CAR       |\n",
       "| 10 | GOOGLE  |  3 | CAB       |\n",
       "| 10 | GOOGLE  |  6 | MONUMENT  |\n",
       "| 10 | GOOGLE  |  7 | PC        |\n",
       "| 10 | GOOGLE  |  8 | MICROSOFT |\n",
       "| 10 | GOOGLE  |  9 | AMAZON    |\n",
       "| 10 | GOOGLE  | 11 | TESLA     |\n",
       "\n"
      ],
      "text/plain": [
       "   PK Value      PK Value    \n",
       "1  1  FOX         1 TROT     \n",
       "2  1  FOX         2 CAR      \n",
       "3  1  FOX         3 CAB      \n",
       "4  1  FOX         6 MONUMENT \n",
       "5  1  FOX         7 PC       \n",
       "6  1  FOX         8 MICROSOFT\n",
       "7  1  FOX         9 AMAZON   \n",
       "8  1  FOX        11 TESLA    \n",
       "9  2  COP         1 TROT     \n",
       "10 2  COP         2 CAR      \n",
       "11 2  COP         3 CAB      \n",
       "12 2  COP         6 MONUMENT \n",
       "13 2  COP         7 PC       \n",
       "14 2  COP         8 MICROSOFT\n",
       "15 2  COP         9 AMAZON   \n",
       "16 2  COP        11 TESLA    \n",
       "17 3  TAXI        1 TROT     \n",
       "18 3  TAXI        2 CAR      \n",
       "19 3  TAXI        3 CAB      \n",
       "20 3  TAXI        6 MONUMENT \n",
       "21 3  TAXI        7 PC       \n",
       "22 3  TAXI        8 MICROSOFT\n",
       "23 3  TAXI        9 AMAZON   \n",
       "24 3  TAXI       11 TESLA    \n",
       "25 6  WASHINGTON  1 TROT     \n",
       "26 6  WASHINGTON  2 CAR      \n",
       "27 6  WASHINGTON  3 CAB      \n",
       "28 6  WASHINGTON  6 MONUMENT \n",
       "29 6  WASHINGTON  7 PC       \n",
       "30 6  WASHINGTON  8 MICROSOFT\n",
       "⋮  ⋮  ⋮          ⋮  ⋮        \n",
       "35  7 DELL        3 CAB      \n",
       "36  7 DELL        6 MONUMENT \n",
       "37  7 DELL        7 PC       \n",
       "38  7 DELL        8 MICROSOFT\n",
       "39  7 DELL        9 AMAZON   \n",
       "40  7 DELL       11 TESLA    \n",
       "41  5 ARIZONA     1 TROT     \n",
       "42  5 ARIZONA     2 CAR      \n",
       "43  5 ARIZONA     3 CAB      \n",
       "44  5 ARIZONA     6 MONUMENT \n",
       "45  5 ARIZONA     7 PC       \n",
       "46  5 ARIZONA     8 MICROSOFT\n",
       "47  5 ARIZONA     9 AMAZON   \n",
       "48  5 ARIZONA    11 TESLA    \n",
       "49  4 APPLE       1 TROT     \n",
       "50  4 APPLE       2 CAR      \n",
       "51  4 APPLE       3 CAB      \n",
       "52  4 APPLE       6 MONUMENT \n",
       "53  4 APPLE       7 PC       \n",
       "54  4 APPLE       8 MICROSOFT\n",
       "55  4 APPLE       9 AMAZON   \n",
       "56  4 APPLE      11 TESLA    \n",
       "57 10 GOOGLE      1 TROT     \n",
       "58 10 GOOGLE      2 CAR      \n",
       "59 10 GOOGLE      3 CAB      \n",
       "60 10 GOOGLE      6 MONUMENT \n",
       "61 10 GOOGLE      7 PC       \n",
       "62 10 GOOGLE      8 MICROSOFT\n",
       "63 10 GOOGLE      9 AMAZON   \n",
       "64 10 GOOGLE     11 TESLA    "
      ]
     },
     "metadata": {},
     "output_type": "display_data"
    }
   ],
   "source": [
    "sqldf(\"SELECT * FROM table_A A CROSS JOIN table_B B\")"
   ]
  },
  {
   "cell_type": "code",
   "execution_count": 113,
   "id": "31f659d8",
   "metadata": {
    "vscode": {
     "languageId": "r"
    }
   },
   "outputs": [
    {
     "data": {
      "text/html": [
       "<table class=\"dataframe\">\n",
       "<caption>A data.frame: 5 × 3</caption>\n",
       "<thead>\n",
       "\t<tr><th scope=col>PK</th><th scope=col>Value.x</th><th scope=col>Value.y</th></tr>\n",
       "\t<tr><th scope=col>&lt;dbl&gt;</th><th scope=col>&lt;chr&gt;</th><th scope=col>&lt;chr&gt;</th></tr>\n",
       "</thead>\n",
       "<tbody>\n",
       "\t<tr><td>1</td><td>FOX       </td><td>TROT    </td></tr>\n",
       "\t<tr><td>2</td><td>COP       </td><td>CAR     </td></tr>\n",
       "\t<tr><td>3</td><td>TAXI      </td><td>CAB     </td></tr>\n",
       "\t<tr><td>6</td><td>WASHINGTON</td><td>MONUMENT</td></tr>\n",
       "\t<tr><td>7</td><td>DELL      </td><td>PC      </td></tr>\n",
       "</tbody>\n",
       "</table>\n"
      ],
      "text/latex": [
       "A data.frame: 5 × 3\n",
       "\\begin{tabular}{lll}\n",
       " PK & Value.x & Value.y\\\\\n",
       " <dbl> & <chr> & <chr>\\\\\n",
       "\\hline\n",
       "\t 1 & FOX        & TROT    \\\\\n",
       "\t 2 & COP        & CAR     \\\\\n",
       "\t 3 & TAXI       & CAB     \\\\\n",
       "\t 6 & WASHINGTON & MONUMENT\\\\\n",
       "\t 7 & DELL       & PC      \\\\\n",
       "\\end{tabular}\n"
      ],
      "text/markdown": [
       "\n",
       "A data.frame: 5 × 3\n",
       "\n",
       "| PK &lt;dbl&gt; | Value.x &lt;chr&gt; | Value.y &lt;chr&gt; |\n",
       "|---|---|---|\n",
       "| 1 | FOX        | TROT     |\n",
       "| 2 | COP        | CAR      |\n",
       "| 3 | TAXI       | CAB      |\n",
       "| 6 | WASHINGTON | MONUMENT |\n",
       "| 7 | DELL       | PC       |\n",
       "\n"
      ],
      "text/plain": [
       "  PK Value.x    Value.y \n",
       "1 1  FOX        TROT    \n",
       "2 2  COP        CAR     \n",
       "3 3  TAXI       CAB     \n",
       "4 6  WASHINGTON MONUMENT\n",
       "5 7  DELL       PC      "
      ]
     },
     "metadata": {},
     "output_type": "display_data"
    },
    {
     "data": {
      "text/html": [
       "<table class=\"dataframe\">\n",
       "<caption>A data.frame: 8 × 3</caption>\n",
       "<thead>\n",
       "\t<tr><th scope=col>PK</th><th scope=col>Value.x</th><th scope=col>Value.y</th></tr>\n",
       "\t<tr><th scope=col>&lt;dbl&gt;</th><th scope=col>&lt;chr&gt;</th><th scope=col>&lt;chr&gt;</th></tr>\n",
       "</thead>\n",
       "<tbody>\n",
       "\t<tr><td> 1</td><td>FOX       </td><td>TROT    </td></tr>\n",
       "\t<tr><td> 2</td><td>COP       </td><td>CAR     </td></tr>\n",
       "\t<tr><td> 3</td><td>TAXI      </td><td>CAB     </td></tr>\n",
       "\t<tr><td> 6</td><td>WASHINGTON</td><td>MONUMENT</td></tr>\n",
       "\t<tr><td> 7</td><td>DELL      </td><td>PC      </td></tr>\n",
       "\t<tr><td> 5</td><td>ARIZONA   </td><td>NA      </td></tr>\n",
       "\t<tr><td> 4</td><td>APPLE     </td><td>NA      </td></tr>\n",
       "\t<tr><td>10</td><td>GOOGLE    </td><td>NA      </td></tr>\n",
       "</tbody>\n",
       "</table>\n"
      ],
      "text/latex": [
       "A data.frame: 8 × 3\n",
       "\\begin{tabular}{lll}\n",
       " PK & Value.x & Value.y\\\\\n",
       " <dbl> & <chr> & <chr>\\\\\n",
       "\\hline\n",
       "\t  1 & FOX        & TROT    \\\\\n",
       "\t  2 & COP        & CAR     \\\\\n",
       "\t  3 & TAXI       & CAB     \\\\\n",
       "\t  6 & WASHINGTON & MONUMENT\\\\\n",
       "\t  7 & DELL       & PC      \\\\\n",
       "\t  5 & ARIZONA    & NA      \\\\\n",
       "\t  4 & APPLE      & NA      \\\\\n",
       "\t 10 & GOOGLE     & NA      \\\\\n",
       "\\end{tabular}\n"
      ],
      "text/markdown": [
       "\n",
       "A data.frame: 8 × 3\n",
       "\n",
       "| PK &lt;dbl&gt; | Value.x &lt;chr&gt; | Value.y &lt;chr&gt; |\n",
       "|---|---|---|\n",
       "|  1 | FOX        | TROT     |\n",
       "|  2 | COP        | CAR      |\n",
       "|  3 | TAXI       | CAB      |\n",
       "|  6 | WASHINGTON | MONUMENT |\n",
       "|  7 | DELL       | PC       |\n",
       "|  5 | ARIZONA    | NA       |\n",
       "|  4 | APPLE      | NA       |\n",
       "| 10 | GOOGLE     | NA       |\n",
       "\n"
      ],
      "text/plain": [
       "  PK Value.x    Value.y \n",
       "1  1 FOX        TROT    \n",
       "2  2 COP        CAR     \n",
       "3  3 TAXI       CAB     \n",
       "4  6 WASHINGTON MONUMENT\n",
       "5  7 DELL       PC      \n",
       "6  5 ARIZONA    NA      \n",
       "7  4 APPLE      NA      \n",
       "8 10 GOOGLE     NA      "
      ]
     },
     "metadata": {},
     "output_type": "display_data"
    },
    {
     "data": {
      "text/html": [
       "<table class=\"dataframe\">\n",
       "<caption>A data.frame: 8 × 3</caption>\n",
       "<thead>\n",
       "\t<tr><th scope=col>PK</th><th scope=col>Value.x</th><th scope=col>Value.y</th></tr>\n",
       "\t<tr><th scope=col>&lt;dbl&gt;</th><th scope=col>&lt;chr&gt;</th><th scope=col>&lt;chr&gt;</th></tr>\n",
       "</thead>\n",
       "<tbody>\n",
       "\t<tr><td> 1</td><td>FOX       </td><td>TROT     </td></tr>\n",
       "\t<tr><td> 2</td><td>COP       </td><td>CAR      </td></tr>\n",
       "\t<tr><td> 3</td><td>TAXI      </td><td>CAB      </td></tr>\n",
       "\t<tr><td> 6</td><td>WASHINGTON</td><td>MONUMENT </td></tr>\n",
       "\t<tr><td> 7</td><td>DELL      </td><td>PC       </td></tr>\n",
       "\t<tr><td> 8</td><td>NA        </td><td>MICROSOFT</td></tr>\n",
       "\t<tr><td> 9</td><td>NA        </td><td>AMAZON   </td></tr>\n",
       "\t<tr><td>11</td><td>NA        </td><td>TESLA    </td></tr>\n",
       "</tbody>\n",
       "</table>\n"
      ],
      "text/latex": [
       "A data.frame: 8 × 3\n",
       "\\begin{tabular}{lll}\n",
       " PK & Value.x & Value.y\\\\\n",
       " <dbl> & <chr> & <chr>\\\\\n",
       "\\hline\n",
       "\t  1 & FOX        & TROT     \\\\\n",
       "\t  2 & COP        & CAR      \\\\\n",
       "\t  3 & TAXI       & CAB      \\\\\n",
       "\t  6 & WASHINGTON & MONUMENT \\\\\n",
       "\t  7 & DELL       & PC       \\\\\n",
       "\t  8 & NA         & MICROSOFT\\\\\n",
       "\t  9 & NA         & AMAZON   \\\\\n",
       "\t 11 & NA         & TESLA    \\\\\n",
       "\\end{tabular}\n"
      ],
      "text/markdown": [
       "\n",
       "A data.frame: 8 × 3\n",
       "\n",
       "| PK &lt;dbl&gt; | Value.x &lt;chr&gt; | Value.y &lt;chr&gt; |\n",
       "|---|---|---|\n",
       "|  1 | FOX        | TROT      |\n",
       "|  2 | COP        | CAR       |\n",
       "|  3 | TAXI       | CAB       |\n",
       "|  6 | WASHINGTON | MONUMENT  |\n",
       "|  7 | DELL       | PC        |\n",
       "|  8 | NA         | MICROSOFT |\n",
       "|  9 | NA         | AMAZON    |\n",
       "| 11 | NA         | TESLA     |\n",
       "\n"
      ],
      "text/plain": [
       "  PK Value.x    Value.y  \n",
       "1  1 FOX        TROT     \n",
       "2  2 COP        CAR      \n",
       "3  3 TAXI       CAB      \n",
       "4  6 WASHINGTON MONUMENT \n",
       "5  7 DELL       PC       \n",
       "6  8 NA         MICROSOFT\n",
       "7  9 NA         AMAZON   \n",
       "8 11 NA         TESLA    "
      ]
     },
     "metadata": {},
     "output_type": "display_data"
    },
    {
     "data": {
      "text/html": [
       "<table class=\"dataframe\">\n",
       "<caption>A data.frame: 11 × 3</caption>\n",
       "<thead>\n",
       "\t<tr><th scope=col>PK</th><th scope=col>Value.x</th><th scope=col>Value.y</th></tr>\n",
       "\t<tr><th scope=col>&lt;dbl&gt;</th><th scope=col>&lt;chr&gt;</th><th scope=col>&lt;chr&gt;</th></tr>\n",
       "</thead>\n",
       "<tbody>\n",
       "\t<tr><td> 1</td><td>FOX       </td><td>TROT     </td></tr>\n",
       "\t<tr><td> 2</td><td>COP       </td><td>CAR      </td></tr>\n",
       "\t<tr><td> 3</td><td>TAXI      </td><td>CAB      </td></tr>\n",
       "\t<tr><td> 6</td><td>WASHINGTON</td><td>MONUMENT </td></tr>\n",
       "\t<tr><td> 7</td><td>DELL      </td><td>PC       </td></tr>\n",
       "\t<tr><td> 5</td><td>ARIZONA   </td><td>NA       </td></tr>\n",
       "\t<tr><td> 4</td><td>APPLE     </td><td>NA       </td></tr>\n",
       "\t<tr><td>10</td><td>GOOGLE    </td><td>NA       </td></tr>\n",
       "\t<tr><td> 8</td><td>NA        </td><td>MICROSOFT</td></tr>\n",
       "\t<tr><td> 9</td><td>NA        </td><td>AMAZON   </td></tr>\n",
       "\t<tr><td>11</td><td>NA        </td><td>TESLA    </td></tr>\n",
       "</tbody>\n",
       "</table>\n"
      ],
      "text/latex": [
       "A data.frame: 11 × 3\n",
       "\\begin{tabular}{lll}\n",
       " PK & Value.x & Value.y\\\\\n",
       " <dbl> & <chr> & <chr>\\\\\n",
       "\\hline\n",
       "\t  1 & FOX        & TROT     \\\\\n",
       "\t  2 & COP        & CAR      \\\\\n",
       "\t  3 & TAXI       & CAB      \\\\\n",
       "\t  6 & WASHINGTON & MONUMENT \\\\\n",
       "\t  7 & DELL       & PC       \\\\\n",
       "\t  5 & ARIZONA    & NA       \\\\\n",
       "\t  4 & APPLE      & NA       \\\\\n",
       "\t 10 & GOOGLE     & NA       \\\\\n",
       "\t  8 & NA         & MICROSOFT\\\\\n",
       "\t  9 & NA         & AMAZON   \\\\\n",
       "\t 11 & NA         & TESLA    \\\\\n",
       "\\end{tabular}\n"
      ],
      "text/markdown": [
       "\n",
       "A data.frame: 11 × 3\n",
       "\n",
       "| PK &lt;dbl&gt; | Value.x &lt;chr&gt; | Value.y &lt;chr&gt; |\n",
       "|---|---|---|\n",
       "|  1 | FOX        | TROT      |\n",
       "|  2 | COP        | CAR       |\n",
       "|  3 | TAXI       | CAB       |\n",
       "|  6 | WASHINGTON | MONUMENT  |\n",
       "|  7 | DELL       | PC        |\n",
       "|  5 | ARIZONA    | NA        |\n",
       "|  4 | APPLE      | NA        |\n",
       "| 10 | GOOGLE     | NA        |\n",
       "|  8 | NA         | MICROSOFT |\n",
       "|  9 | NA         | AMAZON    |\n",
       "| 11 | NA         | TESLA     |\n",
       "\n"
      ],
      "text/plain": [
       "   PK Value.x    Value.y  \n",
       "1   1 FOX        TROT     \n",
       "2   2 COP        CAR      \n",
       "3   3 TAXI       CAB      \n",
       "4   6 WASHINGTON MONUMENT \n",
       "5   7 DELL       PC       \n",
       "6   5 ARIZONA    NA       \n",
       "7   4 APPLE      NA       \n",
       "8  10 GOOGLE     NA       \n",
       "9   8 NA         MICROSOFT\n",
       "10  9 NA         AMAZON   \n",
       "11 11 NA         TESLA    "
      ]
     },
     "metadata": {},
     "output_type": "display_data"
    }
   ],
   "source": [
    "library(dplyr)\n",
    "\n",
    "inner_join(table_A, table_B, by = \"PK\")\n",
    "left_join(table_A, table_B, by = \"PK\")\n",
    "right_join(table_A, table_B, by = \"PK\")\n",
    "full_join(table_A, table_B, by = \"PK\")\n",
    "\n",
    "# merge(table_A, table_B, by = \"PK\")"
   ]
  },
  {
   "cell_type": "code",
   "execution_count": 129,
   "id": "952ead6a",
   "metadata": {
    "vscode": {
     "languageId": "r"
    }
   },
   "outputs": [],
   "source": [
    "# install.packages(\"RH2\")\n",
    "# install.packages(\"rJava\")\n",
    "# install.packages(\"RJDBC\")\n",
    "# library(RH2)\n"
   ]
  },
  {
   "cell_type": "code",
   "execution_count": 125,
   "id": "7c12301f",
   "metadata": {
    "vscode": {
     "languageId": "r"
    }
   },
   "outputs": [
    {
     "data": {
      "text/html": [
       "'data.frame'"
      ],
      "text/latex": [
       "'data.frame'"
      ],
      "text/markdown": [
       "'data.frame'"
      ],
      "text/plain": [
       "[1] \"data.frame\""
      ]
     },
     "metadata": {},
     "output_type": "display_data"
    },
    {
     "data": {
      "text/html": [
       "<table class=\"dataframe\">\n",
       "<caption>A data.frame: 5 × 4</caption>\n",
       "<thead>\n",
       "\t<tr><th scope=col>Admit</th><th scope=col>Gender</th><th scope=col>Dept</th><th scope=col>Freq</th></tr>\n",
       "\t<tr><th scope=col>&lt;fct&gt;</th><th scope=col>&lt;fct&gt;</th><th scope=col>&lt;fct&gt;</th><th scope=col>&lt;dbl&gt;</th></tr>\n",
       "</thead>\n",
       "<tbody>\n",
       "\t<tr><td>Admitted</td><td>Male  </td><td>A</td><td>512</td></tr>\n",
       "\t<tr><td>Rejected</td><td>Male  </td><td>A</td><td>313</td></tr>\n",
       "\t<tr><td>Admitted</td><td>Female</td><td>A</td><td> 89</td></tr>\n",
       "\t<tr><td>Rejected</td><td>Female</td><td>A</td><td> 19</td></tr>\n",
       "\t<tr><td>Admitted</td><td>Male  </td><td>B</td><td>353</td></tr>\n",
       "</tbody>\n",
       "</table>\n"
      ],
      "text/latex": [
       "A data.frame: 5 × 4\n",
       "\\begin{tabular}{llll}\n",
       " Admit & Gender & Dept & Freq\\\\\n",
       " <fct> & <fct> & <fct> & <dbl>\\\\\n",
       "\\hline\n",
       "\t Admitted & Male   & A & 512\\\\\n",
       "\t Rejected & Male   & A & 313\\\\\n",
       "\t Admitted & Female & A &  89\\\\\n",
       "\t Rejected & Female & A &  19\\\\\n",
       "\t Admitted & Male   & B & 353\\\\\n",
       "\\end{tabular}\n"
      ],
      "text/markdown": [
       "\n",
       "A data.frame: 5 × 4\n",
       "\n",
       "| Admit &lt;fct&gt; | Gender &lt;fct&gt; | Dept &lt;fct&gt; | Freq &lt;dbl&gt; |\n",
       "|---|---|---|---|\n",
       "| Admitted | Male   | A | 512 |\n",
       "| Rejected | Male   | A | 313 |\n",
       "| Admitted | Female | A |  89 |\n",
       "| Rejected | Female | A |  19 |\n",
       "| Admitted | Male   | B | 353 |\n",
       "\n"
      ],
      "text/plain": [
       "  Admit    Gender Dept Freq\n",
       "1 Admitted Male   A    512 \n",
       "2 Rejected Male   A    313 \n",
       "3 Admitted Female A     89 \n",
       "4 Rejected Female A     19 \n",
       "5 Admitted Male   B    353 "
      ]
     },
     "metadata": {},
     "output_type": "display_data"
    }
   ],
   "source": [
    "data(UCBAdmissions)\n",
    "\n",
    "ucb = as.data.frame(UCBAdmissions)\n",
    "class(ucb)\n",
    "sqldf(\"SeLECT * FROM ucb LIMIT 5\")"
   ]
  },
  {
   "cell_type": "code",
   "execution_count": 131,
   "id": "aade74e5",
   "metadata": {
    "vscode": {
     "languageId": "r"
    }
   },
   "outputs": [
    {
     "data": {
      "text/html": [
       "<table class=\"dataframe\">\n",
       "<caption>A data.frame: 6 × 3</caption>\n",
       "<thead>\n",
       "\t<tr><th scope=col>major</th><th scope=col>Dept</th><th scope=col>Faculty</th></tr>\n",
       "\t<tr><th scope=col>&lt;chr&gt;</th><th scope=col>&lt;chr&gt;</th><th scope=col>&lt;dbl&gt;</th></tr>\n",
       "</thead>\n",
       "<tbody>\n",
       "\t<tr><td>math            </td><td>A    </td><td>14</td></tr>\n",
       "\t<tr><td>biology         </td><td>B    </td><td>23</td></tr>\n",
       "\t<tr><td>engineering     </td><td>C    </td><td>25</td></tr>\n",
       "\t<tr><td>computer science</td><td>D    </td><td>17</td></tr>\n",
       "\t<tr><td>history         </td><td>E    </td><td>26</td></tr>\n",
       "\t<tr><td>architecture    </td><td>Other</td><td>12</td></tr>\n",
       "</tbody>\n",
       "</table>\n"
      ],
      "text/latex": [
       "A data.frame: 6 × 3\n",
       "\\begin{tabular}{lll}\n",
       " major & Dept & Faculty\\\\\n",
       " <chr> & <chr> & <dbl>\\\\\n",
       "\\hline\n",
       "\t math             & A     & 14\\\\\n",
       "\t biology          & B     & 23\\\\\n",
       "\t engineering      & C     & 25\\\\\n",
       "\t computer science & D     & 17\\\\\n",
       "\t history          & E     & 26\\\\\n",
       "\t architecture     & Other & 12\\\\\n",
       "\\end{tabular}\n"
      ],
      "text/markdown": [
       "\n",
       "A data.frame: 6 × 3\n",
       "\n",
       "| major &lt;chr&gt; | Dept &lt;chr&gt; | Faculty &lt;dbl&gt; |\n",
       "|---|---|---|\n",
       "| math             | A     | 14 |\n",
       "| biology          | B     | 23 |\n",
       "| engineering      | C     | 25 |\n",
       "| computer science | D     | 17 |\n",
       "| history          | E     | 26 |\n",
       "| architecture     | Other | 12 |\n",
       "\n"
      ],
      "text/plain": [
       "  major            Dept  Faculty\n",
       "1 math             A     14     \n",
       "2 biology          B     23     \n",
       "3 engineering      C     25     \n",
       "4 computer science D     17     \n",
       "5 history          E     26     \n",
       "6 architecture     Other 12     "
      ]
     },
     "metadata": {},
     "output_type": "display_data"
    }
   ],
   "source": [
    "majors <- data.frame(\n",
    "    major =c(\"math\", \"biology\", \"engineering\", \"computer science\", \"history\", \"architecture\"),\n",
    "    Dept = c(LETTERS[1:5], \"Other\"), Faculty = round(runif(6, min =10, max = 30)))\n",
    "\n",
    "majors"
   ]
  },
  {
   "cell_type": "code",
   "execution_count": 206,
   "id": "6b77b047",
   "metadata": {
    "vscode": {
     "languageId": "r"
    }
   },
   "outputs": [
    {
     "data": {
      "text/html": [
       "<table class=\"dataframe\">\n",
       "<caption>A data.frame: 3 × 2</caption>\n",
       "<thead>\n",
       "\t<tr><th scope=col>Dept</th><th scope=col>SUM(Freq)</th></tr>\n",
       "\t<tr><th scope=col>&lt;fct&gt;</th><th scope=col>&lt;dbl&gt;</th></tr>\n",
       "</thead>\n",
       "<tbody>\n",
       "\t<tr><td>A</td><td> 89</td></tr>\n",
       "\t<tr><td>E</td><td>147</td></tr>\n",
       "\t<tr><td>F</td><td> 46</td></tr>\n",
       "</tbody>\n",
       "</table>\n"
      ],
      "text/latex": [
       "A data.frame: 3 × 2\n",
       "\\begin{tabular}{ll}\n",
       " Dept & SUM(Freq)\\\\\n",
       " <fct> & <dbl>\\\\\n",
       "\\hline\n",
       "\t A &  89\\\\\n",
       "\t E & 147\\\\\n",
       "\t F &  46\\\\\n",
       "\\end{tabular}\n"
      ],
      "text/markdown": [
       "\n",
       "A data.frame: 3 × 2\n",
       "\n",
       "| Dept &lt;fct&gt; | SUM(Freq) &lt;dbl&gt; |\n",
       "|---|---|\n",
       "| A |  89 |\n",
       "| E | 147 |\n",
       "| F |  46 |\n",
       "\n"
      ],
      "text/plain": [
       "  Dept SUM(Freq)\n",
       "1 A     89      \n",
       "2 E    147      \n",
       "3 F     46      "
      ]
     },
     "metadata": {},
     "output_type": "display_data"
    },
    {
     "data": {
      "text/html": [
       "<table class=\"dataframe\">\n",
       "<caption>A data.frame: 20 × 7</caption>\n",
       "<thead>\n",
       "\t<tr><th scope=col>Admit</th><th scope=col>Gender</th><th scope=col>Dept</th><th scope=col>Freq</th><th scope=col>major</th><th scope=col>Dept</th><th scope=col>Faculty</th></tr>\n",
       "\t<tr><th scope=col>&lt;fct&gt;</th><th scope=col>&lt;fct&gt;</th><th scope=col>&lt;chr&gt;</th><th scope=col>&lt;dbl&gt;</th><th scope=col>&lt;chr&gt;</th><th scope=col>&lt;chr&gt;</th><th scope=col>&lt;dbl&gt;</th></tr>\n",
       "</thead>\n",
       "<tbody>\n",
       "\t<tr><td>Admitted</td><td>Male  </td><td>A</td><td>512</td><td>math            </td><td>A</td><td>14</td></tr>\n",
       "\t<tr><td>Rejected</td><td>Male  </td><td>A</td><td>313</td><td>math            </td><td>A</td><td>14</td></tr>\n",
       "\t<tr><td>Admitted</td><td>Female</td><td>A</td><td> 89</td><td>math            </td><td>A</td><td>14</td></tr>\n",
       "\t<tr><td>Rejected</td><td>Female</td><td>A</td><td> 19</td><td>math            </td><td>A</td><td>14</td></tr>\n",
       "\t<tr><td>Admitted</td><td>Male  </td><td>B</td><td>353</td><td>biology         </td><td>B</td><td>23</td></tr>\n",
       "\t<tr><td>Rejected</td><td>Male  </td><td>B</td><td>207</td><td>biology         </td><td>B</td><td>23</td></tr>\n",
       "\t<tr><td>Admitted</td><td>Female</td><td>B</td><td> 17</td><td>biology         </td><td>B</td><td>23</td></tr>\n",
       "\t<tr><td>Rejected</td><td>Female</td><td>B</td><td>  8</td><td>biology         </td><td>B</td><td>23</td></tr>\n",
       "\t<tr><td>Admitted</td><td>Male  </td><td>C</td><td>120</td><td>engineering     </td><td>C</td><td>25</td></tr>\n",
       "\t<tr><td>Rejected</td><td>Male  </td><td>C</td><td>205</td><td>engineering     </td><td>C</td><td>25</td></tr>\n",
       "\t<tr><td>Admitted</td><td>Female</td><td>C</td><td>202</td><td>engineering     </td><td>C</td><td>25</td></tr>\n",
       "\t<tr><td>Rejected</td><td>Female</td><td>C</td><td>391</td><td>engineering     </td><td>C</td><td>25</td></tr>\n",
       "\t<tr><td>Admitted</td><td>Male  </td><td>D</td><td>138</td><td>computer science</td><td>D</td><td>17</td></tr>\n",
       "\t<tr><td>Rejected</td><td>Male  </td><td>D</td><td>279</td><td>computer science</td><td>D</td><td>17</td></tr>\n",
       "\t<tr><td>Admitted</td><td>Female</td><td>D</td><td>131</td><td>computer science</td><td>D</td><td>17</td></tr>\n",
       "\t<tr><td>Rejected</td><td>Female</td><td>D</td><td>244</td><td>computer science</td><td>D</td><td>17</td></tr>\n",
       "\t<tr><td>Admitted</td><td>Male  </td><td>E</td><td> 53</td><td>history         </td><td>E</td><td>26</td></tr>\n",
       "\t<tr><td>Rejected</td><td>Male  </td><td>E</td><td>138</td><td>history         </td><td>E</td><td>26</td></tr>\n",
       "\t<tr><td>Admitted</td><td>Female</td><td>E</td><td> 94</td><td>history         </td><td>E</td><td>26</td></tr>\n",
       "\t<tr><td>Rejected</td><td>Female</td><td>E</td><td>299</td><td>history         </td><td>E</td><td>26</td></tr>\n",
       "</tbody>\n",
       "</table>\n"
      ],
      "text/latex": [
       "A data.frame: 20 × 7\n",
       "\\begin{tabular}{lllllll}\n",
       " Admit & Gender & Dept & Freq & major & Dept & Faculty\\\\\n",
       " <fct> & <fct> & <chr> & <dbl> & <chr> & <chr> & <dbl>\\\\\n",
       "\\hline\n",
       "\t Admitted & Male   & A & 512 & math             & A & 14\\\\\n",
       "\t Rejected & Male   & A & 313 & math             & A & 14\\\\\n",
       "\t Admitted & Female & A &  89 & math             & A & 14\\\\\n",
       "\t Rejected & Female & A &  19 & math             & A & 14\\\\\n",
       "\t Admitted & Male   & B & 353 & biology          & B & 23\\\\\n",
       "\t Rejected & Male   & B & 207 & biology          & B & 23\\\\\n",
       "\t Admitted & Female & B &  17 & biology          & B & 23\\\\\n",
       "\t Rejected & Female & B &   8 & biology          & B & 23\\\\\n",
       "\t Admitted & Male   & C & 120 & engineering      & C & 25\\\\\n",
       "\t Rejected & Male   & C & 205 & engineering      & C & 25\\\\\n",
       "\t Admitted & Female & C & 202 & engineering      & C & 25\\\\\n",
       "\t Rejected & Female & C & 391 & engineering      & C & 25\\\\\n",
       "\t Admitted & Male   & D & 138 & computer science & D & 17\\\\\n",
       "\t Rejected & Male   & D & 279 & computer science & D & 17\\\\\n",
       "\t Admitted & Female & D & 131 & computer science & D & 17\\\\\n",
       "\t Rejected & Female & D & 244 & computer science & D & 17\\\\\n",
       "\t Admitted & Male   & E &  53 & history          & E & 26\\\\\n",
       "\t Rejected & Male   & E & 138 & history          & E & 26\\\\\n",
       "\t Admitted & Female & E &  94 & history          & E & 26\\\\\n",
       "\t Rejected & Female & E & 299 & history          & E & 26\\\\\n",
       "\\end{tabular}\n"
      ],
      "text/markdown": [
       "\n",
       "A data.frame: 20 × 7\n",
       "\n",
       "| Admit &lt;fct&gt; | Gender &lt;fct&gt; | Dept &lt;chr&gt; | Freq &lt;dbl&gt; | major &lt;chr&gt; | Dept &lt;chr&gt; | Faculty &lt;dbl&gt; |\n",
       "|---|---|---|---|---|---|---|\n",
       "| Admitted | Male   | A | 512 | math             | A | 14 |\n",
       "| Rejected | Male   | A | 313 | math             | A | 14 |\n",
       "| Admitted | Female | A |  89 | math             | A | 14 |\n",
       "| Rejected | Female | A |  19 | math             | A | 14 |\n",
       "| Admitted | Male   | B | 353 | biology          | B | 23 |\n",
       "| Rejected | Male   | B | 207 | biology          | B | 23 |\n",
       "| Admitted | Female | B |  17 | biology          | B | 23 |\n",
       "| Rejected | Female | B |   8 | biology          | B | 23 |\n",
       "| Admitted | Male   | C | 120 | engineering      | C | 25 |\n",
       "| Rejected | Male   | C | 205 | engineering      | C | 25 |\n",
       "| Admitted | Female | C | 202 | engineering      | C | 25 |\n",
       "| Rejected | Female | C | 391 | engineering      | C | 25 |\n",
       "| Admitted | Male   | D | 138 | computer science | D | 17 |\n",
       "| Rejected | Male   | D | 279 | computer science | D | 17 |\n",
       "| Admitted | Female | D | 131 | computer science | D | 17 |\n",
       "| Rejected | Female | D | 244 | computer science | D | 17 |\n",
       "| Admitted | Male   | E |  53 | history          | E | 26 |\n",
       "| Rejected | Male   | E | 138 | history          | E | 26 |\n",
       "| Admitted | Female | E |  94 | history          | E | 26 |\n",
       "| Rejected | Female | E | 299 | history          | E | 26 |\n",
       "\n"
      ],
      "text/plain": [
       "   Admit    Gender Dept Freq major            Dept Faculty\n",
       "1  Admitted Male   A    512  math             A    14     \n",
       "2  Rejected Male   A    313  math             A    14     \n",
       "3  Admitted Female A     89  math             A    14     \n",
       "4  Rejected Female A     19  math             A    14     \n",
       "5  Admitted Male   B    353  biology          B    23     \n",
       "6  Rejected Male   B    207  biology          B    23     \n",
       "7  Admitted Female B     17  biology          B    23     \n",
       "8  Rejected Female B      8  biology          B    23     \n",
       "9  Admitted Male   C    120  engineering      C    25     \n",
       "10 Rejected Male   C    205  engineering      C    25     \n",
       "11 Admitted Female C    202  engineering      C    25     \n",
       "12 Rejected Female C    391  engineering      C    25     \n",
       "13 Admitted Male   D    138  computer science D    17     \n",
       "14 Rejected Male   D    279  computer science D    17     \n",
       "15 Admitted Female D    131  computer science D    17     \n",
       "16 Rejected Female D    244  computer science D    17     \n",
       "17 Admitted Male   E     53  history          E    26     \n",
       "18 Rejected Male   E    138  history          E    26     \n",
       "19 Admitted Female E     94  history          E    26     \n",
       "20 Rejected Female E    299  history          E    26     "
      ]
     },
     "metadata": {},
     "output_type": "display_data"
    },
    {
     "data": {
      "text/html": [
       "<table class=\"dataframe\">\n",
       "<caption>A data.frame: 24 × 7</caption>\n",
       "<thead>\n",
       "\t<tr><th scope=col>Admit</th><th scope=col>Gender</th><th scope=col>Dept</th><th scope=col>Freq</th><th scope=col>major</th><th scope=col>Dept</th><th scope=col>Faculty</th></tr>\n",
       "\t<tr><th scope=col>&lt;fct&gt;</th><th scope=col>&lt;fct&gt;</th><th scope=col>&lt;chr&gt;</th><th scope=col>&lt;dbl&gt;</th><th scope=col>&lt;chr&gt;</th><th scope=col>&lt;chr&gt;</th><th scope=col>&lt;dbl&gt;</th></tr>\n",
       "</thead>\n",
       "<tbody>\n",
       "\t<tr><td>Admitted</td><td>Male  </td><td>A</td><td>512</td><td>math            </td><td>A </td><td>14</td></tr>\n",
       "\t<tr><td>Rejected</td><td>Male  </td><td>A</td><td>313</td><td>math            </td><td>A </td><td>14</td></tr>\n",
       "\t<tr><td>Admitted</td><td>Female</td><td>A</td><td> 89</td><td>math            </td><td>A </td><td>14</td></tr>\n",
       "\t<tr><td>Rejected</td><td>Female</td><td>A</td><td> 19</td><td>math            </td><td>A </td><td>14</td></tr>\n",
       "\t<tr><td>Admitted</td><td>Male  </td><td>B</td><td>353</td><td>biology         </td><td>B </td><td>23</td></tr>\n",
       "\t<tr><td>Rejected</td><td>Male  </td><td>B</td><td>207</td><td>biology         </td><td>B </td><td>23</td></tr>\n",
       "\t<tr><td>Admitted</td><td>Female</td><td>B</td><td> 17</td><td>biology         </td><td>B </td><td>23</td></tr>\n",
       "\t<tr><td>Rejected</td><td>Female</td><td>B</td><td>  8</td><td>biology         </td><td>B </td><td>23</td></tr>\n",
       "\t<tr><td>Admitted</td><td>Male  </td><td>C</td><td>120</td><td>engineering     </td><td>C </td><td>25</td></tr>\n",
       "\t<tr><td>Rejected</td><td>Male  </td><td>C</td><td>205</td><td>engineering     </td><td>C </td><td>25</td></tr>\n",
       "\t<tr><td>Admitted</td><td>Female</td><td>C</td><td>202</td><td>engineering     </td><td>C </td><td>25</td></tr>\n",
       "\t<tr><td>Rejected</td><td>Female</td><td>C</td><td>391</td><td>engineering     </td><td>C </td><td>25</td></tr>\n",
       "\t<tr><td>Admitted</td><td>Male  </td><td>D</td><td>138</td><td>computer science</td><td>D </td><td>17</td></tr>\n",
       "\t<tr><td>Rejected</td><td>Male  </td><td>D</td><td>279</td><td>computer science</td><td>D </td><td>17</td></tr>\n",
       "\t<tr><td>Admitted</td><td>Female</td><td>D</td><td>131</td><td>computer science</td><td>D </td><td>17</td></tr>\n",
       "\t<tr><td>Rejected</td><td>Female</td><td>D</td><td>244</td><td>computer science</td><td>D </td><td>17</td></tr>\n",
       "\t<tr><td>Admitted</td><td>Male  </td><td>E</td><td> 53</td><td>history         </td><td>E </td><td>26</td></tr>\n",
       "\t<tr><td>Rejected</td><td>Male  </td><td>E</td><td>138</td><td>history         </td><td>E </td><td>26</td></tr>\n",
       "\t<tr><td>Admitted</td><td>Female</td><td>E</td><td> 94</td><td>history         </td><td>E </td><td>26</td></tr>\n",
       "\t<tr><td>Rejected</td><td>Female</td><td>E</td><td>299</td><td>history         </td><td>E </td><td>26</td></tr>\n",
       "\t<tr><td>Admitted</td><td>Male  </td><td>F</td><td> 22</td><td>NA              </td><td>NA</td><td>NA</td></tr>\n",
       "\t<tr><td>Rejected</td><td>Male  </td><td>F</td><td>351</td><td>NA              </td><td>NA</td><td>NA</td></tr>\n",
       "\t<tr><td>Admitted</td><td>Female</td><td>F</td><td> 24</td><td>NA              </td><td>NA</td><td>NA</td></tr>\n",
       "\t<tr><td>Rejected</td><td>Female</td><td>F</td><td>317</td><td>NA              </td><td>NA</td><td>NA</td></tr>\n",
       "</tbody>\n",
       "</table>\n"
      ],
      "text/latex": [
       "A data.frame: 24 × 7\n",
       "\\begin{tabular}{lllllll}\n",
       " Admit & Gender & Dept & Freq & major & Dept & Faculty\\\\\n",
       " <fct> & <fct> & <chr> & <dbl> & <chr> & <chr> & <dbl>\\\\\n",
       "\\hline\n",
       "\t Admitted & Male   & A & 512 & math             & A  & 14\\\\\n",
       "\t Rejected & Male   & A & 313 & math             & A  & 14\\\\\n",
       "\t Admitted & Female & A &  89 & math             & A  & 14\\\\\n",
       "\t Rejected & Female & A &  19 & math             & A  & 14\\\\\n",
       "\t Admitted & Male   & B & 353 & biology          & B  & 23\\\\\n",
       "\t Rejected & Male   & B & 207 & biology          & B  & 23\\\\\n",
       "\t Admitted & Female & B &  17 & biology          & B  & 23\\\\\n",
       "\t Rejected & Female & B &   8 & biology          & B  & 23\\\\\n",
       "\t Admitted & Male   & C & 120 & engineering      & C  & 25\\\\\n",
       "\t Rejected & Male   & C & 205 & engineering      & C  & 25\\\\\n",
       "\t Admitted & Female & C & 202 & engineering      & C  & 25\\\\\n",
       "\t Rejected & Female & C & 391 & engineering      & C  & 25\\\\\n",
       "\t Admitted & Male   & D & 138 & computer science & D  & 17\\\\\n",
       "\t Rejected & Male   & D & 279 & computer science & D  & 17\\\\\n",
       "\t Admitted & Female & D & 131 & computer science & D  & 17\\\\\n",
       "\t Rejected & Female & D & 244 & computer science & D  & 17\\\\\n",
       "\t Admitted & Male   & E &  53 & history          & E  & 26\\\\\n",
       "\t Rejected & Male   & E & 138 & history          & E  & 26\\\\\n",
       "\t Admitted & Female & E &  94 & history          & E  & 26\\\\\n",
       "\t Rejected & Female & E & 299 & history          & E  & 26\\\\\n",
       "\t Admitted & Male   & F &  22 & NA               & NA & NA\\\\\n",
       "\t Rejected & Male   & F & 351 & NA               & NA & NA\\\\\n",
       "\t Admitted & Female & F &  24 & NA               & NA & NA\\\\\n",
       "\t Rejected & Female & F & 317 & NA               & NA & NA\\\\\n",
       "\\end{tabular}\n"
      ],
      "text/markdown": [
       "\n",
       "A data.frame: 24 × 7\n",
       "\n",
       "| Admit &lt;fct&gt; | Gender &lt;fct&gt; | Dept &lt;chr&gt; | Freq &lt;dbl&gt; | major &lt;chr&gt; | Dept &lt;chr&gt; | Faculty &lt;dbl&gt; |\n",
       "|---|---|---|---|---|---|---|\n",
       "| Admitted | Male   | A | 512 | math             | A  | 14 |\n",
       "| Rejected | Male   | A | 313 | math             | A  | 14 |\n",
       "| Admitted | Female | A |  89 | math             | A  | 14 |\n",
       "| Rejected | Female | A |  19 | math             | A  | 14 |\n",
       "| Admitted | Male   | B | 353 | biology          | B  | 23 |\n",
       "| Rejected | Male   | B | 207 | biology          | B  | 23 |\n",
       "| Admitted | Female | B |  17 | biology          | B  | 23 |\n",
       "| Rejected | Female | B |   8 | biology          | B  | 23 |\n",
       "| Admitted | Male   | C | 120 | engineering      | C  | 25 |\n",
       "| Rejected | Male   | C | 205 | engineering      | C  | 25 |\n",
       "| Admitted | Female | C | 202 | engineering      | C  | 25 |\n",
       "| Rejected | Female | C | 391 | engineering      | C  | 25 |\n",
       "| Admitted | Male   | D | 138 | computer science | D  | 17 |\n",
       "| Rejected | Male   | D | 279 | computer science | D  | 17 |\n",
       "| Admitted | Female | D | 131 | computer science | D  | 17 |\n",
       "| Rejected | Female | D | 244 | computer science | D  | 17 |\n",
       "| Admitted | Male   | E |  53 | history          | E  | 26 |\n",
       "| Rejected | Male   | E | 138 | history          | E  | 26 |\n",
       "| Admitted | Female | E |  94 | history          | E  | 26 |\n",
       "| Rejected | Female | E | 299 | history          | E  | 26 |\n",
       "| Admitted | Male   | F |  22 | NA               | NA | NA |\n",
       "| Rejected | Male   | F | 351 | NA               | NA | NA |\n",
       "| Admitted | Female | F |  24 | NA               | NA | NA |\n",
       "| Rejected | Female | F | 317 | NA               | NA | NA |\n",
       "\n"
      ],
      "text/plain": [
       "   Admit    Gender Dept Freq major            Dept Faculty\n",
       "1  Admitted Male   A    512  math             A    14     \n",
       "2  Rejected Male   A    313  math             A    14     \n",
       "3  Admitted Female A     89  math             A    14     \n",
       "4  Rejected Female A     19  math             A    14     \n",
       "5  Admitted Male   B    353  biology          B    23     \n",
       "6  Rejected Male   B    207  biology          B    23     \n",
       "7  Admitted Female B     17  biology          B    23     \n",
       "8  Rejected Female B      8  biology          B    23     \n",
       "9  Admitted Male   C    120  engineering      C    25     \n",
       "10 Rejected Male   C    205  engineering      C    25     \n",
       "11 Admitted Female C    202  engineering      C    25     \n",
       "12 Rejected Female C    391  engineering      C    25     \n",
       "13 Admitted Male   D    138  computer science D    17     \n",
       "14 Rejected Male   D    279  computer science D    17     \n",
       "15 Admitted Female D    131  computer science D    17     \n",
       "16 Rejected Female D    244  computer science D    17     \n",
       "17 Admitted Male   E     53  history          E    26     \n",
       "18 Rejected Male   E    138  history          E    26     \n",
       "19 Admitted Female E     94  history          E    26     \n",
       "20 Rejected Female E    299  history          E    26     \n",
       "21 Admitted Male   F     22  NA               NA   NA     \n",
       "22 Rejected Male   F    351  NA               NA   NA     \n",
       "23 Admitted Female F     24  NA               NA   NA     \n",
       "24 Rejected Female F    317  NA               NA   NA     "
      ]
     },
     "metadata": {},
     "output_type": "display_data"
    },
    {
     "data": {
      "text/html": [
       "<table class=\"dataframe\">\n",
       "<caption>A data.frame: 21 × 7</caption>\n",
       "<thead>\n",
       "\t<tr><th scope=col>Admit</th><th scope=col>Gender</th><th scope=col>Dept</th><th scope=col>Freq</th><th scope=col>major</th><th scope=col>Dept</th><th scope=col>Faculty</th></tr>\n",
       "\t<tr><th scope=col>&lt;chr&gt;</th><th scope=col>&lt;chr&gt;</th><th scope=col>&lt;chr&gt;</th><th scope=col>&lt;dbl&gt;</th><th scope=col>&lt;chr&gt;</th><th scope=col>&lt;chr&gt;</th><th scope=col>&lt;dbl&gt;</th></tr>\n",
       "</thead>\n",
       "<tbody>\n",
       "\t<tr><td>Admitted</td><td>Male  </td><td>A </td><td>512</td><td>math            </td><td>A    </td><td>14</td></tr>\n",
       "\t<tr><td>Rejected</td><td>Male  </td><td>A </td><td>313</td><td>math            </td><td>A    </td><td>14</td></tr>\n",
       "\t<tr><td>Admitted</td><td>Female</td><td>A </td><td> 89</td><td>math            </td><td>A    </td><td>14</td></tr>\n",
       "\t<tr><td>Rejected</td><td>Female</td><td>A </td><td> 19</td><td>math            </td><td>A    </td><td>14</td></tr>\n",
       "\t<tr><td>Admitted</td><td>Male  </td><td>B </td><td>353</td><td>biology         </td><td>B    </td><td>23</td></tr>\n",
       "\t<tr><td>Rejected</td><td>Male  </td><td>B </td><td>207</td><td>biology         </td><td>B    </td><td>23</td></tr>\n",
       "\t<tr><td>Admitted</td><td>Female</td><td>B </td><td> 17</td><td>biology         </td><td>B    </td><td>23</td></tr>\n",
       "\t<tr><td>Rejected</td><td>Female</td><td>B </td><td>  8</td><td>biology         </td><td>B    </td><td>23</td></tr>\n",
       "\t<tr><td>Admitted</td><td>Male  </td><td>C </td><td>120</td><td>engineering     </td><td>C    </td><td>25</td></tr>\n",
       "\t<tr><td>Rejected</td><td>Male  </td><td>C </td><td>205</td><td>engineering     </td><td>C    </td><td>25</td></tr>\n",
       "\t<tr><td>Admitted</td><td>Female</td><td>C </td><td>202</td><td>engineering     </td><td>C    </td><td>25</td></tr>\n",
       "\t<tr><td>Rejected</td><td>Female</td><td>C </td><td>391</td><td>engineering     </td><td>C    </td><td>25</td></tr>\n",
       "\t<tr><td>Admitted</td><td>Male  </td><td>D </td><td>138</td><td>computer science</td><td>D    </td><td>17</td></tr>\n",
       "\t<tr><td>Rejected</td><td>Male  </td><td>D </td><td>279</td><td>computer science</td><td>D    </td><td>17</td></tr>\n",
       "\t<tr><td>Admitted</td><td>Female</td><td>D </td><td>131</td><td>computer science</td><td>D    </td><td>17</td></tr>\n",
       "\t<tr><td>Rejected</td><td>Female</td><td>D </td><td>244</td><td>computer science</td><td>D    </td><td>17</td></tr>\n",
       "\t<tr><td>Admitted</td><td>Male  </td><td>E </td><td> 53</td><td>history         </td><td>E    </td><td>26</td></tr>\n",
       "\t<tr><td>Rejected</td><td>Male  </td><td>E </td><td>138</td><td>history         </td><td>E    </td><td>26</td></tr>\n",
       "\t<tr><td>Admitted</td><td>Female</td><td>E </td><td> 94</td><td>history         </td><td>E    </td><td>26</td></tr>\n",
       "\t<tr><td>Rejected</td><td>Female</td><td>E </td><td>299</td><td>history         </td><td>E    </td><td>26</td></tr>\n",
       "\t<tr><td>NA      </td><td>NA    </td><td>NA</td><td> NA</td><td>architecture    </td><td>Other</td><td>12</td></tr>\n",
       "</tbody>\n",
       "</table>\n"
      ],
      "text/latex": [
       "A data.frame: 21 × 7\n",
       "\\begin{tabular}{lllllll}\n",
       " Admit & Gender & Dept & Freq & major & Dept & Faculty\\\\\n",
       " <chr> & <chr> & <chr> & <dbl> & <chr> & <chr> & <dbl>\\\\\n",
       "\\hline\n",
       "\t Admitted & Male   & A  & 512 & math             & A     & 14\\\\\n",
       "\t Rejected & Male   & A  & 313 & math             & A     & 14\\\\\n",
       "\t Admitted & Female & A  &  89 & math             & A     & 14\\\\\n",
       "\t Rejected & Female & A  &  19 & math             & A     & 14\\\\\n",
       "\t Admitted & Male   & B  & 353 & biology          & B     & 23\\\\\n",
       "\t Rejected & Male   & B  & 207 & biology          & B     & 23\\\\\n",
       "\t Admitted & Female & B  &  17 & biology          & B     & 23\\\\\n",
       "\t Rejected & Female & B  &   8 & biology          & B     & 23\\\\\n",
       "\t Admitted & Male   & C  & 120 & engineering      & C     & 25\\\\\n",
       "\t Rejected & Male   & C  & 205 & engineering      & C     & 25\\\\\n",
       "\t Admitted & Female & C  & 202 & engineering      & C     & 25\\\\\n",
       "\t Rejected & Female & C  & 391 & engineering      & C     & 25\\\\\n",
       "\t Admitted & Male   & D  & 138 & computer science & D     & 17\\\\\n",
       "\t Rejected & Male   & D  & 279 & computer science & D     & 17\\\\\n",
       "\t Admitted & Female & D  & 131 & computer science & D     & 17\\\\\n",
       "\t Rejected & Female & D  & 244 & computer science & D     & 17\\\\\n",
       "\t Admitted & Male   & E  &  53 & history          & E     & 26\\\\\n",
       "\t Rejected & Male   & E  & 138 & history          & E     & 26\\\\\n",
       "\t Admitted & Female & E  &  94 & history          & E     & 26\\\\\n",
       "\t Rejected & Female & E  & 299 & history          & E     & 26\\\\\n",
       "\t NA       & NA     & NA &  NA & architecture     & Other & 12\\\\\n",
       "\\end{tabular}\n"
      ],
      "text/markdown": [
       "\n",
       "A data.frame: 21 × 7\n",
       "\n",
       "| Admit &lt;chr&gt; | Gender &lt;chr&gt; | Dept &lt;chr&gt; | Freq &lt;dbl&gt; | major &lt;chr&gt; | Dept &lt;chr&gt; | Faculty &lt;dbl&gt; |\n",
       "|---|---|---|---|---|---|---|\n",
       "| Admitted | Male   | A  | 512 | math             | A     | 14 |\n",
       "| Rejected | Male   | A  | 313 | math             | A     | 14 |\n",
       "| Admitted | Female | A  |  89 | math             | A     | 14 |\n",
       "| Rejected | Female | A  |  19 | math             | A     | 14 |\n",
       "| Admitted | Male   | B  | 353 | biology          | B     | 23 |\n",
       "| Rejected | Male   | B  | 207 | biology          | B     | 23 |\n",
       "| Admitted | Female | B  |  17 | biology          | B     | 23 |\n",
       "| Rejected | Female | B  |   8 | biology          | B     | 23 |\n",
       "| Admitted | Male   | C  | 120 | engineering      | C     | 25 |\n",
       "| Rejected | Male   | C  | 205 | engineering      | C     | 25 |\n",
       "| Admitted | Female | C  | 202 | engineering      | C     | 25 |\n",
       "| Rejected | Female | C  | 391 | engineering      | C     | 25 |\n",
       "| Admitted | Male   | D  | 138 | computer science | D     | 17 |\n",
       "| Rejected | Male   | D  | 279 | computer science | D     | 17 |\n",
       "| Admitted | Female | D  | 131 | computer science | D     | 17 |\n",
       "| Rejected | Female | D  | 244 | computer science | D     | 17 |\n",
       "| Admitted | Male   | E  |  53 | history          | E     | 26 |\n",
       "| Rejected | Male   | E  | 138 | history          | E     | 26 |\n",
       "| Admitted | Female | E  |  94 | history          | E     | 26 |\n",
       "| Rejected | Female | E  | 299 | history          | E     | 26 |\n",
       "| NA       | NA     | NA |  NA | architecture     | Other | 12 |\n",
       "\n"
      ],
      "text/plain": [
       "   Admit    Gender Dept Freq major            Dept  Faculty\n",
       "1  Admitted Male   A    512  math             A     14     \n",
       "2  Rejected Male   A    313  math             A     14     \n",
       "3  Admitted Female A     89  math             A     14     \n",
       "4  Rejected Female A     19  math             A     14     \n",
       "5  Admitted Male   B    353  biology          B     23     \n",
       "6  Rejected Male   B    207  biology          B     23     \n",
       "7  Admitted Female B     17  biology          B     23     \n",
       "8  Rejected Female B      8  biology          B     23     \n",
       "9  Admitted Male   C    120  engineering      C     25     \n",
       "10 Rejected Male   C    205  engineering      C     25     \n",
       "11 Admitted Female C    202  engineering      C     25     \n",
       "12 Rejected Female C    391  engineering      C     25     \n",
       "13 Admitted Male   D    138  computer science D     17     \n",
       "14 Rejected Male   D    279  computer science D     17     \n",
       "15 Admitted Female D    131  computer science D     17     \n",
       "16 Rejected Female D    244  computer science D     17     \n",
       "17 Admitted Male   E     53  history          E     26     \n",
       "18 Rejected Male   E    138  history          E     26     \n",
       "19 Admitted Female E     94  history          E     26     \n",
       "20 Rejected Female E    299  history          E     26     \n",
       "21 NA       NA     NA    NA  architecture     Other 12     "
      ]
     },
     "metadata": {},
     "output_type": "display_data"
    }
   ],
   "source": [
    "# sqldf(\"SELECT * FROM ucb where Gender='Female'\")\n",
    "# sqldf(\"SELECT * FROM ucb where Admit='Admitted'\")\n",
    "# sqldf(\"SELECT Sum(Freq) FROM ucb where Admit='Admitted'\")\n",
    "# sqldf(\"select COUNT(DISTINCT(major)) from majors\")\n",
    "\n",
    "# sqldf(\"SELECT Dept, SUM(FREQ) FROM ucb GROUP BY Dept\")\n",
    "sqldf(\"SELECT Dept, SUM(Freq) FROM ucb WHERE Admit='Admitted' AND Freq BETWEEN 20 AND 100 group by Dept\")\n",
    "\n",
    "sqldf(\"SELECT * from ucb JOIN majors ON ucb.Dept=majors.Dept\")\n",
    "sqldf(\"SELECT * from ucb LEFT JOIN majors ON ucb.Dept=majors.Dept\")\n",
    "sqldf(\"SELECT * from ucb RIGHT JOIN majors ON ucb.Dept=majors.Dept\")"
   ]
  },
  {
   "cell_type": "code",
   "execution_count": 218,
   "id": "274a2808",
   "metadata": {
    "vscode": {
     "languageId": "r"
    }
   },
   "outputs": [
    {
     "data": {
      "text/html": [
       "53940"
      ],
      "text/latex": [
       "53940"
      ],
      "text/markdown": [
       "53940"
      ],
      "text/plain": [
       "[1] 53940"
      ]
     },
     "metadata": {},
     "output_type": "display_data"
    },
    {
     "data": {
      "text/html": [
       "<table class=\"dataframe\">\n",
       "<caption>A data.frame: 1 × 1</caption>\n",
       "<thead>\n",
       "\t<tr><th scope=col>COUNT(*)</th></tr>\n",
       "\t<tr><th scope=col>&lt;int&gt;</th></tr>\n",
       "</thead>\n",
       "<tbody>\n",
       "\t<tr><td>53940</td></tr>\n",
       "</tbody>\n",
       "</table>\n"
      ],
      "text/latex": [
       "A data.frame: 1 × 1\n",
       "\\begin{tabular}{l}\n",
       " COUNT(*)\\\\\n",
       " <int>\\\\\n",
       "\\hline\n",
       "\t 53940\\\\\n",
       "\\end{tabular}\n"
      ],
      "text/markdown": [
       "\n",
       "A data.frame: 1 × 1\n",
       "\n",
       "| COUNT(*) &lt;int&gt; |\n",
       "|---|\n",
       "| 53940 |\n",
       "\n"
      ],
      "text/plain": [
       "  COUNT(*)\n",
       "1 53940   "
      ]
     },
     "metadata": {},
     "output_type": "display_data"
    }
   ],
   "source": [
    "# library(ggplot2)\n",
    "data(diamonds)\n",
    "\n",
    "nrow(diamonds)\n",
    "sqldf(\"SELECT COUNT(*) from diamonds\")"
   ]
  },
  {
   "cell_type": "code",
   "execution_count": 228,
   "id": "14582b7b",
   "metadata": {
    "vscode": {
     "languageId": "r"
    }
   },
   "outputs": [],
   "source": [
    "diamond = sqldf(\"SELECT * from diamonds\")\n",
    "# head(diamond)\n",
    "# sqldf(\"SELECT * FROM diamond WHERE cut='Ideal'\")\n",
    "\n",
    "# sqldf(\"SELECT * FROM diamond\")"
   ]
  },
  {
   "cell_type": "code",
   "execution_count": 233,
   "id": "84cdcc02",
   "metadata": {
    "vscode": {
     "languageId": "r"
    }
   },
   "outputs": [
    {
     "data": {
      "text/html": [
       "<table class=\"dataframe\">\n",
       "<caption>A data.frame: 5 × 10</caption>\n",
       "<thead>\n",
       "\t<tr><th scope=col>carat</th><th scope=col>cut</th><th scope=col>color</th><th scope=col>clarity</th><th scope=col>depth</th><th scope=col>table</th><th scope=col>price</th><th scope=col>x</th><th scope=col>y</th><th scope=col>z</th></tr>\n",
       "\t<tr><th scope=col>&lt;dbl&gt;</th><th scope=col>&lt;ord&gt;</th><th scope=col>&lt;ord&gt;</th><th scope=col>&lt;ord&gt;</th><th scope=col>&lt;dbl&gt;</th><th scope=col>&lt;dbl&gt;</th><th scope=col>&lt;int&gt;</th><th scope=col>&lt;dbl&gt;</th><th scope=col>&lt;dbl&gt;</th><th scope=col>&lt;dbl&gt;</th></tr>\n",
       "</thead>\n",
       "<tbody>\n",
       "\t<tr><td>0.23</td><td>Ideal  </td><td>E</td><td>SI2</td><td>61.5</td><td>55</td><td>326</td><td>3.95</td><td>3.98</td><td>2.43</td></tr>\n",
       "\t<tr><td>0.21</td><td>Premium</td><td>E</td><td>SI1</td><td>59.8</td><td>61</td><td>326</td><td>3.89</td><td>3.84</td><td>2.31</td></tr>\n",
       "\t<tr><td>0.23</td><td>Good   </td><td>E</td><td>VS1</td><td>56.9</td><td>65</td><td>327</td><td>4.05</td><td>4.07</td><td>2.31</td></tr>\n",
       "\t<tr><td>0.29</td><td>Premium</td><td>I</td><td>VS2</td><td>62.4</td><td>58</td><td>334</td><td>4.20</td><td>4.23</td><td>2.63</td></tr>\n",
       "\t<tr><td>0.31</td><td>Good   </td><td>J</td><td>SI2</td><td>63.3</td><td>58</td><td>335</td><td>4.34</td><td>4.35</td><td>2.75</td></tr>\n",
       "</tbody>\n",
       "</table>\n"
      ],
      "text/latex": [
       "A data.frame: 5 × 10\n",
       "\\begin{tabular}{llllllllll}\n",
       " carat & cut & color & clarity & depth & table & price & x & y & z\\\\\n",
       " <dbl> & <ord> & <ord> & <ord> & <dbl> & <dbl> & <int> & <dbl> & <dbl> & <dbl>\\\\\n",
       "\\hline\n",
       "\t 0.23 & Ideal   & E & SI2 & 61.5 & 55 & 326 & 3.95 & 3.98 & 2.43\\\\\n",
       "\t 0.21 & Premium & E & SI1 & 59.8 & 61 & 326 & 3.89 & 3.84 & 2.31\\\\\n",
       "\t 0.23 & Good    & E & VS1 & 56.9 & 65 & 327 & 4.05 & 4.07 & 2.31\\\\\n",
       "\t 0.29 & Premium & I & VS2 & 62.4 & 58 & 334 & 4.20 & 4.23 & 2.63\\\\\n",
       "\t 0.31 & Good    & J & SI2 & 63.3 & 58 & 335 & 4.34 & 4.35 & 2.75\\\\\n",
       "\\end{tabular}\n"
      ],
      "text/markdown": [
       "\n",
       "A data.frame: 5 × 10\n",
       "\n",
       "| carat &lt;dbl&gt; | cut &lt;ord&gt; | color &lt;ord&gt; | clarity &lt;ord&gt; | depth &lt;dbl&gt; | table &lt;dbl&gt; | price &lt;int&gt; | x &lt;dbl&gt; | y &lt;dbl&gt; | z &lt;dbl&gt; |\n",
       "|---|---|---|---|---|---|---|---|---|---|\n",
       "| 0.23 | Ideal   | E | SI2 | 61.5 | 55 | 326 | 3.95 | 3.98 | 2.43 |\n",
       "| 0.21 | Premium | E | SI1 | 59.8 | 61 | 326 | 3.89 | 3.84 | 2.31 |\n",
       "| 0.23 | Good    | E | VS1 | 56.9 | 65 | 327 | 4.05 | 4.07 | 2.31 |\n",
       "| 0.29 | Premium | I | VS2 | 62.4 | 58 | 334 | 4.20 | 4.23 | 2.63 |\n",
       "| 0.31 | Good    | J | SI2 | 63.3 | 58 | 335 | 4.34 | 4.35 | 2.75 |\n",
       "\n"
      ],
      "text/plain": [
       "  carat cut     color clarity depth table price x    y    z   \n",
       "1 0.23  Ideal   E     SI2     61.5  55    326   3.95 3.98 2.43\n",
       "2 0.21  Premium E     SI1     59.8  61    326   3.89 3.84 2.31\n",
       "3 0.23  Good    E     VS1     56.9  65    327   4.05 4.07 2.31\n",
       "4 0.29  Premium I     VS2     62.4  58    334   4.20 4.23 2.63\n",
       "5 0.31  Good    J     SI2     63.3  58    335   4.34 4.35 2.75"
      ]
     },
     "metadata": {},
     "output_type": "display_data"
    }
   ],
   "source": [
    "sqldf(\"SELECT * FROM diamond limit 5\")"
   ]
  },
  {
   "cell_type": "code",
   "execution_count": 249,
   "id": "562763ae",
   "metadata": {
    "vscode": {
     "languageId": "r"
    }
   },
   "outputs": [
    {
     "data": {
      "text/html": [
       "<table class=\"dataframe\">\n",
       "<caption>A data.frame: 5 × 2</caption>\n",
       "<thead>\n",
       "\t<tr><th scope=col>carat</th><th scope=col>detail</th></tr>\n",
       "\t<tr><th scope=col>&lt;dbl&gt;</th><th scope=col>&lt;chr&gt;</th></tr>\n",
       "</thead>\n",
       "<tbody>\n",
       "\t<tr><td>0.23</td><td>small size     </td></tr>\n",
       "\t<tr><td>0.31</td><td>small size     </td></tr>\n",
       "\t<tr><td>0.70</td><td>medium size    </td></tr>\n",
       "\t<tr><td>1.01</td><td>large size     </td></tr>\n",
       "\t<tr><td>1.50</td><td>very large size</td></tr>\n",
       "</tbody>\n",
       "</table>\n"
      ],
      "text/latex": [
       "A data.frame: 5 × 2\n",
       "\\begin{tabular}{ll}\n",
       " carat & detail\\\\\n",
       " <dbl> & <chr>\\\\\n",
       "\\hline\n",
       "\t 0.23 & small size     \\\\\n",
       "\t 0.31 & small size     \\\\\n",
       "\t 0.70 & medium size    \\\\\n",
       "\t 1.01 & large size     \\\\\n",
       "\t 1.50 & very large size\\\\\n",
       "\\end{tabular}\n"
      ],
      "text/markdown": [
       "\n",
       "A data.frame: 5 × 2\n",
       "\n",
       "| carat &lt;dbl&gt; | detail &lt;chr&gt; |\n",
       "|---|---|\n",
       "| 0.23 | small size      |\n",
       "| 0.31 | small size      |\n",
       "| 0.70 | medium size     |\n",
       "| 1.01 | large size      |\n",
       "| 1.50 | very large size |\n",
       "\n"
      ],
      "text/plain": [
       "  carat detail         \n",
       "1 0.23  small size     \n",
       "2 0.31  small size     \n",
       "3 0.70  medium size    \n",
       "4 1.01  large size     \n",
       "5 1.50  very large size"
      ]
     },
     "metadata": {},
     "output_type": "display_data"
    },
    {
     "data": {
      "text/html": [
       "<table class=\"dataframe\">\n",
       "<caption>A data.frame: 5 × 3</caption>\n",
       "<thead>\n",
       "\t<tr><th scope=col>carat</th><th scope=col>price</th><th scope=col>detail</th></tr>\n",
       "\t<tr><th scope=col>&lt;dbl&gt;</th><th scope=col>&lt;int&gt;</th><th scope=col>&lt;chr&gt;</th></tr>\n",
       "</thead>\n",
       "<tbody>\n",
       "\t<tr><td>0.23</td><td>326</td><td>small size</td></tr>\n",
       "\t<tr><td>0.23</td><td>327</td><td>small size</td></tr>\n",
       "\t<tr><td>0.31</td><td>335</td><td>small size</td></tr>\n",
       "\t<tr><td>0.23</td><td>338</td><td>small size</td></tr>\n",
       "\t<tr><td>0.23</td><td>340</td><td>small size</td></tr>\n",
       "</tbody>\n",
       "</table>\n"
      ],
      "text/latex": [
       "A data.frame: 5 × 3\n",
       "\\begin{tabular}{lll}\n",
       " carat & price & detail\\\\\n",
       " <dbl> & <int> & <chr>\\\\\n",
       "\\hline\n",
       "\t 0.23 & 326 & small size\\\\\n",
       "\t 0.23 & 327 & small size\\\\\n",
       "\t 0.31 & 335 & small size\\\\\n",
       "\t 0.23 & 338 & small size\\\\\n",
       "\t 0.23 & 340 & small size\\\\\n",
       "\\end{tabular}\n"
      ],
      "text/markdown": [
       "\n",
       "A data.frame: 5 × 3\n",
       "\n",
       "| carat &lt;dbl&gt; | price &lt;int&gt; | detail &lt;chr&gt; |\n",
       "|---|---|---|\n",
       "| 0.23 | 326 | small size |\n",
       "| 0.23 | 327 | small size |\n",
       "| 0.31 | 335 | small size |\n",
       "| 0.23 | 338 | small size |\n",
       "| 0.23 | 340 | small size |\n",
       "\n"
      ],
      "text/plain": [
       "  carat price detail    \n",
       "1 0.23  326   small size\n",
       "2 0.23  327   small size\n",
       "3 0.31  335   small size\n",
       "4 0.23  338   small size\n",
       "5 0.23  340   small size"
      ]
     },
     "metadata": {},
     "output_type": "display_data"
    }
   ],
   "source": [
    "diamond_details <- data.frame(carat=c(0.23, 0.31, 0.7, 1.01, 1.5),\n",
    "detail = c(\"small size\", \"small size\", \"medium size\", \"large size\", \"very large size\"))\n",
    "diamond_details\n",
    "\n",
    "sqldf(\"SELECT D.carat, D.price, DD.detail FROM diamond D JOIN diamond_details DD ON D.carat=DD.carat limit 5\")"
   ]
  }
 ],
 "metadata": {
  "kernelspec": {
   "display_name": "R",
   "language": "R",
   "name": "ir"
  },
  "language_info": {
   "codemirror_mode": "r",
   "file_extension": ".r",
   "mimetype": "text/x-r-source",
   "name": "R",
   "pygments_lexer": "r",
   "version": "4.4.1"
  }
 },
 "nbformat": 4,
 "nbformat_minor": 5
}
