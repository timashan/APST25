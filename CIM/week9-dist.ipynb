{
 "cells": [
  {
   "cell_type": "code",
   "execution_count": 2,
   "id": "ab242d56",
   "metadata": {
    "vscode": {
     "languageId": "r"
    }
   },
   "outputs": [
    {
     "data": {
      "text/plain": [
       "\n",
       "\tAsymptotic one-sample Kolmogorov-Smirnov test\n",
       "\n",
       "data:  x\n",
       "D = 0.5, p-value < 2.2e-16\n",
       "alternative hypothesis: two-sided\n"
      ]
     },
     "metadata": {},
     "output_type": "display_data"
    },
    {
     "data": {
      "text/plain": [
       "\n",
       "\tAsymptotic one-sample Kolmogorov-Smirnov test\n",
       "\n",
       "data:  x\n",
       "D = 0.006415, p-value = 0.8051\n",
       "alternative hypothesis: two-sided\n"
      ]
     },
     "metadata": {},
     "output_type": "display_data"
    },
    {
     "data": {
      "image/png": "[encoded data removed]",
      "text/plain": [
       "Plot with title \"Histogram of x\""
      ]
     },
     "metadata": {
      "image/png": {
       "height": 420,
       "width": 420
      }
     },
     "output_type": "display_data"
    }
   ],
   "source": [
    "x<-runif(10000)\n",
    "par(bg=\"white\")\n",
    "hist(x)\n",
    "ks.test(x, \"pnorm\",0,1)\n",
    "ks.test(x, \"punif\",0,1)"
   ]
  },
  {
   "cell_type": "code",
   "execution_count": 3,
   "id": "41647bb5",
   "metadata": {
    "vscode": {
     "languageId": "r"
    }
   },
   "outputs": [
    {
     "data": {
      "text/plain": [
       "\n",
       "\tAsymptotic one-sample Kolmogorov-Smirnov test\n",
       "\n",
       "data:  x\n",
       "D = 0.0098391, p-value = 0.2877\n",
       "alternative hypothesis: two-sided\n"
      ]
     },
     "metadata": {},
     "output_type": "display_data"
    },
    {
     "data": {
      "text/plain": [
       "\n",
       "\tAsymptotic one-sample Kolmogorov-Smirnov test\n",
       "\n",
       "data:  x\n",
       "D = 0.4984, p-value < 2.2e-16\n",
       "alternative hypothesis: two-sided\n"
      ]
     },
     "metadata": {},
     "output_type": "display_data"
    },
    {
     "data": {
      "image/png": "[encoded data removed]",
      "text/plain": [
       "Plot with title \"Histogram of x\""
      ]
     },
     "metadata": {
      "image/png": {
       "height": 420,
       "width": 420
      }
     },
     "output_type": "display_data"
    }
   ],
   "source": [
    "x<-rnorm(10000)\n",
    "par(bg=\"white\")\n",
    "hist(x)\n",
    "ks.test(x, \"pnorm\")\n",
    "ks.test(x, \"punif\",0,1)"
   ]
  },
  {
   "cell_type": "code",
   "execution_count": 4,
   "id": "9ed84af0",
   "metadata": {
    "vscode": {
     "languageId": "r"
    }
   },
   "outputs": [
    {
     "data": {
      "text/plain": [
       "\n",
       "\tChi-squared test for given probabilities\n",
       "\n",
       "data:  tulip\n",
       "X-squared = 27.886, df = 2, p-value = 8.803e-07\n"
      ]
     },
     "metadata": {},
     "output_type": "display_data"
    },
    {
     "data": {
      "text/plain": [
       "\n",
       "\tChi-squared test for given probabilities\n",
       "\n",
       "data:  tulip\n",
       "X-squared = 0, df = 2, p-value = 1\n"
      ]
     },
     "metadata": {},
     "output_type": "display_data"
    }
   ],
   "source": [
    "tulip = c(81,50,27)\n",
    "chisq.test(tulip, p=c(1/3,1/3,1/3))\n",
    "\n",
    "tulip = c(5,5,5)\n",
    "chisq.test(tulip, p=c(1/3,1/3,1/3))"
   ]
  },
  {
   "cell_type": "code",
   "execution_count": 5,
   "id": "a9e5dddd",
   "metadata": {
    "vscode": {
     "languageId": "r"
    }
   },
   "outputs": [
    {
     "data": {
      "text/html": [
       "6753.63636363636"
      ],
      "text/latex": [
       "6753.63636363636"
      ],
      "text/markdown": [
       "6753.63636363636"
      ],
      "text/plain": [
       "[1] 6753.636"
      ]
     },
     "metadata": {},
     "output_type": "display_data"
    },
    {
     "data": {
      "text/plain": [
       "\n",
       "\tAnderson-Darling normality test\n",
       "\n",
       "data:  x\n",
       "A = 0.22855, p-value = 0.7499\n"
      ]
     },
     "metadata": {},
     "output_type": "display_data"
    }
   ],
   "source": [
    "library(nortest)\n",
    "\n",
    "x<-(c(5260, 5470, 5640, 6180, 6390, 6515, 6805, 7515, 7515, 8230, 8770))\n",
    "mean(x)\n",
    "ad.test(x)"
   ]
  },
  {
   "cell_type": "code",
   "execution_count": 7,
   "id": "126aaf18",
   "metadata": {
    "vscode": {
     "languageId": "r"
    }
   },
   "outputs": [
    {
     "data": {
      "text/plain": [
       "\n",
       "\tOne Sample t-test\n",
       "\n",
       "data:  x\n",
       "t = -2.8208, df = 10, p-value = 0.01814\n",
       "alternative hypothesis: true mean is not equal to 7725\n",
       "95 percent confidence interval:\n",
       " 5986.348 7520.925\n",
       "sample estimates:\n",
       "mean of x \n",
       " 6753.636 \n"
      ]
     },
     "metadata": {},
     "output_type": "display_data"
    }
   ],
   "source": [
    "t.test(x, mu=7725)"
   ]
  },
  {
   "cell_type": "code",
   "execution_count": 11,
   "id": "fe036c59",
   "metadata": {
    "vscode": {
     "languageId": "r"
    }
   },
   "outputs": [
    {
     "data": {
      "text/plain": [
       "\n",
       "\tWelch Two Sample t-test\n",
       "\n",
       "data:  starch_males and starch_females\n",
       "t = 1.8879, df = 19.13, p-value = 0.07431\n",
       "alternative hypothesis: true difference in means is not equal to 0\n",
       "95 percent confidence interval:\n",
       " -112.1202 2185.2111\n",
       "sample estimates:\n",
       "mean of x mean of y \n",
       " 6753.636  5717.091 \n"
      ]
     },
     "metadata": {},
     "output_type": "display_data"
    }
   ],
   "source": [
    "starch_males <- c(5260,5470,5640, 6180, 6390, 6515, 6805,\n",
    "7515,7515,8230,8770)\n",
    "starch_females <- c(4620,5400,6420, 5280, 6390, 5678,4560,\n",
    "7600,4750, 3690,8500)\n",
    "t.test(starch_males,starch_females)"
   ]
  },
  {
   "cell_type": "code",
   "execution_count": 16,
   "id": "1e8fda72",
   "metadata": {
    "vscode": {
     "languageId": "r"
    }
   },
   "outputs": [
    {
     "data": {
      "text/plain": [
       "\n",
       "\tWelch Two Sample t-test\n",
       "\n",
       "data:  Heights by Gender\n",
       "t = 6.3785, df = 17.282, p-value = 6.352e-06\n",
       "alternative hypothesis: true difference in means between group 1 and group 2 is not equal to 0\n",
       "95 percent confidence interval:\n",
       " 14.32632 28.46156\n",
       "sample estimates:\n",
       "mean in group 1 mean in group 2 \n",
       "       165.7273        144.3333 \n"
      ]
     },
     "metadata": {},
     "output_type": "display_data"
    }
   ],
   "source": [
    "Heights <- c(141,133,145,155,153,167,175,164,154,164,147,148,169,173,135,155,\n",
    "159,167, 176,142)\n",
    "\n",
    "Gender <- c(2,2,2,2,2,1,1,1,1,1,2,2,1,1,2,1,1,1,1,2)\n",
    "t.test(Heights~Gender)"
   ]
  },
  {
   "cell_type": "code",
   "execution_count": 32,
   "id": "bdf62725",
   "metadata": {
    "vscode": {
     "languageId": "r"
    }
   },
   "outputs": [
    {
     "data": {
      "text/plain": [
       "\n",
       "\tAnderson-Darling normality test\n",
       "\n",
       "data:  diff\n",
       "A = 0.38645, p-value = 0.3181\n"
      ]
     },
     "metadata": {},
     "output_type": "display_data"
    },
    {
     "data": {
      "text/plain": [
       "\n",
       "\tPaired t-test\n",
       "\n",
       "data:  x1 and x2\n",
       "t = -4.5456, df = 9, p-value = 0.001395\n",
       "alternative hypothesis: true mean difference is not equal to 0\n",
       "95 percent confidence interval:\n",
       " -14.826796  -4.973204\n",
       "sample estimates:\n",
       "mean difference \n",
       "           -9.9 \n"
      ]
     },
     "metadata": {},
     "output_type": "display_data"
    }
   ],
   "source": [
    "x1 <- c(45,56,72,58,71,65,69,58,47,54)\n",
    "x2<-c(65,63,80,68,78,69,79,80,59,53)\n",
    "diff <- x2-x1\n",
    "ad.test(diff)\n",
    "\n",
    "t.test(x1, x2, paired = TRUE)"
   ]
  },
  {
   "cell_type": "code",
   "execution_count": 36,
   "id": "cba30c32",
   "metadata": {
    "vscode": {
     "languageId": "r"
    }
   },
   "outputs": [
    {
     "data": {
      "text/plain": [
       "            Df Sum Sq Mean Sq F value   Pr(>F)    \n",
       "Drug         2  48.44  24.222   14.11 0.000358 ***\n",
       "Residuals   15  25.76   1.717                     \n",
       "---\n",
       "Signif. codes:  0 '***' 0.001 '**' 0.01 '*' 0.05 '.' 0.1 ' ' 1"
      ]
     },
     "metadata": {},
     "output_type": "display_data"
    }
   ],
   "source": [
    "Score <- c(10,8.6,6.8,7.6,6.4,5.4,4.6,3.8,3.4,2.8, 3.2,3.0,6,7.4,5.4,4.2,3.6,4.2)\n",
    "Drug <- c(\"A\",\"A\",\"A\",\"A\",\"A\",\"A\", \"B\",\"B\",\"B\", \"B\",\"B\", \"B\", \"C\", \"C\",\"C\",\"C\",\"C\",\"C\")\n",
    "DRUG_Anova <- aov(Score~Drug)\n",
    "summary(DRUG_Anova)"
   ]
  },
  {
   "cell_type": "code",
   "execution_count": null,
   "id": "96eaf3c2",
   "metadata": {
    "vscode": {
     "languageId": "r"
    }
   },
   "outputs": [
    {
     "data": {
      "text/plain": [
       "  Tukey multiple comparisons of means\n",
       "    50% family-wise confidence level\n",
       "\n",
       "Fit: aov(formula = Score ~ Drug)\n",
       "\n",
       "$Drug\n",
       "         diff        lwr       upr     p adj\n",
       "B-A -4.000000 -4.8695628 -3.130437 0.0002539\n",
       "C-A -2.333333 -3.2028961 -1.463771 0.0194872\n",
       "C-B  1.666667  0.7971039  2.536229 0.1031077\n"
      ]
     },
     "metadata": {},
     "output_type": "display_data"
    },
    {
     "ename": "",
     "evalue": "",
     "output_type": "error",
     "traceback": [
      "\u001b[1;31mThe Kernel crashed while executing code in the current cell or a previous cell. \n",
      "\u001b[1;31mPlease review the code in the cell(s) to identify a possible cause of the failure. \n",
      "\u001b[1;31mClick <a href='https://aka.ms/vscodeJupyterKernelCrash'>here</a> for more info. \n",
      "\u001b[1;31mView Jupyter <a href='command:jupyter.viewOutput'>log</a> for further details."
     ]
    }
   ],
   "source": [
    "TukeyHSD(DRUG_Anova, conf.level = 0.5)"
   ]
  }
 ],
 "metadata": {
  "kernelspec": {
   "display_name": "R",
   "language": "R",
   "name": "ir"
  },
  "language_info": {
   "codemirror_mode": "r",
   "file_extension": ".r",
   "mimetype": "text/x-r-source",
   "name": "R",
   "pygments_lexer": "r",
   "version": "4.4.1"
  }
 },
 "nbformat": 4,
 "nbformat_minor": 5
}
