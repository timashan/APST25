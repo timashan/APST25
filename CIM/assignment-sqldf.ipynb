{
 "cells": [
  {
   "cell_type": "code",
   "execution_count": 1,
   "id": "88565725",
   "metadata": {
    "vscode": {
     "languageId": "r"
    }
   },
   "outputs": [
    {
     "name": "stderr",
     "output_type": "stream",
     "text": [
      "Warning message:\n",
      "\"package 'sqldf' was built under R version 4.4.3\"\n",
      "Loading required package: gsubfn\n",
      "\n",
      "Warning message:\n",
      "\"package 'gsubfn' was built under R version 4.4.3\"\n",
      "Loading required package: proto\n",
      "\n",
      "Warning message:\n",
      "\"package 'proto' was built under R version 4.4.3\"\n",
      "Loading required package: RSQLite\n",
      "\n",
      "Warning message:\n",
      "\"package 'RSQLite' was built under R version 4.4.3\"\n"
     ]
    },
    {
     "name": "stdout",
     "output_type": "stream",
     "text": [
      "  airline origin price\n",
      "1      AA    JFK   300\n",
      "2      DL    ATL   350\n",
      "3      UA    ORD   200\n"
     ]
    }
   ],
   "source": [
    "library(sqldf)\n",
    "\n",
    "Flights <- data.frame(\n",
    "  flight_id = c(1, 2, 3),\n",
    "  airline = c(\"AA\", \"DL\", \"UA\"),\n",
    "  origin = c(\"JFK\", \"ATL\", \"ORD\"),\n",
    "  destination = c(\"LAX\", \"SFO\", \"MIA\"),\n",
    "  departure_time = c(\"2024-06-01 08:00:00\", \"2024-06-01 09:30:00\", \"2024-06-01 07:00:00\"),\n",
    "  arrival_time = c(\"2024-06-01 11:00:00\", \"2024-06-01 12:00:00\", \"2024-06-01 11:30:00\"),\n",
    "  flight_duration = c(6.0, 5.5, 3.5),\n",
    "  distance = c(2475, 2139, 1197),\n",
    "  price = c(300, 350, 200)\n",
    ")\n",
    "\n",
    "Airports <- data.frame(\n",
    "  airport_code = c(\"JFK\", \"LAX\", \"ATL\", \"SFO\", \"ORD\", \"MIA\"),\n",
    "  airport_name = c(\"John F. Kennedy Intl\", \"Los Angeles Intl\", \"Hartsfield-Jackson\",\n",
    "                   \"San Francisco Intl\", \"O'Hare Intl\", \"Miami Intl\"),\n",
    "  city = c(\"New York\", \"Los Angeles\", \"Atlanta\", \"San Francisco\", \"Chicago\", \"Miami\"),\n",
    "  state = c(\"NY\", \"CA\", \"GA\", \"CA\", \"IL\", \"FL\"),\n",
    "  country = rep(\"USA\", 6)\n",
    ")\n",
    "\n",
    "result <- sqldf(\"SELECT airline, origin, price FROM Flights;\")\n",
    "print(result)"
   ]
  },
  {
   "cell_type": "code",
   "execution_count": 2,
   "id": "cf1f6a3d",
   "metadata": {
    "vscode": {
     "languageId": "r"
    }
   },
   "outputs": [
    {
     "data": {
      "text/html": [
       "<table class=\"dataframe\">\n",
       "<caption>A data.frame: 3 × 9</caption>\n",
       "<thead>\n",
       "\t<tr><th scope=col>flight_id</th><th scope=col>airline</th><th scope=col>origin</th><th scope=col>destination</th><th scope=col>departure_time</th><th scope=col>arrival_time</th><th scope=col>flight_duration</th><th scope=col>distance</th><th scope=col>price</th></tr>\n",
       "\t<tr><th scope=col>&lt;dbl&gt;</th><th scope=col>&lt;chr&gt;</th><th scope=col>&lt;chr&gt;</th><th scope=col>&lt;chr&gt;</th><th scope=col>&lt;chr&gt;</th><th scope=col>&lt;chr&gt;</th><th scope=col>&lt;dbl&gt;</th><th scope=col>&lt;dbl&gt;</th><th scope=col>&lt;dbl&gt;</th></tr>\n",
       "</thead>\n",
       "<tbody>\n",
       "\t<tr><td>1</td><td>AA</td><td>JFK</td><td>LAX</td><td>2024-06-01 08:00:00</td><td>2024-06-01 11:00:00</td><td>6.0</td><td>2475</td><td>300</td></tr>\n",
       "\t<tr><td>2</td><td>DL</td><td>ATL</td><td>SFO</td><td>2024-06-01 09:30:00</td><td>2024-06-01 12:00:00</td><td>5.5</td><td>2139</td><td>350</td></tr>\n",
       "\t<tr><td>3</td><td>UA</td><td>ORD</td><td>MIA</td><td>2024-06-01 07:00:00</td><td>2024-06-01 11:30:00</td><td>3.5</td><td>1197</td><td>200</td></tr>\n",
       "</tbody>\n",
       "</table>\n"
      ],
      "text/latex": [
       "A data.frame: 3 × 9\n",
       "\\begin{tabular}{lllllllll}\n",
       " flight\\_id & airline & origin & destination & departure\\_time & arrival\\_time & flight\\_duration & distance & price\\\\\n",
       " <dbl> & <chr> & <chr> & <chr> & <chr> & <chr> & <dbl> & <dbl> & <dbl>\\\\\n",
       "\\hline\n",
       "\t 1 & AA & JFK & LAX & 2024-06-01 08:00:00 & 2024-06-01 11:00:00 & 6.0 & 2475 & 300\\\\\n",
       "\t 2 & DL & ATL & SFO & 2024-06-01 09:30:00 & 2024-06-01 12:00:00 & 5.5 & 2139 & 350\\\\\n",
       "\t 3 & UA & ORD & MIA & 2024-06-01 07:00:00 & 2024-06-01 11:30:00 & 3.5 & 1197 & 200\\\\\n",
       "\\end{tabular}\n"
      ],
      "text/markdown": [
       "\n",
       "A data.frame: 3 × 9\n",
       "\n",
       "| flight_id &lt;dbl&gt; | airline &lt;chr&gt; | origin &lt;chr&gt; | destination &lt;chr&gt; | departure_time &lt;chr&gt; | arrival_time &lt;chr&gt; | flight_duration &lt;dbl&gt; | distance &lt;dbl&gt; | price &lt;dbl&gt; |\n",
       "|---|---|---|---|---|---|---|---|---|\n",
       "| 1 | AA | JFK | LAX | 2024-06-01 08:00:00 | 2024-06-01 11:00:00 | 6.0 | 2475 | 300 |\n",
       "| 2 | DL | ATL | SFO | 2024-06-01 09:30:00 | 2024-06-01 12:00:00 | 5.5 | 2139 | 350 |\n",
       "| 3 | UA | ORD | MIA | 2024-06-01 07:00:00 | 2024-06-01 11:30:00 | 3.5 | 1197 | 200 |\n",
       "\n"
      ],
      "text/plain": [
       "  flight_id airline origin destination departure_time      arrival_time       \n",
       "1 1         AA      JFK    LAX         2024-06-01 08:00:00 2024-06-01 11:00:00\n",
       "2 2         DL      ATL    SFO         2024-06-01 09:30:00 2024-06-01 12:00:00\n",
       "3 3         UA      ORD    MIA         2024-06-01 07:00:00 2024-06-01 11:30:00\n",
       "  flight_duration distance price\n",
       "1 6.0             2475     300  \n",
       "2 5.5             2139     350  \n",
       "3 3.5             1197     200  "
      ]
     },
     "metadata": {},
     "output_type": "display_data"
    }
   ],
   "source": [
    "Flights"
   ]
  },
  {
   "cell_type": "code",
   "execution_count": 7,
   "id": "6bd23bb9",
   "metadata": {
    "vscode": {
     "languageId": "r"
    }
   },
   "outputs": [
    {
     "data": {
      "text/html": [
       "<table class=\"dataframe\">\n",
       "<caption>A data.frame: 3 × 3</caption>\n",
       "<thead>\n",
       "\t<tr><th scope=col>flight_id</th><th scope=col>origin</th><th scope=col>destination</th></tr>\n",
       "\t<tr><th scope=col>&lt;dbl&gt;</th><th scope=col>&lt;chr&gt;</th><th scope=col>&lt;chr&gt;</th></tr>\n",
       "</thead>\n",
       "<tbody>\n",
       "\t<tr><td>1</td><td>John F. Kennedy Intl</td><td>Los Angeles Intl  </td></tr>\n",
       "\t<tr><td>2</td><td>Hartsfield-Jackson  </td><td>San Francisco Intl</td></tr>\n",
       "\t<tr><td>3</td><td>O'Hare Intl         </td><td>Miami Intl        </td></tr>\n",
       "</tbody>\n",
       "</table>\n"
      ],
      "text/latex": [
       "A data.frame: 3 × 3\n",
       "\\begin{tabular}{lll}\n",
       " flight\\_id & origin & destination\\\\\n",
       " <dbl> & <chr> & <chr>\\\\\n",
       "\\hline\n",
       "\t 1 & John F. Kennedy Intl & Los Angeles Intl  \\\\\n",
       "\t 2 & Hartsfield-Jackson   & San Francisco Intl\\\\\n",
       "\t 3 & O'Hare Intl          & Miami Intl        \\\\\n",
       "\\end{tabular}\n"
      ],
      "text/markdown": [
       "\n",
       "A data.frame: 3 × 3\n",
       "\n",
       "| flight_id &lt;dbl&gt; | origin &lt;chr&gt; | destination &lt;chr&gt; |\n",
       "|---|---|---|\n",
       "| 1 | John F. Kennedy Intl | Los Angeles Intl   |\n",
       "| 2 | Hartsfield-Jackson   | San Francisco Intl |\n",
       "| 3 | O'Hare Intl          | Miami Intl         |\n",
       "\n"
      ],
      "text/plain": [
       "  flight_id origin               destination       \n",
       "1 1         John F. Kennedy Intl Los Angeles Intl  \n",
       "2 2         Hartsfield-Jackson   San Francisco Intl\n",
       "3 3         O'Hare Intl          Miami Intl        "
      ]
     },
     "metadata": {},
     "output_type": "display_data"
    }
   ],
   "source": [
    "sqldf(\"\n",
    "  SELECT f.flight_id, a1.airport_name AS origin, a2.airport_name AS destination\n",
    "  FROM Flights f\n",
    "  JOIN Airports a1 ON f.origin = a1.airport_code\n",
    "  JOIN Airports a2 ON f.destination = a2.airport_code\n",
    "\")"
   ]
  },
  {
   "cell_type": "code",
   "execution_count": 6,
   "id": "13c10e46",
   "metadata": {
    "vscode": {
     "languageId": "r"
    }
   },
   "outputs": [
    {
     "data": {
      "text/html": [
       "<table class=\"dataframe\">\n",
       "<caption>A data.frame: 1 × 1</caption>\n",
       "<thead>\n",
       "\t<tr><th scope=col>average_price</th></tr>\n",
       "\t<tr><th scope=col>&lt;dbl&gt;</th></tr>\n",
       "</thead>\n",
       "<tbody>\n",
       "\t<tr><td>283.3333</td></tr>\n",
       "</tbody>\n",
       "</table>\n"
      ],
      "text/latex": [
       "A data.frame: 1 × 1\n",
       "\\begin{tabular}{l}\n",
       " average\\_price\\\\\n",
       " <dbl>\\\\\n",
       "\\hline\n",
       "\t 283.3333\\\\\n",
       "\\end{tabular}\n"
      ],
      "text/markdown": [
       "\n",
       "A data.frame: 1 × 1\n",
       "\n",
       "| average_price &lt;dbl&gt; |\n",
       "|---|\n",
       "| 283.3333 |\n",
       "\n"
      ],
      "text/plain": [
       "  average_price\n",
       "1 283.3333     "
      ]
     },
     "metadata": {},
     "output_type": "display_data"
    }
   ],
   "source": [
    "sqldf(\"SELECT AVG(price) AS average_price FROM Flights\")"
   ]
  },
  {
   "cell_type": "code",
   "execution_count": 20,
   "id": "84b66e52",
   "metadata": {
    "vscode": {
     "languageId": "r"
    }
   },
   "outputs": [
    {
     "data": {
      "text/html": [
       "<table class=\"dataframe\">\n",
       "<caption>A data.frame: 3 × 2</caption>\n",
       "<thead>\n",
       "\t<tr><th scope=col>origin</th><th scope=col>num_flights</th></tr>\n",
       "\t<tr><th scope=col>&lt;chr&gt;</th><th scope=col>&lt;int&gt;</th></tr>\n",
       "</thead>\n",
       "<tbody>\n",
       "\t<tr><td>ATL</td><td>1</td></tr>\n",
       "\t<tr><td>JFK</td><td>1</td></tr>\n",
       "\t<tr><td>ORD</td><td>1</td></tr>\n",
       "</tbody>\n",
       "</table>\n"
      ],
      "text/latex": [
       "A data.frame: 3 × 2\n",
       "\\begin{tabular}{ll}\n",
       " origin & num\\_flights\\\\\n",
       " <chr> & <int>\\\\\n",
       "\\hline\n",
       "\t ATL & 1\\\\\n",
       "\t JFK & 1\\\\\n",
       "\t ORD & 1\\\\\n",
       "\\end{tabular}\n"
      ],
      "text/markdown": [
       "\n",
       "A data.frame: 3 × 2\n",
       "\n",
       "| origin &lt;chr&gt; | num_flights &lt;int&gt; |\n",
       "|---|---|\n",
       "| ATL | 1 |\n",
       "| JFK | 1 |\n",
       "| ORD | 1 |\n",
       "\n"
      ],
      "text/plain": [
       "  origin num_flights\n",
       "1 ATL    1          \n",
       "2 JFK    1          \n",
       "3 ORD    1          "
      ]
     },
     "metadata": {},
     "output_type": "display_data"
    }
   ],
   "source": [
    "sqldf(\"SELECT origin, COUNT(*) AS num_flights FROM Flights GROUP BY origin\")"
   ]
  },
  {
   "cell_type": "code",
   "execution_count": 24,
   "id": "ddf99731",
   "metadata": {
    "vscode": {
     "languageId": "r"
    }
   },
   "outputs": [
    {
     "data": {
      "text/html": [
       "<table class=\"dataframe\">\n",
       "<caption>A data.frame: 3 × 3</caption>\n",
       "<thead>\n",
       "\t<tr><th scope=col>flight_id</th><th scope=col>origin_airport</th><th scope=col>destination_airport</th></tr>\n",
       "\t<tr><th scope=col>&lt;dbl&gt;</th><th scope=col>&lt;chr&gt;</th><th scope=col>&lt;chr&gt;</th></tr>\n",
       "</thead>\n",
       "<tbody>\n",
       "\t<tr><td>1</td><td>John F. Kennedy Intl</td><td>Los Angeles Intl  </td></tr>\n",
       "\t<tr><td>2</td><td>Hartsfield-Jackson  </td><td>San Francisco Intl</td></tr>\n",
       "\t<tr><td>3</td><td>O'Hare Intl         </td><td>Miami Intl        </td></tr>\n",
       "</tbody>\n",
       "</table>\n"
      ],
      "text/latex": [
       "A data.frame: 3 × 3\n",
       "\\begin{tabular}{lll}\n",
       " flight\\_id & origin\\_airport & destination\\_airport\\\\\n",
       " <dbl> & <chr> & <chr>\\\\\n",
       "\\hline\n",
       "\t 1 & John F. Kennedy Intl & Los Angeles Intl  \\\\\n",
       "\t 2 & Hartsfield-Jackson   & San Francisco Intl\\\\\n",
       "\t 3 & O'Hare Intl          & Miami Intl        \\\\\n",
       "\\end{tabular}\n"
      ],
      "text/markdown": [
       "\n",
       "A data.frame: 3 × 3\n",
       "\n",
       "| flight_id &lt;dbl&gt; | origin_airport &lt;chr&gt; | destination_airport &lt;chr&gt; |\n",
       "|---|---|---|\n",
       "| 1 | John F. Kennedy Intl | Los Angeles Intl   |\n",
       "| 2 | Hartsfield-Jackson   | San Francisco Intl |\n",
       "| 3 | O'Hare Intl          | Miami Intl         |\n",
       "\n"
      ],
      "text/plain": [
       "  flight_id origin_airport       destination_airport\n",
       "1 1         John F. Kennedy Intl Los Angeles Intl   \n",
       "2 2         Hartsfield-Jackson   San Francisco Intl \n",
       "3 3         O'Hare Intl          Miami Intl         "
      ]
     },
     "metadata": {},
     "output_type": "display_data"
    }
   ],
   "source": [
    "sqldf(\"SELECT \n",
    "  f.flight_id,\n",
    "  a1.airport_name AS origin_airport,\n",
    "  a2.airport_name AS destination_airport\n",
    "FROM Flights f\n",
    "JOIN Airports a1 ON f.origin = a1.airport_code\n",
    "JOIN Airports a2 ON f.destination = a2.airport_code;\")"
   ]
  },
  {
   "cell_type": "code",
   "execution_count": 27,
   "id": "7a114eac",
   "metadata": {
    "vscode": {
     "languageId": "r"
    }
   },
   "outputs": [
    {
     "data": {
      "text/html": [
       "<table class=\"dataframe\">\n",
       "<caption>A data.frame: 3 × 9</caption>\n",
       "<thead>\n",
       "\t<tr><th scope=col>flight_id</th><th scope=col>airline</th><th scope=col>origin</th><th scope=col>destination</th><th scope=col>departure_time</th><th scope=col>arrival_time</th><th scope=col>flight_duration</th><th scope=col>distance</th><th scope=col>price</th></tr>\n",
       "\t<tr><th scope=col>&lt;dbl&gt;</th><th scope=col>&lt;chr&gt;</th><th scope=col>&lt;chr&gt;</th><th scope=col>&lt;chr&gt;</th><th scope=col>&lt;chr&gt;</th><th scope=col>&lt;chr&gt;</th><th scope=col>&lt;dbl&gt;</th><th scope=col>&lt;dbl&gt;</th><th scope=col>&lt;dbl&gt;</th></tr>\n",
       "</thead>\n",
       "<tbody>\n",
       "\t<tr><td>1</td><td>AA</td><td>JFK</td><td>LAX</td><td>2024-06-01 08:00:00</td><td>2024-06-01 11:00:00</td><td>6.0</td><td>2475</td><td>300</td></tr>\n",
       "\t<tr><td>2</td><td>DL</td><td>ATL</td><td>SFO</td><td>2024-06-01 09:30:00</td><td>2024-06-01 12:00:00</td><td>5.5</td><td>2139</td><td>350</td></tr>\n",
       "\t<tr><td>3</td><td>UA</td><td>ORD</td><td>MIA</td><td>2024-06-01 07:00:00</td><td>2024-06-01 11:30:00</td><td>3.5</td><td>1197</td><td>200</td></tr>\n",
       "</tbody>\n",
       "</table>\n"
      ],
      "text/latex": [
       "A data.frame: 3 × 9\n",
       "\\begin{tabular}{lllllllll}\n",
       " flight\\_id & airline & origin & destination & departure\\_time & arrival\\_time & flight\\_duration & distance & price\\\\\n",
       " <dbl> & <chr> & <chr> & <chr> & <chr> & <chr> & <dbl> & <dbl> & <dbl>\\\\\n",
       "\\hline\n",
       "\t 1 & AA & JFK & LAX & 2024-06-01 08:00:00 & 2024-06-01 11:00:00 & 6.0 & 2475 & 300\\\\\n",
       "\t 2 & DL & ATL & SFO & 2024-06-01 09:30:00 & 2024-06-01 12:00:00 & 5.5 & 2139 & 350\\\\\n",
       "\t 3 & UA & ORD & MIA & 2024-06-01 07:00:00 & 2024-06-01 11:30:00 & 3.5 & 1197 & 200\\\\\n",
       "\\end{tabular}\n"
      ],
      "text/markdown": [
       "\n",
       "A data.frame: 3 × 9\n",
       "\n",
       "| flight_id &lt;dbl&gt; | airline &lt;chr&gt; | origin &lt;chr&gt; | destination &lt;chr&gt; | departure_time &lt;chr&gt; | arrival_time &lt;chr&gt; | flight_duration &lt;dbl&gt; | distance &lt;dbl&gt; | price &lt;dbl&gt; |\n",
       "|---|---|---|---|---|---|---|---|---|\n",
       "| 1 | AA | JFK | LAX | 2024-06-01 08:00:00 | 2024-06-01 11:00:00 | 6.0 | 2475 | 300 |\n",
       "| 2 | DL | ATL | SFO | 2024-06-01 09:30:00 | 2024-06-01 12:00:00 | 5.5 | 2139 | 350 |\n",
       "| 3 | UA | ORD | MIA | 2024-06-01 07:00:00 | 2024-06-01 11:30:00 | 3.5 | 1197 | 200 |\n",
       "\n"
      ],
      "text/plain": [
       "  flight_id airline origin destination departure_time      arrival_time       \n",
       "1 1         AA      JFK    LAX         2024-06-01 08:00:00 2024-06-01 11:00:00\n",
       "2 2         DL      ATL    SFO         2024-06-01 09:30:00 2024-06-01 12:00:00\n",
       "3 3         UA      ORD    MIA         2024-06-01 07:00:00 2024-06-01 11:30:00\n",
       "  flight_duration distance price\n",
       "1 6.0             2475     300  \n",
       "2 5.5             2139     350  \n",
       "3 3.5             1197     200  "
      ]
     },
     "metadata": {},
     "output_type": "display_data"
    }
   ],
   "source": [
    "sqldf(\"SELECT * from Flights\")"
   ]
  },
  {
   "cell_type": "code",
   "execution_count": 39,
   "id": "ace508f2",
   "metadata": {
    "vscode": {
     "languageId": "r"
    }
   },
   "outputs": [
    {
     "data": {
      "text/html": [
       "<table class=\"dataframe\">\n",
       "<caption>A data.frame: 1 × 9</caption>\n",
       "<thead>\n",
       "\t<tr><th scope=col>flight_id</th><th scope=col>airline</th><th scope=col>origin</th><th scope=col>destination</th><th scope=col>departure_time</th><th scope=col>arrival_time</th><th scope=col>flight_duration</th><th scope=col>distance</th><th scope=col>price</th></tr>\n",
       "\t<tr><th scope=col>&lt;dbl&gt;</th><th scope=col>&lt;chr&gt;</th><th scope=col>&lt;chr&gt;</th><th scope=col>&lt;chr&gt;</th><th scope=col>&lt;chr&gt;</th><th scope=col>&lt;chr&gt;</th><th scope=col>&lt;dbl&gt;</th><th scope=col>&lt;dbl&gt;</th><th scope=col>&lt;dbl&gt;</th></tr>\n",
       "</thead>\n",
       "<tbody>\n",
       "\t<tr><td>1</td><td>AA</td><td>JFK</td><td>LAX</td><td>2024-06-01 08:00:00</td><td>2024-06-01 11:00:00</td><td>6</td><td>2475</td><td>300</td></tr>\n",
       "</tbody>\n",
       "</table>\n"
      ],
      "text/latex": [
       "A data.frame: 1 × 9\n",
       "\\begin{tabular}{lllllllll}\n",
       " flight\\_id & airline & origin & destination & departure\\_time & arrival\\_time & flight\\_duration & distance & price\\\\\n",
       " <dbl> & <chr> & <chr> & <chr> & <chr> & <chr> & <dbl> & <dbl> & <dbl>\\\\\n",
       "\\hline\n",
       "\t 1 & AA & JFK & LAX & 2024-06-01 08:00:00 & 2024-06-01 11:00:00 & 6 & 2475 & 300\\\\\n",
       "\\end{tabular}\n"
      ],
      "text/markdown": [
       "\n",
       "A data.frame: 1 × 9\n",
       "\n",
       "| flight_id &lt;dbl&gt; | airline &lt;chr&gt; | origin &lt;chr&gt; | destination &lt;chr&gt; | departure_time &lt;chr&gt; | arrival_time &lt;chr&gt; | flight_duration &lt;dbl&gt; | distance &lt;dbl&gt; | price &lt;dbl&gt; |\n",
       "|---|---|---|---|---|---|---|---|---|\n",
       "| 1 | AA | JFK | LAX | 2024-06-01 08:00:00 | 2024-06-01 11:00:00 | 6 | 2475 | 300 |\n",
       "\n"
      ],
      "text/plain": [
       "  flight_id airline origin destination departure_time      arrival_time       \n",
       "1 1         AA      JFK    LAX         2024-06-01 08:00:00 2024-06-01 11:00:00\n",
       "  flight_duration distance price\n",
       "1 6               2475     300  "
      ]
     },
     "metadata": {},
     "output_type": "display_data"
    }
   ],
   "source": [
    "sqldf(\"SELECT * FROM Flights WHERE airline = 'AA';\")"
   ]
  }
 ],
 "metadata": {
  "kernelspec": {
   "display_name": "R",
   "language": "R",
   "name": "ir"
  },
  "language_info": {
   "codemirror_mode": "r",
   "file_extension": ".r",
   "mimetype": "text/x-r-source",
   "name": "R",
   "pygments_lexer": "r",
   "version": "4.4.1"
  }
 },
 "nbformat": 4,
 "nbformat_minor": 5
}
