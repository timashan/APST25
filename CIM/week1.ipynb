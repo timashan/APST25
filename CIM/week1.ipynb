{
 "cells": [
  {
   "cell_type": "code",
   "execution_count": 174,
   "metadata": {
    "vscode": {
     "languageId": "r"
    }
   },
   "outputs": [
    {
     "data": {
      "text/html": [
       "7"
      ],
      "text/latex": [
       "7"
      ],
      "text/markdown": [
       "7"
      ],
      "text/plain": [
       "[1] 7"
      ]
     },
     "metadata": {},
     "output_type": "display_data"
    }
   ],
   "source": [
    "1+2*3"
   ]
  },
  {
   "cell_type": "code",
   "execution_count": 175,
   "metadata": {
    "vscode": {
     "languageId": "r"
    }
   },
   "outputs": [
    {
     "data": {
      "text/html": [
       "'numeric'"
      ],
      "text/latex": [
       "'numeric'"
      ],
      "text/markdown": [
       "'numeric'"
      ],
      "text/plain": [
       "[1] \"numeric\""
      ]
     },
     "metadata": {},
     "output_type": "display_data"
    },
    {
     "data": {
      "text/html": [
       "1"
      ],
      "text/latex": [
       "1"
      ],
      "text/markdown": [
       "1"
      ],
      "text/plain": [
       "[1] 1"
      ]
     },
     "metadata": {},
     "output_type": "display_data"
    }
   ],
   "source": [
    "X<-6\n",
    "Y=8\n",
    "mode(6)\n",
    "length(X)"
   ]
  },
  {
   "cell_type": "code",
   "execution_count": 176,
   "metadata": {
    "vscode": {
     "languageId": "r"
    }
   },
   "outputs": [
    {
     "data": {
      "text/html": [
       "'numeric'"
      ],
      "text/latex": [
       "'numeric'"
      ],
      "text/markdown": [
       "'numeric'"
      ],
      "text/plain": [
       "[1] \"numeric\""
      ]
     },
     "metadata": {},
     "output_type": "display_data"
    },
    {
     "data": {
      "text/html": [
       "3"
      ],
      "text/latex": [
       "3"
      ],
      "text/markdown": [
       "3"
      ],
      "text/plain": [
       "[1] 3"
      ]
     },
     "metadata": {},
     "output_type": "display_data"
    },
    {
     "data": {
      "text/html": [
       "<style>\n",
       ".list-inline {list-style: none; margin:0; padding: 0}\n",
       ".list-inline>li {display: inline-block}\n",
       ".list-inline>li:not(:last-child)::after {content: \"\\00b7\"; padding: 0 .5ex}\n",
       "</style>\n",
       "<ol class=list-inline><li>'A'</li><li>'B'</li><li>'C'</li></ol>\n"
      ],
      "text/latex": [
       "\\begin{enumerate*}\n",
       "\\item 'A'\n",
       "\\item 'B'\n",
       "\\item 'C'\n",
       "\\end{enumerate*}\n"
      ],
      "text/markdown": [
       "1. 'A'\n",
       "2. 'B'\n",
       "3. 'C'\n",
       "\n",
       "\n"
      ],
      "text/plain": [
       "[1] \"A\" \"B\" \"C\""
      ]
     },
     "metadata": {},
     "output_type": "display_data"
    }
   ],
   "source": [
    "Z<-c(1,2,3)\n",
    "Names <- c(\"A\",\"B\",\"C\")\n",
    "mode(Z)\n",
    "length(Z)\n",
    "Names"
   ]
  },
  {
   "cell_type": "code",
   "execution_count": 177,
   "metadata": {
    "vscode": {
     "languageId": "r"
    }
   },
   "outputs": [
    {
     "data": {
      "text/html": [
       "FALSE"
      ],
      "text/latex": [
       "FALSE"
      ],
      "text/markdown": [
       "FALSE"
      ],
      "text/plain": [
       "[1] FALSE"
      ]
     },
     "metadata": {},
     "output_type": "display_data"
    },
    {
     "data": {
      "text/html": [
       "TRUE"
      ],
      "text/latex": [
       "TRUE"
      ],
      "text/markdown": [
       "TRUE"
      ],
      "text/plain": [
       "[1] TRUE"
      ]
     },
     "metadata": {},
     "output_type": "display_data"
    }
   ],
   "source": [
    "X==Y\n",
    "X!=Y"
   ]
  },
  {
   "cell_type": "code",
   "execution_count": 178,
   "metadata": {
    "vscode": {
     "languageId": "r"
    }
   },
   "outputs": [
    {
     "data": {
      "text/html": [
       "<style>\n",
       ".list-inline {list-style: none; margin:0; padding: 0}\n",
       ".list-inline>li {display: inline-block}\n",
       ".list-inline>li:not(:last-child)::after {content: \"\\00b7\"; padding: 0 .5ex}\n",
       "</style>\n",
       "<ol class=list-inline><li>5</li><li>7</li><li>9</li></ol>\n"
      ],
      "text/latex": [
       "\\begin{enumerate*}\n",
       "\\item 5\n",
       "\\item 7\n",
       "\\item 9\n",
       "\\end{enumerate*}\n"
      ],
      "text/markdown": [
       "1. 5\n",
       "2. 7\n",
       "3. 9\n",
       "\n",
       "\n"
      ],
      "text/plain": [
       "[1] 5 7 9"
      ]
     },
     "metadata": {},
     "output_type": "display_data"
    },
    {
     "data": {
      "text/html": [
       "<style>\n",
       ".list-inline {list-style: none; margin:0; padding: 0}\n",
       ".list-inline>li {display: inline-block}\n",
       ".list-inline>li:not(:last-child)::after {content: \"\\00b7\"; padding: 0 .5ex}\n",
       "</style>\n",
       "<ol class=list-inline><li>4</li><li>10</li><li>18</li></ol>\n"
      ],
      "text/latex": [
       "\\begin{enumerate*}\n",
       "\\item 4\n",
       "\\item 10\n",
       "\\item 18\n",
       "\\end{enumerate*}\n"
      ],
      "text/markdown": [
       "1. 4\n",
       "2. 10\n",
       "3. 18\n",
       "\n",
       "\n"
      ],
      "text/plain": [
       "[1]  4 10 18"
      ]
     },
     "metadata": {},
     "output_type": "display_data"
    },
    {
     "data": {
      "text/html": [
       "<style>\n",
       ".list-inline {list-style: none; margin:0; padding: 0}\n",
       ".list-inline>li {display: inline-block}\n",
       ".list-inline>li:not(:last-child)::after {content: \"\\00b7\"; padding: 0 .5ex}\n",
       "</style>\n",
       "<ol class=list-inline><li>12</li><li>6</li><li>4</li></ol>\n"
      ],
      "text/latex": [
       "\\begin{enumerate*}\n",
       "\\item 12\n",
       "\\item 6\n",
       "\\item 4\n",
       "\\end{enumerate*}\n"
      ],
      "text/markdown": [
       "1. 12\n",
       "2. 6\n",
       "3. 4\n",
       "\n",
       "\n"
      ],
      "text/plain": [
       "[1] 12  6  4"
      ]
     },
     "metadata": {},
     "output_type": "display_data"
    }
   ],
   "source": [
    "c(1,2,3) + c(4,5,6)\n",
    "c(1,2,3) * c(4,5,6)\n",
    "c(12,12,12) / c(1,2,3)"
   ]
  },
  {
   "cell_type": "code",
   "execution_count": 179,
   "metadata": {
    "vscode": {
     "languageId": "r"
    }
   },
   "outputs": [
    {
     "data": {
      "text/html": [
       "<style>\n",
       ".list-inline {list-style: none; margin:0; padding: 0}\n",
       ".list-inline>li {display: inline-block}\n",
       ".list-inline>li:not(:last-child)::after {content: \"\\00b7\"; padding: 0 .5ex}\n",
       "</style>\n",
       "<ol class=list-inline><li>'A'</li><li>'B'</li><li>'C'</li><li>'p'</li><li>'q'</li><li>'r'</li></ol>\n"
      ],
      "text/latex": [
       "\\begin{enumerate*}\n",
       "\\item 'A'\n",
       "\\item 'B'\n",
       "\\item 'C'\n",
       "\\item 'p'\n",
       "\\item 'q'\n",
       "\\item 'r'\n",
       "\\end{enumerate*}\n"
      ],
      "text/markdown": [
       "1. 'A'\n",
       "2. 'B'\n",
       "3. 'C'\n",
       "4. 'p'\n",
       "5. 'q'\n",
       "6. 'r'\n",
       "\n",
       "\n"
      ],
      "text/plain": [
       "[1] \"A\" \"B\" \"C\" \"p\" \"q\" \"r\""
      ]
     },
     "metadata": {},
     "output_type": "display_data"
    }
   ],
   "source": [
    "A1<-c(\"A\",\"B\",\"C\")\n",
    "B1<-c(\"p\", \"q\", \"r\")\n",
    "C1<-c(A1,B1)\n",
    "C1"
   ]
  },
  {
   "cell_type": "code",
   "execution_count": 180,
   "metadata": {
    "vscode": {
     "languageId": "r"
    }
   },
   "outputs": [
    {
     "data": {
      "text/html": [
       "<table class=\"dataframe\">\n",
       "<caption>A data.frame: 3 × 3</caption>\n",
       "<thead>\n",
       "\t<tr><th scope=col>ID</th><th scope=col>Gender</th><th scope=col>Weight</th></tr>\n",
       "\t<tr><th scope=col>&lt;chr&gt;</th><th scope=col>&lt;chr&gt;</th><th scope=col>&lt;dbl&gt;</th></tr>\n",
       "</thead>\n",
       "<tbody>\n",
       "\t<tr><td>A01</td><td>M</td><td>35</td></tr>\n",
       "\t<tr><td>A02</td><td>F</td><td>45</td></tr>\n",
       "\t<tr><td>A03</td><td>M</td><td>56</td></tr>\n",
       "</tbody>\n",
       "</table>\n"
      ],
      "text/latex": [
       "A data.frame: 3 × 3\n",
       "\\begin{tabular}{lll}\n",
       " ID & Gender & Weight\\\\\n",
       " <chr> & <chr> & <dbl>\\\\\n",
       "\\hline\n",
       "\t A01 & M & 35\\\\\n",
       "\t A02 & F & 45\\\\\n",
       "\t A03 & M & 56\\\\\n",
       "\\end{tabular}\n"
      ],
      "text/markdown": [
       "\n",
       "A data.frame: 3 × 3\n",
       "\n",
       "| ID &lt;chr&gt; | Gender &lt;chr&gt; | Weight &lt;dbl&gt; |\n",
       "|---|---|---|\n",
       "| A01 | M | 35 |\n",
       "| A02 | F | 45 |\n",
       "| A03 | M | 56 |\n",
       "\n"
      ],
      "text/plain": [
       "  ID  Gender Weight\n",
       "1 A01 M      35    \n",
       "2 A02 F      45    \n",
       "3 A03 M      56    "
      ]
     },
     "metadata": {},
     "output_type": "display_data"
    },
    {
     "data": {
      "text/html": [
       "'list'"
      ],
      "text/latex": [
       "'list'"
      ],
      "text/markdown": [
       "'list'"
      ],
      "text/plain": [
       "[1] \"list\""
      ]
     },
     "metadata": {},
     "output_type": "display_data"
    }
   ],
   "source": [
    "df<-data.frame(ID=c(\"A01\",\"A02\",\"A03\"),Gender=c(\"M\",\"F\",\"M\"), Weight=c(35,45,56))\n",
    "df\n",
    "mode(df)"
   ]
  },
  {
   "cell_type": "code",
   "execution_count": 181,
   "metadata": {
    "vscode": {
     "languageId": "r"
    }
   },
   "outputs": [
    {
     "data": {
      "text/html": [
       "<style>\n",
       ".list-inline {list-style: none; margin:0; padding: 0}\n",
       ".list-inline>li {display: inline-block}\n",
       ".list-inline>li:not(:last-child)::after {content: \"\\00b7\"; padding: 0 .5ex}\n",
       "</style>\n",
       "<ol class=list-inline><li>35</li><li>45</li><li>56</li></ol>\n"
      ],
      "text/latex": [
       "\\begin{enumerate*}\n",
       "\\item 35\n",
       "\\item 45\n",
       "\\item 56\n",
       "\\end{enumerate*}\n"
      ],
      "text/markdown": [
       "1. 35\n",
       "2. 45\n",
       "3. 56\n",
       "\n",
       "\n"
      ],
      "text/plain": [
       "[1] 35 45 56"
      ]
     },
     "metadata": {},
     "output_type": "display_data"
    },
    {
     "data": {
      "text/html": [
       "35"
      ],
      "text/latex": [
       "35"
      ],
      "text/markdown": [
       "35"
      ],
      "text/plain": [
       "[1] 35"
      ]
     },
     "metadata": {},
     "output_type": "display_data"
    }
   ],
   "source": [
    "df$Weight\n",
    "df$Weight[1]\n",
    "# df$Weight[1]=36"
   ]
  },
  {
   "cell_type": "code",
   "execution_count": 182,
   "metadata": {
    "vscode": {
     "languageId": "r"
    }
   },
   "outputs": [],
   "source": [
    "# fix(df)"
   ]
  },
  {
   "cell_type": "code",
   "execution_count": 183,
   "metadata": {
    "vscode": {
     "languageId": "r"
    }
   },
   "outputs": [
    {
     "data": {
      "text/html": [
       "<table class=\"dataframe\">\n",
       "<caption>A data.frame: 3 × 4</caption>\n",
       "<thead>\n",
       "\t<tr><th scope=col>ID</th><th scope=col>Gender</th><th scope=col>Weight</th><th scope=col>Height</th></tr>\n",
       "\t<tr><th scope=col>&lt;chr&gt;</th><th scope=col>&lt;chr&gt;</th><th scope=col>&lt;dbl&gt;</th><th scope=col>&lt;dbl&gt;</th></tr>\n",
       "</thead>\n",
       "<tbody>\n",
       "\t<tr><td>A01</td><td>M</td><td>35</td><td>86</td></tr>\n",
       "\t<tr><td>A02</td><td>F</td><td>45</td><td>71</td></tr>\n",
       "\t<tr><td>A03</td><td>M</td><td>56</td><td>77</td></tr>\n",
       "</tbody>\n",
       "</table>\n"
      ],
      "text/latex": [
       "A data.frame: 3 × 4\n",
       "\\begin{tabular}{llll}\n",
       " ID & Gender & Weight & Height\\\\\n",
       " <chr> & <chr> & <dbl> & <dbl>\\\\\n",
       "\\hline\n",
       "\t A01 & M & 35 & 86\\\\\n",
       "\t A02 & F & 45 & 71\\\\\n",
       "\t A03 & M & 56 & 77\\\\\n",
       "\\end{tabular}\n"
      ],
      "text/markdown": [
       "\n",
       "A data.frame: 3 × 4\n",
       "\n",
       "| ID &lt;chr&gt; | Gender &lt;chr&gt; | Weight &lt;dbl&gt; | Height &lt;dbl&gt; |\n",
       "|---|---|---|---|\n",
       "| A01 | M | 35 | 86 |\n",
       "| A02 | F | 45 | 71 |\n",
       "| A03 | M | 56 | 77 |\n",
       "\n"
      ],
      "text/plain": [
       "  ID  Gender Weight Height\n",
       "1 A01 M      35     86    \n",
       "2 A02 F      45     71    \n",
       "3 A03 M      56     77    "
      ]
     },
     "metadata": {},
     "output_type": "display_data"
    }
   ],
   "source": [
    "df$Height<-c(86,71,77)\n",
    "df"
   ]
  },
  {
   "cell_type": "code",
   "execution_count": 184,
   "metadata": {
    "vscode": {
     "languageId": "r"
    }
   },
   "outputs": [
    {
     "data": {
      "text/html": [
       "<table class=\"dataframe\">\n",
       "<caption>A data.frame: 3 × 5</caption>\n",
       "<thead>\n",
       "\t<tr><th scope=col>ID</th><th scope=col>Gender</th><th scope=col>Weight</th><th scope=col>Height</th><th scope=col>New_Var</th></tr>\n",
       "\t<tr><th scope=col>&lt;chr&gt;</th><th scope=col>&lt;chr&gt;</th><th scope=col>&lt;dbl&gt;</th><th scope=col>&lt;dbl&gt;</th><th scope=col>&lt;dbl&gt;</th></tr>\n",
       "</thead>\n",
       "<tbody>\n",
       "\t<tr><td>A01</td><td>M</td><td>35</td><td>86</td><td>72</td></tr>\n",
       "\t<tr><td>A02</td><td>F</td><td>45</td><td>71</td><td>49</td></tr>\n",
       "\t<tr><td>A03</td><td>M</td><td>56</td><td>77</td><td>68</td></tr>\n",
       "</tbody>\n",
       "</table>\n"
      ],
      "text/latex": [
       "A data.frame: 3 × 5\n",
       "\\begin{tabular}{lllll}\n",
       " ID & Gender & Weight & Height & New\\_Var\\\\\n",
       " <chr> & <chr> & <dbl> & <dbl> & <dbl>\\\\\n",
       "\\hline\n",
       "\t A01 & M & 35 & 86 & 72\\\\\n",
       "\t A02 & F & 45 & 71 & 49\\\\\n",
       "\t A03 & M & 56 & 77 & 68\\\\\n",
       "\\end{tabular}\n"
      ],
      "text/markdown": [
       "\n",
       "A data.frame: 3 × 5\n",
       "\n",
       "| ID &lt;chr&gt; | Gender &lt;chr&gt; | Weight &lt;dbl&gt; | Height &lt;dbl&gt; | New_Var &lt;dbl&gt; |\n",
       "|---|---|---|---|---|\n",
       "| A01 | M | 35 | 86 | 72 |\n",
       "| A02 | F | 45 | 71 | 49 |\n",
       "| A03 | M | 56 | 77 | 68 |\n",
       "\n"
      ],
      "text/plain": [
       "  ID  Gender Weight Height New_Var\n",
       "1 A01 M      35     86     72     \n",
       "2 A02 F      45     71     49     \n",
       "3 A03 M      56     77     68     "
      ]
     },
     "metadata": {},
     "output_type": "display_data"
    },
    {
     "data": {
      "text/html": [
       "<table class=\"dataframe\">\n",
       "<caption>A data.frame: 3 × 4</caption>\n",
       "<thead>\n",
       "\t<tr><th scope=col>ID</th><th scope=col>Gender</th><th scope=col>Weight</th><th scope=col>Height</th></tr>\n",
       "\t<tr><th scope=col>&lt;chr&gt;</th><th scope=col>&lt;chr&gt;</th><th scope=col>&lt;dbl&gt;</th><th scope=col>&lt;dbl&gt;</th></tr>\n",
       "</thead>\n",
       "<tbody>\n",
       "\t<tr><td>A01</td><td>M</td><td>35</td><td>86</td></tr>\n",
       "\t<tr><td>A02</td><td>F</td><td>45</td><td>71</td></tr>\n",
       "\t<tr><td>A03</td><td>M</td><td>56</td><td>77</td></tr>\n",
       "</tbody>\n",
       "</table>\n"
      ],
      "text/latex": [
       "A data.frame: 3 × 4\n",
       "\\begin{tabular}{llll}\n",
       " ID & Gender & Weight & Height\\\\\n",
       " <chr> & <chr> & <dbl> & <dbl>\\\\\n",
       "\\hline\n",
       "\t A01 & M & 35 & 86\\\\\n",
       "\t A02 & F & 45 & 71\\\\\n",
       "\t A03 & M & 56 & 77\\\\\n",
       "\\end{tabular}\n"
      ],
      "text/markdown": [
       "\n",
       "A data.frame: 3 × 4\n",
       "\n",
       "| ID &lt;chr&gt; | Gender &lt;chr&gt; | Weight &lt;dbl&gt; | Height &lt;dbl&gt; |\n",
       "|---|---|---|---|\n",
       "| A01 | M | 35 | 86 |\n",
       "| A02 | F | 45 | 71 |\n",
       "| A03 | M | 56 | 77 |\n",
       "\n"
      ],
      "text/plain": [
       "  ID  Gender Weight Height\n",
       "1 A01 M      35     86    \n",
       "2 A02 F      45     71    \n",
       "3 A03 M      56     77    "
      ]
     },
     "metadata": {},
     "output_type": "display_data"
    },
    {
     "data": {
      "text/html": [
       "<table class=\"dataframe\">\n",
       "<caption>A data.frame: 3 × 5</caption>\n",
       "<thead>\n",
       "\t<tr><th scope=col>ID</th><th scope=col>Gender</th><th scope=col>Weight</th><th scope=col>Height</th><th scope=col>New_Var</th></tr>\n",
       "\t<tr><th scope=col>&lt;chr&gt;</th><th scope=col>&lt;chr&gt;</th><th scope=col>&lt;dbl&gt;</th><th scope=col>&lt;dbl&gt;</th><th scope=col>&lt;dbl&gt;</th></tr>\n",
       "</thead>\n",
       "<tbody>\n",
       "\t<tr><td>A01</td><td>M</td><td>35</td><td>86</td><td>72</td></tr>\n",
       "\t<tr><td>A02</td><td>F</td><td>45</td><td>71</td><td>49</td></tr>\n",
       "\t<tr><td>A03</td><td>M</td><td>56</td><td>77</td><td>68</td></tr>\n",
       "</tbody>\n",
       "</table>\n"
      ],
      "text/latex": [
       "A data.frame: 3 × 5\n",
       "\\begin{tabular}{lllll}\n",
       " ID & Gender & Weight & Height & New\\_Var\\\\\n",
       " <chr> & <chr> & <dbl> & <dbl> & <dbl>\\\\\n",
       "\\hline\n",
       "\t A01 & M & 35 & 86 & 72\\\\\n",
       "\t A02 & F & 45 & 71 & 49\\\\\n",
       "\t A03 & M & 56 & 77 & 68\\\\\n",
       "\\end{tabular}\n"
      ],
      "text/markdown": [
       "\n",
       "A data.frame: 3 × 5\n",
       "\n",
       "| ID &lt;chr&gt; | Gender &lt;chr&gt; | Weight &lt;dbl&gt; | Height &lt;dbl&gt; | New_Var &lt;dbl&gt; |\n",
       "|---|---|---|---|---|\n",
       "| A01 | M | 35 | 86 | 72 |\n",
       "| A02 | F | 45 | 71 | 49 |\n",
       "| A03 | M | 56 | 77 | 68 |\n",
       "\n"
      ],
      "text/plain": [
       "  ID  Gender Weight Height New_Var\n",
       "1 A01 M      35     86     72     \n",
       "2 A02 F      45     71     49     \n",
       "3 A03 M      56     77     68     "
      ]
     },
     "metadata": {},
     "output_type": "display_data"
    },
    {
     "data": {
      "text/html": [
       "<table class=\"dataframe\">\n",
       "<caption>A data.frame: 3 × 4</caption>\n",
       "<thead>\n",
       "\t<tr><th scope=col>ID</th><th scope=col>Gender</th><th scope=col>Weight</th><th scope=col>Height</th></tr>\n",
       "\t<tr><th scope=col>&lt;chr&gt;</th><th scope=col>&lt;chr&gt;</th><th scope=col>&lt;dbl&gt;</th><th scope=col>&lt;dbl&gt;</th></tr>\n",
       "</thead>\n",
       "<tbody>\n",
       "\t<tr><td>A01</td><td>M</td><td>35</td><td>86</td></tr>\n",
       "\t<tr><td>A02</td><td>F</td><td>45</td><td>71</td></tr>\n",
       "\t<tr><td>A03</td><td>M</td><td>56</td><td>77</td></tr>\n",
       "</tbody>\n",
       "</table>\n"
      ],
      "text/latex": [
       "A data.frame: 3 × 4\n",
       "\\begin{tabular}{llll}\n",
       " ID & Gender & Weight & Height\\\\\n",
       " <chr> & <chr> & <dbl> & <dbl>\\\\\n",
       "\\hline\n",
       "\t A01 & M & 35 & 86\\\\\n",
       "\t A02 & F & 45 & 71\\\\\n",
       "\t A03 & M & 56 & 77\\\\\n",
       "\\end{tabular}\n"
      ],
      "text/markdown": [
       "\n",
       "A data.frame: 3 × 4\n",
       "\n",
       "| ID &lt;chr&gt; | Gender &lt;chr&gt; | Weight &lt;dbl&gt; | Height &lt;dbl&gt; |\n",
       "|---|---|---|---|\n",
       "| A01 | M | 35 | 86 |\n",
       "| A02 | F | 45 | 71 |\n",
       "| A03 | M | 56 | 77 |\n",
       "\n"
      ],
      "text/plain": [
       "  ID  Gender Weight Height\n",
       "1 A01 M      35     86    \n",
       "2 A02 F      45     71    \n",
       "3 A03 M      56     77    "
      ]
     },
     "metadata": {},
     "output_type": "display_data"
    }
   ],
   "source": [
    "cbind(df, New_Var = c(72, 49, 68))\n",
    "df\n",
    "df <- cbind(df, New_Var=c(72, 49, 68))\n",
    "df\n",
    "df$New_Var <- NULL\n",
    "df"
   ]
  },
  {
   "cell_type": "code",
   "execution_count": 185,
   "metadata": {
    "vscode": {
     "languageId": "r"
    }
   },
   "outputs": [
    {
     "data": {
      "text/html": [
       "<table class=\"dataframe\">\n",
       "<caption>A data.frame: 4 × 4</caption>\n",
       "<thead>\n",
       "\t<tr><th scope=col>ID</th><th scope=col>Gender</th><th scope=col>Weight</th><th scope=col>Height</th></tr>\n",
       "\t<tr><th scope=col>&lt;chr&gt;</th><th scope=col>&lt;chr&gt;</th><th scope=col>&lt;chr&gt;</th><th scope=col>&lt;chr&gt;</th></tr>\n",
       "</thead>\n",
       "<tbody>\n",
       "\t<tr><td>A01</td><td>M </td><td>35</td><td>86</td></tr>\n",
       "\t<tr><td>A02</td><td>F </td><td>45</td><td>71</td></tr>\n",
       "\t<tr><td>A03</td><td>M </td><td>56</td><td>77</td></tr>\n",
       "\t<tr><td>A04</td><td>49</td><td>68</td><td>55</td></tr>\n",
       "</tbody>\n",
       "</table>\n"
      ],
      "text/latex": [
       "A data.frame: 4 × 4\n",
       "\\begin{tabular}{llll}\n",
       " ID & Gender & Weight & Height\\\\\n",
       " <chr> & <chr> & <chr> & <chr>\\\\\n",
       "\\hline\n",
       "\t A01 & M  & 35 & 86\\\\\n",
       "\t A02 & F  & 45 & 71\\\\\n",
       "\t A03 & M  & 56 & 77\\\\\n",
       "\t A04 & 49 & 68 & 55\\\\\n",
       "\\end{tabular}\n"
      ],
      "text/markdown": [
       "\n",
       "A data.frame: 4 × 4\n",
       "\n",
       "| ID &lt;chr&gt; | Gender &lt;chr&gt; | Weight &lt;chr&gt; | Height &lt;chr&gt; |\n",
       "|---|---|---|---|\n",
       "| A01 | M  | 35 | 86 |\n",
       "| A02 | F  | 45 | 71 |\n",
       "| A03 | M  | 56 | 77 |\n",
       "| A04 | 49 | 68 | 55 |\n",
       "\n"
      ],
      "text/plain": [
       "  ID  Gender Weight Height\n",
       "1 A01 M      35     86    \n",
       "2 A02 F      45     71    \n",
       "3 A03 M      56     77    \n",
       "4 A04 49     68     55    "
      ]
     },
     "metadata": {},
     "output_type": "display_data"
    }
   ],
   "source": [
    "rbind(df, c(\"A04\", 49, 68, 55))"
   ]
  },
  {
   "cell_type": "code",
   "execution_count": 187,
   "metadata": {
    "vscode": {
     "languageId": "r"
    }
   },
   "outputs": [],
   "source": [
    "# rm(df)"
   ]
  },
  {
   "cell_type": "code",
   "execution_count": 201,
   "metadata": {
    "vscode": {
     "languageId": "r"
    }
   },
   "outputs": [
    {
     "data": {
      "text/html": [
       "'list'"
      ],
      "text/latex": [
       "'list'"
      ],
      "text/markdown": [
       "'list'"
      ],
      "text/plain": [
       "[1] \"list\""
      ]
     },
     "metadata": {},
     "output_type": "display_data"
    },
    {
     "data": {
      "text/html": [
       "'list'"
      ],
      "text/latex": [
       "'list'"
      ],
      "text/markdown": [
       "'list'"
      ],
      "text/plain": [
       "[1] \"list\""
      ]
     },
     "metadata": {},
     "output_type": "display_data"
    },
    {
     "data": {
      "text/html": [
       "4"
      ],
      "text/latex": [
       "4"
      ],
      "text/markdown": [
       "4"
      ],
      "text/plain": [
       "[1] 4"
      ]
     },
     "metadata": {},
     "output_type": "display_data"
    },
    {
     "data": {
      "text/html": [
       "3"
      ],
      "text/latex": [
       "3"
      ],
      "text/markdown": [
       "3"
      ],
      "text/plain": [
       "[1] 3"
      ]
     },
     "metadata": {},
     "output_type": "display_data"
    },
    {
     "data": {
      "text/html": [
       "4"
      ],
      "text/latex": [
       "4"
      ],
      "text/markdown": [
       "4"
      ],
      "text/plain": [
       "[1] 4"
      ]
     },
     "metadata": {},
     "output_type": "display_data"
    },
    {
     "data": {
      "text/html": [
       "<style>\n",
       ".list-inline {list-style: none; margin:0; padding: 0}\n",
       ".list-inline>li {display: inline-block}\n",
       ".list-inline>li:not(:last-child)::after {content: \"\\00b7\"; padding: 0 .5ex}\n",
       "</style>\n",
       "<ol class=list-inline><li>3</li><li>4</li></ol>\n"
      ],
      "text/latex": [
       "\\begin{enumerate*}\n",
       "\\item 3\n",
       "\\item 4\n",
       "\\end{enumerate*}\n"
      ],
      "text/markdown": [
       "1. 3\n",
       "2. 4\n",
       "\n",
       "\n"
      ],
      "text/plain": [
       "[1] 3 4"
      ]
     },
     "metadata": {},
     "output_type": "display_data"
    },
    {
     "data": {
      "text/html": [
       "<table class=\"dataframe\">\n",
       "<caption>A data.frame: 3 × 4</caption>\n",
       "<thead>\n",
       "\t<tr><th></th><th scope=col>ID</th><th scope=col>Gender</th><th scope=col>Weight</th><th scope=col>Height</th></tr>\n",
       "\t<tr><th></th><th scope=col>&lt;chr&gt;</th><th scope=col>&lt;chr&gt;</th><th scope=col>&lt;dbl&gt;</th><th scope=col>&lt;dbl&gt;</th></tr>\n",
       "</thead>\n",
       "<tbody>\n",
       "\t<tr><th scope=row>1</th><td>A01</td><td>M</td><td>35</td><td>86</td></tr>\n",
       "\t<tr><th scope=row>2</th><td>A02</td><td>F</td><td>45</td><td>71</td></tr>\n",
       "\t<tr><th scope=row>3</th><td>A03</td><td>M</td><td>56</td><td>77</td></tr>\n",
       "</tbody>\n",
       "</table>\n"
      ],
      "text/latex": [
       "A data.frame: 3 × 4\n",
       "\\begin{tabular}{r|llll}\n",
       "  & ID & Gender & Weight & Height\\\\\n",
       "  & <chr> & <chr> & <dbl> & <dbl>\\\\\n",
       "\\hline\n",
       "\t1 & A01 & M & 35 & 86\\\\\n",
       "\t2 & A02 & F & 45 & 71\\\\\n",
       "\t3 & A03 & M & 56 & 77\\\\\n",
       "\\end{tabular}\n"
      ],
      "text/markdown": [
       "\n",
       "A data.frame: 3 × 4\n",
       "\n",
       "| <!--/--> | ID &lt;chr&gt; | Gender &lt;chr&gt; | Weight &lt;dbl&gt; | Height &lt;dbl&gt; |\n",
       "|---|---|---|---|---|\n",
       "| 1 | A01 | M | 35 | 86 |\n",
       "| 2 | A02 | F | 45 | 71 |\n",
       "| 3 | A03 | M | 56 | 77 |\n",
       "\n"
      ],
      "text/plain": [
       "  ID  Gender Weight Height\n",
       "1 A01 M      35     86    \n",
       "2 A02 F      45     71    \n",
       "3 A03 M      56     77    "
      ]
     },
     "metadata": {},
     "output_type": "display_data"
    },
    {
     "data": {
      "text/html": [
       "<table class=\"dataframe\">\n",
       "<caption>A data.frame: 2 × 4</caption>\n",
       "<thead>\n",
       "\t<tr><th></th><th scope=col>ID</th><th scope=col>Gender</th><th scope=col>Weight</th><th scope=col>Height</th></tr>\n",
       "\t<tr><th></th><th scope=col>&lt;chr&gt;</th><th scope=col>&lt;chr&gt;</th><th scope=col>&lt;dbl&gt;</th><th scope=col>&lt;dbl&gt;</th></tr>\n",
       "</thead>\n",
       "<tbody>\n",
       "\t<tr><th scope=row>2</th><td>A02</td><td>F</td><td>45</td><td>71</td></tr>\n",
       "\t<tr><th scope=row>3</th><td>A03</td><td>M</td><td>56</td><td>77</td></tr>\n",
       "</tbody>\n",
       "</table>\n"
      ],
      "text/latex": [
       "A data.frame: 2 × 4\n",
       "\\begin{tabular}{r|llll}\n",
       "  & ID & Gender & Weight & Height\\\\\n",
       "  & <chr> & <chr> & <dbl> & <dbl>\\\\\n",
       "\\hline\n",
       "\t2 & A02 & F & 45 & 71\\\\\n",
       "\t3 & A03 & M & 56 & 77\\\\\n",
       "\\end{tabular}\n"
      ],
      "text/markdown": [
       "\n",
       "A data.frame: 2 × 4\n",
       "\n",
       "| <!--/--> | ID &lt;chr&gt; | Gender &lt;chr&gt; | Weight &lt;dbl&gt; | Height &lt;dbl&gt; |\n",
       "|---|---|---|---|---|\n",
       "| 2 | A02 | F | 45 | 71 |\n",
       "| 3 | A03 | M | 56 | 77 |\n",
       "\n"
      ],
      "text/plain": [
       "  ID  Gender Weight Height\n",
       "2 A02 F      45     71    \n",
       "3 A03 M      56     77    "
      ]
     },
     "metadata": {},
     "output_type": "display_data"
    },
    {
     "data": {
      "text/plain": [
       "      ID               Gender              Weight          Height    \n",
       " Length:3           Length:3           Min.   :35.00   Min.   :71.0  \n",
       " Class :character   Class :character   1st Qu.:40.00   1st Qu.:74.0  \n",
       " Mode  :character   Mode  :character   Median :45.00   Median :77.0  \n",
       "                                       Mean   :45.33   Mean   :78.0  \n",
       "                                       3rd Qu.:50.50   3rd Qu.:81.5  \n",
       "                                       Max.   :56.00   Max.   :86.0  "
      ]
     },
     "metadata": {},
     "output_type": "display_data"
    }
   ],
   "source": [
    "mode(df)\n",
    "typeof(df)\n",
    "length(df)\n",
    "nrow(df)\n",
    "ncol(df)\n",
    "dim(df)\n",
    "head(df)\n",
    "tail(df, 2)\n",
    "summary(df)"
   ]
  },
  {
   "cell_type": "code",
   "execution_count": 216,
   "metadata": {
    "vscode": {
     "languageId": "r"
    }
   },
   "outputs": [
    {
     "data": {
      "text/plain": [
       "$F\n",
       "   Min. 1st Qu.  Median    Mean 3rd Qu.    Max. \n",
       "     71      71      71      71      71      71 \n",
       "\n",
       "$M\n",
       "   Min. 1st Qu.  Median    Mean 3rd Qu.    Max. \n",
       "  77.00   79.25   81.50   81.50   83.75   86.00 \n"
      ]
     },
     "metadata": {},
     "output_type": "display_data"
    }
   ],
   "source": [
    "tapply(df$Height, df$Gender, summary)"
   ]
  },
  {
   "cell_type": "code",
   "execution_count": null,
   "metadata": {
    "vscode": {
     "languageId": "r"
    }
   },
   "outputs": [],
   "source": []
  }
 ],
 "metadata": {
  "kernelspec": {
   "display_name": "R",
   "language": "R",
   "name": "ir"
  },
  "language_info": {
   "codemirror_mode": "r",
   "file_extension": ".r",
   "mimetype": "text/x-r-source",
   "name": "R",
   "pygments_lexer": "r",
   "version": "4.4.1"
  }
 },
 "nbformat": 4,
 "nbformat_minor": 2
}
