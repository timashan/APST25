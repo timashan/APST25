{
 "cells": [
  {
   "cell_type": "code",
   "execution_count": 6,
   "id": "134d4548",
   "metadata": {
    "vscode": {
     "languageId": "r"
    }
   },
   "outputs": [
    {
     "name": "stdout",
     "output_type": "stream",
     "text": [
      "[1] 1\n",
      "[1] 2\n",
      "[1] 3\n",
      "[1] 4\n",
      "[1] 5\n"
     ]
    }
   ],
   "source": [
    "for (i in 1:5) {\n",
    "    print(i)\n",
    "}"
   ]
  },
  {
   "cell_type": "code",
   "execution_count": 8,
   "id": "70afcaf7",
   "metadata": {
    "vscode": {
     "languageId": "r"
    }
   },
   "outputs": [
    {
     "name": "stdout",
     "output_type": "stream",
     "text": [
      "[1] 1\n",
      "[1] 3\n",
      "[1] 6\n",
      "[1] 10\n",
      "[1] 15\n"
     ]
    },
    {
     "data": {
      "text/html": [
       "15"
      ],
      "text/latex": [
       "15"
      ],
      "text/markdown": [
       "15"
      ],
      "text/plain": [
       "[1] 15"
      ]
     },
     "metadata": {},
     "output_type": "display_data"
    }
   ],
   "source": [
    "tot <- 0\n",
    "for (i in 1:5) {\n",
    "    tot = tot + i\n",
    "    print(tot)\n",
    "}\n",
    "tot"
   ]
  },
  {
   "cell_type": "code",
   "execution_count": 53,
   "id": "d66c2fb7",
   "metadata": {
    "vscode": {
     "languageId": "r"
    }
   },
   "outputs": [
    {
     "name": "stdout",
     "output_type": "stream",
     "text": [
      "[1] 2\n",
      "[1] 4\n",
      "[1] 6\n",
      "[1] NA\n",
      "[1] NA\n",
      "[1] NA\n",
      "[1] NA\n",
      "[1] NA\n",
      "[1] NA\n",
      "[1] NA\n"
     ]
    }
   ],
   "source": [
    "print_squares <- function(seq) {\n",
    "    for (i in 1:10) {\n",
    "        print(seq[i]*2)\n",
    "    }\n",
    "}\n",
    "print_squares(c(1, 2, 3))"
   ]
  },
  {
   "cell_type": "code",
   "execution_count": 71,
   "id": "d66f74b6",
   "metadata": {
    "vscode": {
     "languageId": "r"
    }
   },
   "outputs": [
    {
     "data": {
      "text/html": [
       "1"
      ],
      "text/latex": [
       "1"
      ],
      "text/markdown": [
       "1"
      ],
      "text/plain": [
       "[1] 1"
      ]
     },
     "metadata": {},
     "output_type": "display_data"
    },
    {
     "name": "stdout",
     "output_type": "stream",
     "text": [
      "[1] \"+\"\n"
     ]
    }
   ],
   "source": [
    "if (TRUE) 1 else 2\n",
    "\n",
    "a = 7\n",
    "if (a > 0) {\n",
    "    print(\"+\")\n",
    "} else if (a < 0) {\n",
    "    print(\"-\")\n",
    "} else {\n",
    "    print(\"0\")\n",
    "}"
   ]
  },
  {
   "cell_type": "code",
   "execution_count": 14,
   "id": "484a2c53",
   "metadata": {
    "vscode": {
     "languageId": "r"
    }
   },
   "outputs": [
    {
     "name": "stdout",
     "output_type": "stream",
     "text": [
      "[1] \"odd\"\n",
      "[1] \"even\"\n"
     ]
    }
   ],
   "source": [
    "even_or_odd = function(x) {\n",
    "    if (x %% 2 == 0) \"even\" else \"odd\"\n",
    "}\n",
    "print(even_or_odd(3))\n",
    "print(even_or_odd(4))"
   ]
  },
  {
   "cell_type": "code",
   "execution_count": 13,
   "id": "be95152f",
   "metadata": {
    "vscode": {
     "languageId": "r"
    }
   },
   "outputs": [
    {
     "name": "stdout",
     "output_type": "stream",
     "text": [
      "[1] 1\n",
      "[1] 2\n",
      "[1] 3\n",
      "[1] 4\n",
      "[1] 5\n"
     ]
    }
   ],
   "source": [
    "i = 1\n",
    "while(i<=5) {\n",
    "    print(i)\n",
    "    i <- i + 1\n",
    "}"
   ]
  },
  {
   "cell_type": "code",
   "execution_count": 11,
   "id": "c1119a3c",
   "metadata": {
    "vscode": {
     "languageId": "r"
    }
   },
   "outputs": [
    {
     "name": "stdout",
     "output_type": "stream",
     "text": [
      "[1] 1\n",
      "[1] 2\n",
      "[1] 3\n",
      "[1] 4\n",
      "[1] 5\n"
     ]
    }
   ],
   "source": [
    "i=1\n",
    "repeat {\n",
    "    print(i)\n",
    "    if (i == 5) break\n",
    "    i <- i + 1\n",
    "}"
   ]
  },
  {
   "cell_type": "code",
   "execution_count": 47,
   "id": "81dda42c",
   "metadata": {
    "vscode": {
     "languageId": "r"
    }
   },
   "outputs": [
    {
     "data": {
      "text/html": [
       "<style>\n",
       ".list-inline {list-style: none; margin:0; padding: 0}\n",
       ".list-inline>li {display: inline-block}\n",
       ".list-inline>li:not(:last-child)::after {content: \"\\00b7\"; padding: 0 .5ex}\n",
       "</style>\n",
       "<ol class=list-inline><li>10</li><li>0</li><li>2</li><li>7</li></ol>\n"
      ],
      "text/latex": [
       "\\begin{enumerate*}\n",
       "\\item 10\n",
       "\\item 0\n",
       "\\item 2\n",
       "\\item 7\n",
       "\\end{enumerate*}\n"
      ],
      "text/markdown": [
       "1. 10\n",
       "2. 0\n",
       "3. 2\n",
       "4. 7\n",
       "\n",
       "\n"
      ],
      "text/plain": [
       "[1] 10  0  2  7"
      ]
     },
     "metadata": {},
     "output_type": "display_data"
    }
   ],
   "source": [
    "replace_neg = function(s) {\n",
    "    for (i in 1:length(s)) {\n",
    "        if (s[i] < 0) s[i] = 0 else s[i] = s[i] + 2\n",
    "    }\n",
    "    s\n",
    "}\n",
    "replace_neg(c(8, -2, 0, 5))"
   ]
  },
  {
   "cell_type": "code",
   "execution_count": 46,
   "id": "a6c8fe02",
   "metadata": {
    "vscode": {
     "languageId": "r"
    }
   },
   "outputs": [
    {
     "data": {
      "text/html": [
       "15"
      ],
      "text/latex": [
       "15"
      ],
      "text/markdown": [
       "15"
      ],
      "text/plain": [
       "[1] 15"
      ]
     },
     "metadata": {},
     "output_type": "display_data"
    }
   ],
   "source": [
    "sum = function(s) {\n",
    "    tot <- 0\n",
    "    for (i in s) tot = tot + i\n",
    "    tot\n",
    "}\n",
    "sum(c(1, 2, 3, 4, 5))"
   ]
  }
 ],
 "metadata": {
  "kernelspec": {
   "display_name": "R",
   "language": "R",
   "name": "ir"
  },
  "language_info": {
   "codemirror_mode": "r",
   "file_extension": ".r",
   "mimetype": "text/x-r-source",
   "name": "R",
   "pygments_lexer": "r",
   "version": "4.4.1"
  }
 },
 "nbformat": 4,
 "nbformat_minor": 5
}
