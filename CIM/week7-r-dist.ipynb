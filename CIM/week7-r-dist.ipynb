{
 "cells": [
  {
   "cell_type": "code",
   "execution_count": 27,
   "id": "648f6b2b",
   "metadata": {
    "vscode": {
     "languageId": "r"
    }
   },
   "outputs": [
    {
     "data": {
      "text/html": [
       "0.234375"
      ],
      "text/latex": [
       "0.234375"
      ],
      "text/markdown": [
       "0.234375"
      ],
      "text/plain": [
       "[1] 0.234375"
      ]
     },
     "metadata": {},
     "output_type": "display_data"
    }
   ],
   "source": [
    "# exactly 2 heads P(X=2), 6 tosses, fair coin\n",
    "dbinom(2, 6, 0.5)"
   ]
  },
  {
   "cell_type": "code",
   "execution_count": 68,
   "id": "cc6b9c50",
   "metadata": {
    "vscode": {
     "languageId": "r"
    }
   },
   "outputs": [
    {
     "data": {
      "image/png": "[encoded data removed]",
      "text/plain": [
       "plot without title"
      ]
     },
     "metadata": {
      "image/png": {
       "height": 420,
       "width": 420
      }
     },
     "output_type": "display_data"
    }
   ],
   "source": [
    "par(bg=\"white\")\n",
    "probabilities <- dbinom(0:6, 6, 0.5)\n",
    "x <- 0:6\n",
    "plot(x, probabilities, type = \"h\", lwd = 5)\n",
    "text(x, probabilities, labels = round(probabilities, 3), pos = 3, cex = 0.8)"
   ]
  },
  {
   "cell_type": "code",
   "execution_count": 28,
   "id": "0e007f66",
   "metadata": {
    "vscode": {
     "languageId": "r"
    }
   },
   "outputs": [
    {
     "data": {
      "text/html": [
       "0.34375"
      ],
      "text/latex": [
       "0.34375"
      ],
      "text/markdown": [
       "0.34375"
      ],
      "text/plain": [
       "[1] 0.34375"
      ]
     },
     "metadata": {},
     "output_type": "display_data"
    }
   ],
   "source": [
    "# at least 4 heads, P(X>=4)\n",
    "dbinom(4, 6, 0.5) + dbinom(5, 6, 0.5) + dbinom(6, 6, 0.5)"
   ]
  },
  {
   "cell_type": "code",
   "execution_count": 29,
   "id": "937d6c52",
   "metadata": {
    "vscode": {
     "languageId": "r"
    }
   },
   "outputs": [
    {
     "data": {
      "text/html": [
       "0.34375"
      ],
      "text/latex": [
       "0.34375"
      ],
      "text/markdown": [
       "0.34375"
      ],
      "text/plain": [
       "[1] 0.34375"
      ]
     },
     "metadata": {},
     "output_type": "display_data"
    }
   ],
   "source": [
    "1-pbinom(3, 6, 0.5)"
   ]
  },
  {
   "cell_type": "code",
   "execution_count": 30,
   "id": "bdc50608",
   "metadata": {
    "vscode": {
     "languageId": "r"
    }
   },
   "outputs": [
    {
     "data": {
      "text/html": [
       "0.34375"
      ],
      "text/latex": [
       "0.34375"
      ],
      "text/markdown": [
       "0.34375"
      ],
      "text/plain": [
       "[1] 0.34375"
      ]
     },
     "metadata": {},
     "output_type": "display_data"
    }
   ],
   "source": [
    "pbinom(3, 6, 0.5, lower.tail = FALSE)"
   ]
  },
  {
   "cell_type": "markdown",
   "id": "35bf0239",
   "metadata": {},
   "source": [
    "## Exam quez\n"
   ]
  },
  {
   "cell_type": "code",
   "execution_count": 51,
   "id": "aa99686e",
   "metadata": {
    "vscode": {
     "languageId": "r"
    }
   },
   "outputs": [
    {
     "data": {
      "text/html": [
       "0.296296296296297"
      ],
      "text/latex": [
       "0.296296296296297"
      ],
      "text/markdown": [
       "0.296296296296297"
      ],
      "text/plain": [
       "[1] 0.2962963"
      ]
     },
     "metadata": {},
     "output_type": "display_data"
    },
    {
     "data": {
      "text/html": [
       "0.111111111111111"
      ],
      "text/latex": [
       "0.111111111111111"
      ],
      "text/markdown": [
       "0.111111111111111"
      ],
      "text/plain": [
       "[1] 0.1111111"
      ]
     },
     "metadata": {},
     "output_type": "display_data"
    },
    {
     "data": {
      "text/html": [
       "0.111111111111111"
      ],
      "text/latex": [
       "0.111111111111111"
      ],
      "text/markdown": [
       "0.111111111111111"
      ],
      "text/plain": [
       "[1] 0.1111111"
      ]
     },
     "metadata": {},
     "output_type": "display_data"
    }
   ],
   "source": [
    "dbinom(2, 4, 2/3)\n",
    "\n",
    "pbinom(1, 4, 2/3)\n",
    "dbinom(0, 4, 2/3) + dbinom(1, 4, 2/3)"
   ]
  },
  {
   "cell_type": "code",
   "execution_count": 53,
   "id": "7ef67bea",
   "metadata": {
    "vscode": {
     "languageId": "r"
    }
   },
   "outputs": [
    {
     "data": {
      "text/html": [
       "0.0781428612254229"
      ],
      "text/latex": [
       "0.0781428612254229"
      ],
      "text/markdown": [
       "0.0781428612254229"
      ],
      "text/plain": [
       "[1] 0.07814286"
      ]
     },
     "metadata": {},
     "output_type": "display_data"
    }
   ],
   "source": [
    "dbinom(3,7,1/6)"
   ]
  },
  {
   "cell_type": "code",
   "execution_count": 59,
   "id": "ae113542",
   "metadata": {
    "vscode": {
     "languageId": "r"
    }
   },
   "outputs": [
    {
     "data": {
      "text/html": [
       "0.01171875"
      ],
      "text/latex": [
       "0.01171875"
      ],
      "text/markdown": [
       "0.01171875"
      ],
      "text/plain": [
       "[1] 0.01171875"
      ]
     },
     "metadata": {},
     "output_type": "display_data"
    }
   ],
   "source": [
    "# no. of failures before 1st success\n",
    "# prob applicant (75% apss rate) passes in the 4th try\n",
    "dgeom(3, 0.75) # param1: no.of failures before 1st success"
   ]
  },
  {
   "cell_type": "code",
   "execution_count": 64,
   "id": "0a3f0577",
   "metadata": {
    "vscode": {
     "languageId": "r"
    }
   },
   "outputs": [
    {
     "data": {
      "text/html": [
       "0.125"
      ],
      "text/latex": [
       "0.125"
      ],
      "text/markdown": [
       "0.125"
      ],
      "text/plain": [
       "[1] 0.125"
      ]
     },
     "metadata": {},
     "output_type": "display_data"
    }
   ],
   "source": [
    "# kth success\n",
    "# prob M or F birth is equal. Cal womens 5th child is 2nd sucess\n",
    "dnbinom(3, 2, 0.5) # param1: failures before kth success, param2: k successes"
   ]
  },
  {
   "cell_type": "code",
   "execution_count": null,
   "id": "28ea7a64",
   "metadata": {
    "vscode": {
     "languageId": "r"
    }
   },
   "outputs": [
    {
     "data": {
      "text/html": [
       "0.0135448916408669"
      ],
      "text/latex": [
       "0.0135448916408669"
      ],
      "text/markdown": [
       "0.0135448916408669"
      ],
      "text/plain": [
       "[1] 0.01354489"
      ]
     },
     "metadata": {},
     "output_type": "display_data"
    }
   ],
   "source": [
    "# 20 cards, 6 red, 14 black. P(X=4) = prob of 4 red cards in 5 draws\n",
    "# (without replacement)\n",
    "dhyper(4, 6, 14, 5)"
   ]
  },
  {
   "cell_type": "code",
   "execution_count": 91,
   "id": "b7f67c4c",
   "metadata": {
    "vscode": {
     "languageId": "r"
    }
   },
   "outputs": [
    {
     "data": {
      "text/html": [
       "0.155027781767463"
      ],
      "text/latex": [
       "0.155027781767463"
      ],
      "text/markdown": [
       "0.155027781767463"
      ],
      "text/plain": [
       "[1] 0.1550278"
      ]
     },
     "metadata": {},
     "output_type": "display_data"
    },
    {
     "data": {
      "text/html": [
       "0.155027781767463"
      ],
      "text/latex": [
       "0.155027781767463"
      ],
      "text/markdown": [
       "0.155027781767463"
      ],
      "text/plain": [
       "[1] 0.1550278"
      ]
     },
     "metadata": {},
     "output_type": "display_data"
    },
    {
     "data": {
      "text/html": [
       "0.00287826231008272"
      ],
      "text/latex": [
       "0.00287826231008272"
      ],
      "text/markdown": [
       "0.00287826231008272"
      ],
      "text/plain": [
       "[1] 0.002878262"
      ]
     },
     "metadata": {},
     "output_type": "display_data"
    }
   ],
   "source": [
    "# avg truck arrival = 12, prob of fewer than 9 trucks arrive\n",
    "ppois(8, 12)\n",
    "sum(dpois(0:8, 12))\n",
    "# exactly 12 trucks arrive in 2 days\n",
    "dpois(12, 24)"
   ]
  },
  {
   "cell_type": "code",
   "execution_count": 97,
   "id": "1d12c78d",
   "metadata": {
    "vscode": {
     "languageId": "r"
    }
   },
   "outputs": [
    {
     "data": {
      "text/html": [
       "0.3"
      ],
      "text/latex": [
       "0.3"
      ],
      "text/markdown": [
       "0.3"
      ],
      "text/plain": [
       "[1] 0.3"
      ]
     },
     "metadata": {},
     "output_type": "display_data"
    }
   ],
   "source": [
    "punif(1.5, min=0, max=5)"
   ]
  },
  {
   "cell_type": "code",
   "execution_count": 121,
   "id": "45078bde",
   "metadata": {
    "vscode": {
     "languageId": "r"
    }
   },
   "outputs": [
    {
     "data": {
      "text/html": [
       "15.2698520918209"
      ],
      "text/latex": [
       "15.2698520918209"
      ],
      "text/markdown": [
       "15.2698520918209"
      ],
      "text/plain": [
       "[1] 15.26985"
      ]
     },
     "metadata": {},
     "output_type": "display_data"
    },
    {
     "data": {
      "text/html": [
       "2.82345340564227"
      ],
      "text/latex": [
       "2.82345340564227"
      ],
      "text/markdown": [
       "2.82345340564227"
      ],
      "text/plain": [
       "[1] 2.823453"
      ]
     },
     "metadata": {},
     "output_type": "display_data"
    },
    {
     "data": {
      "text/html": [
       "-1.07664799384871e-16"
      ],
      "text/latex": [
       "-1.07664799384871e-16"
      ],
      "text/markdown": [
       "-1.07664799384871e-16"
      ],
      "text/plain": [
       "[1] -1.076648e-16"
      ]
     },
     "metadata": {},
     "output_type": "display_data"
    },
    {
     "data": {
      "text/html": [
       "1"
      ],
      "text/latex": [
       "1"
      ],
      "text/markdown": [
       "1"
      ],
      "text/plain": [
       "[1] 1"
      ]
     },
     "metadata": {},
     "output_type": "display_data"
    },
    {
     "data": {
      "image/png": "[encoded data removed]",
      "text/plain": [
       "Plot with title \"Histogram of X_standard\""
      ]
     },
     "metadata": {
      "image/png": {
       "height": 420,
       "width": 420
      }
     },
     "output_type": "display_data"
    }
   ],
   "source": [
    "par(bg=\"white\")\n",
    "X<-rnorm(100,15,3)\n",
    "mean(X)\n",
    "sd(X)\n",
    "X_standard<-(X - mean(X))/sd(X)\n",
    "mean(X_standard)\n",
    "sd(X_standard)\n",
    "hist(X_standard)"
   ]
  },
  {
   "cell_type": "code",
   "execution_count": 125,
   "id": "775d0e13",
   "metadata": {
    "vscode": {
     "languageId": "r"
    }
   },
   "outputs": [
    {
     "data": {
      "text/html": [
       "0.841344746068543"
      ],
      "text/latex": [
       "0.841344746068543"
      ],
      "text/markdown": [
       "0.841344746068543"
      ],
      "text/plain": [
       "[1] 0.8413447"
      ]
     },
     "metadata": {},
     "output_type": "display_data"
    },
    {
     "data": {
      "text/html": [
       "0.158655253931457"
      ],
      "text/latex": [
       "0.158655253931457"
      ],
      "text/markdown": [
       "0.158655253931457"
      ],
      "text/plain": [
       "[1] 0.1586553"
      ]
     },
     "metadata": {},
     "output_type": "display_data"
    },
    {
     "data": {
      "text/html": [
       "0.158655253931457"
      ],
      "text/latex": [
       "0.158655253931457"
      ],
      "text/markdown": [
       "0.158655253931457"
      ],
      "text/plain": [
       "[1] 0.1586553"
      ]
     },
     "metadata": {},
     "output_type": "display_data"
    }
   ],
   "source": [
    "pnorm(305,300,5)\n",
    "1-pnorm(305,300,5)\n",
    "pnorm(305,300,5, lower.tail = FALSE)"
   ]
  },
  {
   "cell_type": "code",
   "execution_count": 131,
   "id": "b60dae28",
   "metadata": {
    "vscode": {
     "languageId": "r"
    }
   },
   "outputs": [
    {
     "data": {
      "text/html": [
       "0.316969341940673"
      ],
      "text/latex": [
       "0.316969341940673"
      ],
      "text/markdown": [
       "0.316969341940673"
      ],
      "text/plain": [
       "[1] 0.3169693"
      ]
     },
     "metadata": {},
     "output_type": "display_data"
    }
   ],
   "source": [
    "pnorm(18,20,4.2)"
   ]
  },
  {
   "cell_type": "code",
   "execution_count": 133,
   "id": "832f8eaa",
   "metadata": {
    "vscode": {
     "languageId": "r"
    }
   },
   "outputs": [
    {
     "data": {
      "text/html": [
       "17.1671430491765"
      ],
      "text/latex": [
       "17.1671430491765"
      ],
      "text/markdown": [
       "17.1671430491765"
      ],
      "text/plain": [
       "[1] 17.16714"
      ]
     },
     "metadata": {},
     "output_type": "display_data"
    },
    {
     "data": {
      "text/html": [
       "0.250000000000003"
      ],
      "text/latex": [
       "0.250000000000003"
      ],
      "text/markdown": [
       "0.250000000000003"
      ],
      "text/plain": [
       "[1] 0.25"
      ]
     },
     "metadata": {},
     "output_type": "display_data"
    }
   ],
   "source": [
    "qnorm(0.25, 20, 4.2)\n",
    "pnorm(17.1671430491765, 20, 4.2) # inverse of qnorm"
   ]
  },
  {
   "cell_type": "code",
   "execution_count": 138,
   "id": "40c45eae",
   "metadata": {
    "vscode": {
     "languageId": "r"
    }
   },
   "outputs": [
    {
     "data": {
      "text/html": [
       "4.75269888327731e-111"
      ],
      "text/latex": [
       "4.75269888327731e-111"
      ],
      "text/markdown": [
       "4.75269888327731e-111"
      ],
      "text/plain": [
       "[1] 4.752699e-111"
      ]
     },
     "metadata": {},
     "output_type": "display_data"
    },
    {
     "data": {
      "text/html": [
       "0"
      ],
      "text/latex": [
       "0"
      ],
      "text/markdown": [
       "0"
      ],
      "text/plain": [
       "[1] 0"
      ]
     },
     "metadata": {},
     "output_type": "display_data"
    },
    {
     "data": {
      "text/html": [
       "3015.08204931565"
      ],
      "text/latex": [
       "3015.08204931565"
      ],
      "text/markdown": [
       "3015.08204931565"
      ],
      "text/plain": [
       "[1] 3015.082"
      ]
     },
     "metadata": {},
     "output_type": "display_data"
    }
   ],
   "source": [
    "pnorm(2500, 3000, sqrt(500))\n",
    "1-pnorm(3500, 3000, sqrt(500))\n",
    "qnorm(0.75, 3000, sqrt(500))"
   ]
  },
  {
   "cell_type": "code",
   "execution_count": 160,
   "id": "10c79e60",
   "metadata": {
    "vscode": {
     "languageId": "r"
    }
   },
   "outputs": [
    {
     "data": {
      "image/png": "[encoded data removed]",
      "text/plain": [
       "Plot with title \"Non-normal\""
      ]
     },
     "metadata": {
      "image/png": {
       "height": 360,
       "width": 960
      }
     },
     "output_type": "display_data"
    }
   ],
   "source": [
    "par(bg=\"white\", mfrow=c(1,2))\n",
    "options(repr.plot.width=16, repr.plot.height=6)\n",
    "\n",
    "X_norm <- rnorm(100, 60, 15)\n",
    "X_exp <- rexp(100, 2)\n",
    "\n",
    "qqnorm(X_norm, main=\"Normal\")\n",
    "qqline(X_norm)\n",
    "\n",
    "qqnorm(X_exp, main=\"Non-normal\")\n",
    "qqline(X_exp)"
   ]
  },
  {
   "cell_type": "code",
   "execution_count": null,
   "id": "c3414482",
   "metadata": {
    "vscode": {
     "languageId": "r"
    }
   },
   "outputs": [
    {
     "data": {
      "text/plain": [
       "\n",
       "\tShapiro-Wilk normality test\n",
       "\n",
       "data:  X_norm\n",
       "W = 0.98437, p-value = 0.2856\n"
      ]
     },
     "metadata": {},
     "output_type": "display_data"
    },
    {
     "data": {
      "text/plain": [
       "\n",
       "\tShapiro-Wilk normality test\n",
       "\n",
       "data:  X_exp\n",
       "W = 0.82332, p-value = 1.377e-09\n"
      ]
     },
     "metadata": {},
     "output_type": "display_data"
    }
   ],
   "source": [
    "shapiro.test(X_norm)\n",
    "shapiro.test(X_exp)"
   ]
  },
  {
   "cell_type": "code",
   "execution_count": 170,
   "id": "9dab0076",
   "metadata": {
    "vscode": {
     "languageId": "r"
    }
   },
   "outputs": [
    {
     "data": {
      "text/plain": [
       "\n",
       "\tAnderson-Darling normality test\n",
       "\n",
       "data:  X_norm\n",
       "A = 0.40073, p-value = 0.3551\n"
      ]
     },
     "metadata": {},
     "output_type": "display_data"
    },
    {
     "data": {
      "text/plain": [
       "\n",
       "\tAnderson-Darling normality test\n",
       "\n",
       "data:  X_exp\n",
       "A = 4.304, p-value = 9.124e-11\n"
      ]
     },
     "metadata": {},
     "output_type": "display_data"
    }
   ],
   "source": [
    "# install.packages('nortest')\n",
    "library(nortest)\n",
    "ad.test(X_norm)\n",
    "ad.test(X_exp)"
   ]
  },
  {
   "cell_type": "code",
   "execution_count": null,
   "id": "b5c151c2",
   "metadata": {
    "vscode": {
     "languageId": "r"
    }
   },
   "outputs": [
    {
     "data": {
      "text/plain": [
       "\n",
       "\tAnderson-Darling normality test\n",
       "\n",
       "data:  1:10\n",
       "A = 0.14111, p-value = 0.9567\n"
      ]
     },
     "metadata": {},
     "output_type": "display_data"
    },
    {
     "data": {
      "text/plain": [
       "\n",
       "\tAnderson-Darling normality test\n",
       "\n",
       "data:  log10(1:10)\n",
       "A = 0.35503, p-value = 0.3832\n"
      ]
     },
     "metadata": {},
     "output_type": "display_data"
    },
    {
     "ename": "",
     "evalue": "",
     "output_type": "error",
     "traceback": [
      "\u001b[1;31mThe Kernel crashed while executing code in the current cell or a previous cell. \n",
      "\u001b[1;31mPlease review the code in the cell(s) to identify a possible cause of the failure. \n",
      "\u001b[1;31mClick <a href='https://aka.ms/vscodeJupyterKernelCrash'>here</a> for more info. \n",
      "\u001b[1;31mView Jupyter <a href='command:jupyter.viewOutput'>log</a> for further details."
     ]
    }
   ],
   "source": [
    "ad.test(1:10)\n",
    "ad.test(log10(1:10))"
   ]
  }
 ],
 "metadata": {
  "kernelspec": {
   "display_name": "R",
   "language": "R",
   "name": "ir"
  },
  "language_info": {
   "codemirror_mode": "r",
   "file_extension": ".r",
   "mimetype": "text/x-r-source",
   "name": "R",
   "pygments_lexer": "r",
   "version": "4.4.1"
  }
 },
 "nbformat": 4,
 "nbformat_minor": 5
}
