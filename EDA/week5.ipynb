{
 "cells": [
  {
   "cell_type": "code",
   "execution_count": 3,
   "metadata": {
    "vscode": {
     "languageId": "r"
    }
   },
   "outputs": [
    {
     "data": {
      "text/html": [
       "<table class=\"dataframe\">\n",
       "<caption>A data.frame: 6 × 9</caption>\n",
       "<thead>\n",
       "\t<tr><th></th><th scope=col>Income</th><th scope=col>Education</th><th scope=col>Age</th><th scope=col>Employ</th><th scope=col>Savings</th><th scope=col>Debt</th><th scope=col>Creditcards</th><th scope=col>Gender</th><th scope=col>Approved</th></tr>\n",
       "\t<tr><th></th><th scope=col>&lt;int&gt;</th><th scope=col>&lt;int&gt;</th><th scope=col>&lt;int&gt;</th><th scope=col>&lt;int&gt;</th><th scope=col>&lt;int&gt;</th><th scope=col>&lt;int&gt;</th><th scope=col>&lt;int&gt;</th><th scope=col>&lt;int&gt;</th><th scope=col>&lt;int&gt;</th></tr>\n",
       "</thead>\n",
       "<tbody>\n",
       "\t<tr><th scope=row>1</th><td>21240</td><td>1</td><td>26</td><td>3</td><td> 100</td><td>10010</td><td>3</td><td>1</td><td>0</td></tr>\n",
       "\t<tr><th scope=row>2</th><td>26530</td><td>1</td><td>30</td><td>2</td><td>   0</td><td>12000</td><td>2</td><td>1</td><td>0</td></tr>\n",
       "\t<tr><th scope=row>3</th><td>29800</td><td>1</td><td>27</td><td>3</td><td> 100</td><td>10000</td><td>5</td><td>1</td><td>0</td></tr>\n",
       "\t<tr><th scope=row>4</th><td>41000</td><td>1</td><td>34</td><td>2</td><td>5000</td><td>  200</td><td>3</td><td>1</td><td>0</td></tr>\n",
       "\t<tr><th scope=row>5</th><td>41200</td><td>1</td><td>34</td><td>1</td><td>1000</td><td> 1200</td><td>2</td><td>1</td><td>0</td></tr>\n",
       "\t<tr><th scope=row>6</th><td>58700</td><td>1</td><td>38</td><td>1</td><td>4500</td><td> 7800</td><td>5</td><td>2</td><td>0</td></tr>\n",
       "</tbody>\n",
       "</table>\n"
      ],
      "text/latex": [
       "A data.frame: 6 × 9\n",
       "\\begin{tabular}{r|lllllllll}\n",
       "  & Income & Education & Age & Employ & Savings & Debt & Creditcards & Gender & Approved\\\\\n",
       "  & <int> & <int> & <int> & <int> & <int> & <int> & <int> & <int> & <int>\\\\\n",
       "\\hline\n",
       "\t1 & 21240 & 1 & 26 & 3 &  100 & 10010 & 3 & 1 & 0\\\\\n",
       "\t2 & 26530 & 1 & 30 & 2 &    0 & 12000 & 2 & 1 & 0\\\\\n",
       "\t3 & 29800 & 1 & 27 & 3 &  100 & 10000 & 5 & 1 & 0\\\\\n",
       "\t4 & 41000 & 1 & 34 & 2 & 5000 &   200 & 3 & 1 & 0\\\\\n",
       "\t5 & 41200 & 1 & 34 & 1 & 1000 &  1200 & 2 & 1 & 0\\\\\n",
       "\t6 & 58700 & 1 & 38 & 1 & 4500 &  7800 & 5 & 2 & 0\\\\\n",
       "\\end{tabular}\n"
      ],
      "text/markdown": [
       "\n",
       "A data.frame: 6 × 9\n",
       "\n",
       "| <!--/--> | Income &lt;int&gt; | Education &lt;int&gt; | Age &lt;int&gt; | Employ &lt;int&gt; | Savings &lt;int&gt; | Debt &lt;int&gt; | Creditcards &lt;int&gt; | Gender &lt;int&gt; | Approved &lt;int&gt; |\n",
       "|---|---|---|---|---|---|---|---|---|---|\n",
       "| 1 | 21240 | 1 | 26 | 3 |  100 | 10010 | 3 | 1 | 0 |\n",
       "| 2 | 26530 | 1 | 30 | 2 |    0 | 12000 | 2 | 1 | 0 |\n",
       "| 3 | 29800 | 1 | 27 | 3 |  100 | 10000 | 5 | 1 | 0 |\n",
       "| 4 | 41000 | 1 | 34 | 2 | 5000 |   200 | 3 | 1 | 0 |\n",
       "| 5 | 41200 | 1 | 34 | 1 | 1000 |  1200 | 2 | 1 | 0 |\n",
       "| 6 | 58700 | 1 | 38 | 1 | 4500 |  7800 | 5 | 2 | 0 |\n",
       "\n"
      ],
      "text/plain": [
       "  Income Education Age Employ Savings Debt  Creditcards Gender Approved\n",
       "1 21240  1         26  3       100    10010 3           1      0       \n",
       "2 26530  1         30  2         0    12000 2           1      0       \n",
       "3 29800  1         27  3       100    10000 5           1      0       \n",
       "4 41000  1         34  2      5000      200 3           1      0       \n",
       "5 41200  1         34  1      1000     1200 2           1      0       \n",
       "6 58700  1         38  1      4500     7800 5           2      0       "
      ]
     },
     "metadata": {},
     "output_type": "display_data"
    }
   ],
   "source": [
    "df <- read.csv(\"loan applicants.csv\")\n",
    "attach(df)\n",
    "head(df)"
   ]
  },
  {
   "cell_type": "code",
   "execution_count": 7,
   "metadata": {
    "vscode": {
     "languageId": "r"
    }
   },
   "outputs": [
    {
     "data": {
      "text/html": [
       "1.00689655172414"
      ],
      "text/latex": [
       "1.00689655172414"
      ],
      "text/markdown": [
       "1.00689655172414"
      ],
      "text/plain": [
       "[1] 1.006897"
      ]
     },
     "metadata": {},
     "output_type": "display_data"
    }
   ],
   "source": [
    "var(Education) # doesn't mak sense"
   ]
  },
  {
   "cell_type": "code",
   "execution_count": 12,
   "metadata": {
    "vscode": {
     "languageId": "r"
    }
   },
   "outputs": [
    {
     "data": {
      "text/html": [
       "21.4068965517241"
      ],
      "text/latex": [
       "21.4068965517241"
      ],
      "text/markdown": [
       "21.4068965517241"
      ],
      "text/plain": [
       "[1] 21.4069"
      ]
     },
     "metadata": {},
     "output_type": "display_data"
    },
    {
     "data": {
      "text/html": [
       "342451638.62069"
      ],
      "text/latex": [
       "342451638.62069"
      ],
      "text/markdown": [
       "342451638.62069"
      ],
      "text/plain": [
       "[1] 342451639"
      ]
     },
     "metadata": {},
     "output_type": "display_data"
    }
   ],
   "source": [
    "var(Age); var(Income)"
   ]
  },
  {
   "cell_type": "code",
   "execution_count": 15,
   "metadata": {
    "vscode": {
     "languageId": "r"
    }
   },
   "outputs": [
    {
     "data": {
      "text/html": [
       "18505.4488900078"
      ],
      "text/latex": [
       "18505.4488900078"
      ],
      "text/markdown": [
       "18505.4488900078"
      ],
      "text/plain": [
       "[1] 18505.45"
      ]
     },
     "metadata": {},
     "output_type": "display_data"
    },
    {
     "data": {
      "text/html": [
       "18505.4488900078"
      ],
      "text/latex": [
       "18505.4488900078"
      ],
      "text/markdown": [
       "18505.4488900078"
      ],
      "text/plain": [
       "[1] 18505.45"
      ]
     },
     "metadata": {},
     "output_type": "display_data"
    }
   ],
   "source": [
    "sd(Income); sqrt(var(Income)) "
   ]
  },
  {
   "cell_type": "code",
   "execution_count": 25,
   "metadata": {
    "vscode": {
     "languageId": "r"
    }
   },
   "outputs": [
    {
     "data": {
      "text/html": [
       "<style>\n",
       ".dl-inline {width: auto; margin:0; padding: 0}\n",
       ".dl-inline>dt, .dl-inline>dd {float: none; width: auto; display: inline-block}\n",
       ".dl-inline>dt::after {content: \":\\0020\"; padding-right: .5ex}\n",
       ".dl-inline>dt:not(:first-of-type) {padding-left: .5ex}\n",
       "</style><dl class=dl-inline><dt>1</dt><dd>14190.1215639613</dd><dt>2</dt><dd>19862.8765854798</dd></dl>\n"
      ],
      "text/latex": [
       "\\begin{description*}\n",
       "\\item[1] 14190.1215639613\n",
       "\\item[2] 19862.8765854798\n",
       "\\end{description*}\n"
      ],
      "text/markdown": [
       "1\n",
       ":   14190.12156396132\n",
       ":   19862.8765854798\n",
       "\n"
      ],
      "text/plain": [
       "       1        2 \n",
       "14190.12 19862.88 "
      ]
     },
     "metadata": {},
     "output_type": "display_data"
    },
    {
     "data": {
      "text/html": [
       "<table class=\"dataframe\">\n",
       "<caption>A data.frame: 2 × 2</caption>\n",
       "<thead>\n",
       "\t<tr><th scope=col>Gender</th><th scope=col>Income</th></tr>\n",
       "\t<tr><th scope=col>&lt;int&gt;</th><th scope=col>&lt;dbl&gt;</th></tr>\n",
       "</thead>\n",
       "<tbody>\n",
       "\t<tr><td>1</td><td>14190.12</td></tr>\n",
       "\t<tr><td>2</td><td>19862.88</td></tr>\n",
       "</tbody>\n",
       "</table>\n"
      ],
      "text/latex": [
       "A data.frame: 2 × 2\n",
       "\\begin{tabular}{ll}\n",
       " Gender & Income\\\\\n",
       " <int> & <dbl>\\\\\n",
       "\\hline\n",
       "\t 1 & 14190.12\\\\\n",
       "\t 2 & 19862.88\\\\\n",
       "\\end{tabular}\n"
      ],
      "text/markdown": [
       "\n",
       "A data.frame: 2 × 2\n",
       "\n",
       "| Gender &lt;int&gt; | Income &lt;dbl&gt; |\n",
       "|---|---|\n",
       "| 1 | 14190.12 |\n",
       "| 2 | 19862.88 |\n",
       "\n"
      ],
      "text/plain": [
       "  Gender Income  \n",
       "1 1      14190.12\n",
       "2 2      19862.88"
      ]
     },
     "metadata": {},
     "output_type": "display_data"
    }
   ],
   "source": [
    "tapply(Income, Gender, sd);\n",
    "aggregate(Income ~ Gender, df, sd)"
   ]
  },
  {
   "cell_type": "code",
   "execution_count": 42,
   "metadata": {
    "vscode": {
     "languageId": "r"
    }
   },
   "outputs": [
    {
     "data": {
      "text/html": [
       "<style>\n",
       ".dl-inline {width: auto; margin:0; padding: 0}\n",
       ".dl-inline>dt, .dl-inline>dd {float: none; width: auto; display: inline-block}\n",
       ".dl-inline>dt::after {content: \":\\0020\"; padding-right: .5ex}\n",
       ".dl-inline>dt:not(:first-of-type) {padding-left: .5ex}\n",
       "</style><dl class=dl-inline><dt>0</dt><dd>11585.1051831765</dd><dt>1</dt><dd>22451.9868954967</dd></dl>\n"
      ],
      "text/latex": [
       "\\begin{description*}\n",
       "\\item[0] 11585.1051831765\n",
       "\\item[1] 22451.9868954967\n",
       "\\end{description*}\n"
      ],
      "text/markdown": [
       "0\n",
       ":   11585.10518317651\n",
       ":   22451.9868954967\n",
       "\n"
      ],
      "text/plain": [
       "       0        1 \n",
       "11585.11 22451.99 "
      ]
     },
     "metadata": {},
     "output_type": "display_data"
    }
   ],
   "source": [
    "par(bg=\"white\")\n",
    "t <- tapply(Income, Approved, sd)\n",
    "t"
   ]
  },
  {
   "cell_type": "code",
   "execution_count": 54,
   "metadata": {
    "vscode": {
     "languageId": "r"
    }
   },
   "outputs": [
    {
     "data": {
      "text/plain": [
       "$`0`\n",
       "   Min. 1st Qu.  Median    Mean 3rd Qu.    Max. \n",
       "  21240   35150   40500   41761   50000   62200 \n",
       "\n",
       "$`1`\n",
       "   Min. 1st Qu.  Median    Mean 3rd Qu.    Max. \n",
       "  34600   41275   63100   62416   84050   91100 \n"
      ]
     },
     "metadata": {},
     "output_type": "display_data"
    }
   ],
   "source": [
    "tapply(Income, Approved, summary)"
   ]
  },
  {
   "cell_type": "code",
   "execution_count": 56,
   "metadata": {
    "vscode": {
     "languageId": "r"
    }
   },
   "outputs": [
    {
     "data": {
      "image/png": "[encoded data removed]",
      "text/plain": [
       "plot without title"
      ]
     },
     "metadata": {
      "image/png": {
       "height": 420,
       "width": 420
      }
     },
     "output_type": "display_data"
    }
   ],
   "source": [
    "par(bg=\"white\")\n",
    "boxplot(Income ~ Approved)"
   ]
  },
  {
   "cell_type": "code",
   "execution_count": 57,
   "metadata": {
    "vscode": {
     "languageId": "r"
    }
   },
   "outputs": [
    {
     "data": {
      "image/png": "[encoded data removed]",
      "text/plain": [
       "Plot with title \"Income Distribution by Approval Status\""
      ]
     },
     "metadata": {
      "image/png": {
       "height": 420,
       "width": 420
      }
     },
     "output_type": "display_data"
    }
   ],
   "source": [
    "par(bg=\"white\")\n",
    "boxplot(Income ~ Approved,\n",
    "col = c(\"red\", \"blue\"),\n",
    "main = \"Income Distribution by Approval Status\",\n",
    "xlab = \"Approval Status\", ylab=\"Income\",\n",
    "names = c(\"Not Approved\", \"Approved\"))"
   ]
  }
 ],
 "metadata": {
  "kernelspec": {
   "display_name": "R",
   "language": "R",
   "name": "ir"
  },
  "language_info": {
   "codemirror_mode": "r",
   "file_extension": ".r",
   "mimetype": "text/x-r-source",
   "name": "R",
   "pygments_lexer": "r",
   "version": "4.4.1"
  }
 },
 "nbformat": 4,
 "nbformat_minor": 2
}
