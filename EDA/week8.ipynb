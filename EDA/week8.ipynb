{
 "cells": [
  {
   "cell_type": "code",
   "execution_count": 3,
   "metadata": {
    "vscode": {
     "languageId": "r"
    }
   },
   "outputs": [],
   "source": [
    "# install.packages('gds')\n",
    "library(\"gds\")"
   ]
  },
  {
   "cell_type": "code",
   "execution_count": 9,
   "metadata": {
    "vscode": {
     "languageId": "r"
    }
   },
   "outputs": [
    {
     "name": "stdout",
     "output_type": "stream",
     "text": [
      "The input data is: \n",
      "  lowerLimit upperLimit frequency\n",
      "1          4          8         2\n",
      "2          9         13         4\n",
      "3         14         18         7\n",
      "4         19         23        14\n",
      "5         24         28         8\n",
      "6         29         33         5\n",
      "\n",
      "For the given grouped data \n",
      "The mean is:  20.625\n",
      "The median is:  21\n",
      "The mode is:  21.15385\n",
      "The variance is:  42.98438\n",
      "The standard deviation is:  6.556247\n",
      "The coefficient of variance (around the mean) is:  31.78786\n",
      "The 1st quartile is:  16.28571\n",
      "The 2nd quartile is:  21\n",
      "The 3rd quartile is:  25.5\n",
      "The inter-quartile range is:  9.214286\n",
      "The skewness is:  -0.3272163\n",
      "The kurtosis is:  -0.3799162\n"
     ]
    }
   ],
   "source": [
    "income<-gds(c(4,9,14,19,24,29),c(8,13,18,23,28,33),c(2,4,7,14,8,5))"
   ]
  },
  {
   "cell_type": "code",
   "execution_count": 16,
   "metadata": {
    "vscode": {
     "languageId": "r"
    }
   },
   "outputs": [
    {
     "name": "stdout",
     "output_type": "stream",
     "text": [
      "[1] 21\n"
     ]
    }
   ],
   "source": [
    "print(18.5+(5/14)*7)"
   ]
  },
  {
   "cell_type": "code",
   "execution_count": 10,
   "metadata": {
    "vscode": {
     "languageId": "r"
    }
   },
   "outputs": [
    {
     "data": {
      "text/html": [
       "<dl>\n",
       "\t<dt>$mean</dt>\n",
       "\t\t<dd>20.625</dd>\n",
       "\t<dt>$median</dt>\n",
       "\t\t<dd>21</dd>\n",
       "\t<dt>$mode</dt>\n",
       "\t\t<dd>21.1538461538462</dd>\n",
       "\t<dt>$var</dt>\n",
       "\t\t<dd>42.984375</dd>\n",
       "\t<dt>$stdDev</dt>\n",
       "\t\t<dd>6.55624702097168</dd>\n",
       "\t<dt>$cv</dt>\n",
       "\t\t<dd>31.7878643441051</dd>\n",
       "\t<dt>$quartile1</dt>\n",
       "\t\t<dd>16.2857142857143</dd>\n",
       "\t<dt>$quartile2</dt>\n",
       "\t\t<dd>21</dd>\n",
       "\t<dt>$quartile3</dt>\n",
       "\t\t<dd>25.5</dd>\n",
       "\t<dt>$IQR</dt>\n",
       "\t\t<dd>9.21428571428572</dd>\n",
       "\t<dt>$skewness</dt>\n",
       "\t\t<dd>-0.327216285355308</dd>\n",
       "\t<dt>$kurtosis</dt>\n",
       "\t\t<dd>-0.379916176015304</dd>\n",
       "</dl>\n"
      ],
      "text/latex": [
       "\\begin{description}\n",
       "\\item[\\$mean] 20.625\n",
       "\\item[\\$median] 21\n",
       "\\item[\\$mode] 21.1538461538462\n",
       "\\item[\\$var] 42.984375\n",
       "\\item[\\$stdDev] 6.55624702097168\n",
       "\\item[\\$cv] 31.7878643441051\n",
       "\\item[\\$quartile1] 16.2857142857143\n",
       "\\item[\\$quartile2] 21\n",
       "\\item[\\$quartile3] 25.5\n",
       "\\item[\\$IQR] 9.21428571428572\n",
       "\\item[\\$skewness] -0.327216285355308\n",
       "\\item[\\$kurtosis] -0.379916176015304\n",
       "\\end{description}\n"
      ],
      "text/markdown": [
       "$mean\n",
       ":   20.625\n",
       "$median\n",
       ":   21\n",
       "$mode\n",
       ":   21.1538461538462\n",
       "$var\n",
       ":   42.984375\n",
       "$stdDev\n",
       ":   6.55624702097168\n",
       "$cv\n",
       ":   31.7878643441051\n",
       "$quartile1\n",
       ":   16.2857142857143\n",
       "$quartile2\n",
       ":   21\n",
       "$quartile3\n",
       ":   25.5\n",
       "$IQR\n",
       ":   9.21428571428572\n",
       "$skewness\n",
       ":   -0.327216285355308\n",
       "$kurtosis\n",
       ":   -0.379916176015304\n",
       "\n",
       "\n"
      ],
      "text/plain": [
       "$mean\n",
       "[1] 20.625\n",
       "\n",
       "$median\n",
       "[1] 21\n",
       "\n",
       "$mode\n",
       "[1] 21.15385\n",
       "\n",
       "$var\n",
       "[1] 42.98438\n",
       "\n",
       "$stdDev\n",
       "[1] 6.556247\n",
       "\n",
       "$cv\n",
       "[1] 31.78786\n",
       "\n",
       "$quartile1\n",
       "[1] 16.28571\n",
       "\n",
       "$quartile2\n",
       "[1] 21\n",
       "\n",
       "$quartile3\n",
       "[1] 25.5\n",
       "\n",
       "$IQR\n",
       "[1] 9.214286\n",
       "\n",
       "$skewness\n",
       "[1] -0.3272163\n",
       "\n",
       "$kurtosis\n",
       "[1] -0.3799162\n"
      ]
     },
     "metadata": {},
     "output_type": "display_data"
    }
   ],
   "source": [
    "income"
   ]
  },
  {
   "cell_type": "code",
   "execution_count": null,
   "metadata": {
    "vscode": {
     "languageId": "r"
    }
   },
   "outputs": [],
   "source": [
    "income<-gds(c(4,9,14,19,24,29),c(8,13,18,23,28,33),c(2,4,7,14,8,5))"
   ]
  },
  {
   "cell_type": "code",
   "execution_count": 11,
   "metadata": {
    "vscode": {
     "languageId": "r"
    }
   },
   "outputs": [
    {
     "name": "stdout",
     "output_type": "stream",
     "text": [
      "The input data is: \n",
      "  lowerLimit upperLimit frequency\n",
      "1         10         14        11\n",
      "2         15         19        20\n",
      "3         20         24        35\n",
      "4         25         29        20\n",
      "5         30         34         8\n",
      "6         35         39         6\n",
      "\n",
      "For the given grouped data \n",
      "The mean is:  22.6\n",
      "The median is:  22.17143\n",
      "The mode is:  22\n",
      "The variance is:  42.14\n",
      "The standard deviation is:  6.491533\n",
      "The coefficient of variance (around the mean) is:  28.7236\n",
      "The 1st quartile is:  17.8\n",
      "The 2nd quartile is:  22.17143\n",
      "The 3rd quartile is:  26.8\n",
      "The inter-quartile range is:  9\n",
      "The skewness is:  0.3525164\n",
      "The kurtosis is:  -0.2604082\n"
     ]
    }
   ],
   "source": [
    "income<-gds(c(10,15,20,25,30,35),c(14,19,24,29,34,39),c(11,20,35,20,8,6))"
   ]
  }
 ],
 "metadata": {
  "kernelspec": {
   "display_name": "R",
   "language": "R",
   "name": "ir"
  },
  "language_info": {
   "codemirror_mode": "r",
   "file_extension": ".r",
   "mimetype": "text/x-r-source",
   "name": "R",
   "pygments_lexer": "r",
   "version": "4.4.1"
  }
 },
 "nbformat": 4,
 "nbformat_minor": 2
}
