{
 "cells": [
  {
   "cell_type": "code",
   "execution_count": null,
   "metadata": {
    "vscode": {
     "languageId": "r"
    }
   },
   "outputs": [],
   "source": [
    "girls <- c(2,4,3,3,5,1.5,3,2,2.5)\n",
    "boys <- c(2,4,3.5,3,5,4,3,2,10,15)"
   ]
  },
  {
   "cell_type": "code",
   "execution_count": 12,
   "metadata": {
    "vscode": {
     "languageId": "r"
    }
   },
   "outputs": [
    {
     "data": {
      "text/html": [
       "5.15"
      ],
      "text/latex": [
       "5.15"
      ],
      "text/markdown": [
       "5.15"
      ],
      "text/plain": [
       "[1] 5.15"
      ]
     },
     "metadata": {},
     "output_type": "display_data"
    },
    {
     "data": {
      "text/html": [
       "2.88888888888889"
      ],
      "text/latex": [
       "2.88888888888889"
      ],
      "text/markdown": [
       "2.88888888888889"
      ],
      "text/plain": [
       "[1] 2.888889"
      ]
     },
     "metadata": {},
     "output_type": "display_data"
    }
   ],
   "source": [
    "mean(boys); mean(girls)"
   ]
  },
  {
   "cell_type": "code",
   "execution_count": 18,
   "metadata": {
    "vscode": {
     "languageId": "r"
    }
   },
   "outputs": [
    {
     "data": {
      "text/html": [
       "<table class=\"dataframe\">\n",
       "<caption>A data.frame: 6 × 9</caption>\n",
       "<thead>\n",
       "\t<tr><th></th><th scope=col>Income</th><th scope=col>Education</th><th scope=col>Age</th><th scope=col>Employ</th><th scope=col>Savings</th><th scope=col>Debt</th><th scope=col>Creditcards</th><th scope=col>Gender</th><th scope=col>Approved</th></tr>\n",
       "\t<tr><th></th><th scope=col>&lt;int&gt;</th><th scope=col>&lt;int&gt;</th><th scope=col>&lt;int&gt;</th><th scope=col>&lt;int&gt;</th><th scope=col>&lt;int&gt;</th><th scope=col>&lt;int&gt;</th><th scope=col>&lt;int&gt;</th><th scope=col>&lt;int&gt;</th><th scope=col>&lt;int&gt;</th></tr>\n",
       "</thead>\n",
       "<tbody>\n",
       "\t<tr><th scope=row>1</th><td>21240</td><td>1</td><td>26</td><td>3</td><td> 100</td><td>10010</td><td>3</td><td>1</td><td>0</td></tr>\n",
       "\t<tr><th scope=row>2</th><td>26530</td><td>1</td><td>30</td><td>2</td><td>   0</td><td>12000</td><td>2</td><td>1</td><td>0</td></tr>\n",
       "\t<tr><th scope=row>3</th><td>29800</td><td>1</td><td>27</td><td>3</td><td> 100</td><td>10000</td><td>5</td><td>1</td><td>0</td></tr>\n",
       "\t<tr><th scope=row>4</th><td>41000</td><td>1</td><td>34</td><td>2</td><td>5000</td><td>  200</td><td>3</td><td>1</td><td>0</td></tr>\n",
       "\t<tr><th scope=row>5</th><td>41200</td><td>1</td><td>34</td><td>1</td><td>1000</td><td> 1200</td><td>2</td><td>1</td><td>0</td></tr>\n",
       "\t<tr><th scope=row>6</th><td>58700</td><td>1</td><td>38</td><td>1</td><td>4500</td><td> 7800</td><td>5</td><td>2</td><td>0</td></tr>\n",
       "</tbody>\n",
       "</table>\n"
      ],
      "text/latex": [
       "A data.frame: 6 × 9\n",
       "\\begin{tabular}{r|lllllllll}\n",
       "  & Income & Education & Age & Employ & Savings & Debt & Creditcards & Gender & Approved\\\\\n",
       "  & <int> & <int> & <int> & <int> & <int> & <int> & <int> & <int> & <int>\\\\\n",
       "\\hline\n",
       "\t1 & 21240 & 1 & 26 & 3 &  100 & 10010 & 3 & 1 & 0\\\\\n",
       "\t2 & 26530 & 1 & 30 & 2 &    0 & 12000 & 2 & 1 & 0\\\\\n",
       "\t3 & 29800 & 1 & 27 & 3 &  100 & 10000 & 5 & 1 & 0\\\\\n",
       "\t4 & 41000 & 1 & 34 & 2 & 5000 &   200 & 3 & 1 & 0\\\\\n",
       "\t5 & 41200 & 1 & 34 & 1 & 1000 &  1200 & 2 & 1 & 0\\\\\n",
       "\t6 & 58700 & 1 & 38 & 1 & 4500 &  7800 & 5 & 2 & 0\\\\\n",
       "\\end{tabular}\n"
      ],
      "text/markdown": [
       "\n",
       "A data.frame: 6 × 9\n",
       "\n",
       "| <!--/--> | Income &lt;int&gt; | Education &lt;int&gt; | Age &lt;int&gt; | Employ &lt;int&gt; | Savings &lt;int&gt; | Debt &lt;int&gt; | Creditcards &lt;int&gt; | Gender &lt;int&gt; | Approved &lt;int&gt; |\n",
       "|---|---|---|---|---|---|---|---|---|---|\n",
       "| 1 | 21240 | 1 | 26 | 3 |  100 | 10010 | 3 | 1 | 0 |\n",
       "| 2 | 26530 | 1 | 30 | 2 |    0 | 12000 | 2 | 1 | 0 |\n",
       "| 3 | 29800 | 1 | 27 | 3 |  100 | 10000 | 5 | 1 | 0 |\n",
       "| 4 | 41000 | 1 | 34 | 2 | 5000 |   200 | 3 | 1 | 0 |\n",
       "| 5 | 41200 | 1 | 34 | 1 | 1000 |  1200 | 2 | 1 | 0 |\n",
       "| 6 | 58700 | 1 | 38 | 1 | 4500 |  7800 | 5 | 2 | 0 |\n",
       "\n"
      ],
      "text/plain": [
       "  Income Education Age Employ Savings Debt  Creditcards Gender Approved\n",
       "1 21240  1         26  3       100    10010 3           1      0       \n",
       "2 26530  1         30  2         0    12000 2           1      0       \n",
       "3 29800  1         27  3       100    10000 5           1      0       \n",
       "4 41000  1         34  2      5000      200 3           1      0       \n",
       "5 41200  1         34  1      1000     1200 2           1      0       \n",
       "6 58700  1         38  1      4500     7800 5           2      0       "
      ]
     },
     "metadata": {},
     "output_type": "display_data"
    }
   ],
   "source": [
    "df <- read.csv(\"loan applicants.csv\")\n",
    "attach(df)\n",
    "head(df)"
   ]
  },
  {
   "cell_type": "code",
   "execution_count": 41,
   "metadata": {
    "vscode": {
     "languageId": "r"
    }
   },
   "outputs": [
    {
     "data": {
      "text/html": [
       "48646"
      ],
      "text/latex": [
       "48646"
      ],
      "text/markdown": [
       "48646"
      ],
      "text/plain": [
       "[1] 48646"
      ]
     },
     "metadata": {},
     "output_type": "display_data"
    }
   ],
   "source": [
    "mean(Income)"
   ]
  },
  {
   "cell_type": "code",
   "execution_count": 29,
   "metadata": {
    "vscode": {
     "languageId": "r"
    }
   },
   "outputs": [
    {
     "data": {
      "text/html": [
       "<table class=\"dataframe\">\n",
       "<caption>A data.frame: 2 × 2</caption>\n",
       "<thead>\n",
       "\t<tr><th scope=col>Gender</th><th scope=col>Income</th></tr>\n",
       "\t<tr><th scope=col>&lt;int&gt;</th><th scope=col>&lt;dbl&gt;</th></tr>\n",
       "</thead>\n",
       "<tbody>\n",
       "\t<tr><td>1</td><td>41355.00</td></tr>\n",
       "\t<tr><td>2</td><td>55025.62</td></tr>\n",
       "</tbody>\n",
       "</table>\n"
      ],
      "text/latex": [
       "A data.frame: 2 × 2\n",
       "\\begin{tabular}{ll}\n",
       " Gender & Income\\\\\n",
       " <int> & <dbl>\\\\\n",
       "\\hline\n",
       "\t 1 & 41355.00\\\\\n",
       "\t 2 & 55025.62\\\\\n",
       "\\end{tabular}\n"
      ],
      "text/markdown": [
       "\n",
       "A data.frame: 2 × 2\n",
       "\n",
       "| Gender &lt;int&gt; | Income &lt;dbl&gt; |\n",
       "|---|---|\n",
       "| 1 | 41355.00 |\n",
       "| 2 | 55025.62 |\n",
       "\n"
      ],
      "text/plain": [
       "  Gender Income  \n",
       "1 1      41355.00\n",
       "2 2      55025.62"
      ]
     },
     "metadata": {},
     "output_type": "display_data"
    }
   ],
   "source": [
    "aggregate(Income ~ Gender, df, mean)"
   ]
  },
  {
   "cell_type": "code",
   "execution_count": 30,
   "metadata": {
    "vscode": {
     "languageId": "r"
    }
   },
   "outputs": [
    {
     "data": {
      "text/html": [
       "41355"
      ],
      "text/latex": [
       "41355"
      ],
      "text/markdown": [
       "41355"
      ],
      "text/plain": [
       "[1] 41355"
      ]
     },
     "metadata": {},
     "output_type": "display_data"
    },
    {
     "data": {
      "text/html": [
       "55025.625"
      ],
      "text/latex": [
       "55025.625"
      ],
      "text/markdown": [
       "55025.625"
      ],
      "text/plain": [
       "[1] 55025.62"
      ]
     },
     "metadata": {},
     "output_type": "display_data"
    }
   ],
   "source": [
    "mean(Income[Gender==1]); mean(Income[Gender==2])"
   ]
  },
  {
   "cell_type": "code",
   "execution_count": 34,
   "metadata": {
    "vscode": {
     "languageId": "r"
    }
   },
   "outputs": [
    {
     "data": {
      "text/html": [
       "<style>\n",
       ".dl-inline {width: auto; margin:0; padding: 0}\n",
       ".dl-inline>dt, .dl-inline>dd {float: none; width: auto; display: inline-block}\n",
       ".dl-inline>dt::after {content: \":\\0020\"; padding-right: .5ex}\n",
       ".dl-inline>dt:not(:first-of-type) {padding-left: .5ex}\n",
       "</style><dl class=dl-inline><dt>1</dt><dd>41355</dd><dt>2</dt><dd>55025.625</dd></dl>\n"
      ],
      "text/latex": [
       "\\begin{description*}\n",
       "\\item[1] 41355\n",
       "\\item[2] 55025.625\n",
       "\\end{description*}\n"
      ],
      "text/markdown": [
       "1\n",
       ":   413552\n",
       ":   55025.625\n",
       "\n"
      ],
      "text/plain": [
       "       1        2 \n",
       "41355.00 55025.62 "
      ]
     },
     "metadata": {},
     "output_type": "display_data"
    }
   ],
   "source": [
    "tapply(Income, Gender, mean)"
   ]
  },
  {
   "cell_type": "code",
   "execution_count": 32,
   "metadata": {
    "vscode": {
     "languageId": "r"
    }
   },
   "outputs": [
    {
     "data": {
      "text/html": [
       "<table class=\"dataframe\">\n",
       "<caption>A data.frame: 3 × 2</caption>\n",
       "<thead>\n",
       "\t<tr><th scope=col>Employ</th><th scope=col>Income</th></tr>\n",
       "\t<tr><th scope=col>&lt;int&gt;</th><th scope=col>&lt;dbl&gt;</th></tr>\n",
       "</thead>\n",
       "<tbody>\n",
       "\t<tr><td>1</td><td>51520.00</td></tr>\n",
       "\t<tr><td>2</td><td>46008.00</td></tr>\n",
       "\t<tr><td>3</td><td>47077.14</td></tr>\n",
       "</tbody>\n",
       "</table>\n"
      ],
      "text/latex": [
       "A data.frame: 3 × 2\n",
       "\\begin{tabular}{ll}\n",
       " Employ & Income\\\\\n",
       " <int> & <dbl>\\\\\n",
       "\\hline\n",
       "\t 1 & 51520.00\\\\\n",
       "\t 2 & 46008.00\\\\\n",
       "\t 3 & 47077.14\\\\\n",
       "\\end{tabular}\n"
      ],
      "text/markdown": [
       "\n",
       "A data.frame: 3 × 2\n",
       "\n",
       "| Employ &lt;int&gt; | Income &lt;dbl&gt; |\n",
       "|---|---|\n",
       "| 1 | 51520.00 |\n",
       "| 2 | 46008.00 |\n",
       "| 3 | 47077.14 |\n",
       "\n"
      ],
      "text/plain": [
       "  Employ Income  \n",
       "1 1      51520.00\n",
       "2 2      46008.00\n",
       "3 3      47077.14"
      ]
     },
     "metadata": {},
     "output_type": "display_data"
    }
   ],
   "source": [
    "aggregate(Income ~ Employ, df, mean)"
   ]
  },
  {
   "cell_type": "code",
   "execution_count": 36,
   "metadata": {
    "vscode": {
     "languageId": "r"
    }
   },
   "outputs": [
    {
     "data": {
      "text/html": [
       "<style>\n",
       ".dl-inline {width: auto; margin:0; padding: 0}\n",
       ".dl-inline>dt, .dl-inline>dd {float: none; width: auto; display: inline-block}\n",
       ".dl-inline>dt::after {content: \":\\0020\"; padding-right: .5ex}\n",
       ".dl-inline>dt:not(:first-of-type) {padding-left: .5ex}\n",
       "</style><dl class=dl-inline><dt>1</dt><dd>51520</dd><dt>2</dt><dd>46008</dd><dt>3</dt><dd>47077.1428571429</dd></dl>\n"
      ],
      "text/latex": [
       "\\begin{description*}\n",
       "\\item[1] 51520\n",
       "\\item[2] 46008\n",
       "\\item[3] 47077.1428571429\n",
       "\\end{description*}\n"
      ],
      "text/markdown": [
       "1\n",
       ":   515202\n",
       ":   460083\n",
       ":   47077.1428571429\n",
       "\n"
      ],
      "text/plain": [
       "       1        2        3 \n",
       "51520.00 46008.00 47077.14 "
      ]
     },
     "metadata": {},
     "output_type": "display_data"
    }
   ],
   "source": [
    "tapply(Income, Employ, mean)"
   ]
  },
  {
   "cell_type": "code",
   "execution_count": 40,
   "metadata": {
    "vscode": {
     "languageId": "r"
    }
   },
   "outputs": [
    {
     "data": {
      "text/html": [
       "<style>\n",
       ".dl-inline {width: auto; margin:0; padding: 0}\n",
       ".dl-inline>dt, .dl-inline>dd {float: none; width: auto; display: inline-block}\n",
       ".dl-inline>dt::after {content: \":\\0020\"; padding-right: .5ex}\n",
       ".dl-inline>dt:not(:first-of-type) {padding-left: .5ex}\n",
       "</style><dl class=dl-inline><dt>0</dt><dd>41761</dd><dt>1</dt><dd>62416</dd></dl>\n"
      ],
      "text/latex": [
       "\\begin{description*}\n",
       "\\item[0] 41761\n",
       "\\item[1] 62416\n",
       "\\end{description*}\n"
      ],
      "text/markdown": [
       "0\n",
       ":   417611\n",
       ":   62416\n",
       "\n"
      ],
      "text/plain": [
       "    0     1 \n",
       "41761 62416 "
      ]
     },
     "metadata": {},
     "output_type": "display_data"
    }
   ],
   "source": [
    "tapply(Income, Approved, mean)\n",
    "# Therefore Approved applicants have more avg income"
   ]
  },
  {
   "cell_type": "code",
   "execution_count": 42,
   "metadata": {
    "vscode": {
     "languageId": "r"
    }
   },
   "outputs": [
    {
     "data": {
      "text/plain": [
       "   Min. 1st Qu.  Median    Mean 3rd Qu.    Max. \n",
       "  21240   37055   41100   48646   58125   91100 "
      ]
     },
     "metadata": {},
     "output_type": "display_data"
    }
   ],
   "source": [
    "summary(Income)"
   ]
  },
  {
   "cell_type": "code",
   "execution_count": 49,
   "metadata": {
    "vscode": {
     "languageId": "r"
    }
   },
   "outputs": [
    {
     "data": {
      "text/html": [
       "<style>\n",
       ".list-inline {list-style: none; margin:0; padding: 0}\n",
       ".list-inline>li {display: inline-block}\n",
       ".list-inline>li:not(:last-child)::after {content: \"\\00b7\"; padding: 0 .5ex}\n",
       "</style>\n",
       "<ol class=list-inline><li>21240</li><li>91100</li></ol>\n"
      ],
      "text/latex": [
       "\\begin{enumerate*}\n",
       "\\item 21240\n",
       "\\item 91100\n",
       "\\end{enumerate*}\n"
      ],
      "text/markdown": [
       "1. 21240\n",
       "2. 91100\n",
       "\n",
       "\n"
      ],
      "text/plain": [
       "[1] 21240 91100"
      ]
     },
     "metadata": {},
     "output_type": "display_data"
    },
    {
     "data": {
      "text/html": [
       "<style>\n",
       ".list-inline {list-style: none; margin:0; padding: 0}\n",
       ".list-inline>li {display: inline-block}\n",
       ".list-inline>li:not(:last-child)::after {content: \"\\00b7\"; padding: 0 .5ex}\n",
       "</style>\n",
       "<ol class=list-inline><li>0</li><li>34000</li></ol>\n"
      ],
      "text/latex": [
       "\\begin{enumerate*}\n",
       "\\item 0\n",
       "\\item 34000\n",
       "\\end{enumerate*}\n"
      ],
      "text/markdown": [
       "1. 0\n",
       "2. 34000\n",
       "\n",
       "\n"
      ],
      "text/plain": [
       "[1]     0 34000"
      ]
     },
     "metadata": {},
     "output_type": "display_data"
    },
    {
     "data": {
      "text/html": [
       "21070"
      ],
      "text/latex": [
       "21070"
      ],
      "text/markdown": [
       "21070"
      ],
      "text/plain": [
       "[1] 21070"
      ]
     },
     "metadata": {},
     "output_type": "display_data"
    },
    {
     "data": {
      "text/html": [
       "12100"
      ],
      "text/latex": [
       "12100"
      ],
      "text/markdown": [
       "12100"
      ],
      "text/plain": [
       "[1] 12100"
      ]
     },
     "metadata": {},
     "output_type": "display_data"
    },
    {
     "data": {
      "text/html": [
       "<strong>25%:</strong> 37055"
      ],
      "text/latex": [
       "\\textbf{25\\textbackslash{}\\%:} 37055"
      ],
      "text/markdown": [
       "**25%:** 37055"
      ],
      "text/plain": [
       "  25% \n",
       "37055 "
      ]
     },
     "metadata": {},
     "output_type": "display_data"
    },
    {
     "data": {
      "text/html": [
       "<strong>75%:</strong> 58125"
      ],
      "text/latex": [
       "\\textbf{75\\textbackslash{}\\%:} 58125"
      ],
      "text/markdown": [
       "**75%:** 58125"
      ],
      "text/plain": [
       "  75% \n",
       "58125 "
      ]
     },
     "metadata": {},
     "output_type": "display_data"
    }
   ],
   "source": [
    "range(Income); range(Savings); IQR(Income); IQR(Savings); quantile(Income, 0.25); quantile(Income, 0.75)"
   ]
  },
  {
   "cell_type": "code",
   "execution_count": 70,
   "metadata": {
    "vscode": {
     "languageId": "r"
    }
   },
   "outputs": [
    {
     "data": {
      "text/plain": [
       "$`0`\n",
       "   Min. 1st Qu.  Median    Mean 3rd Qu.    Max. \n",
       "  21240   35150   40500   41761   50000   62200 \n",
       "\n",
       "$`1`\n",
       "   Min. 1st Qu.  Median    Mean 3rd Qu.    Max. \n",
       "  34600   41275   63100   62416   84050   91100 \n"
      ]
     },
     "metadata": {},
     "output_type": "display_data"
    }
   ],
   "source": [
    "tapply(Income, Approved, summary)"
   ]
  },
  {
   "cell_type": "code",
   "execution_count": 75,
   "metadata": {
    "vscode": {
     "languageId": "r"
    }
   },
   "outputs": [
    {
     "data": {
      "text/html": [
       "<style>\n",
       ".dl-inline {width: auto; margin:0; padding: 0}\n",
       ".dl-inline>dt, .dl-inline>dd {float: none; width: auto; display: inline-block}\n",
       ".dl-inline>dt::after {content: \":\\0020\"; padding-right: .5ex}\n",
       ".dl-inline>dt:not(:first-of-type) {padding-left: .5ex}\n",
       "</style><dl class=dl-inline><dt>0</dt><dd>61972</dd><dt>1</dt><dd>90842.6</dd></dl>\n"
      ],
      "text/latex": [
       "\\begin{description*}\n",
       "\\item[0] 61972\n",
       "\\item[1] 90842.6\n",
       "\\end{description*}\n"
      ],
      "text/markdown": [
       "0\n",
       ":   619721\n",
       ":   90842.6\n",
       "\n"
      ],
      "text/plain": [
       "      0       1 \n",
       "61972.0 90842.6 "
      ]
     },
     "metadata": {},
     "output_type": "display_data"
    }
   ],
   "source": [
    "tapply(Income, Approved, quantile, 0.99); "
   ]
  },
  {
   "cell_type": "code",
   "execution_count": 81,
   "metadata": {
    "vscode": {
     "languageId": "r"
    }
   },
   "outputs": [
    {
     "data": {
      "image/png": "[encoded data removed]",
      "text/plain": [
       "plot without title"
      ]
     },
     "metadata": {
      "image/png": {
       "height": 420,
       "width": 420
      }
     },
     "output_type": "display_data"
    }
   ],
   "source": [
    "par(bg=\"white\")\n",
    "boxplot(Income)"
   ]
  },
  {
   "cell_type": "code",
   "execution_count": 83,
   "metadata": {
    "vscode": {
     "languageId": "r"
    }
   },
   "outputs": [
    {
     "data": {
      "image/png": "[encoded data removed]",
      "text/plain": [
       "plot without title"
      ]
     },
     "metadata": {
      "image/png": {
       "height": 420,
       "width": 420
      }
     },
     "output_type": "display_data"
    }
   ],
   "source": [
    "par(bg=\"white\")\n",
    "boxplot(Income ~ Approved)"
   ]
  },
  {
   "cell_type": "code",
   "execution_count": 84,
   "metadata": {
    "vscode": {
     "languageId": "r"
    }
   },
   "outputs": [
    {
     "data": {
      "image/png": "[encoded data removed]",
      "text/plain": [
       "plot without title"
      ]
     },
     "metadata": {
      "image/png": {
       "height": 420,
       "width": 420
      }
     },
     "output_type": "display_data"
    }
   ],
   "source": [
    "par(bg=\"white\")\n",
    "boxplot(Savings ~ Approved)"
   ]
  },
  {
   "cell_type": "code",
   "execution_count": 85,
   "metadata": {
    "vscode": {
     "languageId": "r"
    }
   },
   "outputs": [
    {
     "data": {
      "text/plain": [
       "$`0`\n",
       "   Min. 1st Qu.  Median    Mean 3rd Qu.    Max. \n",
       "      0     825    3050    4770    5050   16000 \n",
       "\n",
       "$`1`\n",
       "   Min. 1st Qu.  Median    Mean 3rd Qu.    Max. \n",
       "    980   12000   13900   15418   19750   34000 \n"
      ]
     },
     "metadata": {},
     "output_type": "display_data"
    }
   ],
   "source": [
    "tapply(Savings, Approved, summary)"
   ]
  },
  {
   "cell_type": "code",
   "execution_count": 92,
   "metadata": {
    "vscode": {
     "languageId": "r"
    }
   },
   "outputs": [
    {
     "data": {
      "text/html": [
       "31375"
      ],
      "text/latex": [
       "31375"
      ],
      "text/markdown": [
       "31375"
      ],
      "text/plain": [
       "[1] 31375"
      ]
     },
     "metadata": {},
     "output_type": "display_data"
    }
   ],
   "source": [
    "(19750 - 12000) * 1.5 + 19750"
   ]
  }
 ],
 "metadata": {
  "kernelspec": {
   "display_name": "R",
   "language": "R",
   "name": "ir"
  },
  "language_info": {
   "codemirror_mode": "r",
   "file_extension": ".r",
   "mimetype": "text/x-r-source",
   "name": "R",
   "pygments_lexer": "r",
   "version": "4.4.1"
  }
 },
 "nbformat": 4,
 "nbformat_minor": 2
}
