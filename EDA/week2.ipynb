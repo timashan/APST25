{
 "cells": [
  {
   "cell_type": "code",
   "execution_count": 1,
   "metadata": {
    "vscode": {
     "languageId": "r"
    }
   },
   "outputs": [
    {
     "name": "stdout",
     "output_type": "stream",
     "text": [
      "[1] \"hello world\"\n"
     ]
    }
   ],
   "source": [
    "print(\"hello world\")"
   ]
  },
  {
   "cell_type": "code",
   "execution_count": 2,
   "metadata": {
    "vscode": {
     "languageId": "r"
    }
   },
   "outputs": [
    {
     "data": {
      "text/html": [
       "<table class=\"dataframe\">\n",
       "<caption>A data.frame: 6 × 9</caption>\n",
       "<thead>\n",
       "\t<tr><th></th><th scope=col>Income</th><th scope=col>Education</th><th scope=col>Age</th><th scope=col>Employ</th><th scope=col>Savings</th><th scope=col>Debt</th><th scope=col>Creditcards</th><th scope=col>Gender</th><th scope=col>Approved</th></tr>\n",
       "\t<tr><th></th><th scope=col>&lt;int&gt;</th><th scope=col>&lt;int&gt;</th><th scope=col>&lt;int&gt;</th><th scope=col>&lt;int&gt;</th><th scope=col>&lt;int&gt;</th><th scope=col>&lt;int&gt;</th><th scope=col>&lt;int&gt;</th><th scope=col>&lt;int&gt;</th><th scope=col>&lt;int&gt;</th></tr>\n",
       "</thead>\n",
       "<tbody>\n",
       "\t<tr><th scope=row>1</th><td>21240</td><td>1</td><td>26</td><td>3</td><td> 100</td><td>10010</td><td>3</td><td>1</td><td>0</td></tr>\n",
       "\t<tr><th scope=row>2</th><td>26530</td><td>1</td><td>30</td><td>2</td><td>   0</td><td>12000</td><td>2</td><td>1</td><td>0</td></tr>\n",
       "\t<tr><th scope=row>3</th><td>29800</td><td>1</td><td>27</td><td>3</td><td> 100</td><td>10000</td><td>5</td><td>1</td><td>0</td></tr>\n",
       "\t<tr><th scope=row>4</th><td>41000</td><td>1</td><td>34</td><td>2</td><td>5000</td><td>  200</td><td>3</td><td>1</td><td>0</td></tr>\n",
       "\t<tr><th scope=row>5</th><td>41200</td><td>1</td><td>34</td><td>1</td><td>1000</td><td> 1200</td><td>2</td><td>1</td><td>0</td></tr>\n",
       "\t<tr><th scope=row>6</th><td>58700</td><td>1</td><td>38</td><td>1</td><td>4500</td><td> 7800</td><td>5</td><td>2</td><td>0</td></tr>\n",
       "</tbody>\n",
       "</table>\n"
      ],
      "text/latex": [
       "A data.frame: 6 × 9\n",
       "\\begin{tabular}{r|lllllllll}\n",
       "  & Income & Education & Age & Employ & Savings & Debt & Creditcards & Gender & Approved\\\\\n",
       "  & <int> & <int> & <int> & <int> & <int> & <int> & <int> & <int> & <int>\\\\\n",
       "\\hline\n",
       "\t1 & 21240 & 1 & 26 & 3 &  100 & 10010 & 3 & 1 & 0\\\\\n",
       "\t2 & 26530 & 1 & 30 & 2 &    0 & 12000 & 2 & 1 & 0\\\\\n",
       "\t3 & 29800 & 1 & 27 & 3 &  100 & 10000 & 5 & 1 & 0\\\\\n",
       "\t4 & 41000 & 1 & 34 & 2 & 5000 &   200 & 3 & 1 & 0\\\\\n",
       "\t5 & 41200 & 1 & 34 & 1 & 1000 &  1200 & 2 & 1 & 0\\\\\n",
       "\t6 & 58700 & 1 & 38 & 1 & 4500 &  7800 & 5 & 2 & 0\\\\\n",
       "\\end{tabular}\n"
      ],
      "text/markdown": [
       "\n",
       "A data.frame: 6 × 9\n",
       "\n",
       "| <!--/--> | Income &lt;int&gt; | Education &lt;int&gt; | Age &lt;int&gt; | Employ &lt;int&gt; | Savings &lt;int&gt; | Debt &lt;int&gt; | Creditcards &lt;int&gt; | Gender &lt;int&gt; | Approved &lt;int&gt; |\n",
       "|---|---|---|---|---|---|---|---|---|---|\n",
       "| 1 | 21240 | 1 | 26 | 3 |  100 | 10010 | 3 | 1 | 0 |\n",
       "| 2 | 26530 | 1 | 30 | 2 |    0 | 12000 | 2 | 1 | 0 |\n",
       "| 3 | 29800 | 1 | 27 | 3 |  100 | 10000 | 5 | 1 | 0 |\n",
       "| 4 | 41000 | 1 | 34 | 2 | 5000 |   200 | 3 | 1 | 0 |\n",
       "| 5 | 41200 | 1 | 34 | 1 | 1000 |  1200 | 2 | 1 | 0 |\n",
       "| 6 | 58700 | 1 | 38 | 1 | 4500 |  7800 | 5 | 2 | 0 |\n",
       "\n"
      ],
      "text/plain": [
       "  Income Education Age Employ Savings Debt  Creditcards Gender Approved\n",
       "1 21240  1         26  3       100    10010 3           1      0       \n",
       "2 26530  1         30  2         0    12000 2           1      0       \n",
       "3 29800  1         27  3       100    10000 5           1      0       \n",
       "4 41000  1         34  2      5000      200 3           1      0       \n",
       "5 41200  1         34  1      1000     1200 2           1      0       \n",
       "6 58700  1         38  1      4500     7800 5           2      0       "
      ]
     },
     "metadata": {},
     "output_type": "display_data"
    }
   ],
   "source": [
    "df <- read.csv(\"loan applicants.csv\")\n",
    "head(df)"
   ]
  },
  {
   "cell_type": "code",
   "execution_count": 3,
   "metadata": {
    "vscode": {
     "languageId": "r"
    }
   },
   "outputs": [
    {
     "data": {
      "text/html": [
       "<table class=\"dataframe\">\n",
       "<caption>A data.frame: 1 × 9</caption>\n",
       "<thead>\n",
       "\t<tr><th></th><th scope=col>Income</th><th scope=col>Education</th><th scope=col>Age</th><th scope=col>Employ</th><th scope=col>Savings</th><th scope=col>Debt</th><th scope=col>Creditcards</th><th scope=col>Gender</th><th scope=col>Approved</th></tr>\n",
       "\t<tr><th></th><th scope=col>&lt;int&gt;</th><th scope=col>&lt;int&gt;</th><th scope=col>&lt;int&gt;</th><th scope=col>&lt;int&gt;</th><th scope=col>&lt;int&gt;</th><th scope=col>&lt;int&gt;</th><th scope=col>&lt;int&gt;</th><th scope=col>&lt;int&gt;</th><th scope=col>&lt;int&gt;</th></tr>\n",
       "</thead>\n",
       "<tbody>\n",
       "\t<tr><th scope=row>1</th><td>21240</td><td>1</td><td>26</td><td>3</td><td>100</td><td>10010</td><td>3</td><td>1</td><td>0</td></tr>\n",
       "</tbody>\n",
       "</table>\n"
      ],
      "text/latex": [
       "A data.frame: 1 × 9\n",
       "\\begin{tabular}{r|lllllllll}\n",
       "  & Income & Education & Age & Employ & Savings & Debt & Creditcards & Gender & Approved\\\\\n",
       "  & <int> & <int> & <int> & <int> & <int> & <int> & <int> & <int> & <int>\\\\\n",
       "\\hline\n",
       "\t1 & 21240 & 1 & 26 & 3 & 100 & 10010 & 3 & 1 & 0\\\\\n",
       "\\end{tabular}\n"
      ],
      "text/markdown": [
       "\n",
       "A data.frame: 1 × 9\n",
       "\n",
       "| <!--/--> | Income &lt;int&gt; | Education &lt;int&gt; | Age &lt;int&gt; | Employ &lt;int&gt; | Savings &lt;int&gt; | Debt &lt;int&gt; | Creditcards &lt;int&gt; | Gender &lt;int&gt; | Approved &lt;int&gt; |\n",
       "|---|---|---|---|---|---|---|---|---|---|\n",
       "| 1 | 21240 | 1 | 26 | 3 | 100 | 10010 | 3 | 1 | 0 |\n",
       "\n"
      ],
      "text/plain": [
       "  Income Education Age Employ Savings Debt  Creditcards Gender Approved\n",
       "1 21240  1         26  3      100     10010 3           1      0       "
      ]
     },
     "metadata": {},
     "output_type": "display_data"
    }
   ],
   "source": [
    "df[1,]"
   ]
  },
  {
   "cell_type": "code",
   "execution_count": 4,
   "metadata": {
    "vscode": {
     "languageId": "r"
    }
   },
   "outputs": [
    {
     "data": {
      "text/html": [
       "'df'"
      ],
      "text/latex": [
       "'df'"
      ],
      "text/markdown": [
       "'df'"
      ],
      "text/plain": [
       "[1] \"df\""
      ]
     },
     "metadata": {},
     "output_type": "display_data"
    }
   ],
   "source": [
    "objects()"
   ]
  },
  {
   "cell_type": "code",
   "execution_count": 5,
   "metadata": {
    "vscode": {
     "languageId": "r"
    }
   },
   "outputs": [
    {
     "data": {
      "text/html": [
       "<style>\n",
       ".list-inline {list-style: none; margin:0; padding: 0}\n",
       ".list-inline>li {display: inline-block}\n",
       ".list-inline>li:not(:last-child)::after {content: \"\\00b7\"; padding: 0 .5ex}\n",
       "</style>\n",
       "<ol class=list-inline><li>'Income'</li><li>'Education'</li><li>'Age'</li><li>'Employ'</li><li>'Savings'</li><li>'Debt'</li><li>'Creditcards'</li><li>'Gender'</li><li>'Approved'</li></ol>\n"
      ],
      "text/latex": [
       "\\begin{enumerate*}\n",
       "\\item 'Income'\n",
       "\\item 'Education'\n",
       "\\item 'Age'\n",
       "\\item 'Employ'\n",
       "\\item 'Savings'\n",
       "\\item 'Debt'\n",
       "\\item 'Creditcards'\n",
       "\\item 'Gender'\n",
       "\\item 'Approved'\n",
       "\\end{enumerate*}\n"
      ],
      "text/markdown": [
       "1. 'Income'\n",
       "2. 'Education'\n",
       "3. 'Age'\n",
       "4. 'Employ'\n",
       "5. 'Savings'\n",
       "6. 'Debt'\n",
       "7. 'Creditcards'\n",
       "8. 'Gender'\n",
       "9. 'Approved'\n",
       "\n",
       "\n"
      ],
      "text/plain": [
       "[1] \"Income\"      \"Education\"   \"Age\"         \"Employ\"      \"Savings\"    \n",
       "[6] \"Debt\"        \"Creditcards\" \"Gender\"      \"Approved\"   "
      ]
     },
     "metadata": {},
     "output_type": "display_data"
    }
   ],
   "source": [
    "names(df)"
   ]
  },
  {
   "cell_type": "code",
   "execution_count": 6,
   "metadata": {
    "vscode": {
     "languageId": "r"
    }
   },
   "outputs": [
    {
     "data": {
      "text/html": [
       "<style>\n",
       ".list-inline {list-style: none; margin:0; padding: 0}\n",
       ".list-inline>li {display: inline-block}\n",
       ".list-inline>li:not(:last-child)::after {content: \"\\00b7\"; padding: 0 .5ex}\n",
       "</style>\n",
       "<ol class=list-inline><li>21240</li><li>26530</li><li>29800</li><li>41000</li><li>41200</li><li>58700</li><li>36200</li><li>39800</li><li>41000</li><li>45100</li><li>62200</li><li>29000</li><li>32000</li><li>34600</li><li>36500</li><li>38720</li><li>40000</li><li>40000</li><li>42650</li><li>50000</li><li>50000</li><li>54200</li><li>56400</li><li>72200</li><li>88240</li><li>40000</li><li>61000</li><li>72000</li><li>91100</li><li>88000</li></ol>\n"
      ],
      "text/latex": [
       "\\begin{enumerate*}\n",
       "\\item 21240\n",
       "\\item 26530\n",
       "\\item 29800\n",
       "\\item 41000\n",
       "\\item 41200\n",
       "\\item 58700\n",
       "\\item 36200\n",
       "\\item 39800\n",
       "\\item 41000\n",
       "\\item 45100\n",
       "\\item 62200\n",
       "\\item 29000\n",
       "\\item 32000\n",
       "\\item 34600\n",
       "\\item 36500\n",
       "\\item 38720\n",
       "\\item 40000\n",
       "\\item 40000\n",
       "\\item 42650\n",
       "\\item 50000\n",
       "\\item 50000\n",
       "\\item 54200\n",
       "\\item 56400\n",
       "\\item 72200\n",
       "\\item 88240\n",
       "\\item 40000\n",
       "\\item 61000\n",
       "\\item 72000\n",
       "\\item 91100\n",
       "\\item 88000\n",
       "\\end{enumerate*}\n"
      ],
      "text/markdown": [
       "1. 21240\n",
       "2. 26530\n",
       "3. 29800\n",
       "4. 41000\n",
       "5. 41200\n",
       "6. 58700\n",
       "7. 36200\n",
       "8. 39800\n",
       "9. 41000\n",
       "10. 45100\n",
       "11. 62200\n",
       "12. 29000\n",
       "13. 32000\n",
       "14. 34600\n",
       "15. 36500\n",
       "16. 38720\n",
       "17. 40000\n",
       "18. 40000\n",
       "19. 42650\n",
       "20. 50000\n",
       "21. 50000\n",
       "22. 54200\n",
       "23. 56400\n",
       "24. 72200\n",
       "25. 88240\n",
       "26. 40000\n",
       "27. 61000\n",
       "28. 72000\n",
       "29. 91100\n",
       "30. 88000\n",
       "\n",
       "\n"
      ],
      "text/plain": [
       " [1] 21240 26530 29800 41000 41200 58700 36200 39800 41000 45100 62200 29000\n",
       "[13] 32000 34600 36500 38720 40000 40000 42650 50000 50000 54200 56400 72200\n",
       "[25] 88240 40000 61000 72000 91100 88000"
      ]
     },
     "metadata": {},
     "output_type": "display_data"
    }
   ],
   "source": [
    "df$Income"
   ]
  },
  {
   "cell_type": "code",
   "execution_count": 7,
   "metadata": {
    "vscode": {
     "languageId": "r"
    }
   },
   "outputs": [],
   "source": [
    "attach(df)"
   ]
  },
  {
   "cell_type": "code",
   "execution_count": 8,
   "metadata": {
    "vscode": {
     "languageId": "r"
    }
   },
   "outputs": [
    {
     "data": {
      "text/html": [
       "<style>\n",
       ".list-inline {list-style: none; margin:0; padding: 0}\n",
       ".list-inline>li {display: inline-block}\n",
       ".list-inline>li:not(:last-child)::after {content: \"\\00b7\"; padding: 0 .5ex}\n",
       "</style>\n",
       "<ol class=list-inline><li>21240</li><li>26530</li><li>29800</li><li>41000</li><li>41200</li><li>58700</li><li>36200</li><li>39800</li><li>41000</li><li>45100</li><li>62200</li><li>29000</li><li>32000</li><li>34600</li><li>36500</li><li>38720</li><li>40000</li><li>40000</li><li>42650</li><li>50000</li><li>50000</li><li>54200</li><li>56400</li><li>72200</li><li>88240</li><li>40000</li><li>61000</li><li>72000</li><li>91100</li><li>88000</li></ol>\n"
      ],
      "text/latex": [
       "\\begin{enumerate*}\n",
       "\\item 21240\n",
       "\\item 26530\n",
       "\\item 29800\n",
       "\\item 41000\n",
       "\\item 41200\n",
       "\\item 58700\n",
       "\\item 36200\n",
       "\\item 39800\n",
       "\\item 41000\n",
       "\\item 45100\n",
       "\\item 62200\n",
       "\\item 29000\n",
       "\\item 32000\n",
       "\\item 34600\n",
       "\\item 36500\n",
       "\\item 38720\n",
       "\\item 40000\n",
       "\\item 40000\n",
       "\\item 42650\n",
       "\\item 50000\n",
       "\\item 50000\n",
       "\\item 54200\n",
       "\\item 56400\n",
       "\\item 72200\n",
       "\\item 88240\n",
       "\\item 40000\n",
       "\\item 61000\n",
       "\\item 72000\n",
       "\\item 91100\n",
       "\\item 88000\n",
       "\\end{enumerate*}\n"
      ],
      "text/markdown": [
       "1. 21240\n",
       "2. 26530\n",
       "3. 29800\n",
       "4. 41000\n",
       "5. 41200\n",
       "6. 58700\n",
       "7. 36200\n",
       "8. 39800\n",
       "9. 41000\n",
       "10. 45100\n",
       "11. 62200\n",
       "12. 29000\n",
       "13. 32000\n",
       "14. 34600\n",
       "15. 36500\n",
       "16. 38720\n",
       "17. 40000\n",
       "18. 40000\n",
       "19. 42650\n",
       "20. 50000\n",
       "21. 50000\n",
       "22. 54200\n",
       "23. 56400\n",
       "24. 72200\n",
       "25. 88240\n",
       "26. 40000\n",
       "27. 61000\n",
       "28. 72000\n",
       "29. 91100\n",
       "30. 88000\n",
       "\n",
       "\n"
      ],
      "text/plain": [
       " [1] 21240 26530 29800 41000 41200 58700 36200 39800 41000 45100 62200 29000\n",
       "[13] 32000 34600 36500 38720 40000 40000 42650 50000 50000 54200 56400 72200\n",
       "[25] 88240 40000 61000 72000 91100 88000"
      ]
     },
     "metadata": {},
     "output_type": "display_data"
    }
   ],
   "source": [
    "Income"
   ]
  },
  {
   "cell_type": "code",
   "execution_count": 9,
   "metadata": {
    "vscode": {
     "languageId": "r"
    }
   },
   "outputs": [
    {
     "data": {
      "text/plain": [
       "Education\n",
       " 1  2  3  4 \n",
       " 6  5 14  5 "
      ]
     },
     "metadata": {},
     "output_type": "display_data"
    }
   ],
   "source": [
    "table(Education)"
   ]
  },
  {
   "cell_type": "code",
   "execution_count": 10,
   "metadata": {
    "vscode": {
     "languageId": "r"
    }
   },
   "outputs": [
    {
     "data": {
      "text/plain": [
       "      Approved\n",
       "Gender  0  1\n",
       "     1 11  3\n",
       "     2  9  7"
      ]
     },
     "metadata": {},
     "output_type": "display_data"
    }
   ],
   "source": [
    "t <- table(Gender, Approved)\n",
    "t"
   ]
  },
  {
   "cell_type": "code",
   "execution_count": 11,
   "metadata": {
    "vscode": {
     "languageId": "r"
    }
   },
   "outputs": [
    {
     "data": {
      "text/html": [
       "0.366666666666667"
      ],
      "text/latex": [
       "0.366666666666667"
      ],
      "text/markdown": [
       "0.366666666666667"
      ],
      "text/plain": [
       "[1] 0.3666667"
      ]
     },
     "metadata": {},
     "output_type": "display_data"
    }
   ],
   "source": [
    "11/30"
   ]
  },
  {
   "cell_type": "code",
   "execution_count": 12,
   "metadata": {
    "vscode": {
     "languageId": "r"
    }
   },
   "outputs": [
    {
     "data": {
      "text/plain": [
       "      Approved\n",
       "Gender         0         1\n",
       "     1 0.3666667 0.1000000\n",
       "     2 0.3000000 0.2333333"
      ]
     },
     "metadata": {},
     "output_type": "display_data"
    }
   ],
   "source": [
    "prop.table(t)"
   ]
  },
  {
   "cell_type": "code",
   "execution_count": 13,
   "metadata": {
    "vscode": {
     "languageId": "r"
    }
   },
   "outputs": [
    {
     "data": {
      "text/plain": [
       "      Approved\n",
       "Gender         0         1\n",
       "     1 0.7857143 0.2142857\n",
       "     2 0.5625000 0.4375000"
      ]
     },
     "metadata": {},
     "output_type": "display_data"
    }
   ],
   "source": [
    "prop.table(t, margin = 1)"
   ]
  },
  {
   "cell_type": "code",
   "execution_count": 14,
   "metadata": {
    "vscode": {
     "languageId": "r"
    }
   },
   "outputs": [
    {
     "data": {
      "text/html": [
       "<table class=\"dataframe\">\n",
       "<caption>A data.frame: 6 × 9</caption>\n",
       "<thead>\n",
       "\t<tr><th></th><th scope=col>Income</th><th scope=col>Education</th><th scope=col>Age</th><th scope=col>Employ</th><th scope=col>Savings</th><th scope=col>Debt</th><th scope=col>Creditcards</th><th scope=col>Gender</th><th scope=col>Approved</th></tr>\n",
       "\t<tr><th></th><th scope=col>&lt;int&gt;</th><th scope=col>&lt;int&gt;</th><th scope=col>&lt;int&gt;</th><th scope=col>&lt;int&gt;</th><th scope=col>&lt;int&gt;</th><th scope=col>&lt;int&gt;</th><th scope=col>&lt;int&gt;</th><th scope=col>&lt;int&gt;</th><th scope=col>&lt;int&gt;</th></tr>\n",
       "</thead>\n",
       "<tbody>\n",
       "\t<tr><th scope=row>1</th><td>21240</td><td>1</td><td>26</td><td>3</td><td> 100</td><td>10010</td><td>3</td><td>1</td><td>0</td></tr>\n",
       "\t<tr><th scope=row>2</th><td>26530</td><td>1</td><td>30</td><td>2</td><td>   0</td><td>12000</td><td>2</td><td>1</td><td>0</td></tr>\n",
       "\t<tr><th scope=row>3</th><td>29800</td><td>1</td><td>27</td><td>3</td><td> 100</td><td>10000</td><td>5</td><td>1</td><td>0</td></tr>\n",
       "\t<tr><th scope=row>4</th><td>41000</td><td>1</td><td>34</td><td>2</td><td>5000</td><td>  200</td><td>3</td><td>1</td><td>0</td></tr>\n",
       "\t<tr><th scope=row>5</th><td>41200</td><td>1</td><td>34</td><td>1</td><td>1000</td><td> 1200</td><td>2</td><td>1</td><td>0</td></tr>\n",
       "\t<tr><th scope=row>6</th><td>58700</td><td>1</td><td>38</td><td>1</td><td>4500</td><td> 7800</td><td>5</td><td>2</td><td>0</td></tr>\n",
       "</tbody>\n",
       "</table>\n"
      ],
      "text/latex": [
       "A data.frame: 6 × 9\n",
       "\\begin{tabular}{r|lllllllll}\n",
       "  & Income & Education & Age & Employ & Savings & Debt & Creditcards & Gender & Approved\\\\\n",
       "  & <int> & <int> & <int> & <int> & <int> & <int> & <int> & <int> & <int>\\\\\n",
       "\\hline\n",
       "\t1 & 21240 & 1 & 26 & 3 &  100 & 10010 & 3 & 1 & 0\\\\\n",
       "\t2 & 26530 & 1 & 30 & 2 &    0 & 12000 & 2 & 1 & 0\\\\\n",
       "\t3 & 29800 & 1 & 27 & 3 &  100 & 10000 & 5 & 1 & 0\\\\\n",
       "\t4 & 41000 & 1 & 34 & 2 & 5000 &   200 & 3 & 1 & 0\\\\\n",
       "\t5 & 41200 & 1 & 34 & 1 & 1000 &  1200 & 2 & 1 & 0\\\\\n",
       "\t6 & 58700 & 1 & 38 & 1 & 4500 &  7800 & 5 & 2 & 0\\\\\n",
       "\\end{tabular}\n"
      ],
      "text/markdown": [
       "\n",
       "A data.frame: 6 × 9\n",
       "\n",
       "| <!--/--> | Income &lt;int&gt; | Education &lt;int&gt; | Age &lt;int&gt; | Employ &lt;int&gt; | Savings &lt;int&gt; | Debt &lt;int&gt; | Creditcards &lt;int&gt; | Gender &lt;int&gt; | Approved &lt;int&gt; |\n",
       "|---|---|---|---|---|---|---|---|---|---|\n",
       "| 1 | 21240 | 1 | 26 | 3 |  100 | 10010 | 3 | 1 | 0 |\n",
       "| 2 | 26530 | 1 | 30 | 2 |    0 | 12000 | 2 | 1 | 0 |\n",
       "| 3 | 29800 | 1 | 27 | 3 |  100 | 10000 | 5 | 1 | 0 |\n",
       "| 4 | 41000 | 1 | 34 | 2 | 5000 |   200 | 3 | 1 | 0 |\n",
       "| 5 | 41200 | 1 | 34 | 1 | 1000 |  1200 | 2 | 1 | 0 |\n",
       "| 6 | 58700 | 1 | 38 | 1 | 4500 |  7800 | 5 | 2 | 0 |\n",
       "\n"
      ],
      "text/plain": [
       "  Income Education Age Employ Savings Debt  Creditcards Gender Approved\n",
       "1 21240  1         26  3       100    10010 3           1      0       \n",
       "2 26530  1         30  2         0    12000 2           1      0       \n",
       "3 29800  1         27  3       100    10000 5           1      0       \n",
       "4 41000  1         34  2      5000      200 3           1      0       \n",
       "5 41200  1         34  1      1000     1200 2           1      0       \n",
       "6 58700  1         38  1      4500     7800 5           2      0       "
      ]
     },
     "metadata": {},
     "output_type": "display_data"
    }
   ],
   "source": [
    "head(df)"
   ]
  },
  {
   "cell_type": "code",
   "execution_count": 8,
   "metadata": {
    "vscode": {
     "languageId": "r"
    }
   },
   "outputs": [
    {
     "data": {
      "text/plain": [
       "      Approved\n",
       "Gender  0  1\n",
       "     1 11  3\n",
       "     2  9  7"
      ]
     },
     "metadata": {},
     "output_type": "display_data"
    }
   ],
   "source": [
    "table(Gender, Approved)"
   ]
  },
  {
   "cell_type": "code",
   "execution_count": 9,
   "metadata": {
    "vscode": {
     "languageId": "r"
    }
   },
   "outputs": [
    {
     "data": {
      "text/plain": [
       "      Approved\n",
       "Gender         0         1\n",
       "     1 0.3666667 0.1000000\n",
       "     2 0.3000000 0.2333333"
      ]
     },
     "metadata": {},
     "output_type": "display_data"
    }
   ],
   "source": [
    "prop.table(table(Gender, Approved))"
   ]
  },
  {
   "cell_type": "code",
   "execution_count": 11,
   "metadata": {
    "vscode": {
     "languageId": "r"
    }
   },
   "outputs": [
    {
     "data": {
      "text/html": [
       "<style>\n",
       ".dl-inline {width: auto; margin:0; padding: 0}\n",
       ".dl-inline>dt, .dl-inline>dd {float: none; width: auto; display: inline-block}\n",
       ".dl-inline>dt::after {content: \":\\0020\"; padding-right: .5ex}\n",
       ".dl-inline>dt:not(:first-of-type) {padding-left: .5ex}\n",
       "</style><dl class=dl-inline><dt>0</dt><dd>0.366666666666667</dd><dt>1</dt><dd>0.1</dd></dl>\n"
      ],
      "text/latex": [
       "\\begin{description*}\n",
       "\\item[0] 0.366666666666667\n",
       "\\item[1] 0.1\n",
       "\\end{description*}\n"
      ],
      "text/markdown": [
       "0\n",
       ":   0.3666666666666671\n",
       ":   0.1\n",
       "\n"
      ],
      "text/plain": [
       "        0         1 \n",
       "0.3666667 0.1000000 "
      ]
     },
     "metadata": {},
     "output_type": "display_data"
    }
   ],
   "source": [
    "prop.table(table(Gender, Approved))[1,]"
   ]
  },
  {
   "cell_type": "code",
   "execution_count": 13,
   "metadata": {
    "vscode": {
     "languageId": "r"
    }
   },
   "outputs": [
    {
     "data": {
      "image/png": "[encoded data removed]",
      "text/plain": [
       "plot without title"
      ]
     },
     "metadata": {
      "image/png": {
       "height": 420,
       "width": 420
      }
     },
     "output_type": "display_data"
    }
   ],
   "source": [
    "par(bg = \"white\")\n",
    "barplot(prop.table(table(Gender, Approved))[1,])"
   ]
  },
  {
   "cell_type": "code",
   "execution_count": 15,
   "metadata": {
    "vscode": {
     "languageId": "r"
    }
   },
   "outputs": [
    {
     "data": {
      "image/png": "[encoded data removed]",
      "text/plain": [
       "plot without title"
      ]
     },
     "metadata": {
      "image/png": {
       "height": 420,
       "width": 420
      }
     },
     "output_type": "display_data"
    }
   ],
   "source": [
    "par(bg = \"white\")\n",
    "barplot(table(Education))"
   ]
  },
  {
   "cell_type": "code",
   "execution_count": 16,
   "metadata": {
    "vscode": {
     "languageId": "r"
    }
   },
   "outputs": [
    {
     "data": {
      "image/png": "[encoded data removed]",
      "text/plain": [
       "plot without title"
      ]
     },
     "metadata": {
      "image/png": {
       "height": 420,
       "width": 420
      }
     },
     "output_type": "display_data"
    }
   ],
   "source": [
    "par(bg = \"white\")\n",
    "barplot(table(Approved))"
   ]
  },
  {
   "cell_type": "code",
   "execution_count": 17,
   "metadata": {
    "vscode": {
     "languageId": "r"
    }
   },
   "outputs": [
    {
     "data": {
      "image/png": "[encoded data removed]",
      "text/plain": [
       "plot without title"
      ]
     },
     "metadata": {
      "image/png": {
       "height": 420,
       "width": 420
      }
     },
     "output_type": "display_data"
    }
   ],
   "source": [
    "par(bg = \"white\")\n",
    "barplot(table(Gender, Approved))"
   ]
  },
  {
   "cell_type": "code",
   "execution_count": 20,
   "metadata": {
    "vscode": {
     "languageId": "r"
    }
   },
   "outputs": [
    {
     "data": {
      "image/png": "[encoded data removed]",
      "text/plain": [
       "plot without title"
      ]
     },
     "metadata": {
      "image/png": {
       "height": 420,
       "width": 420
      }
     },
     "output_type": "display_data"
    }
   ],
   "source": [
    "par(bg = \"white\")\n",
    "barplot(table(Gender, Approved), beside = TRUE)"
   ]
  },
  {
   "cell_type": "code",
   "execution_count": 26,
   "metadata": {
    "vscode": {
     "languageId": "r"
    }
   },
   "outputs": [
    {
     "data": {
      "image/png": "[encoded data removed]",
      "text/plain": [
       "plot without title"
      ]
     },
     "metadata": {
      "image/png": {
       "height": 420,
       "width": 420
      }
     },
     "output_type": "display_data"
    }
   ],
   "source": [
    "par(bg = \"white\")\n",
    "barplot(sort(table(Education), decreasing = TRUE))"
   ]
  },
  {
   "cell_type": "code",
   "execution_count": 20,
   "metadata": {
    "vscode": {
     "languageId": "r"
    }
   },
   "outputs": [
    {
     "data": {
      "image/png": "[encoded data removed]",
      "text/plain": [
       "plot without title"
      ]
     },
     "metadata": {
      "image/png": {
       "height": 420,
       "width": 420
      }
     },
     "output_type": "display_data"
    }
   ],
   "source": [
    "par(bg = \"white\")\n",
    "pie(table(Education))"
   ]
  }
 ],
 "metadata": {
  "kernelspec": {
   "display_name": "R",
   "language": "R",
   "name": "ir"
  },
  "language_info": {
   "codemirror_mode": "r",
   "file_extension": ".r",
   "mimetype": "text/x-r-source",
   "name": "R",
   "pygments_lexer": "r",
   "version": "4.4.1"
  }
 },
 "nbformat": 4,
 "nbformat_minor": 2
}
