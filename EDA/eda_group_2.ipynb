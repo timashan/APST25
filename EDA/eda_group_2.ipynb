{
 "cells": [
  {
   "cell_type": "code",
   "execution_count": 1,
   "metadata": {
    "vscode": {
     "languageId": "r"
    }
   },
   "outputs": [
    {
     "data": {
      "text/html": [
       "<table class=\"dataframe\">\n",
       "<caption>A data.frame: 6 × 18</caption>\n",
       "<thead>\n",
       "\t<tr><th></th><th scope=col>Collision.ID</th><th scope=col>Date</th><th scope=col>Time</th><th scope=col>Borough</th><th scope=col>Street.Name</th><th scope=col>Cross.Street</th><th scope=col>Latitude</th><th scope=col>Longitude</th><th scope=col>Contributing.Factor</th><th scope=col>Vehicle.Type</th><th scope=col>Persons.Injured</th><th scope=col>Persons.Killed</th><th scope=col>Pedestrians.Injured</th><th scope=col>Pedestrians.Killed</th><th scope=col>Cyclists.Injured</th><th scope=col>Cyclists.Killed</th><th scope=col>Motorists.Injured</th><th scope=col>Motorists.Killed</th></tr>\n",
       "\t<tr><th></th><th scope=col>&lt;int&gt;</th><th scope=col>&lt;chr&gt;</th><th scope=col>&lt;chr&gt;</th><th scope=col>&lt;chr&gt;</th><th scope=col>&lt;chr&gt;</th><th scope=col>&lt;chr&gt;</th><th scope=col>&lt;dbl&gt;</th><th scope=col>&lt;dbl&gt;</th><th scope=col>&lt;chr&gt;</th><th scope=col>&lt;chr&gt;</th><th scope=col>&lt;int&gt;</th><th scope=col>&lt;int&gt;</th><th scope=col>&lt;int&gt;</th><th scope=col>&lt;int&gt;</th><th scope=col>&lt;int&gt;</th><th scope=col>&lt;int&gt;</th><th scope=col>&lt;int&gt;</th><th scope=col>&lt;int&gt;</th></tr>\n",
       "</thead>\n",
       "<tbody>\n",
       "\t<tr><th scope=row>1</th><td>4491746</td><td>2021-01-01</td><td>20:00:00</td><td>Bronx        </td><td>Bruckner Expressway  </td><td>                        </td><td>40.83398</td><td>-73.82635</td><td>Pavement Slippery                                    </td><td>Passenger Vehicle</td><td>0</td><td>0</td><td>0</td><td>0</td><td>0</td><td>0</td><td>0</td><td>0</td></tr>\n",
       "\t<tr><th scope=row>2</th><td>4441905</td><td>2021-01-01</td><td>05:28:00</td><td>Brooklyn     </td><td>Lafayette Avenue     </td><td>                        </td><td>40.68730</td><td>-73.97366</td><td>Unspecified                                          </td><td>Passenger Vehicle</td><td>0</td><td>0</td><td>0</td><td>0</td><td>0</td><td>0</td><td>0</td><td>0</td></tr>\n",
       "\t<tr><th scope=row>3</th><td>4382769</td><td>2021-01-01</td><td>06:00:00</td><td>Staten Island</td><td>West Shore Expressway</td><td>                        </td><td>      NA</td><td>       NA</td><td>Fell Asleep                                          </td><td>Passenger Vehicle</td><td>0</td><td>0</td><td>0</td><td>0</td><td>0</td><td>0</td><td>0</td><td>0</td></tr>\n",
       "\t<tr><th scope=row>4</th><td>4380949</td><td>2021-01-01</td><td>19:30:00</td><td>Bronx        </td><td>Sedgwick Avenue      </td><td>Vancortlandt Avenue West</td><td>40.88270</td><td>-73.89273</td><td>                                                     </td><td>Not Reported     </td><td>0</td><td>0</td><td>0</td><td>0</td><td>0</td><td>0</td><td>0</td><td>0</td></tr>\n",
       "\t<tr><th scope=row>5</th><td>4380940</td><td>2021-01-01</td><td>07:40:00</td><td>Brooklyn     </td><td>Cortelyou Road       </td><td>Mc Donald Avenue        </td><td>40.63791</td><td>-73.97864</td><td>Unspecified                                          </td><td>Passenger Vehicle</td><td>0</td><td>0</td><td>0</td><td>0</td><td>0</td><td>0</td><td>0</td><td>0</td></tr>\n",
       "\t<tr><th scope=row>6</th><td>4380963</td><td>2021-01-01</td><td>18:45:00</td><td>Manhattan    </td><td>Harlem River Drive   </td><td>                        </td><td>40.84863</td><td>-73.92762</td><td>Pedestrian/Bicyclist/Other Pedestrian Error/Confusion</td><td>Passenger Vehicle</td><td>0</td><td>0</td><td>0</td><td>0</td><td>0</td><td>0</td><td>0</td><td>0</td></tr>\n",
       "</tbody>\n",
       "</table>\n"
      ],
      "text/latex": [
       "A data.frame: 6 × 18\n",
       "\\begin{tabular}{r|llllllllllllllllll}\n",
       "  & Collision.ID & Date & Time & Borough & Street.Name & Cross.Street & Latitude & Longitude & Contributing.Factor & Vehicle.Type & Persons.Injured & Persons.Killed & Pedestrians.Injured & Pedestrians.Killed & Cyclists.Injured & Cyclists.Killed & Motorists.Injured & Motorists.Killed\\\\\n",
       "  & <int> & <chr> & <chr> & <chr> & <chr> & <chr> & <dbl> & <dbl> & <chr> & <chr> & <int> & <int> & <int> & <int> & <int> & <int> & <int> & <int>\\\\\n",
       "\\hline\n",
       "\t1 & 4491746 & 2021-01-01 & 20:00:00 & Bronx         & Bruckner Expressway   &                          & 40.83398 & -73.82635 & Pavement Slippery                                     & Passenger Vehicle & 0 & 0 & 0 & 0 & 0 & 0 & 0 & 0\\\\\n",
       "\t2 & 4441905 & 2021-01-01 & 05:28:00 & Brooklyn      & Lafayette Avenue      &                          & 40.68730 & -73.97366 & Unspecified                                           & Passenger Vehicle & 0 & 0 & 0 & 0 & 0 & 0 & 0 & 0\\\\\n",
       "\t3 & 4382769 & 2021-01-01 & 06:00:00 & Staten Island & West Shore Expressway &                          &       NA &        NA & Fell Asleep                                           & Passenger Vehicle & 0 & 0 & 0 & 0 & 0 & 0 & 0 & 0\\\\\n",
       "\t4 & 4380949 & 2021-01-01 & 19:30:00 & Bronx         & Sedgwick Avenue       & Vancortlandt Avenue West & 40.88270 & -73.89273 &                                                       & Not Reported      & 0 & 0 & 0 & 0 & 0 & 0 & 0 & 0\\\\\n",
       "\t5 & 4380940 & 2021-01-01 & 07:40:00 & Brooklyn      & Cortelyou Road        & Mc Donald Avenue         & 40.63791 & -73.97864 & Unspecified                                           & Passenger Vehicle & 0 & 0 & 0 & 0 & 0 & 0 & 0 & 0\\\\\n",
       "\t6 & 4380963 & 2021-01-01 & 18:45:00 & Manhattan     & Harlem River Drive    &                          & 40.84863 & -73.92762 & Pedestrian/Bicyclist/Other Pedestrian Error/Confusion & Passenger Vehicle & 0 & 0 & 0 & 0 & 0 & 0 & 0 & 0\\\\\n",
       "\\end{tabular}\n"
      ],
      "text/markdown": [
       "\n",
       "A data.frame: 6 × 18\n",
       "\n",
       "| <!--/--> | Collision.ID &lt;int&gt; | Date &lt;chr&gt; | Time &lt;chr&gt; | Borough &lt;chr&gt; | Street.Name &lt;chr&gt; | Cross.Street &lt;chr&gt; | Latitude &lt;dbl&gt; | Longitude &lt;dbl&gt; | Contributing.Factor &lt;chr&gt; | Vehicle.Type &lt;chr&gt; | Persons.Injured &lt;int&gt; | Persons.Killed &lt;int&gt; | Pedestrians.Injured &lt;int&gt; | Pedestrians.Killed &lt;int&gt; | Cyclists.Injured &lt;int&gt; | Cyclists.Killed &lt;int&gt; | Motorists.Injured &lt;int&gt; | Motorists.Killed &lt;int&gt; |\n",
       "|---|---|---|---|---|---|---|---|---|---|---|---|---|---|---|---|---|---|---|\n",
       "| 1 | 4491746 | 2021-01-01 | 20:00:00 | Bronx         | Bruckner Expressway   | <!----> | 40.83398 | -73.82635 | Pavement Slippery                                     | Passenger Vehicle | 0 | 0 | 0 | 0 | 0 | 0 | 0 | 0 |\n",
       "| 2 | 4441905 | 2021-01-01 | 05:28:00 | Brooklyn      | Lafayette Avenue      | <!----> | 40.68730 | -73.97366 | Unspecified                                           | Passenger Vehicle | 0 | 0 | 0 | 0 | 0 | 0 | 0 | 0 |\n",
       "| 3 | 4382769 | 2021-01-01 | 06:00:00 | Staten Island | West Shore Expressway | <!----> |       NA |        NA | Fell Asleep                                           | Passenger Vehicle | 0 | 0 | 0 | 0 | 0 | 0 | 0 | 0 |\n",
       "| 4 | 4380949 | 2021-01-01 | 19:30:00 | Bronx         | Sedgwick Avenue       | Vancortlandt Avenue West | 40.88270 | -73.89273 | <!----> | Not Reported      | 0 | 0 | 0 | 0 | 0 | 0 | 0 | 0 |\n",
       "| 5 | 4380940 | 2021-01-01 | 07:40:00 | Brooklyn      | Cortelyou Road        | Mc Donald Avenue         | 40.63791 | -73.97864 | Unspecified                                           | Passenger Vehicle | 0 | 0 | 0 | 0 | 0 | 0 | 0 | 0 |\n",
       "| 6 | 4380963 | 2021-01-01 | 18:45:00 | Manhattan     | Harlem River Drive    | <!----> | 40.84863 | -73.92762 | Pedestrian/Bicyclist/Other Pedestrian Error/Confusion | Passenger Vehicle | 0 | 0 | 0 | 0 | 0 | 0 | 0 | 0 |\n",
       "\n"
      ],
      "text/plain": [
       "  Collision.ID Date       Time     Borough       Street.Name          \n",
       "1 4491746      2021-01-01 20:00:00 Bronx         Bruckner Expressway  \n",
       "2 4441905      2021-01-01 05:28:00 Brooklyn      Lafayette Avenue     \n",
       "3 4382769      2021-01-01 06:00:00 Staten Island West Shore Expressway\n",
       "4 4380949      2021-01-01 19:30:00 Bronx         Sedgwick Avenue      \n",
       "5 4380940      2021-01-01 07:40:00 Brooklyn      Cortelyou Road       \n",
       "6 4380963      2021-01-01 18:45:00 Manhattan     Harlem River Drive   \n",
       "  Cross.Street             Latitude Longitude\n",
       "1                          40.83398 -73.82635\n",
       "2                          40.68730 -73.97366\n",
       "3                                NA        NA\n",
       "4 Vancortlandt Avenue West 40.88270 -73.89273\n",
       "5 Mc Donald Avenue         40.63791 -73.97864\n",
       "6                          40.84863 -73.92762\n",
       "  Contributing.Factor                                   Vehicle.Type     \n",
       "1 Pavement Slippery                                     Passenger Vehicle\n",
       "2 Unspecified                                           Passenger Vehicle\n",
       "3 Fell Asleep                                           Passenger Vehicle\n",
       "4                                                       Not Reported     \n",
       "5 Unspecified                                           Passenger Vehicle\n",
       "6 Pedestrian/Bicyclist/Other Pedestrian Error/Confusion Passenger Vehicle\n",
       "  Persons.Injured Persons.Killed Pedestrians.Injured Pedestrians.Killed\n",
       "1 0               0              0                   0                 \n",
       "2 0               0              0                   0                 \n",
       "3 0               0              0                   0                 \n",
       "4 0               0              0                   0                 \n",
       "5 0               0              0                   0                 \n",
       "6 0               0              0                   0                 \n",
       "  Cyclists.Injured Cyclists.Killed Motorists.Injured Motorists.Killed\n",
       "1 0                0               0                 0               \n",
       "2 0                0               0                 0               \n",
       "3 0                0               0                 0               \n",
       "4 0                0               0                 0               \n",
       "5 0                0               0                 0               \n",
       "6 0                0               0                 0               "
      ]
     },
     "metadata": {},
     "output_type": "display_data"
    }
   ],
   "source": [
    "df <- read.csv(\"NYC_Collisions.csv\")\n",
    "head(df)"
   ]
  },
  {
   "cell_type": "code",
   "execution_count": 3,
   "metadata": {
    "vscode": {
     "languageId": "r"
    }
   },
   "outputs": [
    {
     "data": {
      "text/html": [
       "<style>\n",
       ".list-inline {list-style: none; margin:0; padding: 0}\n",
       ".list-inline>li {display: inline-block}\n",
       ".list-inline>li:not(:last-child)::after {content: \"\\00b7\"; padding: 0 .5ex}\n",
       "</style>\n",
       "<ol class=list-inline><li>'Collision.ID'</li><li>'Date'</li><li>'Time'</li><li>'Borough'</li><li>'Street.Name'</li><li>'Cross.Street'</li><li>'Latitude'</li><li>'Longitude'</li><li>'Contributing.Factor'</li><li>'Vehicle.Type'</li><li>'Persons.Injured'</li><li>'Persons.Killed'</li><li>'Pedestrians.Injured'</li><li>'Pedestrians.Killed'</li><li>'Cyclists.Injured'</li><li>'Cyclists.Killed'</li><li>'Motorists.Injured'</li><li>'Motorists.Killed'</li></ol>\n"
      ],
      "text/latex": [
       "\\begin{enumerate*}\n",
       "\\item 'Collision.ID'\n",
       "\\item 'Date'\n",
       "\\item 'Time'\n",
       "\\item 'Borough'\n",
       "\\item 'Street.Name'\n",
       "\\item 'Cross.Street'\n",
       "\\item 'Latitude'\n",
       "\\item 'Longitude'\n",
       "\\item 'Contributing.Factor'\n",
       "\\item 'Vehicle.Type'\n",
       "\\item 'Persons.Injured'\n",
       "\\item 'Persons.Killed'\n",
       "\\item 'Pedestrians.Injured'\n",
       "\\item 'Pedestrians.Killed'\n",
       "\\item 'Cyclists.Injured'\n",
       "\\item 'Cyclists.Killed'\n",
       "\\item 'Motorists.Injured'\n",
       "\\item 'Motorists.Killed'\n",
       "\\end{enumerate*}\n"
      ],
      "text/markdown": [
       "1. 'Collision.ID'\n",
       "2. 'Date'\n",
       "3. 'Time'\n",
       "4. 'Borough'\n",
       "5. 'Street.Name'\n",
       "6. 'Cross.Street'\n",
       "7. 'Latitude'\n",
       "8. 'Longitude'\n",
       "9. 'Contributing.Factor'\n",
       "10. 'Vehicle.Type'\n",
       "11. 'Persons.Injured'\n",
       "12. 'Persons.Killed'\n",
       "13. 'Pedestrians.Injured'\n",
       "14. 'Pedestrians.Killed'\n",
       "15. 'Cyclists.Injured'\n",
       "16. 'Cyclists.Killed'\n",
       "17. 'Motorists.Injured'\n",
       "18. 'Motorists.Killed'\n",
       "\n",
       "\n"
      ],
      "text/plain": [
       " [1] \"Collision.ID\"        \"Date\"                \"Time\"               \n",
       " [4] \"Borough\"             \"Street.Name\"         \"Cross.Street\"       \n",
       " [7] \"Latitude\"            \"Longitude\"           \"Contributing.Factor\"\n",
       "[10] \"Vehicle.Type\"        \"Persons.Injured\"     \"Persons.Killed\"     \n",
       "[13] \"Pedestrians.Injured\" \"Pedestrians.Killed\"  \"Cyclists.Injured\"   \n",
       "[16] \"Cyclists.Killed\"     \"Motorists.Injured\"   \"Motorists.Killed\"   "
      ]
     },
     "metadata": {},
     "output_type": "display_data"
    }
   ],
   "source": [
    "colnames(df)"
   ]
  },
  {
   "cell_type": "code",
   "execution_count": 3,
   "metadata": {
    "vscode": {
     "languageId": "r"
    }
   },
   "outputs": [
    {
     "data": {
      "text/plain": [
       "  Collision.ID         Date               Time             Borough         \n",
       " Min.   :4073803   Length:238421      Length:238421      Length:238421     \n",
       " 1st Qu.:4440909   Class :character   Class :character   Class :character  \n",
       " Median :4500549   Mode  :character   Mode  :character   Mode  :character  \n",
       " Mean   :4500533                                                           \n",
       " 3rd Qu.:4560178                                                           \n",
       " Max.   :4619988                                                           \n",
       "                                                                           \n",
       " Street.Name        Cross.Street          Latitude       Longitude     \n",
       " Length:238421      Length:238421      Min.   :40.50   Min.   :-74.25  \n",
       " Class :character   Class :character   1st Qu.:40.67   1st Qu.:-73.96  \n",
       " Mode  :character   Mode  :character   Median :40.72   Median :-73.92  \n",
       "                                       Mean   :40.72   Mean   :-73.92  \n",
       "                                       3rd Qu.:40.78   3rd Qu.:-73.87  \n",
       "                                       Max.   :40.91   Max.   :-73.70  \n",
       "                                       NA's   :22323   NA's   :22323   \n",
       " Contributing.Factor Vehicle.Type       Persons.Injured   Persons.Killed    \n",
       " Length:238421       Length:238421      Min.   : 0.0000   Min.   :0.000000  \n",
       " Class :character    Class :character   1st Qu.: 0.0000   1st Qu.:0.000000  \n",
       " Mode  :character    Mode  :character   Median : 0.0000   Median :0.000000  \n",
       "                                        Mean   : 0.4875   Mean   :0.002663  \n",
       "                                        3rd Qu.: 1.0000   3rd Qu.:0.000000  \n",
       "                                        Max.   :40.0000   Max.   :3.000000  \n",
       "                                        NA's   :1                           \n",
       " Pedestrians.Injured Pedestrians.Killed Cyclists.Injured  Cyclists.Killed    \n",
       " Min.   : 0.00000    Min.   :0.0000     Min.   :0.00000   Min.   :0.0000000  \n",
       " 1st Qu.: 0.00000    1st Qu.:0.0000     1st Qu.:0.00000   1st Qu.:0.0000000  \n",
       " Median : 0.00000    Median :0.0000     Median :0.00000   Median :0.0000000  \n",
       " Mean   : 0.07917    Mean   :0.0012     Mean   :0.04585   Mean   :0.0001971  \n",
       " 3rd Qu.: 0.00000    3rd Qu.:0.0000     3rd Qu.:0.00000   3rd Qu.:0.0000000  \n",
       " Max.   :19.00000    Max.   :2.0000     Max.   :3.00000   Max.   :1.0000000  \n",
       "                                                                             \n",
       " Motorists.Injured Motorists.Killed  \n",
       " Min.   : 0.0000   Min.   :0.000000  \n",
       " 1st Qu.: 0.0000   1st Qu.:0.000000  \n",
       " Median : 0.0000   Median :0.000000  \n",
       " Mean   : 0.3415   Mean   :0.001124  \n",
       " 3rd Qu.: 0.0000   3rd Qu.:0.000000  \n",
       " Max.   :40.0000   Max.   :3.000000  \n",
       "                                     "
      ]
     },
     "metadata": {},
     "output_type": "display_data"
    }
   ],
   "source": [
    "summary(df)"
   ]
  }
 ],
 "metadata": {
  "kernelspec": {
   "display_name": "R",
   "language": "R",
   "name": "ir"
  },
  "language_info": {
   "codemirror_mode": "r",
   "file_extension": ".r",
   "mimetype": "text/x-r-source",
   "name": "R",
   "pygments_lexer": "r",
   "version": "4.4.1"
  }
 },
 "nbformat": 4,
 "nbformat_minor": 2
}
