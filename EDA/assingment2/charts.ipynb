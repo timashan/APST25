{
 "cells": [
  {
   "cell_type": "code",
   "execution_count": 1,
   "id": "7abc97f4",
   "metadata": {
    "vscode": {
     "languageId": "r"
    }
   },
   "outputs": [],
   "source": [
    "options(repr.plot.width=15, repr.plot.height=7)"
   ]
  },
  {
   "cell_type": "code",
   "execution_count": null,
   "id": "b08a7c70",
   "metadata": {
    "vscode": {
     "languageId": "r"
    }
   },
   "outputs": [
    {
     "name": "stderr",
     "output_type": "stream",
     "text": [
      "Warning message:\n",
      "\"package 'lubridate' was built under R version 4.4.3\"\n",
      "\n",
      "Attaching package: 'lubridate'\n",
      "\n",
      "\n",
      "The following objects are masked from 'package:base':\n",
      "\n",
      "    date, intersect, setdiff, union\n",
      "\n",
      "\n",
      "Warning message:\n",
      "\"package 'ggmap' was built under R version 4.4.3\"\n",
      "Loading required package: ggplot2\n",
      "\n",
      "Warning message:\n",
      "\"package 'ggplot2' was built under R version 4.4.2\"\n",
      "\u001b[32mℹ\u001b[39m Google's Terms of Service: \u001b[34m\u001b[3m<https://mapsplatform.google.com>\u001b[23m\u001b[39m\n",
      "  Stadia Maps' Terms of Service: \u001b[34m\u001b[3m<https://stadiamaps.com/terms-of-service>\u001b[23m\u001b[39m\n",
      "  OpenStreetMap's Tile Usage Policy: \u001b[34m\u001b[3m<https://operations.osmfoundation.org/policies/tiles>\u001b[23m\u001b[39m\n",
      "\u001b[32mℹ\u001b[39m Please cite \u001b[34mggmap\u001b[39m if you use it! Use `citation(\"ggmap\")` for details.\n",
      "Warning message:\n",
      "\"package 'leaflet' was built under R version 4.4.3\"\n",
      "Warning message:\n",
      "\"package 'plotly' was built under R version 4.4.3\"\n",
      "\n",
      "Attaching package: 'plotly'\n",
      "\n",
      "\n",
      "The following object is masked from 'package:ggmap':\n",
      "\n",
      "    wind\n",
      "\n",
      "\n",
      "The following object is masked from 'package:ggplot2':\n",
      "\n",
      "    last_plot\n",
      "\n",
      "\n",
      "The following object is masked from 'package:stats':\n",
      "\n",
      "    filter\n",
      "\n",
      "\n",
      "The following object is masked from 'package:graphics':\n",
      "\n",
      "    layout\n",
      "\n",
      "\n",
      "Warning message:\n",
      "\"package 'tidyverse' was built under R version 4.4.3\"\n",
      "Warning message:\n",
      "\"package 'tibble' was built under R version 4.4.2\"\n",
      "Warning message:\n",
      "\"package 'tidyr' was built under R version 4.4.3\"\n",
      "Warning message:\n",
      "\"package 'readr' was built under R version 4.4.3\"\n",
      "Warning message:\n",
      "\"package 'purrr' was built under R version 4.4.2\"\n",
      "Warning message:\n",
      "\"package 'dplyr' was built under R version 4.4.3\"\n",
      "Warning message:\n",
      "\"package 'stringr' was built under R version 4.4.2\"\n",
      "Warning message:\n",
      "\"package 'forcats' was built under R version 4.4.3\"\n",
      "── \u001b[1mAttaching core tidyverse packages\u001b[22m ──────────────────────── tidyverse 2.0.0 ──\n",
      "\u001b[32m✔\u001b[39m \u001b[34mdplyr  \u001b[39m 1.1.4     \u001b[32m✔\u001b[39m \u001b[34mstringr\u001b[39m 1.5.1\n",
      "\u001b[32m✔\u001b[39m \u001b[34mforcats\u001b[39m 1.0.0     \u001b[32m✔\u001b[39m \u001b[34mtibble \u001b[39m 3.2.1\n",
      "\u001b[32m✔\u001b[39m \u001b[34mpurrr  \u001b[39m 1.0.2     \u001b[32m✔\u001b[39m \u001b[34mtidyr  \u001b[39m 1.3.1\n",
      "\u001b[32m✔\u001b[39m \u001b[34mreadr  \u001b[39m 2.1.5     \n",
      "── \u001b[1mConflicts\u001b[22m ────────────────────────────────────────── tidyverse_conflicts() ──\n",
      "\u001b[31m✖\u001b[39m \u001b[34mdplyr\u001b[39m::\u001b[32mfilter()\u001b[39m masks \u001b[34mplotly\u001b[39m::filter(), \u001b[34mstats\u001b[39m::filter()\n",
      "\u001b[31m✖\u001b[39m \u001b[34mdplyr\u001b[39m::\u001b[32mlag()\u001b[39m    masks \u001b[34mstats\u001b[39m::lag()\n",
      "\u001b[36mℹ\u001b[39m Use the conflicted package (\u001b[3m\u001b[34m<http://conflicted.r-lib.org/>\u001b[39m\u001b[23m) to force all conflicts to become errors\n",
      "Warning message:\n",
      "\"package 'sf' was built under R version 4.4.3\"\n",
      "Linking to GEOS 3.13.0, GDAL 3.10.1, PROJ 9.5.1; sf_use_s2() is TRUE\n",
      "\n",
      "Warning message:\n",
      "\"package 'tmap' was built under R version 4.4.3\"\n",
      "Warning message:\n",
      "\"package 'osmdata' was built under R version 4.4.3\"\n",
      "Data (c) OpenStreetMap contributors, ODbL 1.0. https://www.openstreetmap.org/copyright\n",
      "\n"
     ]
    },
    {
     "ename": "",
     "evalue": "",
     "output_type": "error",
     "traceback": [
      "\u001b[1;31mThe Kernel crashed while executing code in the current cell or a previous cell. \n",
      "\u001b[1;31mPlease review the code in the cell(s) to identify a possible cause of the failure. \n",
      "\u001b[1;31mClick <a href='https://aka.ms/vscodeJupyterKernelCrash'>here</a> for more info. \n",
      "\u001b[1;31mView Jupyter <a href='command:jupyter.viewOutput'>log</a> for further details."
     ]
    }
   ],
   "source": [
    "## Load the Libraries #####\n",
    "# install.packages(c(\"osmdata\", \"magrittr\", \"dplyr\",\"ggmap\", \"lubridate\",\"leaflet\", \"worldcloud\",\"RcolorBrewer\",\"plotly\",\"tidyverse\",\"sf\",\"tmap\"))\n",
    "\n",
    "library(lubridate)\n",
    "library(ggmap)\n",
    "library(leaflet)\n",
    "# library(wordcloud)\n",
    "library(RColorBrewer)\n",
    "library(plotly)\n",
    "library(tidyverse)\n",
    "library(sf)\n",
    "library(tmap)\n",
    "library(osmdata)"
   ]
  },
  {
   "cell_type": "code",
   "execution_count": 3,
   "id": "f5a87ba6",
   "metadata": {
    "vscode": {
     "languageId": "r"
    }
   },
   "outputs": [
    {
     "data": {
      "text/html": [
       "<table class=\"dataframe\">\n",
       "<caption>A data.frame: 6 × 18</caption>\n",
       "<thead>\n",
       "\t<tr><th></th><th scope=col>Collision.ID</th><th scope=col>Date</th><th scope=col>Time</th><th scope=col>Borough</th><th scope=col>Street.Name</th><th scope=col>Cross.Street</th><th scope=col>Latitude</th><th scope=col>Longitude</th><th scope=col>Contributing.Factor</th><th scope=col>Vehicle.Type</th><th scope=col>Persons.Injured</th><th scope=col>Persons.Killed</th><th scope=col>Pedestrians.Injured</th><th scope=col>Pedestrians.Killed</th><th scope=col>Cyclists.Injured</th><th scope=col>Cyclists.Killed</th><th scope=col>Motorists.Injured</th><th scope=col>Motorists.Killed</th></tr>\n",
       "\t<tr><th></th><th scope=col>&lt;int&gt;</th><th scope=col>&lt;chr&gt;</th><th scope=col>&lt;chr&gt;</th><th scope=col>&lt;chr&gt;</th><th scope=col>&lt;chr&gt;</th><th scope=col>&lt;chr&gt;</th><th scope=col>&lt;dbl&gt;</th><th scope=col>&lt;dbl&gt;</th><th scope=col>&lt;chr&gt;</th><th scope=col>&lt;chr&gt;</th><th scope=col>&lt;int&gt;</th><th scope=col>&lt;int&gt;</th><th scope=col>&lt;int&gt;</th><th scope=col>&lt;int&gt;</th><th scope=col>&lt;int&gt;</th><th scope=col>&lt;int&gt;</th><th scope=col>&lt;int&gt;</th><th scope=col>&lt;int&gt;</th></tr>\n",
       "</thead>\n",
       "<tbody>\n",
       "\t<tr><th scope=row>1</th><td>4491746</td><td>2021-01-01</td><td>20:00:00</td><td>Bronx        </td><td>Bruckner Expressway  </td><td>                        </td><td>40.83398</td><td>-73.82635</td><td>Pavement Slippery                                    </td><td>Passenger Vehicle</td><td>0</td><td>0</td><td>0</td><td>0</td><td>0</td><td>0</td><td>0</td><td>0</td></tr>\n",
       "\t<tr><th scope=row>2</th><td>4441905</td><td>2021-01-01</td><td>05:28:00</td><td>Brooklyn     </td><td>Lafayette Avenue     </td><td>                        </td><td>40.68730</td><td>-73.97366</td><td>Unspecified                                          </td><td>Passenger Vehicle</td><td>0</td><td>0</td><td>0</td><td>0</td><td>0</td><td>0</td><td>0</td><td>0</td></tr>\n",
       "\t<tr><th scope=row>3</th><td>4382769</td><td>2021-01-01</td><td>06:00:00</td><td>Staten Island</td><td>West Shore Expressway</td><td>                        </td><td>      NA</td><td>       NA</td><td>Fell Asleep                                          </td><td>Passenger Vehicle</td><td>0</td><td>0</td><td>0</td><td>0</td><td>0</td><td>0</td><td>0</td><td>0</td></tr>\n",
       "\t<tr><th scope=row>4</th><td>4380949</td><td>2021-01-01</td><td>19:30:00</td><td>Bronx        </td><td>Sedgwick Avenue      </td><td>Vancortlandt Avenue West</td><td>40.88270</td><td>-73.89273</td><td>                                                     </td><td>Not Reported     </td><td>0</td><td>0</td><td>0</td><td>0</td><td>0</td><td>0</td><td>0</td><td>0</td></tr>\n",
       "\t<tr><th scope=row>5</th><td>4380940</td><td>2021-01-01</td><td>07:40:00</td><td>Brooklyn     </td><td>Cortelyou Road       </td><td>Mc Donald Avenue        </td><td>40.63791</td><td>-73.97864</td><td>Unspecified                                          </td><td>Passenger Vehicle</td><td>0</td><td>0</td><td>0</td><td>0</td><td>0</td><td>0</td><td>0</td><td>0</td></tr>\n",
       "\t<tr><th scope=row>6</th><td>4380963</td><td>2021-01-01</td><td>18:45:00</td><td>Manhattan    </td><td>Harlem River Drive   </td><td>                        </td><td>40.84863</td><td>-73.92762</td><td>Pedestrian/Bicyclist/Other Pedestrian Error/Confusion</td><td>Passenger Vehicle</td><td>0</td><td>0</td><td>0</td><td>0</td><td>0</td><td>0</td><td>0</td><td>0</td></tr>\n",
       "</tbody>\n",
       "</table>\n"
      ],
      "text/latex": [
       "A data.frame: 6 × 18\n",
       "\\begin{tabular}{r|llllllllllllllllll}\n",
       "  & Collision.ID & Date & Time & Borough & Street.Name & Cross.Street & Latitude & Longitude & Contributing.Factor & Vehicle.Type & Persons.Injured & Persons.Killed & Pedestrians.Injured & Pedestrians.Killed & Cyclists.Injured & Cyclists.Killed & Motorists.Injured & Motorists.Killed\\\\\n",
       "  & <int> & <chr> & <chr> & <chr> & <chr> & <chr> & <dbl> & <dbl> & <chr> & <chr> & <int> & <int> & <int> & <int> & <int> & <int> & <int> & <int>\\\\\n",
       "\\hline\n",
       "\t1 & 4491746 & 2021-01-01 & 20:00:00 & Bronx         & Bruckner Expressway   &                          & 40.83398 & -73.82635 & Pavement Slippery                                     & Passenger Vehicle & 0 & 0 & 0 & 0 & 0 & 0 & 0 & 0\\\\\n",
       "\t2 & 4441905 & 2021-01-01 & 05:28:00 & Brooklyn      & Lafayette Avenue      &                          & 40.68730 & -73.97366 & Unspecified                                           & Passenger Vehicle & 0 & 0 & 0 & 0 & 0 & 0 & 0 & 0\\\\\n",
       "\t3 & 4382769 & 2021-01-01 & 06:00:00 & Staten Island & West Shore Expressway &                          &       NA &        NA & Fell Asleep                                           & Passenger Vehicle & 0 & 0 & 0 & 0 & 0 & 0 & 0 & 0\\\\\n",
       "\t4 & 4380949 & 2021-01-01 & 19:30:00 & Bronx         & Sedgwick Avenue       & Vancortlandt Avenue West & 40.88270 & -73.89273 &                                                       & Not Reported      & 0 & 0 & 0 & 0 & 0 & 0 & 0 & 0\\\\\n",
       "\t5 & 4380940 & 2021-01-01 & 07:40:00 & Brooklyn      & Cortelyou Road        & Mc Donald Avenue         & 40.63791 & -73.97864 & Unspecified                                           & Passenger Vehicle & 0 & 0 & 0 & 0 & 0 & 0 & 0 & 0\\\\\n",
       "\t6 & 4380963 & 2021-01-01 & 18:45:00 & Manhattan     & Harlem River Drive    &                          & 40.84863 & -73.92762 & Pedestrian/Bicyclist/Other Pedestrian Error/Confusion & Passenger Vehicle & 0 & 0 & 0 & 0 & 0 & 0 & 0 & 0\\\\\n",
       "\\end{tabular}\n"
      ],
      "text/markdown": [
       "\n",
       "A data.frame: 6 × 18\n",
       "\n",
       "| <!--/--> | Collision.ID &lt;int&gt; | Date &lt;chr&gt; | Time &lt;chr&gt; | Borough &lt;chr&gt; | Street.Name &lt;chr&gt; | Cross.Street &lt;chr&gt; | Latitude &lt;dbl&gt; | Longitude &lt;dbl&gt; | Contributing.Factor &lt;chr&gt; | Vehicle.Type &lt;chr&gt; | Persons.Injured &lt;int&gt; | Persons.Killed &lt;int&gt; | Pedestrians.Injured &lt;int&gt; | Pedestrians.Killed &lt;int&gt; | Cyclists.Injured &lt;int&gt; | Cyclists.Killed &lt;int&gt; | Motorists.Injured &lt;int&gt; | Motorists.Killed &lt;int&gt; |\n",
       "|---|---|---|---|---|---|---|---|---|---|---|---|---|---|---|---|---|---|---|\n",
       "| 1 | 4491746 | 2021-01-01 | 20:00:00 | Bronx         | Bruckner Expressway   | <!----> | 40.83398 | -73.82635 | Pavement Slippery                                     | Passenger Vehicle | 0 | 0 | 0 | 0 | 0 | 0 | 0 | 0 |\n",
       "| 2 | 4441905 | 2021-01-01 | 05:28:00 | Brooklyn      | Lafayette Avenue      | <!----> | 40.68730 | -73.97366 | Unspecified                                           | Passenger Vehicle | 0 | 0 | 0 | 0 | 0 | 0 | 0 | 0 |\n",
       "| 3 | 4382769 | 2021-01-01 | 06:00:00 | Staten Island | West Shore Expressway | <!----> |       NA |        NA | Fell Asleep                                           | Passenger Vehicle | 0 | 0 | 0 | 0 | 0 | 0 | 0 | 0 |\n",
       "| 4 | 4380949 | 2021-01-01 | 19:30:00 | Bronx         | Sedgwick Avenue       | Vancortlandt Avenue West | 40.88270 | -73.89273 | <!----> | Not Reported      | 0 | 0 | 0 | 0 | 0 | 0 | 0 | 0 |\n",
       "| 5 | 4380940 | 2021-01-01 | 07:40:00 | Brooklyn      | Cortelyou Road        | Mc Donald Avenue         | 40.63791 | -73.97864 | Unspecified                                           | Passenger Vehicle | 0 | 0 | 0 | 0 | 0 | 0 | 0 | 0 |\n",
       "| 6 | 4380963 | 2021-01-01 | 18:45:00 | Manhattan     | Harlem River Drive    | <!----> | 40.84863 | -73.92762 | Pedestrian/Bicyclist/Other Pedestrian Error/Confusion | Passenger Vehicle | 0 | 0 | 0 | 0 | 0 | 0 | 0 | 0 |\n",
       "\n"
      ],
      "text/plain": [
       "  Collision.ID Date       Time     Borough       Street.Name          \n",
       "1 4491746      2021-01-01 20:00:00 Bronx         Bruckner Expressway  \n",
       "2 4441905      2021-01-01 05:28:00 Brooklyn      Lafayette Avenue     \n",
       "3 4382769      2021-01-01 06:00:00 Staten Island West Shore Expressway\n",
       "4 4380949      2021-01-01 19:30:00 Bronx         Sedgwick Avenue      \n",
       "5 4380940      2021-01-01 07:40:00 Brooklyn      Cortelyou Road       \n",
       "6 4380963      2021-01-01 18:45:00 Manhattan     Harlem River Drive   \n",
       "  Cross.Street             Latitude Longitude\n",
       "1                          40.83398 -73.82635\n",
       "2                          40.68730 -73.97366\n",
       "3                                NA        NA\n",
       "4 Vancortlandt Avenue West 40.88270 -73.89273\n",
       "5 Mc Donald Avenue         40.63791 -73.97864\n",
       "6                          40.84863 -73.92762\n",
       "  Contributing.Factor                                   Vehicle.Type     \n",
       "1 Pavement Slippery                                     Passenger Vehicle\n",
       "2 Unspecified                                           Passenger Vehicle\n",
       "3 Fell Asleep                                           Passenger Vehicle\n",
       "4                                                       Not Reported     \n",
       "5 Unspecified                                           Passenger Vehicle\n",
       "6 Pedestrian/Bicyclist/Other Pedestrian Error/Confusion Passenger Vehicle\n",
       "  Persons.Injured Persons.Killed Pedestrians.Injured Pedestrians.Killed\n",
       "1 0               0              0                   0                 \n",
       "2 0               0              0                   0                 \n",
       "3 0               0              0                   0                 \n",
       "4 0               0              0                   0                 \n",
       "5 0               0              0                   0                 \n",
       "6 0               0              0                   0                 \n",
       "  Cyclists.Injured Cyclists.Killed Motorists.Injured Motorists.Killed\n",
       "1 0                0               0                 0               \n",
       "2 0                0               0                 0               \n",
       "3 0                0               0                 0               \n",
       "4 0                0               0                 0               \n",
       "5 0                0               0                 0               \n",
       "6 0                0               0                 0               "
      ]
     },
     "metadata": {},
     "output_type": "display_data"
    }
   ],
   "source": [
    "NYC_Collisions = read.csv(\"NYC_Collisions.csv\")\n",
    "# attach(NYC_Collisions)\n",
    "df = NYC_Collisions\n",
    "\n",
    "## View the dataset #####\n",
    "head(NYC_Collisions)"
   ]
  },
  {
   "cell_type": "code",
   "execution_count": 4,
   "id": "52fc2899",
   "metadata": {
    "vscode": {
     "languageId": "r"
    }
   },
   "outputs": [],
   "source": [
    "# colnames(NYC_Collisions)\n",
    "# summary(NYC_Collisions)"
   ]
  },
  {
   "cell_type": "code",
   "execution_count": 4,
   "id": "9f518bf5",
   "metadata": {
    "vscode": {
     "languageId": "r"
    }
   },
   "outputs": [],
   "source": [
    "## Time Series Analysis ####\n",
    "### Distributions of the accidents vs time ######\n",
    "#### Convert Date and Time Column to relavent format ####\n",
    "df$Data = as.Date(df$Date, format(\"%Y-%m-%d\"))\n",
    "df$Time = hms::as_hms(df$Time)\n",
    "\n",
    "#### Extract the relavent Content from the data ####\n",
    "df$Year = year(df$Date)\n",
    "df$Month = month(df$Date)\n",
    "df$Date = date(df$Date)\n",
    "df$Day_Of_Week = wday(df$Date, label = TRUE)\n",
    "df$Hour = hour(df$Time)\n",
    "\n",
    "# Extract month as a number (1 to 12)\n",
    "df$Month = month(df$Date)\n",
    "\n",
    "# Convert month number to ordered factor with month names\n",
    "df$Month = factor(df$Month, \n",
    "                  levels = 1:12, \n",
    "                  labels = c(\"January\", \"February\", \"March\", \"April\", \n",
    "                             \"May\", \"June\", \"July\", \"August\", \n",
    "                             \"September\", \"October\", \"November\", \"December\"),\n",
    "                  ordered = TRUE)\n",
    "\n",
    "df$Fatal <- ifelse(df$Persons.Killed > 0, TRUE, FALSE)\n",
    "df$Injured <- ifelse(df$Persons.Injured > 0, TRUE, FALSE)\n",
    "df$InjuredKilled <- ifelse(df$Fatal & df$Injured, TRUE, FALSE)"
   ]
  },
  {
   "cell_type": "code",
   "execution_count": 5,
   "id": "c7e7268b",
   "metadata": {
    "vscode": {
     "languageId": "r"
    }
   },
   "outputs": [
    {
     "data": {
      "text/html": [
       "238267"
      ],
      "text/latex": [
       "238267"
      ],
      "text/markdown": [
       "238267"
      ],
      "text/plain": [
       "[1] 238267"
      ]
     },
     "metadata": {},
     "output_type": "display_data"
    }
   ],
   "source": [
    "nrow(df[df$InjuredKilled==FALSE,])"
   ]
  },
  {
   "cell_type": "code",
   "execution_count": 160,
   "id": "af028646",
   "metadata": {
    "vscode": {
     "languageId": "r"
    }
   },
   "outputs": [
    {
     "data": {
      "text/html": [
       "<table class=\"dataframe\">\n",
       "<caption>A tibble: 3 × 1</caption>\n",
       "<thead>\n",
       "\t<tr><th scope=col>Total</th></tr>\n",
       "\t<tr><th scope=col>&lt;int&gt;</th></tr>\n",
       "</thead>\n",
       "<tbody>\n",
       "\t<tr><td>284</td></tr>\n",
       "\t<tr><td>275</td></tr>\n",
       "\t<tr><td> 54</td></tr>\n",
       "</tbody>\n",
       "</table>\n"
      ],
      "text/latex": [
       "A tibble: 3 × 1\n",
       "\\begin{tabular}{l}\n",
       " Total\\\\\n",
       " <int>\\\\\n",
       "\\hline\n",
       "\t 284\\\\\n",
       "\t 275\\\\\n",
       "\t  54\\\\\n",
       "\\end{tabular}\n"
      ],
      "text/markdown": [
       "\n",
       "A tibble: 3 × 1\n",
       "\n",
       "| Total &lt;int&gt; |\n",
       "|---|\n",
       "| 284 |\n",
       "| 275 |\n",
       "|  54 |\n",
       "\n"
      ],
      "text/plain": [
       "  Total\n",
       "1 284  \n",
       "2 275  \n",
       "3  54  "
      ]
     },
     "metadata": {},
     "output_type": "display_data"
    }
   ],
   "source": [
    "df |> filter(Fatal == TRUE) |> group_by(Year) |> summarise(Total = sum(Fatal)) |> select(\"Total\")"
   ]
  },
  {
   "cell_type": "code",
   "execution_count": 273,
   "id": "fe6275fa",
   "metadata": {
    "vscode": {
     "languageId": "r"
    }
   },
   "outputs": [
    {
     "data": {
      "image/png": "[encoded data removed]",
      "text/plain": [
       "plot without title"
      ]
     },
     "metadata": {
      "image/png": {
       "height": 420,
       "width": 900
      }
     },
     "output_type": "display_data"
    }
   ],
   "source": [
    "top_contributing_factors <- df |> count(Contributing.Factor) |> arrange(desc(n)) |> head(10)\n",
    "\n",
    "ggplot(top_contributing_factors, aes(x = reorder(Contributing.Factor, n), y = n, fill = Contributing.Factor)) +\n",
    "    geom_bar(stat = \"identity\") +\n",
    "    geom_text(aes(label = n), hjust = -0.2, size = 3) +\n",
    "    coord_flip() +\n",
    "    labs(title = \"Top 10 Contributing Factors\",\n",
    "         x = \"Contributing Factor\",\n",
    "         y = \"Count\") +\n",
    "    theme_minimal() +\n",
    "    theme(plot.title = element_text(hjust = 0.5)) +\n",
    "    guides(fill = \"none\")"
   ]
  },
  {
   "cell_type": "code",
   "execution_count": null,
   "id": "6ba5ef05",
   "metadata": {
    "vscode": {
     "languageId": "r"
    }
   },
   "outputs": [
    {
     "data": {
      "text/html": [
       "<table class=\"dataframe\">\n",
       "<caption>A data.frame: 3 × 5</caption>\n",
       "<thead>\n",
       "\t<tr><th scope=col>Year</th><th scope=col>Count</th><th scope=col>Fatalities</th><th scope=col>Killed</th><th scope=col>Injured</th></tr>\n",
       "\t<tr><th scope=col>&lt;dbl&gt;</th><th scope=col>&lt;int&gt;</th><th scope=col>&lt;int&gt;</th><th scope=col>&lt;int&gt;</th><th scope=col>&lt;int&gt;</th></tr>\n",
       "</thead>\n",
       "<tbody>\n",
       "\t<tr><td>2021</td><td>110546</td><td>284</td><td>294</td><td>38588</td></tr>\n",
       "\t<tr><td>2022</td><td>103780</td><td>275</td><td>285</td><td>39104</td></tr>\n",
       "\t<tr><td>2023</td><td> 24095</td><td> 54</td><td> 56</td><td> 9410</td></tr>\n",
       "</tbody>\n",
       "</table>\n"
      ],
      "text/latex": [
       "A data.frame: 3 × 5\n",
       "\\begin{tabular}{lllll}\n",
       " Year & Count & Fatalities & Killed & Injured\\\\\n",
       " <dbl> & <int> & <int> & <int> & <int>\\\\\n",
       "\\hline\n",
       "\t 2021 & 110546 & 284 & 294 & 38588\\\\\n",
       "\t 2022 & 103780 & 275 & 285 & 39104\\\\\n",
       "\t 2023 &  24095 &  54 &  56 &  9410\\\\\n",
       "\\end{tabular}\n"
      ],
      "text/markdown": [
       "\n",
       "A data.frame: 3 × 5\n",
       "\n",
       "| Year &lt;dbl&gt; | Count &lt;int&gt; | Fatalities &lt;int&gt; | Killed &lt;int&gt; | Injured &lt;int&gt; |\n",
       "|---|---|---|---|---|\n",
       "| 2021 | 110546 | 284 | 294 | 38588 |\n",
       "| 2022 | 103780 | 275 | 285 | 39104 |\n",
       "| 2023 |  24095 |  54 |  56 |  9410 |\n",
       "\n"
      ],
      "text/plain": [
       "  Year Count  Fatalities Killed Injured\n",
       "1 2021 110546 284        294    38588  \n",
       "2 2022 103780 275        285    39104  \n",
       "3 2023  24095  54         56     9410  "
      ]
     },
     "metadata": {},
     "output_type": "display_data"
    }
   ],
   "source": [
    "df_2021=df[df$Year==2021,]\n",
    "df_2022=df[df$Year==2022,]\n",
    "df_2023=df[df$Year==2023,]\n",
    "# paste(\"Start:\",df_2021[1,]$Date, \"End:\", tail(df_2023, 1)$Date)\n",
    "\n",
    "# df |> count(Year) |> select(n)\n",
    "\n",
    "sum_table <- data.frame(\n",
    "    Year = c(2021, 2022, 2023),\n",
    "    Count = df |> count(Year) |> select(n) |> rename(Count = n),\n",
    "    Fatalities = df |> group_by(Year) |> summarise(Fatalities = sum(Fatal)) |> pull(Fatalities),\n",
    "    Killed = df |> group_by(Year) |> summarise(Killed = sum(Persons.Killed)) |> pull(Killed),\n",
    "    Injured = df |> group_by(Year) |> summarise(Injured = sum(Injured==TRUE, na.rm = TRUE)) |> pull(Injured)\n",
    ")\n",
    "sum_table"
   ]
  },
  {
   "cell_type": "code",
   "execution_count": 7,
   "id": "a979ef1c",
   "metadata": {
    "vscode": {
     "languageId": "r"
    }
   },
   "outputs": [
    {
     "data": {
      "text/html": [
       "38589"
      ],
      "text/latex": [
       "38589"
      ],
      "text/markdown": [
       "38589"
      ],
      "text/plain": [
       "[1] 38589"
      ]
     },
     "metadata": {},
     "output_type": "display_data"
    }
   ],
   "source": [
    "nrow(df_2021[df_2021$Injured==TRUE,])"
   ]
  },
  {
   "cell_type": "code",
   "execution_count": 83,
   "id": "c27017c4",
   "metadata": {
    "vscode": {
     "languageId": "r"
    }
   },
   "outputs": [
    {
     "data": {
      "image/png": "[encoded data removed]",
      "text/plain": [
       "plot without title"
      ]
     },
     "metadata": {
      "image/png": {
       "height": 420,
       "width": 900
      }
     },
     "output_type": "display_data"
    }
   ],
   "source": [
    "borough_counts <- df |> count(Borough)\n",
    "# https://www.nyc.gov/assets/planning/download/pdf/planning-level/nyc-population/population-estimates/current-population-estimates-2023-June2024-release.pdf\n",
    "borough_counts <- borough_counts[-1, ]\n",
    "borough_counts[\"population\"] <- c(1356476, 2561225, 1597451, 2252196, 490687) \n",
    "borough_counts <- borough_counts |> mutate(Collisions_Per_Capita = n / population)\n",
    "# sum(borough_counts[\"population\"])\n",
    "# borough_counts\n",
    "\n",
    "borough_counts <- borough_counts |> \n",
    "    mutate(Percentage = Collisions_Per_Capita / sum(Collisions_Per_Capita) * 100)\n",
    "# borough_counts\n",
    "\n",
    "ggplot(borough_counts, aes(x = \"\", y = Percentage, fill = Borough)) +\n",
    "    geom_bar(stat = \"identity\", width = 1) +\n",
    "    coord_polar(\"y\", start = 0) +\n",
    "    labs(title = \"Distribution of Collisions by Borough\",\n",
    "         x = NULL,\n",
    "         y = NULL,\n",
    "         fill = \"Borough\") +\n",
    "    theme_minimal() +\n",
    "    theme(axis.text = element_blank(),\n",
    "          axis.ticks = element_blank(),\n",
    "          plot.title = element_text(hjust = 0.5)) +\n",
    "    geom_text(aes(label = paste0(round(Percentage, 1), \"%\")), \n",
    "              position = position_stack(vjust = 0.5), size = 3)"
   ]
  },
  {
   "cell_type": "code",
   "execution_count": 308,
   "id": "7fa8b9c5",
   "metadata": {
    "vscode": {
     "languageId": "r"
    }
   },
   "outputs": [
    {
     "data": {
      "text/html": [
       "<table class=\"dataframe\">\n",
       "<caption>A data.frame: 10 × 2</caption>\n",
       "<thead>\n",
       "\t<tr><th></th><th scope=col>Vehicle.Type</th><th scope=col>n</th></tr>\n",
       "\t<tr><th></th><th scope=col>&lt;chr&gt;</th><th scope=col>&lt;int&gt;</th></tr>\n",
       "</thead>\n",
       "<tbody>\n",
       "\t<tr><th scope=row>1</th><td>Passenger Vehicle</td><td>394</td></tr>\n",
       "\t<tr><th scope=row>2</th><td>Motorcycle       </td><td> 60</td></tr>\n",
       "\t<tr><th scope=row>3</th><td>Transport        </td><td> 35</td></tr>\n",
       "\t<tr><th scope=row>4</th><td>Bicycle          </td><td> 32</td></tr>\n",
       "\t<tr><th scope=row>5</th><td>Not Reported     </td><td> 19</td></tr>\n",
       "\t<tr><th scope=row>6</th><td>Scooter          </td><td> 19</td></tr>\n",
       "\t<tr><th scope=row>7</th><td>Bus              </td><td> 16</td></tr>\n",
       "\t<tr><th scope=row>8</th><td>Utility Vehicle  </td><td>  9</td></tr>\n",
       "\t<tr><th scope=row>9</th><td>Taxi             </td><td>  8</td></tr>\n",
       "\t<tr><th scope=row>10</th><td>Other            </td><td>  7</td></tr>\n",
       "</tbody>\n",
       "</table>\n"
      ],
      "text/latex": [
       "A data.frame: 10 × 2\n",
       "\\begin{tabular}{r|ll}\n",
       "  & Vehicle.Type & n\\\\\n",
       "  & <chr> & <int>\\\\\n",
       "\\hline\n",
       "\t1 & Passenger Vehicle & 394\\\\\n",
       "\t2 & Motorcycle        &  60\\\\\n",
       "\t3 & Transport         &  35\\\\\n",
       "\t4 & Bicycle           &  32\\\\\n",
       "\t5 & Not Reported      &  19\\\\\n",
       "\t6 & Scooter           &  19\\\\\n",
       "\t7 & Bus               &  16\\\\\n",
       "\t8 & Utility Vehicle   &   9\\\\\n",
       "\t9 & Taxi              &   8\\\\\n",
       "\t10 & Other             &   7\\\\\n",
       "\\end{tabular}\n"
      ],
      "text/markdown": [
       "\n",
       "A data.frame: 10 × 2\n",
       "\n",
       "| <!--/--> | Vehicle.Type &lt;chr&gt; | n &lt;int&gt; |\n",
       "|---|---|---|\n",
       "| 1 | Passenger Vehicle | 394 |\n",
       "| 2 | Motorcycle        |  60 |\n",
       "| 3 | Transport         |  35 |\n",
       "| 4 | Bicycle           |  32 |\n",
       "| 5 | Not Reported      |  19 |\n",
       "| 6 | Scooter           |  19 |\n",
       "| 7 | Bus               |  16 |\n",
       "| 8 | Utility Vehicle   |   9 |\n",
       "| 9 | Taxi              |   8 |\n",
       "| 10 | Other             |   7 |\n",
       "\n"
      ],
      "text/plain": [
       "   Vehicle.Type      n  \n",
       "1  Passenger Vehicle 394\n",
       "2  Motorcycle         60\n",
       "3  Transport          35\n",
       "4  Bicycle            32\n",
       "5  Not Reported       19\n",
       "6  Scooter            19\n",
       "7  Bus                16\n",
       "8  Utility Vehicle     9\n",
       "9  Taxi                8\n",
       "10 Other               7"
      ]
     },
     "metadata": {},
     "output_type": "display_data"
    }
   ],
   "source": [
    "df |> filter(Fatal == TRUE) |> count(Vehicle.Type) |> arrange(desc(n)) |> head(10)"
   ]
  },
  {
   "cell_type": "code",
   "execution_count": 311,
   "id": "27998789",
   "metadata": {
    "vscode": {
     "languageId": "r"
    }
   },
   "outputs": [
    {
     "data": {
      "text/html": [
       "<style>\n",
       ".list-inline {list-style: none; margin:0; padding: 0}\n",
       ".list-inline>li {display: inline-block}\n",
       ".list-inline>li:not(:last-child)::after {content: \"\\00b7\"; padding: 0 .5ex}\n",
       "</style>\n",
       "<ol class=list-inline><li>'Collision.ID'</li><li>'Date'</li><li>'Time'</li><li>'Borough'</li><li>'Street.Name'</li><li>'Cross.Street'</li><li>'Latitude'</li><li>'Longitude'</li><li>'Contributing.Factor'</li><li>'Vehicle.Type'</li><li>'Persons.Injured'</li><li>'Persons.Killed'</li><li>'Pedestrians.Injured'</li><li>'Pedestrians.Killed'</li><li>'Cyclists.Injured'</li><li>'Cyclists.Killed'</li><li>'Motorists.Injured'</li><li>'Motorists.Killed'</li><li>'Data'</li><li>'Year'</li><li>'Month'</li><li>'Day_Of_Week'</li><li>'Hour'</li><li>'Fatal'</li></ol>\n"
      ],
      "text/latex": [
       "\\begin{enumerate*}\n",
       "\\item 'Collision.ID'\n",
       "\\item 'Date'\n",
       "\\item 'Time'\n",
       "\\item 'Borough'\n",
       "\\item 'Street.Name'\n",
       "\\item 'Cross.Street'\n",
       "\\item 'Latitude'\n",
       "\\item 'Longitude'\n",
       "\\item 'Contributing.Factor'\n",
       "\\item 'Vehicle.Type'\n",
       "\\item 'Persons.Injured'\n",
       "\\item 'Persons.Killed'\n",
       "\\item 'Pedestrians.Injured'\n",
       "\\item 'Pedestrians.Killed'\n",
       "\\item 'Cyclists.Injured'\n",
       "\\item 'Cyclists.Killed'\n",
       "\\item 'Motorists.Injured'\n",
       "\\item 'Motorists.Killed'\n",
       "\\item 'Data'\n",
       "\\item 'Year'\n",
       "\\item 'Month'\n",
       "\\item 'Day\\_Of\\_Week'\n",
       "\\item 'Hour'\n",
       "\\item 'Fatal'\n",
       "\\end{enumerate*}\n"
      ],
      "text/markdown": [
       "1. 'Collision.ID'\n",
       "2. 'Date'\n",
       "3. 'Time'\n",
       "4. 'Borough'\n",
       "5. 'Street.Name'\n",
       "6. 'Cross.Street'\n",
       "7. 'Latitude'\n",
       "8. 'Longitude'\n",
       "9. 'Contributing.Factor'\n",
       "10. 'Vehicle.Type'\n",
       "11. 'Persons.Injured'\n",
       "12. 'Persons.Killed'\n",
       "13. 'Pedestrians.Injured'\n",
       "14. 'Pedestrians.Killed'\n",
       "15. 'Cyclists.Injured'\n",
       "16. 'Cyclists.Killed'\n",
       "17. 'Motorists.Injured'\n",
       "18. 'Motorists.Killed'\n",
       "19. 'Data'\n",
       "20. 'Year'\n",
       "21. 'Month'\n",
       "22. 'Day_Of_Week'\n",
       "23. 'Hour'\n",
       "24. 'Fatal'\n",
       "\n",
       "\n"
      ],
      "text/plain": [
       " [1] \"Collision.ID\"        \"Date\"                \"Time\"               \n",
       " [4] \"Borough\"             \"Street.Name\"         \"Cross.Street\"       \n",
       " [7] \"Latitude\"            \"Longitude\"           \"Contributing.Factor\"\n",
       "[10] \"Vehicle.Type\"        \"Persons.Injured\"     \"Persons.Killed\"     \n",
       "[13] \"Pedestrians.Injured\" \"Pedestrians.Killed\"  \"Cyclists.Injured\"   \n",
       "[16] \"Cyclists.Killed\"     \"Motorists.Injured\"   \"Motorists.Killed\"   \n",
       "[19] \"Data\"                \"Year\"                \"Month\"              \n",
       "[22] \"Day_Of_Week\"         \"Hour\"                \"Fatal\"              "
      ]
     },
     "metadata": {},
     "output_type": "display_data"
    }
   ],
   "source": [
    "colnames(df)"
   ]
  },
  {
   "cell_type": "code",
   "execution_count": 357,
   "id": "de1f112e",
   "metadata": {
    "vscode": {
     "languageId": "r"
    }
   },
   "outputs": [
    {
     "data": {
      "text/html": [
       "<table class=\"dataframe\">\n",
       "<caption>A data.frame: 15 × 3</caption>\n",
       "<thead>\n",
       "\t<tr><th scope=col>Vehicle_Type</th><th scope=col>Deceased</th><th scope=col>Deaths</th></tr>\n",
       "\t<tr><th scope=col>&lt;chr&gt;</th><th scope=col>&lt;chr&gt;</th><th scope=col>&lt;int&gt;</th></tr>\n",
       "</thead>\n",
       "<tbody>\n",
       "\t<tr><td>Passenger Vehicle</td><td>Motorist  </td><td>174</td></tr>\n",
       "\t<tr><td>Passenger Vehicle</td><td>Pedestrian</td><td>202</td></tr>\n",
       "\t<tr><td>Passenger Vehicle</td><td>Cyclist   </td><td> 19</td></tr>\n",
       "\t<tr><td>Motorcycle       </td><td>Motorist  </td><td> 59</td></tr>\n",
       "\t<tr><td>Motorcycle       </td><td>Pedestrian</td><td>  3</td></tr>\n",
       "\t<tr><td>Motorcycle       </td><td>Cyclist   </td><td>  0</td></tr>\n",
       "\t<tr><td>Transport        </td><td>Motorist  </td><td>  6</td></tr>\n",
       "\t<tr><td>Transport        </td><td>Pedestrian</td><td> 19</td></tr>\n",
       "\t<tr><td>Transport        </td><td>Cyclist   </td><td>  7</td></tr>\n",
       "\t<tr><td>Bicycle          </td><td>Motorist  </td><td>  2</td></tr>\n",
       "\t<tr><td>Bicycle          </td><td>Pedestrian</td><td>  5</td></tr>\n",
       "\t<tr><td>Bicycle          </td><td>Cyclist   </td><td> 14</td></tr>\n",
       "\t<tr><td>Bus              </td><td>Motorist  </td><td>  1</td></tr>\n",
       "\t<tr><td>Bus              </td><td>Pedestrian</td><td> 14</td></tr>\n",
       "\t<tr><td>Bus              </td><td>Cyclist   </td><td>  1</td></tr>\n",
       "</tbody>\n",
       "</table>\n"
      ],
      "text/latex": [
       "A data.frame: 15 × 3\n",
       "\\begin{tabular}{lll}\n",
       " Vehicle\\_Type & Deceased & Deaths\\\\\n",
       " <chr> & <chr> & <int>\\\\\n",
       "\\hline\n",
       "\t Passenger Vehicle & Motorist   & 174\\\\\n",
       "\t Passenger Vehicle & Pedestrian & 202\\\\\n",
       "\t Passenger Vehicle & Cyclist    &  19\\\\\n",
       "\t Motorcycle        & Motorist   &  59\\\\\n",
       "\t Motorcycle        & Pedestrian &   3\\\\\n",
       "\t Motorcycle        & Cyclist    &   0\\\\\n",
       "\t Transport         & Motorist   &   6\\\\\n",
       "\t Transport         & Pedestrian &  19\\\\\n",
       "\t Transport         & Cyclist    &   7\\\\\n",
       "\t Bicycle           & Motorist   &   2\\\\\n",
       "\t Bicycle           & Pedestrian &   5\\\\\n",
       "\t Bicycle           & Cyclist    &  14\\\\\n",
       "\t Bus               & Motorist   &   1\\\\\n",
       "\t Bus               & Pedestrian &  14\\\\\n",
       "\t Bus               & Cyclist    &   1\\\\\n",
       "\\end{tabular}\n"
      ],
      "text/markdown": [
       "\n",
       "A data.frame: 15 × 3\n",
       "\n",
       "| Vehicle_Type &lt;chr&gt; | Deceased &lt;chr&gt; | Deaths &lt;int&gt; |\n",
       "|---|---|---|\n",
       "| Passenger Vehicle | Motorist   | 174 |\n",
       "| Passenger Vehicle | Pedestrian | 202 |\n",
       "| Passenger Vehicle | Cyclist    |  19 |\n",
       "| Motorcycle        | Motorist   |  59 |\n",
       "| Motorcycle        | Pedestrian |   3 |\n",
       "| Motorcycle        | Cyclist    |   0 |\n",
       "| Transport         | Motorist   |   6 |\n",
       "| Transport         | Pedestrian |  19 |\n",
       "| Transport         | Cyclist    |   7 |\n",
       "| Bicycle           | Motorist   |   2 |\n",
       "| Bicycle           | Pedestrian |   5 |\n",
       "| Bicycle           | Cyclist    |  14 |\n",
       "| Bus               | Motorist   |   1 |\n",
       "| Bus               | Pedestrian |  14 |\n",
       "| Bus               | Cyclist    |   1 |\n",
       "\n"
      ],
      "text/plain": [
       "   Vehicle_Type      Deceased   Deaths\n",
       "1  Passenger Vehicle Motorist   174   \n",
       "2  Passenger Vehicle Pedestrian 202   \n",
       "3  Passenger Vehicle Cyclist     19   \n",
       "4  Motorcycle        Motorist    59   \n",
       "5  Motorcycle        Pedestrian   3   \n",
       "6  Motorcycle        Cyclist      0   \n",
       "7  Transport         Motorist     6   \n",
       "8  Transport         Pedestrian  19   \n",
       "9  Transport         Cyclist      7   \n",
       "10 Bicycle           Motorist     2   \n",
       "11 Bicycle           Pedestrian   5   \n",
       "12 Bicycle           Cyclist     14   \n",
       "13 Bus               Motorist     1   \n",
       "14 Bus               Pedestrian  14   \n",
       "15 Bus               Cyclist      1   "
      ]
     },
     "metadata": {},
     "output_type": "display_data"
    }
   ],
   "source": [
    "# Define the vehicle types to analyze\n",
    "vehicle_types <- c(\"Passenger Vehicle\", \"Motorcycle\", \"Transport\", \"Bicycle\", \"Bus\")\n",
    "\n",
    "# Initialize an empty data frame to store the results\n",
    "killed_summary <- data.frame()\n",
    "\n",
    "# Loop through each vehicle type and calculate the summary\n",
    "for (vehicle_type in vehicle_types) {\n",
    "    df_vehicle <- df[df$Vehicle.Type == vehicle_type, ]\n",
    "    total_injuries <- data.frame(\n",
    "        Vehicle_Type = vehicle_type,\n",
    "        Deceased = c(\"Motorist\", \"Pedestrian\", \"Cyclist\"),\n",
    "        Deaths = c(sum(df_vehicle$Motorists.Killed), sum(df_vehicle$Pedestrians.Killed), sum(df_vehicle$Cyclists.Killed))\n",
    "    )\n",
    "    killed_summary <- rbind(killed_summary, total_injuries)\n",
    "}\n",
    "\n",
    "# Display the combined summary\n",
    "killed_summary\n"
   ]
  },
  {
   "cell_type": "code",
   "execution_count": 407,
   "id": "2a9acbf9",
   "metadata": {
    "vscode": {
     "languageId": "r"
    }
   },
   "outputs": [
    {
     "data": {
      "image/png": "[encoded data removed]",
      "text/plain": [
       "plot without title"
      ]
     },
     "metadata": {
      "image/png": {
       "height": 300,
       "width": 1080
      }
     },
     "output_type": "display_data"
    }
   ],
   "source": [
    "options(repr.plot.width=18, repr.plot.height=5)\n",
    "\n",
    "# Calculate percentages\n",
    "killed_summary <- killed_summary |> \n",
    "     group_by(Vehicle_Type) |> \n",
    "     mutate(Percentage = Deaths / sum(Deaths) * 100)\n",
    "\n",
    "# Plot as stacked percentages with counts\n",
    "ggplot(killed_summary, aes(x = Vehicle_Type, y = Percentage, fill = Deceased)) +\n",
    "     geom_bar(stat = \"identity\", position = \"stack\") +\n",
    "     geom_text(aes(label = paste0(round(Percentage, 1), \"% (\", Deaths, \")\")), \n",
    "                 position = position_stack(vjust = 0.5), size = 4) + \n",
    "     labs(title = \"Deaths by Vehicle Type and Category (Percentage and Counts)\",\n",
    "           x = \"Vehicle Type\",\n",
    "           y = \"Percentage of Deaths\",\n",
    "           fill = \"Category\") +\n",
    "     theme_minimal() +\n",
    "     theme(plot.title = element_text(hjust = 0.5, size = 16),  \n",
    "            axis.text.x = element_text(angle = 45, hjust = 1, size = 12),  \n",
    "            axis.text.y = element_text(size = 12), \n",
    "            axis.title = element_text(size = 14), \n",
    "            legend.text = element_text(size = 12),  \n",
    "            legend.title = element_text(size = 14)) "
   ]
  },
  {
   "cell_type": "code",
   "execution_count": 269,
   "id": "7b7e73c7",
   "metadata": {
    "vscode": {
     "languageId": "r"
    }
   },
   "outputs": [
    {
     "data": {
      "image/png": "[encoded data removed]",
      "text/plain": [
       "plot without title"
      ]
     },
     "metadata": {
      "image/png": {
       "height": 420,
       "width": 900
      }
     },
     "output_type": "display_data"
    }
   ],
   "source": [
    "# Reshape the data for plotting\n",
    "proportions_long <- proportions_df |>\n",
    "    rownames_to_column(var = \"Year\") |>\n",
    "    pivot_longer(cols = -Year, names_to = \"Category\", values_to = \"Proportion\")\n",
    "\n",
    "# Plot the stacked bar chart\n",
    "ggplot(proportions_long, aes(x = Category, y = Proportion, fill = Year)) +\n",
    "    geom_bar(stat = \"identity\") +\n",
    "    labs(title = \"Proportions by Category\",\n",
    "             x = \"Category\",\n",
    "             y = \"Proportion\",\n",
    "             fill = \"Year\") +\n",
    "    theme_minimal() +\n",
    "    theme(plot.title = element_text(hjust = 0.5))"
   ]
  },
  {
   "cell_type": "code",
   "execution_count": 72,
   "id": "2098834c",
   "metadata": {
    "vscode": {
     "languageId": "r"
    }
   },
   "outputs": [
    {
     "data": {
      "text/html": [
       "294"
      ],
      "text/latex": [
       "294"
      ],
      "text/markdown": [
       "294"
      ],
      "text/plain": [
       "[1] 294"
      ]
     },
     "metadata": {},
     "output_type": "display_data"
    }
   ],
   "source": [
    "total_persons_killed_2021 <- df_2021 |> summarise(Total_Killed = sum(Persons.Killed)) |> pull(Total_Killed)\n",
    "total_persons_killed_2021"
   ]
  },
  {
   "cell_type": "code",
   "execution_count": 115,
   "id": "5f9ed157",
   "metadata": {
    "vscode": {
     "languageId": "r"
    }
   },
   "outputs": [
    {
     "data": {
      "text/html": [
       "284"
      ],
      "text/latex": [
       "284"
      ],
      "text/markdown": [
       "284"
      ],
      "text/plain": [
       "[1] 284"
      ]
     },
     "metadata": {},
     "output_type": "display_data"
    }
   ],
   "source": [
    "sum(df_2021$Fatal)"
   ]
  },
  {
   "cell_type": "code",
   "execution_count": 188,
   "id": "3199b8f9",
   "metadata": {
    "vscode": {
     "languageId": "r"
    }
   },
   "outputs": [
    {
     "data": {
      "image/png": "[encoded data removed]",
      "text/plain": [
       "plot without title"
      ]
     },
     "metadata": {
      "image/png": {
       "height": 420,
       "width": 900
      }
     },
     "output_type": "display_data"
    }
   ],
   "source": [
    "vehicle_type_distribution <- df_2021 |> count(Vehicle.Type) |> arrange(desc(n))\n",
    "\n",
    "ggplot(vehicle_type_distribution, aes(x = reorder(Vehicle.Type, -n), y = n, fill = Vehicle.Type)) +\n",
    "    geom_bar(stat = \"identity\") +\n",
    "    geom_text(aes(label = n), vjust = -0.5, size = 3) +\n",
    "    labs(title = \"Distribution of Vehicle Types in 2021\",\n",
    "         x = \"Vehicle Type\",\n",
    "         y = \"Count\") +\n",
    "    theme_minimal() +\n",
    "    theme(plot.title = element_text(hjust = 0.5),\n",
    "          axis.text.x = element_text(angle = 45, hjust = 1)) +\n",
    "    guides(fill = \"none\")"
   ]
  },
  {
   "cell_type": "code",
   "execution_count": 123,
   "id": "2480fd71",
   "metadata": {
    "vscode": {
     "languageId": "r"
    }
   },
   "outputs": [
    {
     "data": {
      "text/html": [
       "<table class=\"dataframe\">\n",
       "<caption>A data.frame: 2 × 3</caption>\n",
       "<thead>\n",
       "\t<tr><th scope=col>Year</th><th scope=col>Fatalities</th><th scope=col>Killed</th></tr>\n",
       "\t<tr><th scope=col>&lt;dbl&gt;</th><th scope=col>&lt;int&gt;</th><th scope=col>&lt;int&gt;</th></tr>\n",
       "</thead>\n",
       "<tbody>\n",
       "\t<tr><td>2021</td><td>284</td><td>294</td></tr>\n",
       "\t<tr><td>2022</td><td>275</td><td>285</td></tr>\n",
       "</tbody>\n",
       "</table>\n"
      ],
      "text/latex": [
       "A data.frame: 2 × 3\n",
       "\\begin{tabular}{lll}\n",
       " Year & Fatalities & Killed\\\\\n",
       " <dbl> & <int> & <int>\\\\\n",
       "\\hline\n",
       "\t 2021 & 284 & 294\\\\\n",
       "\t 2022 & 275 & 285\\\\\n",
       "\\end{tabular}\n"
      ],
      "text/markdown": [
       "\n",
       "A data.frame: 2 × 3\n",
       "\n",
       "| Year &lt;dbl&gt; | Fatalities &lt;int&gt; | Killed &lt;int&gt; |\n",
       "|---|---|---|\n",
       "| 2021 | 284 | 294 |\n",
       "| 2022 | 275 | 285 |\n",
       "\n"
      ],
      "text/plain": [
       "  Year Fatalities Killed\n",
       "1 2021 284        294   \n",
       "2 2022 275        285   "
      ]
     },
     "metadata": {},
     "output_type": "display_data"
    }
   ],
   "source": [
    "fatalities_by_year <- data.frame(\n",
    "    Year = c(2021, 2022),\n",
    "    Fatalities=c(\n",
    "        sum(df_2021$Fatal),\n",
    "        sum(df_2022$Fatal)\n",
    "    ),\n",
    "    Killed = c(\n",
    "        sum(df_2021$Persons.Killed),\n",
    "        sum(df_2022$Persons.Killed)\n",
    "    )\n",
    ")\n",
    "\n",
    "fatalities_by_year"
   ]
  },
  {
   "cell_type": "code",
   "execution_count": 304,
   "id": "b486d3af",
   "metadata": {
    "vscode": {
     "languageId": "r"
    }
   },
   "outputs": [
    {
     "data": {
      "image/png": "[encoded data removed]",
      "text/plain": [
       "plot without title"
      ]
     },
     "metadata": {
      "image/png": {
       "height": 180,
       "width": 1200
      }
     },
     "output_type": "display_data"
    }
   ],
   "source": [
    "par(bg=\"white\")\n",
    "options(repr.plot.width=20, repr.plot.height=3)\n",
    "\n",
    "# Check for null data in each column\n",
    "null_data_summary <- colSums(is.na(df))\n",
    "# Display the summary of null data\n",
    "barplot_heights <- barplot(null_data_summary,  ylim = c(0, max(null_data_summary) * 1.2))  # Increase ylim for text\n",
    "# Add numbers on top of the bars\n",
    "text(barplot_heights, null_data_summary, labels = null_data_summary, pos = 3, cex = 0.8)"
   ]
  },
  {
   "cell_type": "code",
   "execution_count": 16,
   "id": "5437456a",
   "metadata": {
    "vscode": {
     "languageId": "r"
    }
   },
   "outputs": [],
   "source": [
    "options(repr.plot.width=20, repr.plot.height=7)"
   ]
  },
  {
   "cell_type": "code",
   "execution_count": 20,
   "id": "aedf242d",
   "metadata": {
    "vscode": {
     "languageId": "r"
    }
   },
   "outputs": [
    {
     "data": {
      "image/png": "[encoded data removed]",
      "text/plain": [
       "plot without title"
      ]
     },
     "metadata": {
      "image/png": {
       "height": 420,
       "width": 1200
      }
     },
     "output_type": "display_data"
    }
   ],
   "source": [
    "ggplot() +\n",
    "      geom_line(data = df_2021 |> count(Hour), aes(x = Hour, y = n, color = \"2021\"), linewidth = 2) +\n",
    "      geom_point(data = df_2021 |> count(Hour), aes(x = Hour, y = n, color = \"2021\"), size = 2) +\n",
    "      geom_line(data = df_2022 |> count(Hour), aes(x = Hour, y = n, color = \"2022\"), linewidth = 2) +\n",
    "      geom_point(data = df_2022 |> count(Hour), aes(x = Hour, y = n, color = \"2022\"), size = 2) +\n",
    "      # geom_line(data = df_2023 |> count(Hour), aes(x = Hour, y = n, color = \"2023\"), linewidth = 2) +\n",
    "      # geom_point(data = df_2023 |> count(Hour), aes(x = Hour, y = n, color = \"2023\"), size = 2) +\n",
    "      labs(title = \"Hourly Collisions Distribution\",\n",
    "                   x = \"Hour of the day\",\n",
    "                   y = \"Collisions Count\",\n",
    "                   color = \"Year\") +\n",
    "      scale_x_continuous(breaks = seq(0, 24, by = 4), limits = c(0, 24)) +\n",
    "      theme_minimal() +\n",
    "      theme(plot.title = element_text(hjust = 0.5))"
   ]
  },
  {
   "cell_type": "code",
   "execution_count": null,
   "id": "f32deea2",
   "metadata": {
    "vscode": {
     "languageId": "r"
    }
   },
   "outputs": [
    {
     "data": {
      "image/png": "[encoded data removed]",
      "text/plain": [
       "plot without title"
      ]
     },
     "metadata": {
      "image/png": {
       "height": 420,
       "width": 1200
      }
     },
     "output_type": "display_data"
    }
   ],
   "source": [
    "#### Distribution of Daily Collisions #####\n",
    "\n",
    "distribution_day = bind_rows(\n",
    "  df_2021 |> count(Day_Of_Week) |> mutate(Year = 2021),\n",
    "  df_2022 |> count(Day_Of_Week) |> mutate(Year = 2022)\n",
    ")\n",
    "\n",
    "ggplot(distribution_day, aes(x = Day_Of_Week, y = n, fill = as.factor(Year))) +\n",
    "  geom_bar(stat = \"identity\", position = \"dodge\") +\n",
    "  labs(title = \"Daily Collisions Distributions by Year\",\n",
    "       x = \"Day of the Week\", \n",
    "       y = \"Number of Collisions\",\n",
    "       fill = \"Year\") +\n",
    "  theme_minimal() +\n",
    "  theme(plot.title = element_text(hjust = 0.5))\n"
   ]
  },
  {
   "cell_type": "code",
   "execution_count": 19,
   "id": "01d07505",
   "metadata": {
    "vscode": {
     "languageId": "r"
    }
   },
   "outputs": [
    {
     "data": {
      "image/png": "[encoded data removed]",
      "text/plain": [
       "plot without title"
      ]
     },
     "metadata": {
      "image/png": {
       "height": 420,
       "width": 1200
      }
     },
     "output_type": "display_data"
    }
   ],
   "source": [
    "# Count the Monthly Collisions for 2021 and 2022\n",
    "distribution_month = bind_rows(\n",
    "     df_2021 |> count(Month) |> mutate(Year = 2021),\n",
    "     df_2022 |> count(Month) |> mutate(Year = 2022)\n",
    ")\n",
    "\n",
    "ggplot(distribution_month, aes(x = Month, y = n, fill = as.factor(Year))) +\n",
    "     geom_bar(stat = \"identity\", position = \"dodge\") +\n",
    "     labs(title = \"Monthly Collisions Distributions by Year\",\n",
    "                x = \"Month of the Year\",\n",
    "                y = \"Number of Collisions\",\n",
    "                fill = \"Year\") +\n",
    "     theme_minimal() +\n",
    "     theme(plot.title = element_text(hjust = 0.5),\n",
    "                    axis.text.x = element_text(angle = 45, hjust = 1))"
   ]
  },
  {
   "cell_type": "code",
   "execution_count": 2,
   "id": "d0589969",
   "metadata": {
    "vscode": {
     "languageId": "r"
    }
   },
   "outputs": [
    {
     "data": {
      "text/html": [
       "<pre class=language-r><code>function (x, df1, df2, ncp, log = FALSE) \n",
       "{\n",
       "<span style=white-space:pre-wrap>    if (missing(ncp)) </span>\n",
       "<span style=white-space:pre-wrap>        .Call(C_df, x, df1, df2, log)</span>\n",
       "<span style=white-space:pre-wrap>    else .Call(C_dnf, x, df1, df2, ncp, log)</span>\n",
       "}</code></pre>"
      ],
      "text/latex": [
       "\\begin{minted}{r}\n",
       "function (x, df1, df2, ncp, log = FALSE) \n",
       "\\{\n",
       "    if (missing(ncp)) \n",
       "        .Call(C\\_df, x, df1, df2, log)\n",
       "    else .Call(C\\_dnf, x, df1, df2, ncp, log)\n",
       "\\}\n",
       "\\end{minted}"
      ],
      "text/markdown": [
       "```r\n",
       "function (x, df1, df2, ncp, log = FALSE) \n",
       "{\n",
       "    if (missing(ncp)) \n",
       "        .Call(C_df, x, df1, df2, log)\n",
       "    else .Call(C_dnf, x, df1, df2, ncp, log)\n",
       "}\n",
       "```"
      ],
      "text/plain": [
       "function (x, df1, df2, ncp, log = FALSE) \n",
       "{\n",
       "    if (missing(ncp)) \n",
       "        .Call(C_df, x, df1, df2, log)\n",
       "    else .Call(C_dnf, x, df1, df2, ncp, log)\n",
       "}\n",
       "<bytecode: 0x000001b132222a18>\n",
       "<environment: namespace:stats>"
      ]
     },
     "metadata": {},
     "output_type": "display_data"
    }
   ],
   "source": [
    "df"
   ]
  },
  {
   "cell_type": "code",
   "execution_count": null,
   "id": "1451b34b",
   "metadata": {
    "vscode": {
     "languageId": "r"
    }
   },
   "outputs": [
    {
     "ename": "ERROR",
     "evalue": "\u001b[1m\u001b[33mError\u001b[39m in `count()`:\u001b[22m\n\u001b[1m\u001b[22m\u001b[33m!\u001b[39m Must group by variables found in `.data`.\n\u001b[31m✖\u001b[39m Column `Collision_Type` is not found.\n",
     "output_type": "error",
     "traceback": [
      "\u001b[1m\u001b[33mError\u001b[39m in `count()`:\u001b[22m\n\u001b[1m\u001b[22m\u001b[33m!\u001b[39m Must group by variables found in `.data`.\n\u001b[31m✖\u001b[39m Column `Collision_Type` is not found.\nTraceback:\n",
      "1. count.data.frame(df, Collision_Type)",
      "2. group_by(x, ..., .add = TRUE, .drop = .drop)",
      "3. group_by.data.frame(x, ..., .add = TRUE, .drop = .drop)",
      "4. group_by_prepare(.data, ..., .add = .add, error_call = current_env())",
      "5. abort(bullets, call = error_call)",
      "6. signal_abort(cnd, .file)",
      "7. signalCondition(cnd)"
     ]
    }
   ],
   "source": [
    "# Count the occurrences of each accident type\n",
    "accident_type_distribution <- df |> count(Collision_Type)\n",
    "\n",
    "# Plot the distribution of accident types\n",
    "ggplot(accident_type_distribution, aes(x = reorder(Collision_Type, -n), y = n, fill = Collision_Type)) +\n",
    "    geom_bar(stat = \"identity\") +\n",
    "    labs(title = \"Most Common Types of Accidents\",\n",
    "             x = \"Type of Collision\",\n",
    "             y = \"Number of Collisions\") +\n",
    "    theme_minimal() +\n",
    "    theme(plot.title = element_text(hjust = 0.5),\n",
    "                axis.text.x = element_text(angle = 45, hjust = 1)) +\n",
    "    guides(fill = \"none\")"
   ]
  },
  {
   "cell_type": "code",
   "execution_count": 16,
   "id": "a49c4fca",
   "metadata": {
    "vscode": {
     "languageId": "r"
    }
   },
   "outputs": [
    {
     "data": {
      "image/png": "[encoded data removed]",
      "text/plain": [
       "plot without title"
      ]
     },
     "metadata": {
      "image/png": {
       "height": 420,
       "width": 900
      }
     },
     "output_type": "display_data"
    }
   ],
   "source": [
    "#### Distribution of Monthly Collisions #####\n",
    "\n",
    "#Count the Monthly Collisions\n",
    "distribution_month = df |> count(Month)\n",
    "\n",
    "ggplot(distribution_month, aes(x = Month, y = n, fill = Month)) +\n",
    "  geom_bar(stat = \"identity\") +\n",
    "  labs(title = \"Monthly Collisions Distributions\",\n",
    "       x = \"Month of the year\",\n",
    "       y = \"Number of Collisions\") +\n",
    "  theme_minimal() +\n",
    "  theme(plot.title = element_text(hjust = 0.5),\n",
    "        axis.text.x = element_text(angle = 45, hjust = 1))\n"
   ]
  },
  {
   "cell_type": "code",
   "execution_count": null,
   "id": "b77dfb61",
   "metadata": {
    "vscode": {
     "languageId": "r"
    }
   },
   "outputs": [],
   "source": []
  },
  {
   "cell_type": "code",
   "execution_count": 9,
   "id": "2b95e0a3",
   "metadata": {
    "vscode": {
     "languageId": "r"
    }
   },
   "outputs": [],
   "source": [
    "# nyc_bbox <- c(left = -74.2591, bottom = 40.4774, right = -73.7004, top = 40.9176)\n",
    "\n",
    "# # Download street data for NYC\n",
    "# nyc_streets <- opq(bbox = nyc_bbox) %>%\n",
    "#   add_osm_feature(key = \"highway\") %>%\n",
    "#   osmdata_sf()"
   ]
  },
  {
   "cell_type": "code",
   "execution_count": 8,
   "id": "ee5056ed",
   "metadata": {
    "vscode": {
     "languageId": "r"
    }
   },
   "outputs": [],
   "source": [
    "# # Extract the lines (streets) from the data\n",
    "# nyc_streets_lines <- nyc_streets$osm_lines\n",
    "# nyc_streets_lines\n",
    "\n",
    "# # Plot the NYC streets\n",
    "# tm_shape(nyc_streets_lines) +\n",
    "#   tm_lines(col = \"black\", lwd = 0.5) +\n",
    "#   tm_layout(main.title = \"New York City Streets\", \n",
    "#             main.title.size = 1.2,\n",
    "#             bg.color = \"white\")\n",
    "\n",
    "# # Install and load the tigris package\n",
    "# install.packages(\"tigris\")\n",
    "# library(tigris)\n",
    "\n",
    "# # Download NYC borough boundaries\n",
    "# nyc_boroughs <- counties(state = \"NY\", cb = TRUE) %>%\n",
    "#   filter(NAME %in% c(\"New York\", \"Kings\", \"Queens\", \"Bronx\", \"Richmond\"))\n",
    "\n",
    "# # Plot the map with borough boundaries\n",
    "# tm_shape(nyc_streets_lines) +\n",
    "#   tm_lines(col = \"black\", lwd = 0.5) +\n",
    "#   tm_shape(nyc_boroughs) +\n",
    "#   tm_borders(col = \"red\", lwd = 2) +\n",
    "#   tm_layout(main.title = \"New York City Streets with Borough Boundaries\", \n",
    "#             main.title.size = 1.2,\n",
    "#             bg.color = \"white\")\n",
    "# # Install and load the tigris package\n",
    "# install.packages(\"tigris\")\n",
    "# library(tigris)\n",
    "\n",
    "# # Download NYC borough boundaries\n",
    "# nyc_boroughs <- counties(state = \"NY\", cb = TRUE) %>%\n",
    "#   filter(NAME %in% c(\"New York\", \"Kings\", \"Queens\", \"Bronx\", \"Richmond\"))\n",
    "\n",
    "# # Plot the map with borough boundaries\n",
    "# tm_shape(nyc_streets_lines) +\n",
    "#   tm_lines(col = \"black\", lwd = 0.5) +\n",
    "#   tm_shape(nyc_boroughs) +\n",
    "#   tm_borders(col = \"red\", lwd = 2) +\n",
    "#   tm_layout(main.title = \"New York City Streets with Borough Boundaries\", \n",
    "#             main.title.size = 1.2,\n",
    "#             bg.color = \"white\")"
   ]
  }
 ],
 "metadata": {
  "kernelspec": {
   "display_name": "R",
   "language": "R",
   "name": "ir"
  },
  "language_info": {
   "codemirror_mode": "r",
   "file_extension": ".r",
   "mimetype": "text/x-r-source",
   "name": "R",
   "pygments_lexer": "r",
   "version": "4.4.1"
  }
 },
 "nbformat": 4,
 "nbformat_minor": 5
}
